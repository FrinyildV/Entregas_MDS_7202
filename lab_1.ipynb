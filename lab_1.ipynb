{
  "cells": [
    {
      "cell_type": "markdown",
      "metadata": {
        "id": "J4_IcuuKZj9Y"
      },
      "source": [
        "<h1><center>Laboratorio 1: Git 👾</center></h1>\n",
        "\n",
        "<center><strong>MDS7202: Laboratorio de Programación Científica para Ciencia de Datos - Otoño 2023</strong></center>"
      ]
    },
    {
      "cell_type": "markdown",
      "metadata": {
        "id": "AEXIACc7aADv"
      },
      "source": [
        "### Cuerpo Docente:\n",
        "\n",
        "- Profesores: Pablo Badilla, Ignacio Meza D.\n",
        "- Auxiliar: Sebastián Tinoco\n",
        "- Ayudante: Diego Cortez"
      ]
    },
    {
      "attachments": {},
      "cell_type": "markdown",
      "metadata": {
        "id": "fz77X6glaK6y"
      },
      "source": [
        "### **Link de repositorio de GitHub:** \n",
        "\n",
        "`https://github.com/FrinyildV/lab1`    \n",
        "`https://github.com/JuanQuilapi/lab1`   \n",
        "`https://github.com/FrinyildV/Entregas_MDS_7202`"
      ]
    },
    {
      "cell_type": "markdown",
      "metadata": {
        "id": "0HgMMyoCaG8X"
      },
      "source": [
        "### Equipo: SUPER IMPORTANTE - notebooks sin nombre no serán revisados\n",
        "\n",
        "- Nombre de alumno 1: Angelo Muñoz\n",
        "- Nombre de alumno 2: Juan Quilapi\n"
      ]
    },
    {
      "cell_type": "markdown",
      "metadata": {
        "id": "rRwqaxIZaNx3"
      },
      "source": [
        "## Reglas:\n",
        "\n",
        "- Fecha de entrega: 6 días desde la publicación, 3 días de atraso con 1 punto de descuento c/u. Pueden utilizar días bonus sin descuento.\n",
        "- **Grupos de 2 personas**.\n",
        "- **Ausentes** deberán realizar la actividad solos. \n",
        "- Cualquier duda fuera del horario de clases al foro. Mensajes al equipo docente serán respondidos por este medio.\n",
        "- <u>Prohibidas las copias</u>. Cualquier intento de copia será debidamente penalizado con el reglamento de la escuela.\n",
        "- Pueden usar cualquer material del curso que estimen conveniente.\n",
        "- Asistencia obligatoria a instrucciones del lab (viernes 16.15). Luego, pueden quedarse trabajando en las salas o irse."
      ]
    },
    {
      "cell_type": "markdown",
      "metadata": {
        "id": "bmToL27JaSrf"
      },
      "source": [
        "## Objetivos del lab:\n",
        "\n",
        "\n",
        "- Conocer los elementos básicos que conformar `Git`\n",
        "- Clonar repositorios\n",
        "- Identificar ramas de un repositorio\n",
        "- Reconocer y solucionar problemas entre ramas\n",
        "- Subir cambios a un repositorio"
      ]
    },
    {
      "cell_type": "markdown",
      "metadata": {
        "id": "bvnPCvrVbJLK"
      },
      "source": [
        "## Parte 1: Conocimiento Teórico (2 pts)"
      ]
    },
    {
      "cell_type": "markdown",
      "metadata": {
        "id": "JHl-24XnbNLF"
      },
      "source": [
        "Responda las siguientes preguntas (0.2 pts c/u):\n",
        "\n",
        "1. ¿Qué es `Git` y cómo se relaciona con el control de versiones?\n",
        "\n",
        "\n",
        "2. Nombre y explique 3 diferencias entre `Git` y `Github`.\n",
        "\n",
        "\n",
        "3. ¿Qué es un `hash` y cómo se representa en un `commit`? De un ejemplo.\n",
        "\n",
        "\n",
        "4. ¿Que elementos componen a la estructura de datos de `Git`?\n",
        "\n",
        "5. ¿Que comandos de `Git` sirven para crear un repositorio y hacer seguimiento a cambios en los archivos?"
      ]
    },
    {
      "cell_type": "markdown",
      "metadata": {
        "id": "2tXCSkf0caG8"
      },
      "source": [
        "<code>Escriba sus respuestas acá:</code>\n",
        "\n",
        "1. Git es un sistema de control de versiones distribuido, es decir donde cada \n",
        "persona que clone el repositorio tiene su propia copia de este, además de la \n",
        "copia del propio servidor.\n",
        "\n",
        "\n",
        "2.   *   Git es un sistema de control de versiones distribuido, en cambio github un servicio de alojamiento basado en web.\n",
        "  *   Git es una herramienta de lineas de comandos mientras que Github entrega una interfaz gráfica.\n",
        "  *   Git crea un repositorio local para trackear cambios en este, mientras github es un espacio para subir una copia de repositorios de Git.\n",
        "\n",
        "\n",
        "3. un hash es una expresion numerica de 40 caracteres creada a a partir de una función matematica que representa de manera unica un commit, por lo que sirve para identificar este dentro de un repositorio.\n",
        "por ejemplo el hash de un commit podría ser \"4015b557a143aec515gfd144a015a43147a3fd9d\", pero podría identificarse facilmente como \"4015b5\".\n",
        "\n",
        "4. Blob como unidad básica de almacenamiento, además se tienen objetos como Commit y Tree.\n",
        "\n",
        "5. Para inicializar un repositorio desde cero, usamos `git init nombre-del-repo`.  \n",
        "Para inicializar un repositorio a partir de otro repositorio alojado de forma remota se utiliza:\n",
        "`git clone /ruta/al/repo.git`   \n",
        "\n"
      ]
    },
    {
      "attachments": {},
      "cell_type": "markdown",
      "metadata": {
        "id": "MACccbP4gU43"
      },
      "source": [
        "Responda si las siguientes afirmaciones son Verdaderas (V) o Falsas (F). Justifique en **cualquiera** de los casos (0.2 pts c/u):\n",
        "\n",
        "\n",
        "6. `Git` siempre resuelve automáticamente los problemas de lineas al hacer merge entre diferentes ramas.\n",
        "7. Ejecutar `git pull` sobre un repositorio es equivalente a ejecutar `git clone`.\n",
        "8. Cada miembro del equipo trabaja en la misma copia del código fuente usando `Git`.\n",
        "9. En `Git` es posible deshacer cambios y volver a versiones anteriores del código.\n",
        "10. El comando `git commit` se utiliza para enviar cambios al repositorio remoto."
      ]
    },
    {
      "attachments": {},
      "cell_type": "markdown",
      "metadata": {
        "id": "DFnmCToOgeM3"
      },
      "source": [
        "<code>Escriba sus respuestas acá:</code>    \n",
        "\n",
        "6. R: Falso, puede fallar y el error debe ser fixeado a mano, pues pueden haber muchas incompatibilidad entre ramas sobre un mismo archivo. \n",
        "7. R: Falso, `git clone` realiza una copia completa del repositorio mientras que git pull descarga solo las variaciones pusheadas por otras instancias al servidor a la instancia local. \n",
        "8. R: Falso, cada mienbro mantiene su propia copia del codigo.\n",
        "9. R: Verdadero, dado la caracteristica fundamental de GIT de ser un DVCS mediante el uso de hash's y punteros. \n",
        "10. R: Falso, `git commit` genera un blob que se puede entender como un \"checkpoint\" del repositorio al cual se puede volver y debe estar acompañado de un comentario con los cambios realizados. \n"
      ]
    },
    {
      "cell_type": "markdown",
      "metadata": {
        "id": "i7Em9JkbbRLo"
      },
      "source": [
        "## Parte 2: Creando una presentación personal (2 pts)"
      ]
    },
    {
      "cell_type": "markdown",
      "metadata": {
        "id": "XWIHfyrlbYOJ"
      },
      "source": [
        "Para empezar a \"*soltar las manos*\" con `Git`, se les encomienda crear un repositorio con una presentación personal. El repositorio debe contener un breve resumen de quienes son ustedes, sus gustos, experiencias, y cualquier otro detalle interesante que ustedes consideren relevante. \n",
        "\n",
        "Para realizar esto, deben seguir los siguientes pasos:\n",
        "\n",
        "1. Contar con una cuenta de github (1 por persona)\n",
        "2. Crear un repositorio con su nombre de usuario\n",
        "3. Crear y modificar un archivo `readme.md` con la información que ustedes deseen compartir.\n",
        "\n",
        "A modo de ejemplo, pueden guiarse por esta *suculenta* [presentación](https://github.com/pbadillatorrealba/pbadillatorrealba).\n",
        "\n",
        "*Hint: Una buena opción es usar templates de presentación personal que encuentren en Google, como los que ofrece este [sitio](https://durgeshsamariya.github.io/awesome-github-profile-readme-templates/#/)*.\n",
        "\n",
        "**Entregable:**\n",
        "\n",
        "Enlace al repositorio con la presentación personal. \n",
        "\n",
        "IMPORTANTE: DEBEN ADJUNTAR UN ENLACE POR PERSONA"
      ]
    },
    {
      "attachments": {},
      "cell_type": "markdown",
      "metadata": {
        "id": "IIkWyl9tf0Sg"
      },
      "source": [
        "<code>Link Presentacion 1:</code>\n",
        "https://github.com/FrinyildV \n",
        "\n",
        "En mi defensa por el nombre, tengo el github desde antes que me fuera importante profesionalmentey por tanto mis correos vinculados a la cuenta 😀\n",
        "\n",
        "<code>Link Presentacion 2:</code>\n",
        "https://github.com/JuanQuilapi\n"
      ]
    },
    {
      "cell_type": "markdown",
      "metadata": {
        "id": "CAzXOwvDY-IG"
      },
      "source": [
        "## Parte 3: Trabajando sobre un repositorio externo (2 pts)"
      ]
    },
    {
      "cell_type": "markdown",
      "metadata": {
        "id": "84Yjuxxvdfzh"
      },
      "source": [
        "Tras muchos dolores de cabeza, un grupo de entusiastas académicos decidieron aprender sobre `Git` y así trabajar colaborativamente de forma más ordenada y eficiente. Después de una infinidad de intentos y aprender de sus errores \"*a la mala*\", los académicos lograron levantar un [repositorio](https://github.com/MDS7202/lab1) en `Github`. Usando el repositorio de los académicos, responda las siguientes preguntas (incluya también los comandos en `Git` ocupados):"
      ]
    },
    {
      "attachments": {},
      "cell_type": "markdown",
      "metadata": {
        "id": "BFRnAw0rfguR"
      },
      "source": [
        "1. Clone el repositorio a su ambiente local. (0.25 pts)   \n",
        "\n",
        "R: git clone https://github.com/MDS7202/lab1"
      ]
    },
    {
      "cell_type": "markdown",
      "metadata": {
        "id": "KXro32yBeilN"
      },
      "source": [
        "<code>Escriba sus respuestas acá:</code>"
      ]
    },
    {
      "cell_type": "markdown",
      "metadata": {
        "id": "q2qmiDyjt2M_"
      },
      "source": [
        "2. Inspeccione brevemente el repositorio: ¿Cual es el objetivo del proyecto? Explique brevemente la estructura del proyecto, asi como también de cada componente que lo conforma. (0.25 pts)"
      ]
    },
    {
      "attachments": {},
      "cell_type": "markdown",
      "metadata": {
        "id": "aBHpR8VTftkT"
      },
      "source": [
        "<code>Escriba sus respuestas acá:</code>\n",
        "\n",
        "R: Según el readme.md, el proyecto es para: \"Proyecto para emular los sonidos de animales\", cuenta con 3 archivos, contando el readme.md, junto con animales.py y main.py que contienen una función que \"\"\"\"reproduce\"\"\" el sonido del animal dependiendo del input y una función main que sirve como programa interactivo que recibe el input y se lo entrega a la función anterior, respectivamente. "
      ]
    },
    {
      "cell_type": "markdown",
      "metadata": {
        "id": "XFwqcpLZfylf"
      },
      "source": [
        "3. Identifique los últimos cambios al repositorio, reconociendo las principales ramas de trabajo. ¿Son informativos los `commit` realizados? (0.25 pts)\n",
        "*Hint: Se recomienda usar los argumentos `all`, `graph` y `decorate`*"
      ]
    },
    {
      "attachments": {},
      "cell_type": "markdown",
      "metadata": {
        "id": "cmWfXBkOhog0"
      },
      "source": [
        "<code>Escriba sus respuestas acá:</code>     \n",
        "Se utilizan los comandos:\n",
        "git log --all --graph --decorate y\n",
        "git diff con los respectivos hash de los commit para ver las diferencias.    \n",
        "\n",
        "Los cambios fueron cambiar if a elif y separa el proyecto en modulos, dejando la función en archivos distintos del main.     \n",
        "\n",
        "Respecto a los commit son demasiado generales y para entender la diferencia hay que ver en detalle los cambios que se realizaron, deberian ser mas informativos.   \n",
        "\n",
        "\n",
        "Las ramas de trabajo son:  fix-if y new_features junto a la principal(main)\n"
      ]
    },
    {
      "cell_type": "markdown",
      "metadata": {
        "id": "Vqbj9HdXrUnN"
      },
      "source": [
        "4. Uno de los académicos se da cuenta que la rama principal de trabajo no se ejecuta correctamente para todos los argumentos. Señale el error en el código e identifique a la persona que lo cometió usando `git blame` (0.25 pts)\n",
        "\n",
        "*Hint: Le puede ser útil esta [documentación](https://www.atlassian.com/es/git/tutorials/inspecting-a-repository/git-blame).*"
      ]
    },
    {
      "attachments": {},
      "cell_type": "markdown",
      "metadata": {
        "id": "5ajhV2Iar3tV"
      },
      "source": [
        "<code>Escriba sus respuestas acá:</code>    \n",
        "Había un problema con los if, Pablo Padilla los arregló en la rama fix-if pero no subió los cambios a la rama principal.    \n",
        "\n",
        "codigo:     \n",
        "git blame main.py sobre la rama fix-ifs     \n"
      ]
    },
    {
      "attachments": {},
      "cell_type": "markdown",
      "metadata": {
        "id": "m8J3uE7MhqTA"
      },
      "source": [
        "5. Busque los siguientes `commit`:\n",
        "\n",
        "- `c8b1a62d7299552b0654f930d695b33109214111`\n",
        "- `362fe21ee44f53ee944cee4ba484600308f83d78`\n",
        "- `25543a3baf77292baf849726784ca005473acab1`\n",
        "\n",
        "¿Qué diferencias existen entre cada uno? (0.25 pts)\n",
        "\n"
      ]
    },
    {
      "attachments": {},
      "cell_type": "markdown",
      "metadata": {
        "id": "sNHnZsgIitGh"
      },
      "source": [
        "<code>Escriba sus respuestas acá:</code>\n",
        "\n",
        "\n",
        "git diff c8b1a6 362fe:\n",
        "* La diferencia entre estos 2 commit es que se separan las funciones en 2 archivos, eliminando del main la función animales y añadiendole un import de esta función desde su nuevo archivo. \n",
        "\n",
        "git diff c8b1a6 25543a3b:\n",
        "* En este caso la diferencia entre estos commit es la implenntación del cambio de los if a elif, en estos 2 commit se tienen las dos funciones en el mismo archivo main.py."
      ]
    },
    {
      "cell_type": "markdown",
      "metadata": {
        "id": "WQIPbfNCgpxC"
      },
      "source": [
        "6. Realice una `merge` de la rama `fix-ifs` con la rama `main` y describa lo que ocurre. ¿Qué parte del código podría estar ocasionando esto? (0.25 pts)"
      ]
    },
    {
      "attachments": {},
      "cell_type": "markdown",
      "metadata": {
        "id": "ypH_6lL5ioZz"
      },
      "source": [
        "<code>Escriba sus respuestas acá:</code>\n",
        "\n",
        "codigo: \n",
        "\n",
        "git merge fix-ifs main    \n",
        "\n",
        "Lo que ocurre es que se genera un conflicto en el archivo main.py ya que en la rama main se separaron los modulos en 2, y en la rama fix-if se tienen las dos funciones dentro de un mismo archivo.  "
      ]
    },
    {
      "cell_type": "markdown",
      "metadata": {
        "id": "GYfODCjeivkU"
      },
      "source": [
        "7. Cree una rama nueva y proponga una solución al problema anterior, adjuntando el código corregido y señalando las líneas modificadas. (0.5 pts)"
      ]
    },
    {
      "attachments": {},
      "cell_type": "markdown",
      "metadata": {
        "id": "8heBxDU9iziT"
      },
      "source": [
        "<code>Escriba sus respuestas acá:</code>\n",
        "\n",
        "Se utilizaron los siguientes comandos desde la rama main: \n",
        "\n",
        "\n",
        "* git checkout -b fix-fix-ifs  -> este nos mueve a la nueva rama que es una copia de la rama main\n",
        "\n",
        "\n",
        "---- > se realizan los cambios\n",
        "* git add .  -> los añade al trackeo\n",
        "* git status -> se revisan los archivos que son trackeados\n",
        "* git commit -m \"Se corrigen los ifs esta vez con los modulos separados\" \n",
        "* git push \n",
        "\n",
        "Se realizan los cambios sobre el archivo animales.py:\n",
        "\n",
        "def animales(input):\n",
        "    \n",
        "    '''\n",
        "    Como hace el animalito?\n",
        "    '''\n",
        "    \n",
        "    if input.lower() == 'gato':\n",
        "        print('miau')\n",
        "    elif input.lower() == 'perro':   #<--- aca\n",
        "        print('guau')\n",
        "    elif input.lower() == 'fox':   #<--- aca\n",
        "        print('https://www.youtube.com/watch?v=jofNR_WkoCE')\n",
        "    else:\n",
        "        raise ValueError('animal no reconocido :('))\n",
        "\n",
        "\n"
      ]
    },
    {
      "cell_type": "markdown",
      "metadata": {
        "id": "Av8ebB9jkALO"
      },
      "source": [
        "## Fin"
      ]
    },
    {
      "cell_type": "markdown",
      "metadata": {
        "id": "aQqZT9fSkBK8"
      },
      "source": [
        "Eso ha sido todo por ahora!! Esperamos que este laboratorio les haya gustado y servido para trabajar con `Git`. Recuerden los dias de plazo que tienen disponibles y que ante cualquier duda no duden en contactar al equipo docente. \n",
        "\n",
        "Nos vemos!! \n",
        "\n",
        "<img src=https://media.tenor.com/OYLdav9k9LkAAAAd/kitty-cat.gif height=300>\n"
      ]
    }
  ],
  "metadata": {
    "colab": {
      "provenance": []
    },
    "kernelspec": {
      "display_name": "Python 3",
      "name": "python3"
    },
    "language_info": {
      "codemirror_mode": {
        "name": "ipython",
        "version": 3
      },
      "file_extension": ".py",
      "mimetype": "text/x-python",
      "name": "python",
      "nbconvert_exporter": "python",
      "pygments_lexer": "ipython3",
      "version": "3.9.7"
    }
  },
  "nbformat": 4,
  "nbformat_minor": 0
}
