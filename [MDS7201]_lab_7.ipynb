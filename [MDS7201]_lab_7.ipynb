{
  "cells": [
    {
      "cell_type": "markdown",
      "metadata": {
        "cell_id": "8dd9b572c805487a9fb430fdc4ab12bb",
        "deepnote_cell_height": 156.26666259765625,
        "deepnote_cell_type": "markdown",
        "id": "XUZ1dFPHzAHl"
      },
      "source": [
        "<h1><center>Laboratorio 7: La desperación de Mr. Lepin 🐼</center></h1>\n",
        "\n",
        "<center><strong>MDS7202: Laboratorio de Programación Científica para Ciencia de Datos</strong></center>"
      ]
    },
    {
      "cell_type": "markdown",
      "metadata": {
        "cell_id": "d65413cd8566460dbceffcd13ca236e7",
        "deepnote_cell_type": "markdown",
        "id": "UD8X1uhGzAHq"
      },
      "source": [
        "### Cuerpo Docente:\n",
        "\n",
        "- Profesor: Pablo Badilla, Ignacio Meza\n",
        "- Auxiliar: Sebastián Tinoco\n",
        "- Ayudante: Felipe Arias, Diego Cortez"
      ]
    },
    {
      "cell_type": "markdown",
      "metadata": {
        "cell_id": "8e9217d02d124830a9b86046600a1605",
        "deepnote_cell_height": 172.13333129882812,
        "deepnote_cell_type": "markdown",
        "id": "tXflExjqzAHr"
      },
      "source": [
        "### Equipo: SUPER IMPORTANTE - notebooks sin nombre no serán revisados\n",
        "\n",
        "- Angelo Muñoz\n",
        "- No fue al discord 😔\n"
      ]
    },
    {
      "cell_type": "markdown",
      "metadata": {
        "cell_id": "010402b6d5f743b885a80d2e1c6ae11a",
        "deepnote_cell_height": 62.19999694824219,
        "deepnote_cell_type": "markdown",
        "id": "AD-V0bbZzAHr"
      },
      "source": [
        "### **Link de repositorio de GitHub:** `https://github.com/FrinyildV/Entregas_MDS_7202`"
      ]
    },
    {
      "cell_type": "markdown",
      "metadata": {
        "cell_id": "3abfe63b97c946e5ba1d4061b08e7913",
        "deepnote_cell_height": 165.06666564941406,
        "deepnote_cell_type": "markdown",
        "id": "EcnsiQMkzAHr"
      },
      "source": [
        "### Indice \n",
        "\n",
        "1. [Temas a tratar](#Temas-a-tratar:)\n",
        "3. [Descripción del laboratorio](#Descripción-del-laboratorio.)\n",
        "4. [Desarrollo](#Desarrollo)"
      ]
    },
    {
      "cell_type": "markdown",
      "metadata": {
        "cell_id": "ef0224c7a99e4b718b55493b0a1e99c4",
        "deepnote_cell_height": 724.9000244140625,
        "deepnote_cell_type": "markdown",
        "id": "6uBLPj1PzAHs"
      },
      "source": [
        "# Temas a tratar\n",
        "\n",
        "- Aplicar Pandas para obtener características de un DataFrame.\n",
        "- Aplicar Pipelines.\n",
        "- Aplicar Clusters sobre un conjunto de datos.\n",
        "\n",
        "## Reglas:\n",
        "\n",
        "- **Grupos de 2 personas**\n",
        "- Asistencia **obligatoria** a instrucciones del lab (viernes 16.15). Luego, pueden quedarse trabajando en las salas o irse.\n",
        "- **No se revisarán entregas de personas ausentes**. \n",
        "- Cualquier duda fuera del horario de clases al foro. Mensajes al equipo docente serán respondidos por este medio.\n",
        "- Prohibidas las copias. \n",
        "- Pueden usar cualquer matrial del curso que estimen conveniente.\n",
        "- Código que no se pueda ejecutar, no será revisado.\n",
        "\n",
        "### Objetivos principales del laboratorio\n",
        "\n",
        "- Comprender y aprovechar las ventajas que nos ofrece la librería `pandas` con respecto a trabajar en Python 'puro'.\n",
        "- Crear nuevas características para entrenar un modelo de clustering.\n",
        "- Comprender como aplicar pipelines de Scikit-Learn para generar procesos más limpios.\n",
        "\n",
        "El laboratorio deberá ser desarrollado sin el uso indiscriminado de iteradores nativos de python (aka \"for\", \"while\"). La idea es que aprendan a exprimir al máximo las funciones optimizadas que nos entrega `numpy`, las cuales vale mencionar, son bastante más eficientes que los iteradores nativos sobre arreglos (*o tensores*)."
      ]
    },
    {
      "cell_type": "markdown",
      "metadata": {
        "cell_id": "59664481c26f4ac4a753765269b1db6a",
        "deepnote_cell_height": 69.86666870117188,
        "deepnote_cell_type": "markdown",
        "id": "wrG4gYabzAHs"
      },
      "source": [
        "## Descripción del laboratorio."
      ]
    },
    {
      "cell_type": "markdown",
      "metadata": {
        "cell_id": "8c7bf8ea553d44c7a2efd61106a0bac2",
        "deepnote_cell_height": 61.866668701171875,
        "deepnote_cell_type": "markdown",
        "id": "MhISwri4zAHy"
      },
      "source": [
        "### Importamos librerias utiles 😸"
      ]
    },
    {
      "cell_type": "code",
      "execution_count": 1,
      "metadata": {
        "ExecuteTime": {
          "end_time": "2021-03-29T00:08:16.884674Z",
          "start_time": "2021-03-29T00:08:16.349846Z"
        },
        "cell_id": "67b4b29f0e6b48719b58d579276f2b19",
        "colab": {
          "base_uri": "https://localhost:8080/",
          "height": 0
        },
        "deepnote_cell_height": 514.13330078125,
        "deepnote_cell_type": "code",
        "deepnote_to_be_reexecuted": false,
        "execution_millis": 8517,
        "execution_start": 1635469788590,
        "id": "uyc33dKdzAHy",
        "outputId": "d9128f1d-33db-4d31-907c-cae7f258e435",
        "source_hash": "a3741fd5"
      },
      "outputs": [
        {
          "output_type": "stream",
          "name": "stdout",
          "text": [
            "Looking in indexes: https://pypi.org/simple, https://us-python.pkg.dev/colab-wheels/public/simple/\n",
            "Requirement already satisfied: plotly in /usr/local/lib/python3.10/dist-packages (5.13.1)\n",
            "Collecting plotly\n",
            "  Downloading plotly-5.14.1-py2.py3-none-any.whl (15.3 MB)\n",
            "\u001b[2K     \u001b[90m━━━━━━━━━━━━━━━━━━━━━━━━━━━━━━━━━━━━━━━━\u001b[0m \u001b[32m15.3/15.3 MB\u001b[0m \u001b[31m73.5 MB/s\u001b[0m eta \u001b[36m0:00:00\u001b[0m\n",
            "\u001b[?25hRequirement already satisfied: tenacity>=6.2.0 in /usr/local/lib/python3.10/dist-packages (from plotly) (8.2.2)\n",
            "Requirement already satisfied: packaging in /usr/local/lib/python3.10/dist-packages (from plotly) (23.1)\n",
            "Installing collected packages: plotly\n",
            "  Attempting uninstall: plotly\n",
            "    Found existing installation: plotly 5.13.1\n",
            "    Uninstalling plotly-5.13.1:\n",
            "      Successfully uninstalled plotly-5.13.1\n",
            "Successfully installed plotly-5.14.1\n"
          ]
        }
      ],
      "source": [
        "# Libreria Core del lab.\n",
        "import numpy as np\n",
        "import pandas as pd\n",
        "import datetime\n",
        "from IPython.display import HTML\n",
        "\n",
        "# Libreria para plotear (En colab esta desactualizado plotly)\n",
        "!pip install --upgrade plotly\n",
        "import plotly.express as px\n",
        "import plotly.graph_objects as go\n",
        "\n",
        "# Librerias utiles\n",
        "from sklearn.manifold import TSNE\n",
        "from sklearn.cluster import KMeans\n",
        "from sklearn.base import BaseEstimator, TransformerMixin\n",
        "from sklearn.model_selection import train_test_split \n",
        "from sklearn.pipeline import Pipeline\n",
        "from sklearn.compose import ColumnTransformer\n",
        "from sklearn.preprocessing import FunctionTransformer"
      ]
    },
    {
      "cell_type": "code",
      "execution_count": 2,
      "metadata": {
        "cell_id": "ce6a19ec6fc6486e832760ac3740d7ef",
        "deepnote_cell_height": 219.46665954589844,
        "deepnote_cell_type": "code",
        "deepnote_to_be_reexecuted": false,
        "execution_millis": 7,
        "execution_start": 1635165625274,
        "id": "gQ0-zPV4NNrq",
        "source_hash": "c60dc4a7",
        "colab": {
          "base_uri": "https://localhost:8080/",
          "height": 0
        },
        "outputId": "d065a6ec-fa02-45a5-f1bd-220338a8df5d"
      },
      "outputs": [
        {
          "output_type": "stream",
          "name": "stdout",
          "text": [
            "Mounted at /content/drive\n"
          ]
        }
      ],
      "source": [
        "# Si usted está utilizando Colabolatory le puede ser útil este código para cargar los archivos.\n",
        "try:\n",
        "    from google.colab import drive\n",
        "    drive.mount(\"/content/drive\")\n",
        "    path = '/content/drive/MyDrive/lab7mds/online_retail_II_cleaned.pickle'\n",
        "except: \n",
        "    print('Ignorando conexión drive-colab')"
      ]
    },
    {
      "cell_type": "markdown",
      "metadata": {
        "cell_id": "28c7a8b483d84878ac5a4f7ba882b711",
        "deepnote_cell_height": 133.86666870117188,
        "deepnote_cell_type": "markdown",
        "id": "QDwIXTh7bK_A",
        "owner_user_id": "badcc427-fd3d-4615-9296-faa43ec69cfb"
      },
      "source": [
        "# Segmentación de Clientes en Tienda de Retail 🛍️"
      ]
    },
    {
      "cell_type": "markdown",
      "metadata": {
        "cell_id": "6c6799ecc9e74272922d46a3b5a8b79e",
        "deepnote_cell_height": 294.683349609375,
        "deepnote_cell_type": "markdown",
        "tags": [],
        "id": "gCozFlcEHhgU"
      },
      "source": [
        "<p align=\"center\">\n",
        "  <img width=300 src=\"https://s1.eestatic.com/2018/04/14/social/la_jungla_-_social_299733421_73842361_854x640.jpg\">\n",
        "</p>"
      ]
    },
    {
      "cell_type": "markdown",
      "metadata": {
        "cell_id": "160bb2695f6547448bfb0f99420f952c",
        "deepnote_cell_height": 69.86666870117188,
        "deepnote_cell_type": "markdown",
        "tags": [],
        "id": "0lgBh2MLHhgU"
      },
      "source": [
        "## 1.1 Cargar Dataset"
      ]
    },
    {
      "cell_type": "markdown",
      "metadata": {
        "cell_id": "48d29c89e3b6455083f8fac764f97f3b",
        "deepnote_cell_height": 475.066650390625,
        "deepnote_cell_type": "markdown",
        "tags": [],
        "id": "V2JcagGkHhgU"
      },
      "source": [
        "Mr. Lepin, en una nueva reunión, le cuenta a ud y su equipo que los resultados derivados del análisis exploratorio de dato presentaron una gran utilidad para la empresa y que tiene un gran entusiasmo por continuar trabajando con ustedes.\n",
        "Es por esto, que Mr. Lepin les pide que cargue y visualicen algunas de las filas que componen el Dataset.\n",
        "A continuación un extracto de lo parlamentado en la reunión:\n",
        "\n",
        "    - Usted: Es un gran logro para nuestro equipo que usted haya encontrado excelente el EDA. ¿Qué tiene en mente ahora?\n",
        "    - Mr. Lepin: Resulta que hace algún tiempo, mientras tomaba un mojito en una reunión de gerentes en Panamá, oí a un *chato* acerca de **LRMFP**, que es un modelo que permite personificar a los clientes a través de la fabricación de distintos atributos que describen a los clientes. Lo encontré es-tu-pendo ñatito. \n",
        "    - Usted: Ehh bueno. Investigaremos acerca de este modelo y veremos lo que podemos hacer.\n",
        "\n",
        "Por ende, su siguiente tarea es calcular **LRMFP** sobre cada cliente y luego hacer un análisis de las características generadas. Para esto, el área de ventas les entrega un nuevo archivo llamado `online_retail_II_cleaned.pickle`, quien posee los datos del DataFrame original limpios y listos para obtener las características solicitadas por Mr. Lepin."
      ]
    },
    {
      "cell_type": "code",
      "execution_count": 3,
      "metadata": {
        "cell_id": "4d7d0f0855744e6c9d5a2198e5dcd690",
        "colab": {
          "base_uri": "https://localhost:8080/",
          "height": 206
        },
        "deepnote_cell_height": 489.79998779296875,
        "deepnote_cell_type": "code",
        "deepnote_output_heights": [
          177
        ],
        "deepnote_to_be_reexecuted": false,
        "execution_millis": 466,
        "execution_start": 1635469797118,
        "id": "7FNOu-CvjV5m",
        "outputId": "fbdc57f0-aec2-4fe6-de91-ce671968a2b2",
        "source_hash": "d52b246c"
      },
      "outputs": [
        {
          "output_type": "execute_result",
          "data": {
            "text/plain": [
              "  Invoice StockCode                          Description  Quantity  \\\n",
              "0  489434     85048  15CM CHRISTMAS GLASS BALL 20 LIGHTS        12   \n",
              "1  489434    79323P                   PINK CHERRY LIGHTS        12   \n",
              "2  489434    79323W                  WHITE CHERRY LIGHTS        12   \n",
              "3  489434     22041         RECORD FRAME 7\" SINGLE SIZE         48   \n",
              "4  489434     21232       STRAWBERRY CERAMIC TRINKET BOX        24   \n",
              "\n",
              "          InvoiceDate  Price Customer ID         Country  \n",
              "0 2009-12-01 07:45:00   6.95     13085.0  United Kingdom  \n",
              "1 2009-12-01 07:45:00   6.75     13085.0  United Kingdom  \n",
              "2 2009-12-01 07:45:00   6.75     13085.0  United Kingdom  \n",
              "3 2009-12-01 07:45:00   2.10     13085.0  United Kingdom  \n",
              "4 2009-12-01 07:45:00   1.25     13085.0  United Kingdom  "
            ],
            "text/html": [
              "\n",
              "  <div id=\"df-cec456b9-1ae3-4d7c-9a2c-756098f8ac3d\">\n",
              "    <div class=\"colab-df-container\">\n",
              "      <div>\n",
              "<style scoped>\n",
              "    .dataframe tbody tr th:only-of-type {\n",
              "        vertical-align: middle;\n",
              "    }\n",
              "\n",
              "    .dataframe tbody tr th {\n",
              "        vertical-align: top;\n",
              "    }\n",
              "\n",
              "    .dataframe thead th {\n",
              "        text-align: right;\n",
              "    }\n",
              "</style>\n",
              "<table border=\"1\" class=\"dataframe\">\n",
              "  <thead>\n",
              "    <tr style=\"text-align: right;\">\n",
              "      <th></th>\n",
              "      <th>Invoice</th>\n",
              "      <th>StockCode</th>\n",
              "      <th>Description</th>\n",
              "      <th>Quantity</th>\n",
              "      <th>InvoiceDate</th>\n",
              "      <th>Price</th>\n",
              "      <th>Customer ID</th>\n",
              "      <th>Country</th>\n",
              "    </tr>\n",
              "  </thead>\n",
              "  <tbody>\n",
              "    <tr>\n",
              "      <th>0</th>\n",
              "      <td>489434</td>\n",
              "      <td>85048</td>\n",
              "      <td>15CM CHRISTMAS GLASS BALL 20 LIGHTS</td>\n",
              "      <td>12</td>\n",
              "      <td>2009-12-01 07:45:00</td>\n",
              "      <td>6.95</td>\n",
              "      <td>13085.0</td>\n",
              "      <td>United Kingdom</td>\n",
              "    </tr>\n",
              "    <tr>\n",
              "      <th>1</th>\n",
              "      <td>489434</td>\n",
              "      <td>79323P</td>\n",
              "      <td>PINK CHERRY LIGHTS</td>\n",
              "      <td>12</td>\n",
              "      <td>2009-12-01 07:45:00</td>\n",
              "      <td>6.75</td>\n",
              "      <td>13085.0</td>\n",
              "      <td>United Kingdom</td>\n",
              "    </tr>\n",
              "    <tr>\n",
              "      <th>2</th>\n",
              "      <td>489434</td>\n",
              "      <td>79323W</td>\n",
              "      <td>WHITE CHERRY LIGHTS</td>\n",
              "      <td>12</td>\n",
              "      <td>2009-12-01 07:45:00</td>\n",
              "      <td>6.75</td>\n",
              "      <td>13085.0</td>\n",
              "      <td>United Kingdom</td>\n",
              "    </tr>\n",
              "    <tr>\n",
              "      <th>3</th>\n",
              "      <td>489434</td>\n",
              "      <td>22041</td>\n",
              "      <td>RECORD FRAME 7\" SINGLE SIZE</td>\n",
              "      <td>48</td>\n",
              "      <td>2009-12-01 07:45:00</td>\n",
              "      <td>2.10</td>\n",
              "      <td>13085.0</td>\n",
              "      <td>United Kingdom</td>\n",
              "    </tr>\n",
              "    <tr>\n",
              "      <th>4</th>\n",
              "      <td>489434</td>\n",
              "      <td>21232</td>\n",
              "      <td>STRAWBERRY CERAMIC TRINKET BOX</td>\n",
              "      <td>24</td>\n",
              "      <td>2009-12-01 07:45:00</td>\n",
              "      <td>1.25</td>\n",
              "      <td>13085.0</td>\n",
              "      <td>United Kingdom</td>\n",
              "    </tr>\n",
              "  </tbody>\n",
              "</table>\n",
              "</div>\n",
              "      <button class=\"colab-df-convert\" onclick=\"convertToInteractive('df-cec456b9-1ae3-4d7c-9a2c-756098f8ac3d')\"\n",
              "              title=\"Convert this dataframe to an interactive table.\"\n",
              "              style=\"display:none;\">\n",
              "        \n",
              "  <svg xmlns=\"http://www.w3.org/2000/svg\" height=\"24px\"viewBox=\"0 0 24 24\"\n",
              "       width=\"24px\">\n",
              "    <path d=\"M0 0h24v24H0V0z\" fill=\"none\"/>\n",
              "    <path d=\"M18.56 5.44l.94 2.06.94-2.06 2.06-.94-2.06-.94-.94-2.06-.94 2.06-2.06.94zm-11 1L8.5 8.5l.94-2.06 2.06-.94-2.06-.94L8.5 2.5l-.94 2.06-2.06.94zm10 10l.94 2.06.94-2.06 2.06-.94-2.06-.94-.94-2.06-.94 2.06-2.06.94z\"/><path d=\"M17.41 7.96l-1.37-1.37c-.4-.4-.92-.59-1.43-.59-.52 0-1.04.2-1.43.59L10.3 9.45l-7.72 7.72c-.78.78-.78 2.05 0 2.83L4 21.41c.39.39.9.59 1.41.59.51 0 1.02-.2 1.41-.59l7.78-7.78 2.81-2.81c.8-.78.8-2.07 0-2.86zM5.41 20L4 18.59l7.72-7.72 1.47 1.35L5.41 20z\"/>\n",
              "  </svg>\n",
              "      </button>\n",
              "      \n",
              "  <style>\n",
              "    .colab-df-container {\n",
              "      display:flex;\n",
              "      flex-wrap:wrap;\n",
              "      gap: 12px;\n",
              "    }\n",
              "\n",
              "    .colab-df-convert {\n",
              "      background-color: #E8F0FE;\n",
              "      border: none;\n",
              "      border-radius: 50%;\n",
              "      cursor: pointer;\n",
              "      display: none;\n",
              "      fill: #1967D2;\n",
              "      height: 32px;\n",
              "      padding: 0 0 0 0;\n",
              "      width: 32px;\n",
              "    }\n",
              "\n",
              "    .colab-df-convert:hover {\n",
              "      background-color: #E2EBFA;\n",
              "      box-shadow: 0px 1px 2px rgba(60, 64, 67, 0.3), 0px 1px 3px 1px rgba(60, 64, 67, 0.15);\n",
              "      fill: #174EA6;\n",
              "    }\n",
              "\n",
              "    [theme=dark] .colab-df-convert {\n",
              "      background-color: #3B4455;\n",
              "      fill: #D2E3FC;\n",
              "    }\n",
              "\n",
              "    [theme=dark] .colab-df-convert:hover {\n",
              "      background-color: #434B5C;\n",
              "      box-shadow: 0px 1px 3px 1px rgba(0, 0, 0, 0.15);\n",
              "      filter: drop-shadow(0px 1px 2px rgba(0, 0, 0, 0.3));\n",
              "      fill: #FFFFFF;\n",
              "    }\n",
              "  </style>\n",
              "\n",
              "      <script>\n",
              "        const buttonEl =\n",
              "          document.querySelector('#df-cec456b9-1ae3-4d7c-9a2c-756098f8ac3d button.colab-df-convert');\n",
              "        buttonEl.style.display =\n",
              "          google.colab.kernel.accessAllowed ? 'block' : 'none';\n",
              "\n",
              "        async function convertToInteractive(key) {\n",
              "          const element = document.querySelector('#df-cec456b9-1ae3-4d7c-9a2c-756098f8ac3d');\n",
              "          const dataTable =\n",
              "            await google.colab.kernel.invokeFunction('convertToInteractive',\n",
              "                                                     [key], {});\n",
              "          if (!dataTable) return;\n",
              "\n",
              "          const docLinkHtml = 'Like what you see? Visit the ' +\n",
              "            '<a target=\"_blank\" href=https://colab.research.google.com/notebooks/data_table.ipynb>data table notebook</a>'\n",
              "            + ' to learn more about interactive tables.';\n",
              "          element.innerHTML = '';\n",
              "          dataTable['output_type'] = 'display_data';\n",
              "          await google.colab.output.renderOutput(dataTable, element);\n",
              "          const docLink = document.createElement('div');\n",
              "          docLink.innerHTML = docLinkHtml;\n",
              "          element.appendChild(docLink);\n",
              "        }\n",
              "      </script>\n",
              "    </div>\n",
              "  </div>\n",
              "  "
            ]
          },
          "metadata": {},
          "execution_count": 3
        }
      ],
      "source": [
        "# df_retail = pd.read_pickle(\"online_retail_II_cleaned.pickle\")\n",
        "df_retail = pd.read_pickle(path)\n",
        "df_retail = df_retail.astype(\n",
        "    {\n",
        "        \"Invoice\": \"category\",\n",
        "        \"StockCode\": \"category\",\n",
        "        \"Description\": \"category\",\n",
        "        \"Description\": str,\n",
        "        \"Customer ID\": \"category\",\n",
        "        \"Country\": \"category\"\n",
        "    }\n",
        ")\n",
        "df_retail.head()\n"
      ]
    },
    {
      "cell_type": "code",
      "execution_count": null,
      "metadata": {
        "id": "bffoVg7_HhgV",
        "outputId": "e6ed1a1d-0d0b-4e0d-f1ba-9807e863108a",
        "colab": {
          "base_uri": "https://localhost:8080/"
        }
      },
      "outputs": [
        {
          "output_type": "execute_result",
          "data": {
            "text/plain": [
              "(400947, 8)"
            ]
          },
          "metadata": {},
          "execution_count": 4
        }
      ],
      "source": [
        "df_retail.shape"
      ]
    },
    {
      "cell_type": "code",
      "execution_count": null,
      "metadata": {
        "id": "MSyPzLqtHhgV",
        "outputId": "598d5f98-2fc2-4313-e609-c370eecf3a5a",
        "colab": {
          "base_uri": "https://localhost:8080/"
        }
      },
      "outputs": [
        {
          "output_type": "stream",
          "name": "stdout",
          "text": [
            "<class 'pandas.core.frame.DataFrame'>\n",
            "RangeIndex: 400947 entries, 0 to 400946\n",
            "Data columns (total 8 columns):\n",
            " #   Column       Non-Null Count   Dtype         \n",
            "---  ------       --------------   -----         \n",
            " 0   Invoice      400947 non-null  category      \n",
            " 1   StockCode    400947 non-null  category      \n",
            " 2   Description  400947 non-null  object        \n",
            " 3   Quantity     400947 non-null  int64         \n",
            " 4   InvoiceDate  400947 non-null  datetime64[ns]\n",
            " 5   Price        400947 non-null  float64       \n",
            " 6   Customer ID  400947 non-null  category      \n",
            " 7   Country      400947 non-null  category      \n",
            "dtypes: category(4), datetime64[ns](1), float64(1), int64(1), object(1)\n",
            "memory usage: 15.9+ MB\n"
          ]
        }
      ],
      "source": [
        "df_retail.info()"
      ]
    },
    {
      "cell_type": "markdown",
      "metadata": {
        "cell_id": "060e1885d93d4325a313fded82de1921",
        "deepnote_cell_height": 109.86666870117188,
        "deepnote_cell_type": "markdown",
        "tags": [],
        "id": "uSwCAn87HhgV"
      },
      "source": [
        "## 1.2 Creación de nuevas Caracteristicas [2 Puntos] "
      ]
    },
    {
      "cell_type": "markdown",
      "metadata": {
        "cell_id": "e650f364c9c64b079603f6d9312d2d13",
        "deepnote_cell_height": 862.933349609375,
        "deepnote_cell_type": "markdown",
        "tags": [],
        "id": "XZy4NKeIHhgV"
      },
      "source": [
        "Como ya se les comento, Mr. Lepin esta interesado en obtener las características **LRMFP**, para esto les señala que estas características se construyen en base a las siguientes definiciones:\n",
        "\n",
        "- **Length (L)**: Intervalo de tiempo, en días, entre la primera y la última visita del cliente. Mientras mas grande sea el valor, mas fiel es el cliente.\n",
        "\n",
        "- **Recency (R)**: Indica hace cuanto tiempo el cliente realizo su ultima compra. Notar que para este caso, mientras mas grande es el valor, menos interes posee el usuario para repetir una compra en uno de los locales.\n",
        "\n",
        "- **Monetary (M)**: El término \"monetario\" se refiere a la cantidad media de dinero gastada por cada visita del cliente durante el período de observación y refleja la contribución del cliente a los ingresos de la empresa.\n",
        "\n",
        "- **Frequency (F)**: Se refiere al número total de visitas del cliente durante el periodo de observación. Cuanto mayor sea la frecuencia, mayor será la fidelidad del cliente. \n",
        "\n",
        "- **Periodicity (P)**: Representa si los clientes visitan las tiendas con regularidad.\n",
        "\n",
        "$$Periodicity(n)=std(IVT_1, ..., IVT_n)$$\n",
        "\n",
        "&nbsp;&nbsp; &nbsp;&nbsp;&nbsp;&nbsp;&nbsp;&nbsp;Donde $IVT$ denota el tiempo entre visitas y n representa el número de valores de tiempo entre visitas de un cliente.\n",
        " \n",
        "\n",
        "$$IVT_i=date\\_diff(t_{i+1},t)$$\n",
        "\n",
        "En base a las definiciones señaladas, diseñe una función que permita obtener las características **LRMFP** recibiendo un DataFrame como entrada. Para esto, no estará permitido el uso de iteradores, utilice todas las herramientas que les ofrece `pandas` para realizar esto.\n",
        "\n",
        "Una referencia que le puede ser útil es el [documento original](https://www.researchgate.net/publication/315979555_LRFMP_model_for_customer_segmentation_in_the_grocery_retail_industry_a_case_study) en donde se propone este método."
      ]
    },
    {
      "cell_type": "markdown",
      "metadata": {
        "cell_id": "bee8d549c7c043a5b0cafae0543afadf",
        "deepnote_cell_height": 212.6666717529297,
        "deepnote_cell_type": "markdown",
        "tags": [],
        "id": "APtuK-iPHhgW"
      },
      "source": [
        "**Ejemplo de Resultado Esperado:**\n",
        "\n",
        "| Customer ID | Length | Recency | Frequency | Monetary | Periodicity |\n",
        "|------------:|-------:|--------:|----------:|---------:|------------:|\n",
        "|   12346.0   |    294 |      67 |        46 |   -64.68 |        37.0 |\n",
        "|   12347.0   |     37 |       3 |        71 |  1323.32 |         0.0 |\n",
        "|   12349.0   |    327 |      43 |       107 |  2646.99 |        78.0 |\n",
        "|   12352.0   |     16 |      11 |        18 |   343.80 |         0.0 |\n",
        "|   12356.0   |     44 |      16 |        84 |  3562.25 |        12.0 |"
      ]
    },
    {
      "cell_type": "markdown",
      "metadata": {
        "cell_id": "3c7f8a4a06a44cbd8d50e8a4decf4c71",
        "deepnote_cell_height": 52.26666259765625,
        "deepnote_cell_type": "markdown",
        "tags": [],
        "id": "h_oE7Ch9HhgW"
      },
      "source": [
        "**Respuesta:**"
      ]
    },
    {
      "cell_type": "markdown",
      "metadata": {
        "id": "VxdLkysPHhgW"
      },
      "source": [
        "- **Length (L)**\n",
        "\n",
        "- **Recency (R)**\n",
        "\n",
        "- **Monetary (M)**\n",
        "\n",
        "- **Frequency (F)**\n",
        "\n",
        "- **Periodicity (P)**"
      ]
    },
    {
      "cell_type": "code",
      "execution_count": 101,
      "metadata": {
        "cell_id": "39a8b98eacdc43a4bdfeaa138b746198",
        "deepnote_cell_height": 83.86666870117188,
        "deepnote_cell_type": "code",
        "owner_user_id": "8c58f50a-7a08-41a2-952e-38bdb7507048",
        "tags": [],
        "id": "QKJSoohOHhgW"
      },
      "outputs": [],
      "source": [
        "\n",
        "from datetime import datetime\n",
        "\n",
        "def custom_features(dataframe_in):\n",
        "    \n",
        "    #hago copia para no tocar el original\n",
        "    df = dataframe_in.copy()\n",
        "    #ordeno\n",
        "    df = df.sort_values([\"Customer ID\", \"InvoiceDate\"]).reset_index(drop=True )\n",
        "    #omito la hora dado que no es relevante para las metricas\n",
        "    df[\"fecha\"]= pd.to_datetime(df['InvoiceDate']).dt.date\n",
        "\n",
        "    # fecha más reciente\n",
        "    recency = df.groupby('Customer ID')['fecha'].max().reset_index()\n",
        "    recency.rename(columns={'fecha':'Last'},inplace=True)\n",
        "    \n",
        "    # fecha más antigua\n",
        "    first = df.groupby('Customer ID')['fecha'].min().reset_index()\n",
        "    first.rename(columns = {'fecha':'First'},inplace=True)\n",
        "    \n",
        "    # L:\n",
        "    L_df=pd.merge(first,recency,on=\"Customer ID\")\n",
        "    L_df[\"L\"] = (L_df[\"Last\"] - L_df[\"First\"]).dt.days\n",
        "\n",
        "    # R: \n",
        "    recency[\"R\"] = (recency['Last'].max()-recency['Last']).dt.days\n",
        "\n",
        "    # F: frecuency F\n",
        "    frequency = df.groupby('Customer ID')['Invoice'].nunique().reset_index()\n",
        "    frequency.rename(columns ={'Invoice': 'F'},inplace=True)\n",
        "    \n",
        "\n",
        "    # M: Monetary\n",
        "    df[\"compra\"]=df[\"Quantity\"]*df[\"Price\"]\n",
        "    monetary = df.groupby('Customer ID')['compra'].sum().reset_index()\n",
        "    monetary.rename(columns = {'compra': 'M'},inplace=True)\n",
        "    \n",
        "    \n",
        "    # P: periodicity\n",
        "    df['IVT'] = df.groupby('Customer ID')['InvoiceDate'].diff().dt.days\n",
        "    periodicity = df.groupby('Customer ID')['IVT'].std().reset_index().round(1)\n",
        "    periodicity.rename(columns = {'IVT': 'P'},inplace=True)\n",
        "\n",
        "\n",
        "    salida=pd.DataFrame()\n",
        "    # Combinar todos los dataframes en un solo dataframe de salida\n",
        "    salida = pd.merge(L_df[['Customer ID', 'L']], recency[['Customer ID', 'R']], on='Customer ID')\n",
        "    salida = pd.merge(salida, frequency, on='Customer ID')\n",
        "    salida = pd.merge(salida, monetary, on='Customer ID')\n",
        "    salida = pd.merge(salida, periodicity, on='Customer ID')\n",
        "    salida = salida.fillna(0)\n",
        "    salida.set_index('Customer ID',inplace=True)\n",
        "    \n",
        "    return salida\n",
        "    \n",
        "    "
      ]
    },
    {
      "cell_type": "code",
      "source": [
        "df_lrmfp=custom_features(df_retail)\n",
        "df_lrmfp.head(10)"
      ],
      "metadata": {
        "colab": {
          "base_uri": "https://localhost:8080/",
          "height": 394
        },
        "id": "_CJ_ed0JwMss",
        "outputId": "d936c486-59d9-496b-e70a-e7cd613c2722"
      },
      "execution_count": 102,
      "outputs": [
        {
          "output_type": "execute_result",
          "data": {
            "text/plain": [
              "               L    R   F         M     P\n",
              "Customer ID                              \n",
              "12346.0      196  164  11    372.86  21.7\n",
              "12347.0       37    2   2   1323.32   4.4\n",
              "12348.0        0   73   1    222.16   0.0\n",
              "12349.0      182   42   3   2671.14  16.2\n",
              "12351.0        0   10   1    300.93   0.0\n",
              "12352.0       17   10   2    343.80   3.9\n",
              "12353.0        0   43   1    317.76   0.0\n",
              "12355.0        0  202   1    488.21   0.0\n",
              "12356.0       44   15   3   3560.30   3.7\n",
              "12357.0        0   23   2  12079.99   0.0"
            ],
            "text/html": [
              "\n",
              "  <div id=\"df-8e963027-b5e1-492d-b049-658f02eeba00\">\n",
              "    <div class=\"colab-df-container\">\n",
              "      <div>\n",
              "<style scoped>\n",
              "    .dataframe tbody tr th:only-of-type {\n",
              "        vertical-align: middle;\n",
              "    }\n",
              "\n",
              "    .dataframe tbody tr th {\n",
              "        vertical-align: top;\n",
              "    }\n",
              "\n",
              "    .dataframe thead th {\n",
              "        text-align: right;\n",
              "    }\n",
              "</style>\n",
              "<table border=\"1\" class=\"dataframe\">\n",
              "  <thead>\n",
              "    <tr style=\"text-align: right;\">\n",
              "      <th></th>\n",
              "      <th>L</th>\n",
              "      <th>R</th>\n",
              "      <th>F</th>\n",
              "      <th>M</th>\n",
              "      <th>P</th>\n",
              "    </tr>\n",
              "    <tr>\n",
              "      <th>Customer ID</th>\n",
              "      <th></th>\n",
              "      <th></th>\n",
              "      <th></th>\n",
              "      <th></th>\n",
              "      <th></th>\n",
              "    </tr>\n",
              "  </thead>\n",
              "  <tbody>\n",
              "    <tr>\n",
              "      <th>12346.0</th>\n",
              "      <td>196</td>\n",
              "      <td>164</td>\n",
              "      <td>11</td>\n",
              "      <td>372.86</td>\n",
              "      <td>21.7</td>\n",
              "    </tr>\n",
              "    <tr>\n",
              "      <th>12347.0</th>\n",
              "      <td>37</td>\n",
              "      <td>2</td>\n",
              "      <td>2</td>\n",
              "      <td>1323.32</td>\n",
              "      <td>4.4</td>\n",
              "    </tr>\n",
              "    <tr>\n",
              "      <th>12348.0</th>\n",
              "      <td>0</td>\n",
              "      <td>73</td>\n",
              "      <td>1</td>\n",
              "      <td>222.16</td>\n",
              "      <td>0.0</td>\n",
              "    </tr>\n",
              "    <tr>\n",
              "      <th>12349.0</th>\n",
              "      <td>182</td>\n",
              "      <td>42</td>\n",
              "      <td>3</td>\n",
              "      <td>2671.14</td>\n",
              "      <td>16.2</td>\n",
              "    </tr>\n",
              "    <tr>\n",
              "      <th>12351.0</th>\n",
              "      <td>0</td>\n",
              "      <td>10</td>\n",
              "      <td>1</td>\n",
              "      <td>300.93</td>\n",
              "      <td>0.0</td>\n",
              "    </tr>\n",
              "    <tr>\n",
              "      <th>12352.0</th>\n",
              "      <td>17</td>\n",
              "      <td>10</td>\n",
              "      <td>2</td>\n",
              "      <td>343.80</td>\n",
              "      <td>3.9</td>\n",
              "    </tr>\n",
              "    <tr>\n",
              "      <th>12353.0</th>\n",
              "      <td>0</td>\n",
              "      <td>43</td>\n",
              "      <td>1</td>\n",
              "      <td>317.76</td>\n",
              "      <td>0.0</td>\n",
              "    </tr>\n",
              "    <tr>\n",
              "      <th>12355.0</th>\n",
              "      <td>0</td>\n",
              "      <td>202</td>\n",
              "      <td>1</td>\n",
              "      <td>488.21</td>\n",
              "      <td>0.0</td>\n",
              "    </tr>\n",
              "    <tr>\n",
              "      <th>12356.0</th>\n",
              "      <td>44</td>\n",
              "      <td>15</td>\n",
              "      <td>3</td>\n",
              "      <td>3560.30</td>\n",
              "      <td>3.7</td>\n",
              "    </tr>\n",
              "    <tr>\n",
              "      <th>12357.0</th>\n",
              "      <td>0</td>\n",
              "      <td>23</td>\n",
              "      <td>2</td>\n",
              "      <td>12079.99</td>\n",
              "      <td>0.0</td>\n",
              "    </tr>\n",
              "  </tbody>\n",
              "</table>\n",
              "</div>\n",
              "      <button class=\"colab-df-convert\" onclick=\"convertToInteractive('df-8e963027-b5e1-492d-b049-658f02eeba00')\"\n",
              "              title=\"Convert this dataframe to an interactive table.\"\n",
              "              style=\"display:none;\">\n",
              "        \n",
              "  <svg xmlns=\"http://www.w3.org/2000/svg\" height=\"24px\"viewBox=\"0 0 24 24\"\n",
              "       width=\"24px\">\n",
              "    <path d=\"M0 0h24v24H0V0z\" fill=\"none\"/>\n",
              "    <path d=\"M18.56 5.44l.94 2.06.94-2.06 2.06-.94-2.06-.94-.94-2.06-.94 2.06-2.06.94zm-11 1L8.5 8.5l.94-2.06 2.06-.94-2.06-.94L8.5 2.5l-.94 2.06-2.06.94zm10 10l.94 2.06.94-2.06 2.06-.94-2.06-.94-.94-2.06-.94 2.06-2.06.94z\"/><path d=\"M17.41 7.96l-1.37-1.37c-.4-.4-.92-.59-1.43-.59-.52 0-1.04.2-1.43.59L10.3 9.45l-7.72 7.72c-.78.78-.78 2.05 0 2.83L4 21.41c.39.39.9.59 1.41.59.51 0 1.02-.2 1.41-.59l7.78-7.78 2.81-2.81c.8-.78.8-2.07 0-2.86zM5.41 20L4 18.59l7.72-7.72 1.47 1.35L5.41 20z\"/>\n",
              "  </svg>\n",
              "      </button>\n",
              "      \n",
              "  <style>\n",
              "    .colab-df-container {\n",
              "      display:flex;\n",
              "      flex-wrap:wrap;\n",
              "      gap: 12px;\n",
              "    }\n",
              "\n",
              "    .colab-df-convert {\n",
              "      background-color: #E8F0FE;\n",
              "      border: none;\n",
              "      border-radius: 50%;\n",
              "      cursor: pointer;\n",
              "      display: none;\n",
              "      fill: #1967D2;\n",
              "      height: 32px;\n",
              "      padding: 0 0 0 0;\n",
              "      width: 32px;\n",
              "    }\n",
              "\n",
              "    .colab-df-convert:hover {\n",
              "      background-color: #E2EBFA;\n",
              "      box-shadow: 0px 1px 2px rgba(60, 64, 67, 0.3), 0px 1px 3px 1px rgba(60, 64, 67, 0.15);\n",
              "      fill: #174EA6;\n",
              "    }\n",
              "\n",
              "    [theme=dark] .colab-df-convert {\n",
              "      background-color: #3B4455;\n",
              "      fill: #D2E3FC;\n",
              "    }\n",
              "\n",
              "    [theme=dark] .colab-df-convert:hover {\n",
              "      background-color: #434B5C;\n",
              "      box-shadow: 0px 1px 3px 1px rgba(0, 0, 0, 0.15);\n",
              "      filter: drop-shadow(0px 1px 2px rgba(0, 0, 0, 0.3));\n",
              "      fill: #FFFFFF;\n",
              "    }\n",
              "  </style>\n",
              "\n",
              "      <script>\n",
              "        const buttonEl =\n",
              "          document.querySelector('#df-8e963027-b5e1-492d-b049-658f02eeba00 button.colab-df-convert');\n",
              "        buttonEl.style.display =\n",
              "          google.colab.kernel.accessAllowed ? 'block' : 'none';\n",
              "\n",
              "        async function convertToInteractive(key) {\n",
              "          const element = document.querySelector('#df-8e963027-b5e1-492d-b049-658f02eeba00');\n",
              "          const dataTable =\n",
              "            await google.colab.kernel.invokeFunction('convertToInteractive',\n",
              "                                                     [key], {});\n",
              "          if (!dataTable) return;\n",
              "\n",
              "          const docLinkHtml = 'Like what you see? Visit the ' +\n",
              "            '<a target=\"_blank\" href=https://colab.research.google.com/notebooks/data_table.ipynb>data table notebook</a>'\n",
              "            + ' to learn more about interactive tables.';\n",
              "          element.innerHTML = '';\n",
              "          dataTable['output_type'] = 'display_data';\n",
              "          await google.colab.output.renderOutput(dataTable, element);\n",
              "          const docLink = document.createElement('div');\n",
              "          docLink.innerHTML = docLinkHtml;\n",
              "          element.appendChild(docLink);\n",
              "        }\n",
              "      </script>\n",
              "    </div>\n",
              "  </div>\n",
              "  "
            ]
          },
          "metadata": {},
          "execution_count": 102
        }
      ]
    },
    {
      "cell_type": "code",
      "source": [
        "df_lrmfp.isna().sum()"
      ],
      "metadata": {
        "colab": {
          "base_uri": "https://localhost:8080/"
        },
        "id": "UCE1rHasS0QB",
        "outputId": "4813f5cc-f20f-4403-8ae8-2a1724cf55aa"
      },
      "execution_count": 103,
      "outputs": [
        {
          "output_type": "execute_result",
          "data": {
            "text/plain": [
              "L    0\n",
              "R    0\n",
              "F    0\n",
              "M    0\n",
              "P    0\n",
              "dtype: int64"
            ]
          },
          "metadata": {},
          "execution_count": 103
        }
      ]
    },
    {
      "cell_type": "code",
      "source": [
        "df_lrmfp.info()"
      ],
      "metadata": {
        "colab": {
          "base_uri": "https://localhost:8080/",
          "height": 0
        },
        "id": "5JdouXd05Eaj",
        "outputId": "808000ff-1c66-4906-e2ef-7e7329187f3b"
      },
      "execution_count": 65,
      "outputs": [
        {
          "output_type": "stream",
          "name": "stdout",
          "text": [
            "<class 'pandas.core.frame.DataFrame'>\n",
            "Int64Index: 4314 entries, 0 to 4313\n",
            "Data columns (total 6 columns):\n",
            " #   Column       Non-Null Count  Dtype   \n",
            "---  ------       --------------  -----   \n",
            " 0   Customer ID  4314 non-null   category\n",
            " 1   L            4314 non-null   int64   \n",
            " 2   R            4314 non-null   int64   \n",
            " 3   F            4314 non-null   int64   \n",
            " 4   M            4314 non-null   float64 \n",
            " 5   P            4166 non-null   float64 \n",
            "dtypes: category(1), float64(2), int64(3)\n",
            "memory usage: 373.4 KB\n"
          ]
        }
      ]
    },
    {
      "cell_type": "markdown",
      "metadata": {
        "cell_id": "e4adca3e05c741df93087e2a0638ef7d",
        "deepnote_cell_height": 69.86666870117188,
        "deepnote_cell_type": "markdown",
        "tags": [],
        "id": "txO4vQmvHhgX"
      },
      "source": [
        "## 1.3 Pipelines 👷"
      ]
    },
    {
      "cell_type": "markdown",
      "metadata": {
        "cell_id": "20e2c59abf64489d8cabc5c230e86fd2",
        "deepnote_cell_height": 133.46665954589844,
        "deepnote_cell_type": "markdown",
        "tags": [],
        "id": "2lB0bANxHhgX"
      },
      "source": [
        "Finalmente *Don Mora* le pregunta si seria posible realizar un pipeline para realizar una segmentación de los clientes con los nuevos datos generados, a lo que usted responde que **sí** y propone la utilización de k-means para la segmentación.\n",
        "\n",
        "A continuación siga los pasos requeridos para obtener la segmentación de clientes."
      ]
    },
    {
      "cell_type": "markdown",
      "metadata": {
        "cell_id": "c6162b8b49a045bba12f9b17b51f21bf",
        "deepnote_cell_height": 61.866668701171875,
        "deepnote_cell_type": "markdown",
        "tags": [],
        "id": "1ojpu3B2HhgX"
      },
      "source": [
        "### 1.3.1 Estandarizar Caracteristicas [0.5 puntos]"
      ]
    },
    {
      "cell_type": "markdown",
      "metadata": {
        "cell_id": "94c48775ecb4496d970fbd920f65c126",
        "deepnote_cell_height": 268.70001220703125,
        "deepnote_cell_type": "markdown",
        "tags": [],
        "id": "4XdFj6TWHhgX"
      },
      "source": [
        "Construya una clase llamada ``MinMax()`` utilizando ``BaseEstimator`` y ``TransformerMixin`` para realizar una transformación de cada una de las columnas de un DataFrame utilizando ``ColumnTransformer()`` más tarde (tome como referencia el siguiente [enlace](https://sklearn-template.readthedocs.io/en/latest/user_guide.html#transformer)).\n",
        "\n",
        "\n",
        " Para esto considere que Min-Max escaler queda dada por la ecuación:\n",
        "\n",
        "$$MinMax = \\dfrac{x-min(x)}{max(x) - min(x)}$$\n",
        "\n",
        "Con esto buscamos que los valores que componen a las columnas se muevan en el rango de valores $[0, 1]$."
      ]
    },
    {
      "cell_type": "markdown",
      "metadata": {
        "cell_id": "c087d1fa8aa94d7485fe1292bf628660",
        "deepnote_cell_height": 52.26666259765625,
        "deepnote_cell_type": "markdown",
        "tags": [],
        "id": "aHc0DBuVHhgX"
      },
      "source": [
        "**Respuesta:**"
      ]
    },
    {
      "cell_type": "code",
      "execution_count": 88,
      "metadata": {
        "cell_id": "07cb4dcf097c4c6baabb9ae2bda25caf",
        "deepnote_cell_height": 83.86666870117188,
        "deepnote_cell_type": "code",
        "tags": [],
        "id": "KdNTNf1zHhgX"
      },
      "outputs": [],
      "source": [
        "class MinMax(BaseEstimator, TransformerMixin):\n",
        "    def fit(self,X,y=None):\n",
        "      return self\n",
        "    \n",
        "    def transform(self,X):\n",
        "      # return X.apply(lambda x: print(x)) #entra a cada columna por separado\n",
        "      return X.apply(lambda x: (x-np.min(x))/(np.max(x)-np.min(x)))\n"
      ]
    },
    {
      "cell_type": "code",
      "source": [
        "scaler = MinMax()\n",
        "scaler.fit(df_lrmfp)\n",
        "scaler.transform(df_lrmfp)"
      ],
      "metadata": {
        "colab": {
          "base_uri": "https://localhost:8080/",
          "height": 455
        },
        "id": "ocLx3u07JJlH",
        "outputId": "960d5ed9-8fef-4002-f50e-394cb54393a8"
      },
      "execution_count": 89,
      "outputs": [
        {
          "output_type": "execute_result",
          "data": {
            "text/plain": [
              "                    L         R         F         M         P\n",
              "Customer ID                                                  \n",
              "12346.0      0.525469  0.439678  0.049020  0.001068  0.119757\n",
              "12347.0      0.099196  0.005362  0.004902  0.003790  0.024283\n",
              "12348.0      0.000000  0.195710  0.000000  0.000636  0.000000\n",
              "12349.0      0.487936  0.112601  0.009804  0.007650  0.089404\n",
              "12351.0      0.000000  0.026810  0.000000  0.000862  0.000000\n",
              "...               ...       ...       ...       ...       ...\n",
              "18283.0      0.739946  0.045576  0.024510  0.001774  0.065121\n",
              "18284.0      0.000000  0.176944  0.000000  0.001322  0.000000\n",
              "18285.0      0.000000  0.790885  0.000000  0.001223  0.000000\n",
              "18286.0      0.662198  0.297587  0.004902  0.003713  0.167770\n",
              "18287.0      0.506702  0.045576  0.014706  0.006718  0.084437\n",
              "\n",
              "[4314 rows x 5 columns]"
            ],
            "text/html": [
              "\n",
              "  <div id=\"df-d5ce69ea-ce2d-404b-a107-4b9338c02a93\">\n",
              "    <div class=\"colab-df-container\">\n",
              "      <div>\n",
              "<style scoped>\n",
              "    .dataframe tbody tr th:only-of-type {\n",
              "        vertical-align: middle;\n",
              "    }\n",
              "\n",
              "    .dataframe tbody tr th {\n",
              "        vertical-align: top;\n",
              "    }\n",
              "\n",
              "    .dataframe thead th {\n",
              "        text-align: right;\n",
              "    }\n",
              "</style>\n",
              "<table border=\"1\" class=\"dataframe\">\n",
              "  <thead>\n",
              "    <tr style=\"text-align: right;\">\n",
              "      <th></th>\n",
              "      <th>L</th>\n",
              "      <th>R</th>\n",
              "      <th>F</th>\n",
              "      <th>M</th>\n",
              "      <th>P</th>\n",
              "    </tr>\n",
              "    <tr>\n",
              "      <th>Customer ID</th>\n",
              "      <th></th>\n",
              "      <th></th>\n",
              "      <th></th>\n",
              "      <th></th>\n",
              "      <th></th>\n",
              "    </tr>\n",
              "  </thead>\n",
              "  <tbody>\n",
              "    <tr>\n",
              "      <th>12346.0</th>\n",
              "      <td>0.525469</td>\n",
              "      <td>0.439678</td>\n",
              "      <td>0.049020</td>\n",
              "      <td>0.001068</td>\n",
              "      <td>0.119757</td>\n",
              "    </tr>\n",
              "    <tr>\n",
              "      <th>12347.0</th>\n",
              "      <td>0.099196</td>\n",
              "      <td>0.005362</td>\n",
              "      <td>0.004902</td>\n",
              "      <td>0.003790</td>\n",
              "      <td>0.024283</td>\n",
              "    </tr>\n",
              "    <tr>\n",
              "      <th>12348.0</th>\n",
              "      <td>0.000000</td>\n",
              "      <td>0.195710</td>\n",
              "      <td>0.000000</td>\n",
              "      <td>0.000636</td>\n",
              "      <td>0.000000</td>\n",
              "    </tr>\n",
              "    <tr>\n",
              "      <th>12349.0</th>\n",
              "      <td>0.487936</td>\n",
              "      <td>0.112601</td>\n",
              "      <td>0.009804</td>\n",
              "      <td>0.007650</td>\n",
              "      <td>0.089404</td>\n",
              "    </tr>\n",
              "    <tr>\n",
              "      <th>12351.0</th>\n",
              "      <td>0.000000</td>\n",
              "      <td>0.026810</td>\n",
              "      <td>0.000000</td>\n",
              "      <td>0.000862</td>\n",
              "      <td>0.000000</td>\n",
              "    </tr>\n",
              "    <tr>\n",
              "      <th>...</th>\n",
              "      <td>...</td>\n",
              "      <td>...</td>\n",
              "      <td>...</td>\n",
              "      <td>...</td>\n",
              "      <td>...</td>\n",
              "    </tr>\n",
              "    <tr>\n",
              "      <th>18283.0</th>\n",
              "      <td>0.739946</td>\n",
              "      <td>0.045576</td>\n",
              "      <td>0.024510</td>\n",
              "      <td>0.001774</td>\n",
              "      <td>0.065121</td>\n",
              "    </tr>\n",
              "    <tr>\n",
              "      <th>18284.0</th>\n",
              "      <td>0.000000</td>\n",
              "      <td>0.176944</td>\n",
              "      <td>0.000000</td>\n",
              "      <td>0.001322</td>\n",
              "      <td>0.000000</td>\n",
              "    </tr>\n",
              "    <tr>\n",
              "      <th>18285.0</th>\n",
              "      <td>0.000000</td>\n",
              "      <td>0.790885</td>\n",
              "      <td>0.000000</td>\n",
              "      <td>0.001223</td>\n",
              "      <td>0.000000</td>\n",
              "    </tr>\n",
              "    <tr>\n",
              "      <th>18286.0</th>\n",
              "      <td>0.662198</td>\n",
              "      <td>0.297587</td>\n",
              "      <td>0.004902</td>\n",
              "      <td>0.003713</td>\n",
              "      <td>0.167770</td>\n",
              "    </tr>\n",
              "    <tr>\n",
              "      <th>18287.0</th>\n",
              "      <td>0.506702</td>\n",
              "      <td>0.045576</td>\n",
              "      <td>0.014706</td>\n",
              "      <td>0.006718</td>\n",
              "      <td>0.084437</td>\n",
              "    </tr>\n",
              "  </tbody>\n",
              "</table>\n",
              "<p>4314 rows × 5 columns</p>\n",
              "</div>\n",
              "      <button class=\"colab-df-convert\" onclick=\"convertToInteractive('df-d5ce69ea-ce2d-404b-a107-4b9338c02a93')\"\n",
              "              title=\"Convert this dataframe to an interactive table.\"\n",
              "              style=\"display:none;\">\n",
              "        \n",
              "  <svg xmlns=\"http://www.w3.org/2000/svg\" height=\"24px\"viewBox=\"0 0 24 24\"\n",
              "       width=\"24px\">\n",
              "    <path d=\"M0 0h24v24H0V0z\" fill=\"none\"/>\n",
              "    <path d=\"M18.56 5.44l.94 2.06.94-2.06 2.06-.94-2.06-.94-.94-2.06-.94 2.06-2.06.94zm-11 1L8.5 8.5l.94-2.06 2.06-.94-2.06-.94L8.5 2.5l-.94 2.06-2.06.94zm10 10l.94 2.06.94-2.06 2.06-.94-2.06-.94-.94-2.06-.94 2.06-2.06.94z\"/><path d=\"M17.41 7.96l-1.37-1.37c-.4-.4-.92-.59-1.43-.59-.52 0-1.04.2-1.43.59L10.3 9.45l-7.72 7.72c-.78.78-.78 2.05 0 2.83L4 21.41c.39.39.9.59 1.41.59.51 0 1.02-.2 1.41-.59l7.78-7.78 2.81-2.81c.8-.78.8-2.07 0-2.86zM5.41 20L4 18.59l7.72-7.72 1.47 1.35L5.41 20z\"/>\n",
              "  </svg>\n",
              "      </button>\n",
              "      \n",
              "  <style>\n",
              "    .colab-df-container {\n",
              "      display:flex;\n",
              "      flex-wrap:wrap;\n",
              "      gap: 12px;\n",
              "    }\n",
              "\n",
              "    .colab-df-convert {\n",
              "      background-color: #E8F0FE;\n",
              "      border: none;\n",
              "      border-radius: 50%;\n",
              "      cursor: pointer;\n",
              "      display: none;\n",
              "      fill: #1967D2;\n",
              "      height: 32px;\n",
              "      padding: 0 0 0 0;\n",
              "      width: 32px;\n",
              "    }\n",
              "\n",
              "    .colab-df-convert:hover {\n",
              "      background-color: #E2EBFA;\n",
              "      box-shadow: 0px 1px 2px rgba(60, 64, 67, 0.3), 0px 1px 3px 1px rgba(60, 64, 67, 0.15);\n",
              "      fill: #174EA6;\n",
              "    }\n",
              "\n",
              "    [theme=dark] .colab-df-convert {\n",
              "      background-color: #3B4455;\n",
              "      fill: #D2E3FC;\n",
              "    }\n",
              "\n",
              "    [theme=dark] .colab-df-convert:hover {\n",
              "      background-color: #434B5C;\n",
              "      box-shadow: 0px 1px 3px 1px rgba(0, 0, 0, 0.15);\n",
              "      filter: drop-shadow(0px 1px 2px rgba(0, 0, 0, 0.3));\n",
              "      fill: #FFFFFF;\n",
              "    }\n",
              "  </style>\n",
              "\n",
              "      <script>\n",
              "        const buttonEl =\n",
              "          document.querySelector('#df-d5ce69ea-ce2d-404b-a107-4b9338c02a93 button.colab-df-convert');\n",
              "        buttonEl.style.display =\n",
              "          google.colab.kernel.accessAllowed ? 'block' : 'none';\n",
              "\n",
              "        async function convertToInteractive(key) {\n",
              "          const element = document.querySelector('#df-d5ce69ea-ce2d-404b-a107-4b9338c02a93');\n",
              "          const dataTable =\n",
              "            await google.colab.kernel.invokeFunction('convertToInteractive',\n",
              "                                                     [key], {});\n",
              "          if (!dataTable) return;\n",
              "\n",
              "          const docLinkHtml = 'Like what you see? Visit the ' +\n",
              "            '<a target=\"_blank\" href=https://colab.research.google.com/notebooks/data_table.ipynb>data table notebook</a>'\n",
              "            + ' to learn more about interactive tables.';\n",
              "          element.innerHTML = '';\n",
              "          dataTable['output_type'] = 'display_data';\n",
              "          await google.colab.output.renderOutput(dataTable, element);\n",
              "          const docLink = document.createElement('div');\n",
              "          docLink.innerHTML = docLinkHtml;\n",
              "          element.appendChild(docLink);\n",
              "        }\n",
              "      </script>\n",
              "    </div>\n",
              "  </div>\n",
              "  "
            ]
          },
          "metadata": {},
          "execution_count": 89
        }
      ]
    },
    {
      "cell_type": "markdown",
      "metadata": {
        "cell_id": "b280dbe181ce4d80a6a5b5f563c842e7",
        "deepnote_cell_height": 62.19999694824219,
        "deepnote_cell_type": "markdown",
        "tags": [],
        "id": "T9y0qp2THhgX"
      },
      "source": [
        "### 1.3.2 `T-SNE` Pipeline [1.0 puntos]"
      ]
    },
    {
      "cell_type": "markdown",
      "metadata": {
        "cell_id": "c532e63f2fd541cda5b741d2f24c1ea8",
        "deepnote_cell_height": 413.8666687011719,
        "deepnote_cell_type": "markdown",
        "tags": [],
        "id": "DylLbQ3AHhgX"
      },
      "source": [
        "Para comenzar introduciéndose en el uso de pipeline, decide probar realizando un pipeline enfocado en la reducción de dimensionalidad y así hacer no decepcionar a Mr. Lepin con la clusterización del modelo. \n",
        "\n",
        "Configure un pipeline utilizando el algoritmo `T-SNE` sobre los datos **LRMFP**, donde, para la realización del pipeline considera los siguientes pasos:\n",
        "\n",
        "1. Como primer paso obtenga las características **LRMFP** desde el DataFrame ``df_retail_II_cleaned.pickle`` utilizando la función ``custom_features`` creada anteriormente, junto a ``FunctionTransformer()``. Considere esto como el primer paso de su pipeline.\n",
        "2. En segundo lugar usando ``ColumnTransformer()`` aplique el MinxMax scaler creado por usted sobre todas las columnas generadas en el paso anterior. \n",
        "3. Finalmente, aplique un último paso donde obtiene las 2 componentes más relevantes utilizando el algoritmo `T-SNE` de sckit-learn.\n",
        "\n",
        "Tras aplicar las transformaciones sobre el dataset **LRMFP**, gráfique las componentes obtenidas en la reducción de dimensionalidad."
      ]
    },
    {
      "cell_type": "markdown",
      "metadata": {
        "cell_id": "a480355952a34b6cb7e72afa764091d6",
        "deepnote_cell_height": 52.26666259765625,
        "deepnote_cell_type": "markdown",
        "tags": [],
        "id": "Dc-g4-thHhgX"
      },
      "source": [
        "**Respuesta:**"
      ]
    },
    {
      "cell_type": "code",
      "execution_count": 109,
      "metadata": {
        "cell_id": "1889976b7a4c40c7825752979b577567",
        "deepnote_cell_height": 65.86666870117188,
        "deepnote_cell_type": "code",
        "tags": [],
        "id": "S0iFANjRHhgY"
      },
      "outputs": [],
      "source": [
        "nombre_columnas=['L','R','M','F','P']\n",
        "pipeline =  Pipeline(steps = [\n",
        "     ('lrmfp',FunctionTransformer(custom_features) ), #paso 1\n",
        "    ('transformacion',\n",
        "     ColumnTransformer([('min_max',MinMax(),nombre_columnas)])), #paso 2\n",
        "     ('tsne',TSNE(n_components = 2,random_state=1 ))\n",
        "\n",
        "])"
      ]
    },
    {
      "cell_type": "code",
      "source": [
        "salida=pipeline.fit_transform(df_retail)\n",
        "df_salida = pd.DataFrame(salida,columns=[\"COMP0\",\"COMP1\"])"
      ],
      "metadata": {
        "id": "sUW3eta1RypH"
      },
      "execution_count": 110,
      "outputs": []
    },
    {
      "cell_type": "code",
      "source": [
        "fig = px.scatter(df_salida, x=\"COMP0\",y=\"COMP1\",\n",
        "                 title=\"Proyección componente 1 vs componente 0\")\n",
        "fig"
      ],
      "metadata": {
        "colab": {
          "base_uri": "https://localhost:8080/",
          "height": 542
        },
        "id": "JIUaS_uVUjzh",
        "outputId": "1f056cd7-8a93-43f7-f0bd-9aec6578b77a"
      },
      "execution_count": 111,
      "outputs": [
        {
          "output_type": "display_data",
          "data": {
            "text/html": [
              "<html>\n",
              "<head><meta charset=\"utf-8\" /></head>\n",
              "<body>\n",
              "    <div>            <script src=\"https://cdnjs.cloudflare.com/ajax/libs/mathjax/2.7.5/MathJax.js?config=TeX-AMS-MML_SVG\"></script><script type=\"text/javascript\">if (window.MathJax && window.MathJax.Hub && window.MathJax.Hub.Config) {window.MathJax.Hub.Config({SVG: {font: \"STIX-Web\"}});}</script>                <script type=\"text/javascript\">window.PlotlyConfig = {MathJaxConfig: 'local'};</script>\n",
              "        <script charset=\"utf-8\" src=\"https://cdn.plot.ly/plotly-2.20.0.min.js\"></script>                <div id=\"948b4fc4-50ff-4382-a1e0-f847d03cbf83\" class=\"plotly-graph-div\" style=\"height:525px; width:100%;\"></div>            <script type=\"text/javascript\">                                    window.PLOTLYENV=window.PLOTLYENV || {};                                    if (document.getElementById(\"948b4fc4-50ff-4382-a1e0-f847d03cbf83\")) {                    Plotly.newPlot(                        \"948b4fc4-50ff-4382-a1e0-f847d03cbf83\",                        [{\"hovertemplate\":\"COMP0=%{x}<br>COMP1=%{y}<extra></extra>\",\"legendgroup\":\"\",\"marker\":{\"color\":\"#636efa\",\"symbol\":\"circle\"},\"mode\":\"markers\",\"name\":\"\",\"showlegend\":false,\"x\":[-6.334944725036621,-2.281705617904663,-78.07022857666016,8.829920768737793,25.797801971435547,0.03175116330385208,-24.77705955505371,-53.457420349121094,-6.314053058624268,8.574478149414062,39.56605529785156,37.42039489746094,34.05797576904297,5.665262699127197,-15.148505210876465,-19.872562408447266,-23.251192092895508,16.235210418701172,-24.310136795043945,17.020631790161133,-24.156295776367188,-0.03792339563369751,-6.488461971282959,14.150561332702637,-51.24875259399414,-11.289995193481445,1.7645885944366455,26.599353790283203,17.55984115600586,-33.1210823059082,-9.006753921508789,22.713546752929688,1.9169927835464478,-49.03593444824219,-7.977288722991943,20.27381134033203,4.808261394500732,32.24489212036133,-32.352447509765625,35.183563232421875,-38.215293884277344,9.632172584533691,39.04138946533203,-6.761079788208008,-6.835427284240723,-40.72990417480469,-26.28130531311035,-4.115772247314453,-16.589513778686523,-58.86604690551758,1.0706380605697632,-6.560792446136475,40.78913116455078,14.885351181030273,-5.3770551681518555,-12.409567832946777,49.310184478759766,-12.850129127502441,-8.341266632080078,-66.34181213378906,-3.2274112701416016,21.057579040527344,7.49547004699707,47.2122802734375,-6.0251641273498535,23.057212829589844,43.575904846191406,55.44485855102539,-19.55685806274414,7.406939506530762,17.613065719604492,-9.030365943908691,-39.43665313720703,-10.515759468078613,-15.21756362915039,-22.267953872680664,-6.901680946350098,14.556510925292969,-77.85958862304688,-18.23471450805664,-41.88042449951172,-61.41257858276367,9.6361083984375,-43.4619255065918,-12.557441711425781,-34.08370590209961,12.938061714172363,70.52386474609375,61.50138473510742,38.42119598388672,-26.299150466918945,-7.977475643157959,18.292253494262695,-7.834468841552734,23.32378578186035,-23.943010330200195,41.421260833740234,1.2853275537490845,-38.658897399902344,-55.72427749633789,-7.032295227050781,58.61027145385742,-17.875843048095703,13.47179126739502,-15.822794914245605,-30.53665542602539,22.08445930480957,-50.73480987548828,12.004716873168945,-53.46065902709961,3.0529351234436035,-25.209821701049805,-53.33448791503906,13.722793579101562,-51.75638198852539,-15.244010925292969,0.2733585238456726,-53.023799896240234,58.36710739135742,35.318355560302734,-9.555574417114258,-26.954252243041992,-38.20265579223633,17.00154685974121,11.777314186096191,-19.001914978027344,-25.072355270385742,25.9764404296875,13.980879783630371,60.685630798339844,-8.962574005126953,-66.3377685546875,-41.127071380615234,-17.346580505371094,-6.791902542114258,-66.37679290771484,9.799111366271973,35.63864517211914,-8.653844833374023,-24.729799270629883,41.52167510986328,-13.618069648742676,9.633728981018066,-10.266870498657227,-21.496627807617188,-4.342820167541504,42.63450622558594,-10.29588794708252,-55.46598815917969,-3.843099594116211,60.699974060058594,39.06706619262695,8.38899040222168,27.17757225036621,-4.845025539398193,-37.78904724121094,32.309566497802734,-40.248802185058594,0.051177941262722015,13.37506103515625,52.114952087402344,-18.67841339111328,-10.181090354919434,9.627744674682617,-18.72787094116211,50.145835876464844,47.43325424194336,16.012052536010742,11.145711898803711,-50.75040817260742,45.862030029296875,27.936145782470703,-20.1881046295166,-6.802674770355225,9.837467193603516,-28.077571868896484,-0.5237413048744202,-34.34608459472656,-11.026054382324219,-15.146027565002441,4.046609401702881,-16.291120529174805,6.239581108093262,17.884984970092773,23.788959503173828,26.96127700805664,50.24726104736328,23.7999267578125,41.843963623046875,-11.999813079833984,-78.06880950927734,-38.612144470214844,-43.621952056884766,-7.6980695724487305,-78.19542694091797,26.199907302856445,-24.129892349243164,18.076112747192383,23.283151626586914,-1.072097897529602,41.907047271728516,25.95684814453125,-41.64445114135742,-46.22775650024414,-15.640146255493164,-30.58063316345215,-15.706685066223145,-18.031749725341797,47.560882568359375,66.52474975585938,67.40267181396484,60.953895568847656,21.024599075317383,-50.96515655517578,-39.267974853515625,-17.247478485107422,-5.583164691925049,-40.79981994628906,-14.21175765991211,-17.56390380859375,-49.61050796508789,-34.63298034667969,-18.218168258666992,-23.752124786376953,0.8355994820594788,59.81285095214844,65.85224914550781,-24.099456787109375,62.721473693847656,52.06660461425781,-49.365055084228516,-2.123830795288086,-12.196819305419922,2.4999992847442627,16.210514068603516,20.594900131225586,6.552839756011963,21.00058937072754,-38.21133041381836,3.5997843742370605,38.662288665771484,0.09564019739627838,-41.57606887817383,21.90810775756836,2.4407873153686523,-36.90674591064453,-25.633432388305664,-8.369897842407227,-4.907520294189453,-42.1875,64.55712127685547,72.7552719116211,-6.622438430786133,-71.401611328125,46.24502182006836,13.977431297302246,51.241600036621094,-61.95732498168945,-60.391605377197266,19.069934844970703,-4.837160110473633,-2.6694257259368896,25.998044967651367,-65.10647583007812,-61.249786376953125,-48.32459259033203,-52.289249420166016,-40.45554733276367,-4.227789402008057,0.011764097958803177,-60.988460540771484,14.083639144897461,53.355804443359375,-44.848876953125,-0.6189627051353455,-38.7327880859375,-7.127408981323242,-40.564292907714844,-31.384483337402344,-22.234600067138672,18.644929885864258,-27.36876678466797,24.790569305419922,-40.2078971862793,-1.6374619007110596,-23.2996826171875,-11.299613952636719,-41.074790954589844,-38.342411041259766,3.1215052604675293,-41.06466293334961,-10.055270195007324,0.6366329193115234,-25.46640396118164,37.810001373291016,-4.8949503898620605,20.9173583984375,-11.384879112243652,-24.252220153808594,-13.053556442260742,-8.188483238220215,-6.1776604652404785,-8.863831520080566,-60.64497375488281,45.707000732421875,-39.85165023803711,36.43992614746094,-14.305010795593262,44.42826843261719,-45.68073654174805,-58.751190185546875,39.533775329589844,52.86087417602539,-54.01252365112305,19.50335121154785,64.31404113769531,11.897162437438965,2.0616044998168945,26.684003829956055,57.06755447387695,-6.9789557456970215,9.62721061706543,12.268699645996094,5.3703932762146,15.385150909423828,-70.5434799194336,-52.44795608520508,20.15846061706543,-11.522382736206055,-1.1685006618499756,12.680560111999512,21.05413818359375,-60.64380645751953,13.911274909973145,-31.221912384033203,-17.706518173217773,14.568235397338867,-39.46017074584961,-10.440794944763184,-26.33039665222168,47.923030853271484,0.05874656140804291,9.110392570495605,23.61163330078125,-77.899658203125,64.62211608886719,26.425077438354492,4.945268154144287,4.969174861907959,11.588008880615234,35.86295700073242,8.381905555725098,21.009675979614258,-5.274803638458252,12.605304718017578,4.41166353225708,-4.042046070098877,-55.08323287963867,3.0486629009246826,3.0250084400177,-31.434635162353516,-42.11566162109375,-52.12446594238281,-19.336246490478516,-11.593469619750977,26.957948684692383,16.029176712036133,22.260557174682617,-45.355613708496094,45.80982971191406,-14.512163162231445,15.681690216064453,12.00622272491455,38.292789459228516,-23.360280990600586,-12.248071670532227,69.62076568603516,7.401570796966553,43.376258850097656,-48.278865814208984,39.38187789916992,-1.0120701789855957,5.384637355804443,69.56109619140625,-16.72991180419922,46.43430709838867,-13.610947608947754,20.61163902282715,13.265303611755371,47.01011276245117,-0.24310792982578278,17.256839752197266,-28.314809799194336,-6.564460754394531,-77.96047973632812,23.075105667114258,-4.080068111419678,58.93306350708008,43.69163513183594,-38.17790222167969,-16.72385597229004,-19.45831871032715,-10.199053764343262,7.347097396850586,-48.77775573730469,21.4736328125,25.37095069885254,3.144503355026245,-78.17350006103516,2.7299249172210693,-42.96745300292969,43.77791976928711,69.24893951416016,21.593610763549805,-31.40057945251465,-52.692893981933594,33.58417510986328,38.3129997253418,-39.35669708251953,46.23191833496094,-6.193648815155029,54.26609802246094,15.994080543518066,-44.85657501220703,25.498279571533203,24.42243003845215,38.24370574951172,7.229496479034424,9.893106460571289,-0.9098686575889587,5.86012077331543,25.920072555541992,15.39173698425293,-8.773595809936523,-0.9945840239524841,53.750431060791016,-10.964780807495117,54.8967399597168,-24.832679748535156,-54.81422805786133,28.84705924987793,3.634671449661255,24.414873123168945,21.871618270874023,-3.242440938949585,62.171634674072266,-56.68994903564453,-2.7390830516815186,18.489667892456055,42.48679733276367,-19.368358612060547,53.148956298828125,-53.36079788208008,-38.61072540283203,-13.438501358032227,-7.944475173950195,8.988252639770508,42.51765441894531,2.943605899810791,18.43911361694336,-0.5843202471733093,-11.113000869750977,-53.370635986328125,-1.885815978050232,-55.98607635498047,10.74095630645752,48.374332427978516,-15.948356628417969,-8.441926956176758,-17.15388298034668,-1.719478964805603,-13.352593421936035,-61.413944244384766,60.4207649230957,12.382226943969727,-4.382215976715088,64.04071044921875,-26.650110244750977,17.64794158935547,-29.67133140563965,-52.80062484741211,-46.089290618896484,-18.52583885192871,11.45677375793457,-50.95968246459961,-28.83876609802246,6.318081378936768,-10.600034713745117,6.3612236976623535,28.20670509338379,-39.694828033447266,-10.35567569732666,-4.886237621307373,-61.053916931152344,61.444305419921875,68.73960876464844,-34.75716018676758,9.365185737609863,65.64768981933594,35.61162185668945,-45.546852111816406,-45.73078155517578,-19.62891387939453,21.891889572143555,-1.7220202684402466,-34.7552375793457,72.29281616210938,-3.8487191200256348,-6.37597131729126,24.018604278564453,69.9576187133789,1.0354218482971191,-1.0233898162841797,56.45832824707031,-6.563974380493164,20.007831573486328,-8.594307899475098,20.15104866027832,-78.2852554321289,-31.307682037353516,24.780780792236328,-11.217020034790039,-45.89729690551758,34.541412353515625,2.118845224380493,-42.139801025390625,28.47052764892578,-6.941133499145508,19.2882022857666,28.663969039916992,-9.233192443847656,0.5256649255752563,-23.325288772583008,15.033547401428223,-38.140281677246094,34.86669158935547,-20.869173049926758,-20.364572525024414,21.357147216796875,-60.21220397949219,-7.813823223114014,-45.729251861572266,52.12647247314453,-6.403924465179443,-0.445601224899292,-76.0005874633789,-3.5599112510681152,53.7043571472168,-53.316410064697266,-56.23480224609375,16.166053771972656,53.49129104614258,-3.685354709625244,-25.95805549621582,27.672073364257812,38.72190475463867,-3.7305502891540527,38.47740936279297,18.258285522460938,11.261798858642578,-41.10396957397461,57.825435638427734,-40.0458869934082,-20.329843521118164,-31.367938995361328,-31.93916130065918,8.838695526123047,-42.6619987487793,-51.60790252685547,-14.467345237731934,61.72060775756836,63.68893051147461,-13.475580215454102,-54.57624053955078,48.34319305419922,-31.677932739257812,-41.080162048339844,22.876686096191406,21.002965927124023,-26.776992797851562,-9.631171226501465,-5.433187484741211,-12.967263221740723,-40.5001106262207,-32.394168853759766,-0.6089739203453064,-40.51200485229492,-8.02588939666748,68.69088745117188,-10.634929656982422,45.296138763427734,47.288944244384766,-8.052275657653809,-72.78783416748047,49.10960006713867,19.600309371948242,31.248144149780273,-8.594550132751465,51.897701263427734,9.318253517150879,17.249114990234375,-16.496305465698242,-7.124232769012451,-31.91396713256836,-55.36750411987305,-54.94779586791992,20.611526489257812,36.783653259277344,0.8871001601219177,29.188098907470703,26.527175903320312,-19.749881744384766,12.350275039672852,1.0655473470687866,-18.51108741760254,35.74529266357422,-27.941028594970703,5.94893741607666,-0.26073744893074036,-57.15517044067383,-1.4257314205169678,26.06824493408203,-24.589445114135742,-16.597463607788086,19.832124710083008,27.38681411743164,26.391191482543945,0.0008351205033250153,-78.20994567871094,-2.066370964050293,40.848751068115234,9.586601257324219,-5.630773544311523,-73.07271575927734,38.91730499267578,65.89112854003906,65.40176391601562,17.546396255493164,-26.230985641479492,24.12179183959961,21.376352310180664,4.227749347686768,14.625191688537598,32.691165924072266,-77.90299987792969,-22.79252052307129,-25.288280487060547,-26.060937881469727,-43.87684631347656,-21.074722290039062,5.6972856521606445,0.38297057151794434,-78.08240509033203,21.81657600402832,-11.035992622375488,35.00944900512695,-12.388195991516113,13.254339218139648,-4.697420597076416,2.8527209758758545,-11.334001541137695,7.542316436767578,-38.136775970458984,-14.464784622192383,4.957712173461914,32.554378509521484,-54.656517028808594,-13.365471839904785,-45.672855377197266,2.0991451740264893,-1.8854879140853882,-64.54618072509766,11.086420059204102,12.848017692565918,21.860698699951172,53.754600524902344,69.19183349609375,-23.371089935302734,-8.038054466247559,-57.60687255859375,62.53324508666992,46.877532958984375,4.204514026641846,-15.489360809326172,21.890684127807617,-17.509809494018555,-44.06930923461914,-12.327759742736816,19.19809913635254,-8.74495792388916,-11.123873710632324,-17.925020217895508,23.8679256439209,-9.52458667755127,-6.109437942504883,-26.54728126525879,-55.948490142822266,-10.770383834838867,17.256210327148438,21.113826751708984,-15.885087013244629,38.8090705871582,-10.753710746765137,-71.61194610595703,23.13253402709961,-57.68903732299805,53.44306564331055,33.87232971191406,-42.93394470214844,-7.345855236053467,-10.675137519836426,-34.76027297973633,-42.55078125,6.465562343597412,-15.583306312561035,58.37754440307617,-7.623995304107666,12.84199333190918,-66.4153823852539,-22.917768478393555,-53.963653564453125,13.000417709350586,24.651386260986328,6.60334587097168,20.68463706970215,-23.806690216064453,70.24181365966797,31.64413070678711,-30.42730712890625,-23.509319305419922,-8.810088157653809,10.755213737487793,-13.604348182678223,-16.919933319091797,61.80018997192383,24.099199295043945,-52.40946578979492,-65.73270416259766,-20.888662338256836,54.76737594604492,7.1330108642578125,-38.64809799194336,23.241878509521484,-29.101078033447266,-5.688999652862549,25.712614059448242,-4.267967700958252,-44.45372772216797,-3.7860140800476074,-24.369646072387695,-55.996246337890625,-19.782508850097656,9.870560646057129,-3.705796241760254,-24.847978591918945,11.960835456848145,58.94188690185547,20.126338958740234,26.829544067382812,-54.884971618652344,-16.746023178100586,-15.273222923278809,47.556297302246094,-19.0910587310791,2.70637845993042,-23.96026039123535,7.97477388381958,35.928253173828125,16.6668758392334,-8.597359657287598,14.74769115447998,69.76543426513672,-8.049981117248535,-19.082090377807617,-15.289665222167969,-23.071382522583008,17.357324600219727,9.318883895874023,2.315861940383911,-25.608407974243164,22.69985580444336,49.44818115234375,-24.089628219604492,25.14179039001465,53.0426025390625,5.276890277862549,46.44036865234375,-7.5852789878845215,63.34852981567383,46.861289978027344,41.073577880859375,-7.042987823486328,-15.520401000976562,-20.061077117919922,-0.18165843188762665,-3.814227819442749,-9.805745124816895,-14.76596450805664,-39.612186431884766,52.131309509277344,5.8295135498046875,8.682428359985352,5.664074897766113,21.329774856567383,4.348887920379639,-34.73709487915039,-72.9251480102539,50.34746170043945,-2.094470262527466,-14.885841369628906,26.742870330810547,-19.404775619506836,45.831600189208984,-0.7682998776435852,-16.50045394897461,-24.660602569580078,35.58144760131836,-1.9176679849624634,2.519118547439575,1.0273205041885376,61.177852630615234,-23.655364990234375,18.308517456054688,1.873616337776184,-6.919146537780762,-24.675891876220703,-55.2443962097168,12.870771408081055,20.907970428466797,-0.6072268486022949,11.77472972869873,4.80406379699707,-8.867916107177734,44.26617431640625,-49.08163833618164,39.460113525390625,-28.517799377441406,28.5770206451416,37.89026641845703,69.24943542480469,-27.985034942626953,3.862983465194702,-10.267189025878906,-8.043242454528809,54.92976379394531,32.376068115234375,-28.344085693359375,58.78943634033203,46.65149688720703,-25.86501693725586,36.8482666015625,-22.75688362121582,-32.38312911987305,21.929471969604492,7.8388991355896,-6.8185954093933105,-6.062693119049072,-42.57229232788086,5.233219623565674,30.67587661743164,60.37582015991211,31.64354133605957,28.93276023864746,-48.32167053222656,-15.958431243896484,-12.924728393554688,-9.058453559875488,65.4234390258789,-19.40398406982422,1.8648180961608887,5.925650119781494,-5.439593315124512,7.476813793182373,-16.733919143676758,-41.9330940246582,-47.790069580078125,43.96018600463867,53.62751388549805,-20.318002700805664,5.174605369567871,2.097822666168213,34.501834869384766,-17.655136108398438,-14.886146545410156,-15.217599868774414,-38.143821716308594,14.494359970092773,52.832271575927734,11.12551212310791,-45.67439651489258,25.7409725189209,-9.249510765075684,5.829164028167725,22.58055305480957,15.167973518371582,47.47908020019531,31.70912742614746,-77.97174835205078,-39.994422912597656,-19.826478958129883,-56.98949432373047,47.08975601196289,-13.246912002563477,-16.93119239807129,45.25279235839844,3.7738754749298096,41.46712875366211,23.442157745361328,36.33846664428711,-47.4766960144043,52.59575653076172,15.550324440002441,-18.581912994384766,38.66397476196289,21.10783576965332,-14.540271759033203,-42.554378509521484,33.992435455322266,32.8586540222168,-6.552427768707275,24.940786361694336,54.486717224121094,-23.571292877197266,-1.0112090110778809,-6.94065523147583,-57.4254035949707,-20.444467544555664,-7.100644588470459,8.708635330200195,11.821521759033203,-61.02654266357422,19.27376937866211,-1.74920654296875,-75.58064270019531,-18.829971313476562,-71.45711517333984,-4.034818649291992,-9.435698509216309,52.18939208984375,71.66072082519531,-54.96540069580078,21.04716682434082,-22.510929107666016,-45.345706939697266,21.700546264648438,-69.68843841552734,-70.50480651855469,-32.963478088378906,23.9317569732666,-24.849754333496094,-10.925149917602539,12.425985336303711,20.425275802612305,37.90835952758789,-40.33694839477539,8.577913284301758,-57.98470687866211,29.599876403808594,-25.55377960205078,8.432830810546875,-2.7679734230041504,16.684133529663086,15.449950218200684,-17.24885368347168,-18.842803955078125,49.38193893432617,21.139083862304688,30.309228897094727,-18.823915481567383,55.67429733276367,37.618804931640625,-4.082449436187744,-38.033023834228516,37.0460090637207,-44.13703918457031,-31.58566665649414,-14.832623481750488,33.491905212402344,21.324626922607422,-38.40500259399414,-16.48008918762207,-78.13860321044922,60.44523620605469,4.799195289611816,64.45475006103516,8.592967987060547,-9.279282569885254,-21.040380477905273,-11.065435409545898,-24.551849365234375,-8.054584503173828,-44.22529220581055,69.69197845458984,-1.4930636882781982,60.092674255371094,34.008583068847656,-17.134286880493164,28.50901985168457,24.907651901245117,-49.74281692504883,-52.94065856933594,69.23283386230469,-20.76763916015625,-38.669437408447266,-23.748397827148438,-16.12518882751465,14.25743579864502,-4.759716033935547,-26.0192928314209,-24.07300567626953,47.65495681762695,10.26848316192627,-39.999603271484375,11.321537017822266,-42.133811950683594,-12.473007202148438,-44.15110397338867,23.651906967163086,-41.52199935913086,6.768890857696533,70.45611572265625,3.2200822830200195,29.14177703857422,38.14216995239258,5.476588726043701,-76.44042205810547,34.11294174194336,-13.982401847839355,-5.551850318908691,-38.489959716796875,24.554706573486328,-53.36276626586914,-19.771751403808594,27.44253921508789,40.14242935180664,47.1910514831543,26.491636276245117,-18.527225494384766,-40.25794219970703,-54.214508056640625,58.84089660644531,-42.09429931640625,-18.708999633789062,-21.300437927246094,-13.945430755615234,-7.086109161376953,17.15323829650879,-47.878108978271484,-33.87959671020508,41.24949264526367,23.011381149291992,-13.958161354064941,1.986656665802002,47.055267333984375,16.84978485107422,40.4266357421875,-40.056800842285156,48.715797424316406,-3.4229848384857178,-5.897959232330322,8.40944766998291,-38.422367095947266,-12.570951461791992,9.871886253356934,-8.579758644104004,13.965849876403809,43.74404525756836,35.130924224853516,33.480594635009766,-6.074138164520264,32.61665344238281,-8.630017280578613,49.14252853393555,5.285073757171631,-28.00919532775879,-13.021989822387695,13.997518539428711,30.771879196166992,43.89097213745117,-9.809258460998535,8.257583618164062,40.74764633178711,42.0309944152832,14.660931587219238,-13.269343376159668,-4.725621700286865,-25.697778701782227,7.288067817687988,-28.44609832763672,19.67086410522461,47.71955108642578,-20.748746871948242,-14.491520881652832,-9.017425537109375,-25.78369903564453,13.470610618591309,-11.914475440979004,32.97169876098633,-43.45840835571289,-39.78324508666992,-1.0100677013397217,3.449748992919922,-11.041342735290527,-8.764473915100098,36.131309509277344,-24.328079223632812,-77.90374755859375,28.395566940307617,48.30084991455078,-25.276948928833008,-5.546360492706299,-16.878934860229492,0.4140014350414276,46.17580795288086,-40.20037841796875,-54.96413040161133,-8.051448822021484,-12.719895362854004,36.06553649902344,30.584144592285156,54.5552864074707,37.898902893066406,25.546703338623047,20.758724212646484,53.231689453125,-7.384737968444824,2.015136957168579,-78.25725555419922,20.83146858215332,-8.338277816772461,6.224486827850342,-78.12364196777344,-4.021976947784424,-43.45668029785156,28.754892349243164,-9.897111892700195,25.429157257080078,-53.96259689331055,34.56401062011719,-8.845459938049316,-28.43873405456543,49.22318649291992,7.326998233795166,-32.9572868347168,45.79172897338867,62.491943359375,47.97748565673828,40.39961624145508,-1.358035683631897,23.500761032104492,-18.379568099975586,-10.415600776672363,56.28205871582031,52.63324737548828,-3.7402236461639404,-28.69539451599121,-9.42344856262207,62.899986267089844,35.77015686035156,-5.001945495605469,-9.000847816467285,-8.740724563598633,-16.631853103637695,-38.983646392822266,-57.1827507019043,-59.0521125793457,-52.52030944824219,-11.615699768066406,24.142858505249023,9.105840682983398,41.3033332824707,-54.409542083740234,-13.022417068481445,-23.790565490722656,16.52616310119629,-47.87910842895508,8.855415344238281,-16.927322387695312,-8.644537925720215,-44.09043502807617,64.23287200927734,67.72350311279297,45.67100143432617,-47.57371520996094,11.176650047302246,10.359240531921387,25.858699798583984,-55.07075119018555,57.54035568237305,-0.9913449883460999,6.8465399742126465,26.67083740234375,46.82963943481445,42.60849380493164,20.910541534423828,22.007610321044922,65.5755615234375,9.002466201782227,-10.426886558532715,-12.454626083374023,52.47349166870117,-21.503795623779297,32.94350051879883,5.565639972686768,59.96236038208008,29.933029174804688,25.42534065246582,-8.195821762084961,-23.2355899810791,-27.860132217407227,10.741552352905273,-0.6016727089881897,-27.29309844970703,-4.022913932800293,-2.7461252212524414,23.815998077392578,9.803030967712402,36.83908462524414,61.32020950317383,2.1080336570739746,40.59153747558594,-38.98141098022461,64.3906478881836,-59.04841995239258,38.10224151611328,-8.83287525177002,-21.144168853759766,55.43062210083008,-77.91322326660156,0.9693123698234558,-8.57229232788086,57.56288146972656,19.616291046142578,-1.2760626077651978,6.773397922515869,39.58506393432617,-14.332182884216309,14.61915397644043,-4.156534671783447,39.063026428222656,3.228804111480713,55.41091537475586,14.866339683532715,-6.384696006774902,-52.294620513916016,26.07904815673828,26.625404357910156,-9.860855102539062,-71.48222351074219,-6.427178382873535,-45.9576301574707,8.629140853881836,43.198699951171875,-11.467557907104492,-9.85113525390625,55.82267761230469,64.4428939819336,44.10776138305664,14.320656776428223,-24.86551856994629,26.263042449951172,-47.87710189819336,-7.31325101852417,44.06837844848633,23.877208709716797,-32.092105865478516,-19.806934356689453,34.11920166015625,-49.2436637878418,44.294471740722656,71.44686126708984,24.55874252319336,58.00156021118164,-21.652664184570312,52.759483337402344,-59.04942321777344,-16.17217254638672,3.3192028999328613,0.3270629346370697,-26.143280029296875,-0.3726755678653717,-6.904541492462158,-25.466306686401367,-18.240556716918945,11.382555961608887,2.3093507289886475,33.03327941894531,6.260213375091553,-3.2488484382629395,-5.146325588226318,-16.029211044311523,10.155451774597168,-54.42957305908203,0.4543217122554779,-0.6097495555877686,24.645666122436523,11.26968765258789,-4.064267635345459,43.549896240234375,4.408542633056641,-27.518095016479492,39.18886184692383,-12.368300437927246,-32.30995559692383,5.511322498321533,23.67962074279785,-4.8887248039245605,37.957672119140625,21.937299728393555,-4.148748397827148,12.251626014709473,-45.86074447631836,41.80861282348633,47.951786041259766,39.94707107543945,-70.69113159179688,-18.97299575805664,44.38872146606445,-32.08763885498047,3.787421464920044,-14.436165809631348,-53.13678741455078,-4.689091682434082,1.3768242597579956,25.615520477294922,-73.54866027832031,24.371150970458984,-11.471176147460938,-15.791559219360352,-12.192087173461914,-65.10072326660156,-0.14356641471385956,-16.29985237121582,-3.20875883102417,9.977076530456543,-18.783161163330078,36.680397033691406,-43.72509002685547,14.48461627960205,-5.815155982971191,-4.280681610107422,-0.17154070734977722,-22.76751136779785,27.183908462524414,22.88642692565918,-11.735084533691406,-57.134315490722656,-44.11479187011719,-5.375694751739502,32.32209396362305,53.809532165527344,-20.96074676513672,-43.69645309448242,20.45067596435547,-8.941781044006348,-52.46651840209961,-55.616676330566406,-77.91732025146484,-25.838119506835938,-30.758241653442383,11.808562278747559,14.442994117736816,22.414220809936523,39.647369384765625,-25.889747619628906,18.707889556884766,-24.727304458618164,41.248313903808594,-17.961091995239258,-8.06948471069336,-4.622430801391602,43.693729400634766,35.11231994628906,55.311885833740234,16.1694393157959,38.59807205200195,-23.750017166137695,31.981595993041992,-0.2028276026248932,69.52168273925781,66.929443359375,21.728256225585938,29.289194107055664,-10.015222549438477,12.098188400268555,26.710859298706055,49.683292388916016,-44.587928771972656,-4.702731609344482,-57.1845588684082,-53.46376037597656,-3.6029446125030518,-54.651790618896484,-25.063642501831055,8.718274116516113,-59.76911163330078,-44.76421356201172,-14.11744213104248,-23.425939559936523,21.287776947021484,26.766706466674805,-54.03500747680664,-21.80916976928711,42.064842224121094,-77.83720397949219,55.399139404296875,-27.29374885559082,-5.874118328094482,-7.127290725708008,-40.679443359375,-52.37204360961914,38.952537536621094,-23.313676834106445,26.635204315185547,28.797889709472656,-17.432161331176758,-13.729331016540527,-8.181563377380371,-10.096741676330566,32.967674255371094,-7.807778358459473,-55.118072509765625,-14.283607482910156,27.308181762695312,-38.17873764038086,-22.927352905273438,9.171343803405762,-6.789961814880371,-42.153770446777344,-19.08155059814453,10.30763053894043,-29.671491622924805,-12.46978759765625,9.63061809539795,-64.54594421386719,8.749334335327148,-41.38132095336914,46.024044036865234,-1.7630513906478882,-7.023392677307129,-54.99388885498047,-57.62299728393555,-52.32086944580078,20.78822135925293,53.70210647583008,-5.651149749755859,34.43461608886719,19.544775009155273,36.69455337524414,-8.529008865356445,-26.3655948638916,50.530704498291016,14.240126609802246,8.533945083618164,14.022797584533691,-9.13908863067627,-44.84629440307617,25.85784149169922,24.93206214904785,54.04472351074219,12.432826042175293,21.935977935791016,38.904911041259766,-8.106138229370117,56.316368103027344,23.25767707824707,29.098066329956055,20.12896156311035,-11.187780380249023,-17.895235061645508,-18.74640464782715,41.06096267700195,-57.98467254638672,-40.96369171142578,-46.80384826660156,16.709386825561523,12.179930686950684,48.69718933105469,45.04126739501953,28.3427791595459,3.2900869846343994,-61.57912826538086,-61.965476989746094,14.244196891784668,-14.622147560119629,-8.320244789123535,23.150096893310547,42.07002639770508,-5.535491466522217,49.29719924926758,-18.47810935974121,24.433242797851562,-9.181806564331055,35.11936569213867,43.84617614746094,-57.34782409667969,-41.54536437988281,-26.144594192504883,26.606260299682617,51.233272552490234,50.538658142089844,-9.848913192749023,25.336538314819336,-54.541412353515625,-15.52468204498291,12.867645263671875,-54.82014846801758,-24.71384048461914,23.429128646850586,42.311729431152344,44.894901275634766,34.435516357421875,28.92318344116211,-9.848713874816895,-13.672094345092773,34.59211730957031,-27.906593322753906,3.2507548332214355,-0.42537960410118103,-9.040397644042969,21.896055221557617,2.564573287963867,27.917001724243164,25.81331443786621,-4.816075801849365,24.982845306396484,4.238125324249268,-0.12648576498031616,-9.600112915039062,48.170413970947266,20.084917068481445,48.51425552368164,4.282166957855225,-40.23672103881836,-9.666642189025879,42.22001647949219,1.0218600034713745,34.96358108520508,3.7769935131073,-38.553680419921875,-19.502696990966797,-45.729957580566406,-22.29769515991211,-10.000288009643555,36.285186767578125,9.893821716308594,71.59918212890625,36.05841827392578,-51.48833084106445,35.43476486206055,8.362269401550293,19.834491729736328,28.864166259765625,-27.290658950805664,-12.321402549743652,52.77735137939453,28.94786834716797,63.25954818725586,-55.62862014770508,4.802577495574951,57.438987731933594,10.178415298461914,36.113243103027344,-11.431469917297363,28.335905075073242,14.77674388885498,-14.416040420532227,46.15245056152344,-22.124711990356445,-19.845571517944336,9.054183959960938,63.06861877441406,34.57719421386719,-20.400598526000977,32.775569915771484,-54.424949645996094,-11.114470481872559,-77.63286590576172,-7.183905124664307,-72.2754898071289,-45.552650451660156,11.025077819824219,45.7425537109375,-8.860650062561035,-47.006385803222656,21.867168426513672,35.32512664794922,-57.6384391784668,-38.39179611206055,-43.28348159790039,21.574787139892578,18.966428756713867,-5.018610000610352,-54.907188415527344,21.016475677490234,39.26872253417969,48.43039321899414,23.064476013183594,6.440359115600586,-24.84858512878418,-9.600411415100098,-54.04005813598633,-6.149613380432129,0.757881760597229,-6.560821056365967,-19.927595138549805,43.61808776855469,72.33232879638672,11.587718963623047,35.96262741088867,25.986927032470703,-0.7193862795829773,-6.847986698150635,-32.69135665893555,8.598875999450684,14.167901039123535,1.2838926315307617,2.0061800479888916,-7.725399017333984,5.229916572570801,-42.691070556640625,-8.307143211364746,19.35232162475586,7.485714435577393,55.15628433227539,45.881248474121094,25.751346588134766,11.772465705871582,-48.78129577636719,-10.571939468383789,-11.154654502868652,-63.03904724121094,6.4653000831604,22.477148056030273,28.88627815246582,-18.31597900390625,34.013980865478516,-19.403772354125977,71.3023910522461,-38.14119338989258,39.65622329711914,43.081024169921875,-49.96416473388672,19.89029884338379,-3.6342597007751465,-15.020367622375488,14.43262004852295,9.442451477050781,-49.08560562133789,34.37235641479492,-55.66021728515625,0.16202719509601593,68.66551971435547,-70.50015258789062,-19.92623519897461,-8.863901138305664,-31.17474365234375,-8.960630416870117,-2.873262405395508,-39.320133209228516,11.144830703735352,21.507083892822266,-48.525638580322266,-54.81566619873047,39.25532913208008,69.95185089111328,24.291671752929688,19.882749557495117,-50.40607452392578,9.011054992675781,-15.52802848815918,21.062728881835938,0.32881683111190796,-9.62500286102295,-5.36527681350708,23.803770065307617,-14.663065910339355,-32.41130447387695,-5.105149745941162,-6.851840972900391,-16.353464126586914,-16.51570701599121,11.897415161132812,64.292236328125,7.35094690322876,-31.692745208740234,-8.379467010498047,-11.465557098388672,57.8916130065918,57.42145919799805,-35.310550689697266,64.62134552001953,29.597423553466797,12.384062767028809,-71.37474822998047,-9.849903106689453,-27.308542251586914,25.23571014404297,-53.32719802856445,53.77074432373047,-49.61069107055664,-1.376878023147583,-7.588048934936523,-43.8122673034668,-31.580482482910156,23.87903594970703,48.113075256347656,-2.0388247966766357,-8.995071411132812,57.03187561035156,-48.3398551940918,-15.266417503356934,-11.051859855651855,66.57756042480469,20.371339797973633,-6.7191548347473145,-77.91680908203125,-48.28179931640625,15.552217483520508,-10.910730361938477,-8.786126136779785,34.34745788574219,-51.488094329833984,-13.716958045959473,-19.10867691040039,-59.77089309692383,26.40959358215332,58.344078063964844,-6.670185089111328,15.00027084350586,-71.3588638305664,-24.887521743774414,7.470921516418457,-53.94464111328125,49.30646514892578,-3.0438687801361084,-18.39487075805664,-48.30256652832031,-38.192752838134766,22.09680938720703,-10.405327796936035,-17.83123779296875,-4.817627429962158,9.928991317749023,-45.681915283203125,-55.24626541137695,-45.68985366821289,49.275962829589844,-41.47706985473633,-40.463531494140625,-14.177919387817383,61.030696868896484,-39.60881423950195,32.99504852294922,-14.334352493286133,-8.27512264251709,-76.69214630126953,15.07386589050293,-77.9640121459961,24.976608276367188,-29.959383010864258,-8.535572052001953,12.788535118103027,-44.841209411621094,22.979598999023438,-54.21452331542969,19.451236724853516,0.3842868208885193,6.643442630767822,40.14454650878906,41.62465286254883,-48.32197570800781,26.511621475219727,26.687252044677734,-19.739282608032227,-1.2760626077651978,48.828372955322266,-9.36838436126709,-19.612367630004883,-21.530115127563477,-41.90003967285156,-23.79810905456543,-19.68620491027832,12.04747486114502,33.983577728271484,29.62102699279785,-41.749263763427734,53.94561767578125,-78.13130187988281,-1.4846752882003784,-44.381900787353516,-51.65911865234375,-2.886406421661377,-18.70801544189453,49.80218505859375,-5.200162410736084,-21.530176162719727,11.148293495178223,2.3535399436950684,38.354496002197266,-7.570960521697998,2.507836103439331,-39.995880126953125,-47.21781921386719,46.51655578613281,24.426025390625,-6.649025917053223,47.258216857910156,-5.868069648742676,46.65516662597656,28.247201919555664,9.610021591186523,-8.442397117614746,-19.8974609375,-40.45549011230469,-73.6518325805664,-28.11039161682129,15.232327461242676,37.564517974853516,10.735267639160156,18.697996139526367,1.1178162097930908,-23.356945037841797,-24.71657943725586,-10.933664321899414,13.233055114746094,-32.268611907958984,28.218204498291016,56.31319046020508,63.2284049987793,37.165443420410156,62.18051528930664,-3.101431131362915,-38.1805419921875,-2.8722927570343018,2.068723201751709,-9.339314460754395,47.83700942993164,-70.49728393554688,21.56609535217285,-58.59785461425781,9.315763473510742,72.7997055053711,25.924806594848633,-9.723333358764648,52.504798889160156,5.388990879058838,-45.97905349731445,11.544533729553223,-41.74882888793945,-52.643218994140625,-6.567200183868408,-25.551584243774414,23.582021713256836,-4.051580905914307,-24.087434768676758,-40.614646911621094,-7.666706085205078,0.6338289380073547,-72.91971588134766,-9.87210464477539,-31.05281639099121,10.092538833618164,-50.98680114746094,30.317588806152344,-55.12020492553711,32.86919403076172,-2.606419563293457,33.11321258544922,-31.58415412902832,19.603721618652344,8.03749942779541,55.191219329833984,-11.180181503295898,15.224531173706055,-8.860251426696777,-40.9807243347168,-13.617215156555176,-15.744053840637207,58.829315185546875,-28.440710067749023,-0.15928073227405548,38.199012756347656,28.76309585571289,-60.64991760253906,15.226421356201172,23.092710494995117,23.50116539001465,-40.32395553588867,-0.907149612903595,-3.642913818359375,-12.841714859008789,-14.51397705078125,-43.636817932128906,-54.58737564086914,12.9380464553833,27.162734985351562,41.14212417602539,27.395336151123047,19.361474990844727,-3.7738537788391113,-17.979761123657227,-54.48191452026367,-72.92178344726562,-52.01021957397461,24.39409828186035,-50.38982009887695,-7.122614860534668,1.2465935945510864,-48.3117790222168,-2.10408353805542,46.55667495727539,2.0989856719970703,68.31588745117188,-63.036319732666016,-3.3569397926330566,-6.655636787414551,14.340641021728516,-3.3961777687072754,-2.0344743728637695,1.1509407758712769,18.00599479675293,25.325536727905273,-2.8531298637390137,6.462734699249268,45.31053924560547,-6.974101543426514,-53.75807571411133,-11.166020393371582,18.654565811157227,-0.4191562533378601,-31.092103958129883,32.89811325073242,48.74445343017578,47.84199142456055,10.63266372680664,26.373638153076172,-7.291626453399658,70.41535949707031,-42.573673248291016,-71.33319854736328,-46.22987365722656,-22.012596130371094,56.60140609741211,26.584863662719727,18.479873657226562,-18.176435470581055,52.96026611328125,10.31085205078125,-38.2784423828125,31.089340209960938,34.14028549194336,58.24876022338867,71.77130126953125,2.556295871734619,37.71060562133789,-27.238422393798828,7.921646595001221,8.202516555786133,35.311641693115234,7.215914249420166,-51.48612594604492,35.77627944946289,-23.543893814086914,-27.316097259521484,6.407573699951172,66.82510375976562,50.229522705078125,-17.1618709564209,4.8045525550842285,0.5247753858566284,25.635793685913086,-6.172614574432373,-25.780189514160156,4.929033279418945,-59.05125427246094,63.223602294921875,19.440994262695312,27.008445739746094,-54.07219314575195,28.066455841064453,-20.71091651916504,-34.220542907714844,6.614593505859375,-11.214543342590332,-11.958227157592773,-13.354724884033203,15.913324356079102,-39.96872329711914,-6.596419334411621,-8.86404037475586,2.415870189666748,3.564802408218384,9.136209487915039,-2.995236873626709,-7.383902072906494,-12.452977180480957,-38.32697677612305,-54.483245849609375,21.57618522644043,-1.010146975517273,-0.14438004791736603,-9.268000602722168,-47.947296142578125,-11.312581062316895,0.7513024806976318,-73.11144256591797,-5.037797451019287,-14.783588409423828,-57.26825714111328,54.967533111572266,-24.445178985595703,-19.302457809448242,-16.12912940979004,15.084383010864258,-51.9390869140625,20.878196716308594,-11.829862594604492,-15.365921020507812,-8.372671127319336,-6.869104385375977,11.372533798217773,-7.943241596221924,41.46177673339844,23.138822555541992,-57.03894805908203,25.133798599243164,34.677024841308594,-22.745567321777344,21.750024795532227,-27.468042373657227,0.026865549385547638,-45.69123077392578,49.98041534423828,15.870738983154297,24.19346046447754,33.157470703125,-29.371248245239258,28.84598159790039,8.696463584899902,-0.9862165451049805,-4.008331775665283,-77.84172058105469,5.9076433181762695,41.75373840332031,65.40994262695312,28.809127807617188,31.268909454345703,26.625179290771484,14.521361351013184,-44.615867614746094,1.4461005926132202,-41.49997329711914,49.76049041748047,-3.8485629558563232,-43.44664764404297,-6.915892601013184,9.111069679260254,17.25351333618164,26.402938842773438,15.76356315612793,-31.69073486328125,-51.819644927978516,40.011314392089844,-11.44357967376709,26.683876037597656,11.214524269104004,-16.7899227142334,-7.102953910827637,20.4985408782959,-17.769577026367188,-52.637481689453125,-29.67585563659668,-15.269562721252441,0.850251317024231,52.97321701049805,13.314407348632812,-42.11975860595703,-77.88372802734375,-0.6050212979316711,9.899436950683594,-47.57144546508789,-22.008800506591797,-8.915786743164062,2.97635555267334,-15.84161376953125,26.855052947998047,7.286818027496338,8.842506408691406,-31.446611404418945,45.42253875732422,-51.20500946044922,-32.010196685791016,-8.525726318359375,64.5773696899414,-8.693215370178223,-8.910575866699219,-38.69218063354492,-17.194353103637695,33.84163284301758,-11.807327270507812,2.5542688369750977,44.05421829223633,-4.1591691970825195,3.731555461883545,-44.3839111328125,-8.600351333618164,-45.556114196777344,-18.870458602905273,37.94167709350586,-20.037681579589844,-5.034715175628662,-54.240726470947266,-0.546882688999176,-41.38871383666992,-23.48350715637207,28.322473526000977,42.32206344604492,-6.794474124908447,28.98244285583496,66.01813507080078,-1.270967721939087,-27.315082550048828,-7.577967166900635,26.63158416748047,64.18738555908203,25.699636459350586,-9.622123718261719,-7.037636756896973,-17.874052047729492,-14.762389183044434,-47.57395935058594,-9.084060668945312,-18.026634216308594,-51.976295471191406,72.4753646850586,47.91190719604492,-10.585061073303223,6.46492338180542,11.820391654968262,-53.03669738769531,-19.291454315185547,15.083480834960938,30.1453914642334,-17.89603614807129,-23.489097595214844,50.88125991821289,-16.96508026123047,-0.2195853739976883,-15.43973159790039,-28.305484771728516,6.462769031524658,20.801969528198242,-51.198734283447266,-65.79197692871094,-48.92885208129883,-10.205933570861816,2.835132598876953,-8.166433334350586,-44.78847885131836,63.36048126220703,-42.12267303466797,-7.039119720458984,66.90203857421875,-21.16508674621582,-34.132080078125,28.58890724182129,-4.340203762054443,29.301692962646484,19.977575302124023,38.49251937866211,-1.0158644914627075,9.327408790588379,-28.23362159729004,-3.221205711364746,5.862202167510986,16.83598518371582,-26.48505210876465,13.234702110290527,-5.490124225616455,-24.657123565673828,-14.839086532592773,37.92500686645508,0.30266380310058594,57.5788459777832,14.39378833770752,24.431188583374023,-45.3008918762207,24.289081573486328,-6.057613849639893,-53.30851364135742,-8.549371719360352,-12.18374252319336,45.130226135253906,-53.729488372802734,-3.7418365478515625,-12.079057693481445,14.71420955657959,18.313478469848633,25.548236846923828,-55.34067916870117,-63.04684066772461,1.4736348390579224,-29.771411895751953,-19.420625686645508,2.590034246444702,-1.5786689519882202,33.82904052734375,50.84544372558594,39.06966018676758,-27.668109893798828,-58.59923553466797,25.10953712463379,18.129404067993164,34.843101501464844,-22.600656509399414,-40.725887298583984,-42.57318115234375,41.43368148803711,-15.833003044128418,22.438495635986328,34.967864990234375,-4.6481733322143555,-49.32884979248047,42.93121337890625,-18.6539363861084,4.8016252517700195,-0.5799378156661987,-6.533315658569336,-31.90971565246582,-45.20851135253906,43.65127182006836,-16.562597274780273,-12.100910186767578,-4.157289981842041,-70.58502960205078,63.78955078125,46.4744873046875,1.9776840209960938,-77.94436645507812,-55.05318069458008,5.2148332595825195,-71.4282455444336,-46.229698181152344,-9.859785079956055,-10.870464324951172,-55.397300720214844,-9.84941577911377,3.160902976989746,-15.579004287719727,38.9252815246582,41.07872009277344,-7.253941059112549,40.68382263183594,-38.037635803222656,7.848286151885986,-11.654420852661133,37.91001510620117,-54.599815368652344,29.7056941986084,10.626811981201172,25.548927307128906,-20.944860458374023,47.88502502441406,63.951622009277344,0.4441610276699066,-8.528767585754395,7.911342620849609,-1.715651035308838,-13.2617826461792,-9.945289611816406,24.430309295654297,26.1600284576416,49.572425842285156,52.571407318115234,12.785528182983398,52.006568908691406,-11.306982040405273,41.063751220703125,55.783058166503906,-41.4684944152832,3.052794933319092,49.57735061645508,-0.5145823955535889,-38.97745132446289,5.607635021209717,-0.9135352969169617,-10.352652549743652,-25.950807571411133,-15.398150444030762,25.558460235595703,-3.902039051055908,-60.2123908996582,45.305946350097656,21.031869888305664,-41.44119644165039,59.63636779785156,-46.229610443115234,28.632415771484375,52.576602935791016,1.3291813135147095,-27.29714584350586,66.9516830444336,-16.291606903076172,-53.73265075683594,-5.432316780090332,34.89019012451172,28.868207931518555,-8.957468032836914,19.98917579650879,26.29385757446289,28.6581974029541,28.08981704711914,52.87027359008789,17.36126708984375,-19.49911880493164,-9.657767295837402,-31.235139846801758,-0.7741189002990723,-7.485987663269043,40.317935943603516,67.72807312011719,26.402206420898438,25.98591423034668,-20.820125579833984,-10.331085205078125,6.461102485656738,17.295621871948242,-21.361465454101562,-47.47642517089844,-2.651569366455078,-55.32600021362305,-51.6651725769043,-70.58293914794922,-3.065730333328247,65.18122100830078,49.40830993652344,-11.482643127441406,41.84669876098633,28.5056095123291,-12.385016441345215,-32.752559661865234,41.81903839111328,-40.32659912109375,1.4093561172485352,57.0576057434082,-77.96601867675781,-7.076866149902344,-26.202096939086914,10.671063423156738,46.122135162353516,4.531776428222656,-40.48527908325195,-21.612913131713867,61.09883117675781,-19.614328384399414,-13.616761207580566,-14.734604835510254,-2.234513759613037,20.93437385559082,-2.743893623352051,-9.182696342468262,34.59943771362305,23.16962242126465,-6.959499835968018,60.84498596191406,48.40433120727539,-6.129812240600586,-10.797637939453125,-2.9830563068389893,-33.106014251708984,0.626475989818573,-18.188495635986328,2.0631895065307617,-10.104681968688965,41.66332244873047,24.051286697387695,43.169647216796875,14.129515647888184,-19.45539093017578,4.94033145904541,16.531681060791016,-26.623779296875,-47.94728088378906,-0.9077008366584778,3.2761456966400146,39.112430572509766,-18.693090438842773,-22.942607879638672,-5.455921173095703,63.71180725097656,8.760513305664062,-22.156906127929688,-54.42597961425781,-9.920013427734375,-65.24664306640625,-39.24370193481445,-35.32786178588867,-32.408748626708984,29.436159133911133,-4.816035747528076,50.630279541015625,-22.55965232849121,26.661874771118164,12.84073543548584,-26.48974609375,3.150784492492676,-20.45931053161621,-7.546827793121338,-49.976932525634766,-34.54359436035156,-17.196821212768555,52.806800842285156,35.98784255981445,-12.982868194580078,-27.33551788330078,61.731746673583984,0.2657702565193176,-42.19583511352539,61.2232780456543,-45.47482681274414,2.779850482940674,-2.896862268447876,-14.474026679992676,8.852473258972168,41.070430755615234,-13.899043083190918,-12.805402755737305,-8.289312362670898,-46.80852508544922,41.65350341796875,-12.98823070526123,-40.435325622558594,-76.52694702148438,65.67872619628906,-3.0337369441986084,-31.13763427734375,44.85388946533203,-65.4808120727539,64.88195037841797,13.466568946838379,-9.838202476501465,-8.801749229431152,58.079750061035156,2.6819581985473633,5.427292346954346,-23.304855346679688,-72.90031433105469,-23.397197723388672,-0.6015819311141968,4.894881725311279,11.359661102294922,65.57627868652344,-39.70154571533203,-22.042211532592773,-35.32061004638672,-25.86139678955078,18.77861976623535,-20.944303512573242,5.657667636871338,-56.07598876953125,-20.55859375,-53.92597198486328,2.9768118858337402,54.7245979309082,-9.369282722473145,-39.45909881591797,2.762833595275879,-17.63511848449707,14.031988143920898,35.32720947265625,-13.476920127868652,25.715673446655273,25.918724060058594,-19.46440887451172,-6.136537551879883,-35.30564498901367,-4.392515659332275,7.100763320922852,53.88593292236328,22.691944122314453,66.91214752197266,-20.6901798248291,36.610721588134766,0.14907793700695038,34.7689323425293,9.458651542663574,-43.17294692993164,-9.240242958068848,-50.4092903137207,3.4634954929351807,8.215900421142578,42.18633270263672,-20.3668155670166,-53.7419319152832,48.52528381347656,26.00375747680664,-14.539968490600586,-6.335295677185059,-48.32603073120117,65.16629028320312,38.235538482666016,-0.4987783432006836,-13.60021686553955,15.458108901977539,5.662487983703613,-29.671764373779297,49.21990966796875,-38.14109802246094,-38.140480041503906,51.726802825927734,-53.02071762084961,67.67418670654297,-54.51462173461914,61.75932312011719,-57.18682861328125,62.49700927734375,9.057042121887207,55.576019287109375,-19.577041625976562,23.234996795654297,26.217622756958008,63.2629508972168,-53.6167106628418,-24.8784236907959,-9.939006805419922,-78.2634506225586,5.34763240814209,-40.54290008544922,43.72221755981445,-12.472112655639648,-10.73068618774414,-11.356452941894531,40.12972640991211,19.07016372680664,42.651275634765625,25.20966911315918,42.3932991027832,2.8948819637298584,-3.56311297416687,-5.449013710021973,53.06645584106445,21.48505401611328,1.1177306175231934,-50.35381317138672,19.0657901763916,65.6024169921875,18.481887817382812,-3.9993081092834473,-18.9781551361084,24.430078506469727,41.60192108154297,-42.92875671386719,-10.913838386535645,-27.471235275268555,35.22883605957031,-20.029748916625977,33.451900482177734,-40.23442077636719,25.133060455322266,-15.563193321228027,52.738182067871094,-17.5932559967041,-20.885330200195312,18.447603225708008,33.96540832519531,23.023452758789062,23.084396362304688,21.89601707458496,-7.925327777862549,-42.587215423583984,-11.954490661621094,-6.5616655349731445,-13.616405487060547,-52.40070724487305,-11.010191917419434,-12.333928108215332,-18.410308837890625,25.5843505859375,-17.252676010131836,-22.592792510986328,34.13871765136719,34.32762145996094,-11.5330228805542,-44.79460144042969,43.63185119628906,23.03443717956543,51.608009338378906,-49.97647476196289,35.08561706542969,-10.248871803283691,-40.232784271240234,-3.5420851707458496,10.198334693908691,-10.152132987976074,25.742162704467773,-65.80327606201172,-2.6032767295837402,63.92611312866211,-65.09752655029297,58.254154205322266,11.152942657470703,-12.679469108581543,-44.867897033691406,25.681421279907227,-7.055631637573242,-14.1297607421875,-0.8713653683662415,8.677778244018555,-42.964630126953125,-21.35075569152832,17.425073623657227,-41.878021240234375,46.90632629394531,66.7848129272461,-9.52413558959961,23.221261978149414,3.2807788848876953,-18.788022994995117,36.6978645324707,-9.18880558013916,-40.235103607177734,-10.984347343444824,15.131319999694824,-31.815324783325195,-1.10447096824646,52.39219284057617,-12.867426872253418,22.761157989501953,-25.704360961914062,43.25432205200195,2.34845232963562,-9.184616088867188,12.716316223144531,2.732633113861084,26.970659255981445,-3.71571946144104,65.2557373046875,-5.756563186645508,69.65264892578125,28.51592254638672,-2.2303507328033447,29.615610122680664,30.11220359802246,56.299530029296875,0.9234527349472046,-28.172277450561523,9.601691246032715,-46.23261260986328,69.96487426757812,-22.01666259765625,-5.321492671966553,-5.722534656524658,-50.74224090576172,7.163202285766602,-18.54210090637207,7.198036193847656,0.19747541844844818,-11.47754955291748,-10.568706512451172,-78.15584564208984,-15.781160354614258,-51.56502914428711,9.79860782623291,5.639535427093506,-1.546224594116211,-2.3348796367645264,9.108904838562012,8.783474922180176,7.964463233947754,-8.25917911529541,-22.738969802856445,16.931575775146484,-12.555724143981934,-56.20170593261719,3.170269012451172,-0.9100891351699829,-7.158237457275391,-18.512813568115234,-47.78969192504883,-34.68968963623047,-15.870574951171875,-9.661116600036621,9.000629425048828,-21.393022537231445,-25.47774314880371,1.1204978227615356,-13.129858016967773,43.42275619506836,1.7410783767700195,2.9490251541137695,43.4577751159668,48.20613479614258,26.33701515197754,-30.666404724121094,-5.38319730758667,-26.482805252075195,-20.643978118896484,19.96980857849121,-61.39503860473633,15.729251861572266,51.11042022705078,15.774374961853027,-59.054508209228516,-9.282194137573242,43.63313674926758,38.90351104736328,-2.6351656913757324,4.664155960083008,14.790833473205566,-38.178070068359375,-52.24664306640625,8.458341598510742,7.856448650360107,-8.948029518127441,38.489559173583984,-41.51241683959961,7.134974479675293,-11.184972763061523,35.64344024658203,62.65142059326172,58.7758903503418,-1.7162110805511475,-2.854618549346924,-14.078958511352539,7.531776428222656,48.805843353271484,-20.332063674926758,27.173192977905273,-9.784008026123047,-53.66358184814453,-2.6078741550445557,8.59427547454834,14.155853271484375,-1.984649896621704,-11.464677810668945,-34.72725296020508,53.202964782714844,10.935439109802246,-66.41487121582031,29.73630714416504,-77.97447204589844,-53.3354377746582,50.604095458984375,-7.2845048904418945,3.3305258750915527,55.39731216430664,-4.958999156951904,8.602263450622559,46.24685287475586,45.32921600341797,-39.99730682373047,25.335670471191406,36.740474700927734,69.9919204711914,30.248788833618164,-25.025541305541992,-16.797266006469727,-18.79960060119629,8.460559844970703,4.285867214202881,-15.581748008728027,-24.0540828704834,5.880154609680176,-5.694311141967773,-52.30461883544922,62.159786224365234,-24.63161849975586,45.436180114746094,46.09526824951172,-12.848265647888184,-27.433725357055664,25.87942123413086,0.38287630677223206,-47.00849151611328,11.304977416992188,-77.65959167480469,23.131141662597656,57.468509674072266,-33.061767578125,38.8696174621582,-3.6736035346984863,34.08342361450195,0.5044593214988708,41.176795959472656,29.083662033081055,4.564128875732422,67.43251037597656,-11.39908218383789,-24.294267654418945,-77.59456634521484,8.557000160217285,-41.38528060913086,-5.025476932525635,1.473513126373291,-0.3514963388442993,12.609854698181152,30.706329345703125,-5.6847662925720215,-26.718799591064453,-3.5359678268432617,8.851917266845703,16.51665496826172,-8.410167694091797,47.39568328857422,-19.750356674194336,-9.920364379882812,-78.16899108886719,-42.139991760253906,-12.576273918151855,-2.8874287605285645,27.584697723388672,22.14296531677246,4.892885684967041,2.0335171222686768,-38.98208236694336,21.91827392578125,38.08257293701172,23.98261070251465,46.273948669433594,-13.64021110534668,27.955120086669922,8.008609771728516,-10.216801643371582,26.182537078857422,-43.718143463134766,-75.82743072509766,-3.707465410232544,20.98077964782715,-48.78718948364258,-77.58419036865234,-2.3738715648651123,-10.692407608032227,23.081541061401367,-7.552822113037109,-11.800337791442871,-9.848922729492188,-27.0698299407959,16.257308959960938,-0.9835756421089172,25.245464324951172,5.712503433227539,17.472150802612305,0.8862370252609253,-12.462897300720215,-10.624139785766602,41.49357604980469,-55.61731719970703,-59.04928207397461,-18.114139556884766,9.798745155334473,17.150474548339844,49.37245559692383,-53.00572204589844,-20.118114471435547,-9.56945514678955,-52.452884674072266,13.109504699707031,-13.7205171585083,20.811771392822266,14.125704765319824,-11.599472999572754,-5.25175142288208,36.17997360229492,20.054058074951172,-57.565834045410156,-12.553877830505371,-40.67889404296875,-6.1535234451293945,-29.578083038330078,9.428918838500977,-17.259641647338867,-55.39397430419922,37.92681884765625,41.29263687133789,61.398101806640625,-51.87187576293945,34.91755676269531,15.887049674987793,7.80842399597168,-3.9594976902008057,-45.30234909057617,-10.587753295898438,9.137358665466309,-10.779169082641602,-0.5195086002349854,-23.690637588500977,-9.032353401184082,-49.2531623840332,15.335599899291992,27.712339401245117,-54.47465515136719,-7.43435001373291,40.76777267456055,52.04902267456055,15.680058479309082,25.9312801361084,5.786503314971924,23.170795440673828,-1.0511921644210815,35.01844787597656,-78.08056640625,50.3348503112793,-15.807944297790527,20.772537231445312,-78.28768157958984,-0.4434541165828705,-66.42118072509766,10.075423240661621,-5.2049970626831055,9.139180183410645,-55.67414093017578,-32.2627067565918,-6.541949272155762,-3.597362995147705,33.89767074584961,-0.46732085943222046,33.131412506103516,12.268548965454102,20.862829208374023,-8.05127239227295,-12.734776496887207,1.1110233068466187,-4.202159881591797,64.2839126586914,48.410945892333984,-53.00630569458008,-23.314836502075195,9.906793594360352,48.5255241394043,6.234817028045654,19.06660270690918,5.07097864151001,-8.314903259277344,-49.02105712890625,53.634300231933594,-11.399369239807129,-7.862691402435303,35.60323715209961,25.55245590209961,23.726940155029297,-22.753562927246094,29.19064712524414,-45.297245025634766,-9.301283836364746,-22.92093276977539,-4.021181583404541,-10.76542854309082,70.81813049316406,21.9156551361084,-15.389765739440918,28.067228317260742,-24.6984806060791,12.075011253356934,-38.35269546508789,-19.792314529418945,-8.803860664367676,1.0397812128067017,-44.96306610107422,9.052919387817383,-17.929765701293945,-38.2755012512207,22.372163772583008,-4.035096645355225,-24.270050048828125,-55.2449836730957,-24.31273651123047,-11.287300109863281,-23.400915145874023,-34.178443908691406,-40.8770751953125,23.671777725219727,26.51241683959961,7.119609355926514,-6.1250786781311035,-25.3707218170166,-11.284521102905273,28.72313690185547,-3.8478121757507324,-53.979393005371094,-38.76693344116211,48.084495544433594,24.65240478515625,0.10500965267419815,24.603782653808594,-56.04755401611328,-5.768570423126221,9.815560340881348,34.26823806762695,-40.951194763183594,-23.756689071655273,-14.633508682250977,-78.14215850830078,-31.165855407714844,-42.208213806152344,-0.3186662495136261,-17.14606285095215,40.34565734863281,5.527880668640137,5.145568370819092,20.398866653442383,-30.53163719177246,-0.5670119524002075,-54.587764739990234,-21.532825469970703,45.36048126220703,22.224172592163086,3.5413308143615723,-3.8298885822296143,26.97206687927246,35.03810119628906,18.027463912963867,-26.074365615844727,27.578012466430664,7.636600494384766,67.26983642578125,-53.31930160522461,-44.996681213378906,-24.138755798339844,0.5239494442939758,-9.752022743225098,3.1718146800994873,-14.732248306274414,27.283185958862305,-15.376447677612305,-28.14240837097168,3.2245676517486572,-32.35224914550781,-12.842256546020508,-15.307456970214844,-49.06626892089844,-12.633334159851074,25.91782569885254,-9.698917388916016,-44.15205383300781,-44.377410888671875,22.80695915222168,65.26839447021484,34.005104064941406,23.037059783935547,30.77902603149414,47.11550521850586,-39.208396911621094,58.483272552490234,66.39226531982422,-4.890512943267822,44.93470001220703,-53.00957107543945,43.96405029296875,-54.04439926147461,0.1915973573923111,20.850078582763672,-19.99445343017578,25.009185791015625,19.79684066772461,16.119298934936523,-11.82954216003418,-0.6019799113273621,-24.88185691833496,-45.561702728271484,26.0408935546875,15.011462211608887,-20.94062042236328,4.250899791717529,9.482251167297363,-65.24610900878906,-7.3143792152404785,55.50302505493164,35.69402313232422,44.742034912109375,28.287574768066406,15.411754608154297,42.525882720947266,22.6771297454834,11.323873519897461,-50.13349914550781,-0.22637593746185303,-9.801658630371094,10.740702629089355,4.890928268432617,19.211441040039062,47.35271072387695,5.626370906829834,-24.849075317382812,33.803611755371094,45.64394760131836,-42.93156433105469,8.30597972869873,-9.38765811920166,22.332115173339844,-23.488712310791016,-4.669369697570801,-18.880094528198242,41.860408782958984,-22.91250991821289,6.403558254241943,-6.12856912612915,-26.368642807006836,-4.8903937339782715,15.083813667297363,-32.89336395263672,-42.11079025268555,-12.860093116760254,-65.72013854980469,-13.02387523651123,-11.315536499023438,-38.2672004699707,-14.629403114318848,-52.63642501831055,18.104087829589844,23.370298385620117,26.821958541870117,38.993350982666016,24.021333694458008,23.66107940673828,-10.035872459411621,-1.010804533958435,-6.140377998352051,-54.03911590576172,-29.66826820373535,21.602136611938477,48.70906448364258,7.84921932220459,-23.88043785095215,-7.871126651763916,20.89295196533203,6.166210174560547,-36.62863540649414,-15.36349868774414,-39.97896194458008,68.36274719238281,52.010921478271484,9.036102294921875,-14.380793571472168,0.8678657412528992,-9.55607795715332,21.20018196105957,0.4475042521953583,-50.807823181152344,46.985443115234375,65.030517578125,39.0855827331543,37.77048110961914,-24.260730743408203,53.78848648071289,20.66025161743164,55.26248550415039,64.5960464477539,28.21699333190918,-13.775500297546387,63.9200325012207,1.74312162399292,-51.51274490356445,-21.497848510742188,53.15700149536133,49.73259735107422,60.58842849731445,39.332950592041016,64.49195861816406,31.067790985107422,-18.684505462646484,50.7266845703125,-4.584686756134033,38.372318267822266,-11.46739673614502,43.57185363769531,-38.36405563354492,48.65886306762695,-3.273965835571289,-55.409263610839844,-40.6802978515625,-2.7708740234375,-25.704326629638672,-1.8755812644958496,-7.021243095397949,57.74195098876953,48.33003616333008,-16.274486541748047,22.032657623291016,30.891353607177734,11.972686767578125,19.208852767944336,-25.8867130279541,-54.5787467956543,-15.003836631774902,21.89548110961914,-2.494905710220337,51.18917465209961,8.076417922973633,-7.565102577209473,13.828221321105957,33.268798828125,28.845664978027344,19.00737953186035,-9.448548316955566,-33.07772445678711,15.916635513305664,68.6275863647461,-23.55362892150879,27.2436466217041,67.40419006347656,-77.89271545410156,23.986495971679688,-26.3937931060791,0.9520291686058044,38.66880416870117,25.289806365966797,56.55238723754883,42.12269973754883,24.606826782226562,45.1887321472168,49.90595245361328,-10.984649658203125,-25.636838912963867,-19.599193572998047,-15.23855209350586,-6.834160327911377,-1.7027651071548462,-39.56306457519531,3.7580580711364746,26.468429565429688,-19.641218185424805,-8.18315315246582,-58.06781768798828,23.419126510620117,11.809377670288086,47.2705078125,0.8745271563529968,2.7688262462615967,8.784987449645996,11.249028205871582,30.683998107910156,-52.330806732177734,-23.68829917907715,2.485841751098633,4.80432653427124,13.97480297088623,4.928978443145752,-14.031848907470703,41.40555191040039,-23.676809310913086,26.252185821533203,39.22663116455078,-30.75514030456543,-31.901290893554688,-25.11009407043457,-31.689477920532227,-8.99090576171875,15.194579124450684,-10.975914001464844,-72.97199249267578,59.65098571777344,16.365617752075195,5.209530830383301,-6.0939226150512695,-13.06063461303711,-5.836883544921875,1.1343883275985718,-15.303407669067383,12.85926342010498,11.54609203338623,-56.00992965698242,-23.519731521606445,12.25175666809082,25.35608673095703,25.68444061279297,-17.785715103149414,-44.96181106567383,65.38370513916016,-31.204069137573242,15.310261726379395,-61.5770378112793,34.82111358642578,28.537172317504883,7.551340103149414,-13.79399585723877,61.720680236816406,-10.879379272460938,3.657546043395996,-27.87334632873535,9.56595230102539,-47.5738639831543,15.772598266601562,-0.882526159286499,-6.148416996002197,-5.226990222930908,-3.0136609077453613,58.37684631347656,-5.404733657836914,3.8021326065063477,1.038913607597351,-23.112388610839844,34.75397872924805,-9.218483924865723,6.638247966766357,-3.7134578227996826,-20.2664852142334,39.087486267089844,-5.825864315032959,-28.28221321105957,-6.598053455352783,-54.587799072265625,45.188968658447266,-41.91549301147461,3.1088359355926514,41.67780685424805,-0.6937152147293091,-4.799233913421631,49.214866638183594,21.341533660888672,-6.117101669311523,15.235086441040039,-41.58537292480469,35.31648254394531,-8.75828742980957,14.482683181762695,-39.84451675415039,-19.712121963500977,-40.479835510253906,50.41015625,32.45901107788086,0.019757812842726707,15.285727500915527,45.411624908447266,30.917285919189453,44.350276947021484,41.393516540527344,-77.73313903808594,28.570083618164062,0.36821863055229187,-26.157100677490234,-9.796119689941406,-24.88972282409668,-11.600132942199707,14.289270401000977,-28.05445098876953,-16.306198120117188,22.392011642456055,-0.5119647979736328,-10.784255027770996,-52.32871627807617,-9.663548469543457,20.0004940032959,56.14253234863281,10.11707592010498,44.876033782958984,25.55937957763672,-42.13677978515625,-40.83360290527344,34.667396545410156,-13.164480209350586,-5.565459728240967,-71.33428955078125,-5.986236572265625,25.05406951904297,5.546523571014404,8.480658531188965,-7.477564334869385,-12.444501876831055,23.94550132751465,-78.05745697021484,-53.35607147216797,-46.05233383178711,-11.220254898071289,-0.9879018664360046,-55.444217681884766,51.188453674316406,33.63905715942383,63.650543212890625,-18.593944549560547,-5.442324161529541,-57.52610397338867,25.777603149414062,26.06903076171875,-14.912397384643555,28.64523696899414,-15.952255249023438,34.692684173583984,13.644875526428223,-10.550710678100586,-4.888606548309326,-11.508596420288086,-11.425265312194824,21.038593292236328,-32.77182388305664,-42.21687698364258,-45.719051361083984,11.139474868774414,43.71015930175781,56.89442443847656,-8.066824913024902,-0.47422292828559875,33.50966262817383,12.940393447875977,31.869556427001953,41.311187744140625,-0.18989649415016174,-70.51321411132812,-15.148707389831543,-45.67378616333008,45.340660095214844,-9.812561988830566,43.169395446777344,-17.303373336791992,-1.718546748161316,-1.78564453125,27.87017059326172,49.31020736694336,-27.204513549804688,40.65776062011719,-25.702560424804688,-51.580509185791016,35.02229309082031,32.40382385253906,-55.131553649902344,0.7892829775810242,28.633895874023438,38.661102294921875,23.641063690185547,-4.085965633392334,64.3766860961914,-14.331771850585938,14.287687301635742,-3.5508861541748047,60.73710250854492,11.92880916595459,-48.532020568847656,-43.44660186767578,33.31098556518555,5.449975967407227,-9.945718765258789,4.311951160430908,-39.974327087402344,1.943447470664978,0.9733489751815796,-43.80257797241211,9.817288398742676,34.179962158203125,-2.601736068725586,-12.980463027954102,-18.96654510498047,-45.56083297729492,-40.724159240722656,-16.76883888244629,-10.309638977050781,-11.442266464233398,-16.66461944580078,-6.714663028717041,-9.153424263000488,-10.100850105285645,33.62854766845703,-38.28369903564453,-25.385295867919922,-7.345958709716797,-72.92232513427734,16.15034294128418,-3.2228260040283203,25.459014892578125,34.99772644042969,43.440887451171875,27.489797592163086,29.757966995239258,-14.50810718536377,-10.477363586425781,12.035514831542969,11.625353813171387,-64.54638671875,48.84001922607422,-12.856643676757812,-45.5714111328125,-5.479970455169678,-45.7274169921875,11.211912155151367,-19.16863250732422,-8.175898551940918,60.220577239990234,-71.57027435302734,5.915415287017822,46.32032775878906,-9.93443489074707,-41.870689392089844,-54.90467834472656,0.5274119973182678,-3.7731211185455322,28.31783676147461,-12.282384872436523,-39.997886657714844,-7.953363418579102,6.655289649963379,26.450489044189453,22.056589126586914,24.69048500061035,-11.196317672729492,-47.651527404785156,-38.175838470458984,14.744284629821777,-11.244414329528809,19.683387756347656,64.42697143554688,-40.679141998291016,26.23483657836914,-38.697418212890625,-7.118602275848389,-51.66440963745117,4.296205043792725,-53.960689544677734,25.310583114624023,-13.28359603881836,-39.29140853881836,8.2534761428833,5.939819812774658,-0.17852334678173065,-8.52885913848877,-2.7454450130462646,-19.846637725830078,2.099724531173706,49.9225959777832,-25.572284698486328,51.11586380004883,-58.30741500854492,-47.226463317871094,-31.20722770690918,46.01024627685547,-33.92345428466797,27.37035369873047,-47.2834587097168,2.7099099159240723,3.988966941833496,-40.96284484863281,-54.212005615234375,6.152644157409668,45.81262969970703,33.05656814575195,-11.515356063842773,53.75489044189453,28.070592880249023,7.4750261306762695,17.156789779663086,3.4797158241271973,65.23848724365234,-0.07500122487545013,-45.65716552734375,34.62529373168945,9.184408187866211,70.28952026367188,36.78614807128906,12.937787055969238,18.074125289916992,-50.34866714477539,-52.458003997802734,32.58907699584961,-15.354409217834473,-10.530280113220215,-12.40560245513916,-76.6817626953125,25.501657485961914,35.46500015258789,-27.94651985168457,-39.3200798034668,33.97901916503906,-44.664520263671875,-10.864361763000488,31.159866333007812,15.13215446472168,8.177523612976074,-13.607959747314453,-44.6221923828125,-2.8329944610595703,21.0706729888916,-16.783567428588867,-52.721763610839844,-78.15573120117188,40.86915969848633,-18.946779251098633,25.954416275024414,-10.470682144165039,-24.273834228515625,-13.515172958374023,65.6187744140625,7.945844650268555,32.11754608154297,46.86575698852539,-13.04077434539795,47.235137939453125,1.1931982040405273,-7.047919273376465,33.24112319946289,-23.605300903320312,-11.940987586975098,-26.485490798950195,-40.23670959472656,-11.173081398010254,-5.08192777633667,37.53999328613281,-14.391300201416016,26.34483528137207,0.4877707064151764,35.78330612182617,48.33664321899414,-8.566317558288574,-39.26005554199219,-0.9131589531898499,1.1169216632843018,45.15057373046875,8.85640811920166,44.04610824584961,35.94551086425781,51.59867858886719,20.211645126342773,-6.771889686584473,19.890125274658203,4.23514461517334,-4.241703987121582,-19.0489501953125,-16.520404815673828,-22.871559143066406,27.200403213500977,-54.88698196411133,29.593961715698242,2.913978099822998,41.59455871582031,6.660258769989014,39.66187286376953,44.14777374267578,-5.387205123901367,48.17398452758789,20.753740310668945,3.5788912773132324,23.647539138793945,35.82136917114258,35.14373016357422,14.484275817871094,-3.8583571910858154,-53.28084945678711,14.185111999511719,-15.686013221740723,34.288360595703125,-11.466658592224121,-7.880289554595947,5.872313976287842,39.0189208984375,-5.664450168609619,61.5621223449707,39.50112533569336,-25.33898162841797,46.27920150756836,-61.91850662231445,-18.919530868530273,61.20927810668945,20.148422241210938,-2.772066831588745,-56.10578918457031,-6.091606616973877,71.39907836914062,24.56739044189453,-12.785870552062988,7.000385761260986,-9.269277572631836,-63.04359817504883,-57.03884506225586,15.446450233459473,34.70667266845703,66.36662292480469,-39.27968978881836,-65.10648345947266,-15.510732650756836,-39.461055755615234,-10.583735466003418,-33.889766693115234,-16.00828742980957,-42.15462112426758,58.894412994384766,-65.24676513671875,35.99711990356445,63.57842254638672,-28.461091995239258,-38.91139221191406,36.967376708984375,31.325061798095703,62.324546813964844,2.964543104171753,29.400135040283203,50.05083465576172,-44.78438949584961,12.743504524230957,45.45216369628906,-1.1418882608413696,35.83894729614258,1.8693581819534302,0.7682468891143799,3.4778008460998535,67.12387084960938,-8.22948169708252,-4.561611652374268,51.5928955078125,15.258939743041992,-28.237770080566406,27.572969436645508,-38.43185806274414,4.844799041748047,-7.120462417602539,-45.17915725708008,-9.01431941986084,34.925167083740234,-6.4480791091918945,50.07945251464844,-8.92695140838623,9.2997465133667,-11.304760932922363,46.64800262451172,23.163631439208984,46.0300178527832,-30.211105346679688,-18.680973052978516,37.89583969116211,-2.7441887855529785,25.506967544555664,47.56916809082031,-1.5974516868591309,-53.9448356628418,-23.3094539642334,-10.619017601013184,-44.390037536621094,30.6297550201416,-25.250381469726562,19.892854690551758,-20.40070343017578,-71.46180725097656,-19.62990379333496,-32.37176513671875,-27.146583557128906,-5.378857612609863,-15.263527870178223,7.260987758636475,18.808361053466797,-25.077655792236328,15.4616060256958,-40.97251510620117,8.859935760498047,-16.409629821777344,21.966968536376953,-51.049861907958984,39.14960479736328,-28.026405334472656,54.9322509765625,-39.3505744934082,68.40151977539062,14.185433387756348,-13.649975776672363,1.1210012435913086,1.2319175004959106,25.953014373779297,7.019476413726807,63.88682174682617,-8.70938777923584,-76.89946746826172,-8.412873268127441,51.48646926879883,-21.908517837524414,47.24815368652344,-18.96074867248535,15.487039566040039,-78.08357238769531,3.5044338703155518,23.45467758178711,-19.72446060180664,15.068086624145508,-39.320743560791016,-15.566393852233887,-45.18332290649414,8.161900520324707,9.390676498413086,26.758411407470703,-0.7314185500144958,33.21693420410156,27.6015682220459,-3.7416586875915527,-3.3617401123046875,25.26255226135254,-8.85241985321045,0.8515045046806335,-38.9809455871582,25.359962463378906,45.990074157714844,-29.2470645904541,-52.636234283447266,-11.052497863769531,-19.89440155029297,23.438640594482422,-42.59724426269531,38.87258529663086,0.012973149307072163,67.25423431396484,-22.841533660888672,-23.83013343811035,-55.14272689819336,-6.809730529785156,65.16487121582031,-0.7155286073684692,-50.75040054321289,2.974755048751831,-24.64453125,-31.128080368041992,-23.312053680419922,20.73190689086914,29.116058349609375,41.99260330200195,-15.054144859313965,42.495445251464844,-6.747472763061523,60.268924713134766,-2.9150431156158447,22.837547302246094,-52.44060134887695,24.436798095703125,-6.863095283508301,-19.42496109008789,25.22028923034668,-49.3267707824707,-14.538763999938965,26.462556838989258,-4.998067855834961,11.497930526733398,-9.849059104919434,39.62637710571289,54.51054000854492,-10.834805488586426,-9.40582275390625,-49.60905456542969,41.917022705078125,-9.109766960144043,-45.58613967895508,39.67860412597656,28.409975051879883,14.605561256408691,-42.96552276611328,-51.97748565673828,-6.602449417114258,33.5843620300293,2.581428050994873,-2.818643093109131,-18.302433013916016,-10.845247268676758,23.08315086364746,33.812950134277344,-3.5266525745391846,30.364103317260742,60.711177825927734,1.1933521032333374,15.15495491027832,-55.854522705078125,-27.827775955200195,-6.342678546905518,-54.647335052490234,1.9963409900665283,-14.335464477539062,-19.930402755737305,17.101675033569336,-9.385597229003906,-44.960784912109375,-24.212583541870117,8.888599395751953,-6.374074935913086,3.6589772701263428,27.46741485595703,27.65325355529785,18.443527221679688,69.89521789550781,24.315935134887695,66.83634185791016,-42.554931640625,-4.9522223472595215,-0.46026626229286194,-21.65092658996582,33.61794662475586,5.1644792556762695,40.39960479736328,-10.398292541503906,-39.514076232910156,0.8142610788345337,-12.450663566589355,42.87065887451172,5.755281925201416,-0.37555840611457825,-27.619421005249023,27.005422592163086,56.783790588378906,-19.633033752441406,57.61981964111328,-2.972963571548462,-35.319541931152344,-11.970685005187988,49.29506301879883,38.89255905151367,-8.09574031829834,-9.117616653442383,-43.66401672363281,4.247542381286621,-15.597650527954102,-48.52578353881836,51.355735778808594,-40.47404098510742,-13.616312980651855,17.111642837524414,-4.817626476287842,3.805739164352417,25.515052795410156,36.5749626159668,-10.4222993850708,-45.686458587646484,15.814967155456543,-24.342397689819336,-5.474915027618408,-17.04084014892578,-3.638092279434204,19.778926849365234,58.077880859375,27.9529972076416,2.88346791267395,37.49077606201172,-66.4135971069336,24.43921661376953,-20.186614990234375,-10.007585525512695,-38.365997314453125,-44.14199447631836,-40.298484802246094,9.295549392700195,51.51484298706055,-0.28040611743927,50.267578125,-6.673971652984619,7.806372165679932,33.98558807373047,-61.5777473449707,-10.031564712524414,38.395145416259766,-66.42125701904297,21.13742446899414,-27.211746215820312,38.656368255615234,43.025794982910156,0.9988700151443481,2.1271934509277344,-7.791946887969971,33.04694366455078,35.813377380371094,-3.7732582092285156,-0.36089611053466797,20.898014068603516,-38.983062744140625,-45.66275405883789,-10.12969970703125,21.110212326049805,-3.7731621265411377,4.471728801727295,-54.14448928833008,11.933921813964844,-6.939982891082764,44.91756820678711,-54.21437072753906,50.41056823730469,11.292166709899902,57.92287063598633,2.128164291381836,42.75369644165039,-40.32428741455078,39.87563705444336,-29.670799255371094,49.531219482421875,-0.3483923375606537,-8.862807273864746,3.9933509826660156,-6.082363128662109,0.7345874905586243,34.529090881347656,-6.106053352355957,-14.5295991897583,44.05532455444336,24.610774993896484,-22.874130249023438,-7.003146171569824,-40.68879318237305,-16.248144149780273,24.59808921813965,-29.6763973236084,21.349363327026367,0.3827381730079651,-10.562058448791504,31.985628128051758,-72.2260513305664,72.12337493896484,-42.96366882324219,-27.94269371032715,-30.837461471557617,-12.75688648223877,39.66160583496094,-8.772891998291016,72.77740478515625,38.225807189941406,36.29927444458008,37.83335876464844,13.05046272277832,22.03861427307129,24.56104850769043,65.47534942626953,45.035919189453125,52.9282341003418,6.384821891784668,35.081302642822266,-7.495946884155273,66.5335464477539,5.223344802856445,42.436832427978516,14.216057777404785,7.313530921936035,1.47524094581604,38.80184555053711,23.257001876831055,56.91448211669922,12.548808097839355,24.244739532470703,-2.5016167163848877,-19.31177520751953,24.904136657714844,-17.556568145751953,65.70721435546875,-5.026175022125244,57.3388671875,23.100492477416992,-6.508312702178955,17.179119110107422,-12.49242877960205,-37.9331169128418,-44.14725875854492,-1.0215710401535034,43.127052307128906,-15.826958656311035,50.92073059082031,-14.532896041870117,-1.7198327779769897,25.508291244506836,49.25935745239258,-46.07231140136719,-18.008831024169922,-39.85929489135742,-77.76485443115234,69.72602081298828,-2.3761088848114014,-42.93036651611328,-34.155006408691406,-14.993467330932617,22.063533782958984,-9.011999130249023,1.4722968339920044,-54.41080093383789,33.70570373535156,22.6029109954834,30.184648513793945,-20.42686653137207,-22.87799072265625,35.11613464355469,-39.2751350402832,30.020217895507812,-19.79037094116211,-43.43693161010742,14.737404823303223,71.54244232177734,49.76737976074219,-2.1545679569244385,4.178893566131592,-41.91633605957031,61.85503387451172,-10.098454475402832,-5.394486427307129,-48.39582061767578,-13.225772857666016,71.50028991699219,-13.681361198425293,2.8884012699127197,22.070240020751953,63.998531341552734,-21.524213790893555,-6.069413661956787,-1.9394733905792236,-1.9564776420593262,-44.784645080566406,-3.441762924194336,-4.311575412750244,22.084144592285156,-14.85637378692627,38.85282516479492,0.8887452483177185,-27.32591438293457,8.59771728515625,-2.7564780712127686,46.209720611572266,6.164658546447754,9.275705337524414,25.346742630004883,34.61423110961914,-48.78898620605469,9.896356582641602,-32.41322326660156,22.089427947998047,3.01485013961792,4.937121868133545,34.687992095947266,3.319432020187378,-52.289249420166016,31.251876831054688,42.24510955810547,26.46687889099121,35.6973762512207,2.1156327724456787,36.00419616699219,-18.216567993164062,12.37192153930664,0.44675493240356445,23.948976516723633,-56.16126251220703,-7.451876163482666,-42.931034088134766,-38.78296661376953,2.856668710708618,21.929935455322266,-39.85101318359375,-53.63789367675781,-14.75009822845459,26.03531265258789,25.90780258178711,15.434712409973145,48.31009292602539,34.09537887573242,-47.9472770690918,32.243228912353516,49.81636047363281,-42.15477752685547,17.55918312072754,7.048999786376953,-10.881175994873047,21.136201858520508,-44.96303176879883,-4.981897354125977,0.7939841151237488,-20.110424041748047,-50.923431396484375,-37.68589401245117,2.1310503482818604,-3.118346691131592,-31.90497589111328,38.47492218017578,-13.195001602172852,-3.333817481994629,66.2376480102539,9.56376838684082,23.75373649597168,10.096446990966797,53.68825912475586,-5.358746528625488,29.55393409729004,1.1209789514541626,38.79542922973633,-3.6869144439697266,-4.506136894226074,24.430280685424805,52.82603073120117,7.259986877441406,-45.7274169921875,-4.890233516693115,2.9707448482513428,24.912689208984375,55.912899017333984,-69.69324493408203,-40.430625915527344,-47.789302825927734,48.513938903808594,1.5919898748397827,12.759321212768555,1.282230019569397,-18.669111251831055,38.085296630859375,-4.097768306732178,-45.346763610839844,40.59367370605469,71.24662017822266,-45.18703079223633,2.656071186065674,-72.90733337402344,-15.460189819335938,2.3803114891052246,-27.999345779418945,-50.00819778442383,-4.0142717361450195,18.480430603027344,14.653640747070312,-3.749464273452759,2.9728593826293945,17.962358474731445,-38.85252380371094,-54.88621139526367,-17.806419372558594,-40.95221710205078,-20.92994499206543,-40.25103759765625,-21.624412536621094,23.207489013671875,-10.5623197555542,-45.48725891113281,-54.42525100708008,7.482699871063232,44.509525299072266,51.746116638183594,-12.471639633178711,18.627471923828125,16.15049934387207,-12.41958999633789,-4.817152976989746,-10.985143661499023,19.066299438476562,-54.409725189208984,14.124208450317383,25.302730560302734,-9.022089004516602,-53.36576843261719,-27.29619598388672,62.16842269897461,45.74586486816406,9.191737174987793,57.26653289794922,-39.704933166503906,-42.560699462890625,5.370635032653809,-11.657361030578613,28.752531051635742,-12.713775634765625,44.004180908203125,-58.59972381591797,1.040223479270935,-20.836761474609375,6.295202732086182,-25.70082664489746,-18.40374183654785,-52.465721130371094,-10.542037010192871,11.786396026611328,12.854454040527344,-6.647959232330322,-55.0963134765625,10.313436508178711,0.9736547470092773,36.34137725830078,-46.79195785522461,-41.45156478881836,-52.6822624206543,21.947254180908203,6.462548732757568,-33.97416305541992,1.12270987033844,-33.78632354736328,-24.407712936401367,52.62660598754883,35.40367126464844,8.817970275878906,53.43331527709961,65.53604888916016,29.757999420166016,-48.78005599975586,48.13628005981445,0.9814140796661377,39.17864990234375,-46.102386474609375,15.2738618850708,-38.6683464050293,-7.030236721038818,8.23003101348877,12.552240371704102,-31.90894317626953,-17.27985954284668,29.511201858520508,-40.48923110961914,14.683550834655762,14.699023246765137,-10.905051231384277,-14.759371757507324,-54.213993072509766,-61.57026290893555,12.843979835510254,3.889378786087036,-17.702991485595703,37.150428771972656,60.04969787597656,9.428800582885742,-41.853668212890625,-78.03120422363281,3.635749578475952,-16.439594268798828,17.61365509033203,-57.55146789550781,-16.779808044433594,-19.03432846069336,-49.32524108886719,-12.011992454528809,44.71342468261719,-11.403458595275879,-18.696176528930664,-38.329952239990234,-1.0175111293792725,-55.39491653442383,34.0258903503418,-55.97498321533203,-4.280721187591553,8.287428855895996,9.43907642364502],\"xaxis\":\"x\",\"y\":[16.735933303833008,-40.494903564453125,-14.752522468566895,-15.393233299255371,-44.918331146240234,-46.00236511230469,-61.53168487548828,21.306211471557617,-39.99605941772461,-66.47826385498047,28.872596740722656,12.412664413452148,-6.503291606903076,12.81655502319336,77.80425262451172,51.18061065673828,51.97536849975586,0.3460134267807007,29.31170654296875,1.598750352859497,29.084749221801758,-4.879112243652344,-44.45092010498047,-12.663909912109375,19.347064971923828,-11.90909194946289,5.874164581298828,-55.720638275146484,-42.1660270690918,-46.3209342956543,-0.7409675121307373,4.828375339508057,5.859492778778076,36.04907989501953,-39.22502517700195,-14.107149124145508,47.53507995605469,-3.520808458328247,-47.32014846801758,-5.978245258331299,-2.8522796630859375,49.212642669677734,-4.474177360534668,-19.633934020996094,-7.257693290710449,-10.908175468444824,-59.95689392089844,-16.081823348999023,-67.72834014892578,-11.141069412231445,-21.97075080871582,46.83708572387695,11.159344673156738,0.0006205507088452578,-44.225502014160156,-13.746177673339844,10.476579666137695,-23.30864715576172,-9.887535095214844,-5.272761344909668,46.8239860534668,-42.74974822998047,-20.058162689208984,-12.11130428314209,-24.094396591186523,-57.785709381103516,18.16628074645996,9.798394203186035,31.1633358001709,14.163806915283203,-41.79872512817383,75.05630493164062,-40.660282135009766,-46.67485046386719,-19.634979248046875,0.3936663568019867,-47.40693283081055,16.95686149597168,-18.605314254760742,-18.07510757446289,41.961509704589844,-8.152815818786621,49.215301513671875,-38.02509307861328,14.222329139709473,1.574550747871399,50.43453598022461,8.135306358337402,16.325040817260742,-14.334665298461914,-60.17005920410156,-21.7633056640625,-5.766984462738037,-18.559749603271484,-13.5325345993042,19.097238540649414,-10.864809036254883,7.127076148986816,1.170400857925415,-31.295490264892578,74.18956756591797,18.242053985595703,-67.05799865722656,-12.485014915466309,49.29973220825195,51.884796142578125,8.117053031921387,18.367761611938477,6.18270206451416,31.897586822509766,-8.940753936767578,-61.8481330871582,31.79007911682129,16.924894332885742,-33.5494384765625,49.20733642578125,-4.484594821929932,-14.233004570007324,20.60135841369629,-11.787724494934082,9.275334358215332,1.621245265007019,0.7687712907791138,-1.7724592685699463,50.05561065673828,23.9722843170166,-61.75074768066406,-54.60426330566406,16.303197860717773,14.019966125488281,6.183263778686523,-5.267158031463623,-11.76561164855957,17.412708282470703,-42.11982345581055,-5.441939830780029,48.77953338623047,29.284175872802734,-38.64346694946289,-61.49806213378906,-11.899761199951172,48.30494689941406,49.20923614501953,-26.712812423706055,0.8034841418266296,-16.980525970458984,28.007343292236328,-36.18693923950195,26.83056640625,-5.4068603515625,17.5209903717041,28.443416595458984,-9.80688190460205,1.2667694091796875,-48.838157653808594,-3.8015382289886475,-13.209171295166016,-10.051745414733887,3.9797441959381104,-17.50872039794922,29.941940307617188,-66.35546112060547,-27.33306121826172,49.222503662109375,-66.46794891357422,23.298274993896484,16.349302291870117,-2.2518415451049805,-67.71497344970703,18.34024429321289,-14.626933097839355,-1.2255408763885498,6.8789591789245605,-42.11973571777344,7.21049165725708,3.3596303462982178,-21.18221092224121,2.4151418209075928,-36.14189147949219,77.8165283203125,-20.519041061401367,49.487205505371094,-1.4163026809692383,-11.01338005065918,13.08224105834961,2.376269817352295,-12.274035453796387,13.14026927947998,-4.68292760848999,-23.993640899658203,-19.550148010253906,-0.26840323209762573,-38.360618591308594,-7.775325298309326,-17.25363540649414,-15.54609489440918,29.10086441040039,25.728343963623047,24.780498504638672,-73.51908111572266,-13.427911758422852,23.461688995361328,42.449119567871094,38.296966552734375,-69.00096893310547,18.23183822631836,-18.726730346679688,15.681044578552246,-11.346368789672852,10.648283958435059,12.577037811279297,23.51504135131836,-42.84733581542969,-14.886021614074707,-40.41998291015625,49.93320846557617,-17.047893524169922,-40.47288513183594,13.27165412902832,-17.137939453125,35.67706298828125,-44.204566955566406,11.902817726135254,29.274023056030273,-20.886402130126953,21.630151748657227,10.417667388916016,27.773042678833008,22.94278907775879,14.008637428283691,35.375816345214844,-22.463035583496094,-23.295141220092773,-17.470661163330078,-15.203089714050293,-10.589861869812012,4.433734893798828,-60.31544494628906,-2.853463649749756,2.9922285079956055,-5.861297130584717,-45.80664825439453,-12.889861106872559,-43.29317855834961,-50.38822937011719,1.3788131475448608,52.66862487792969,2.303385019302368,12.664891242980957,7.541690349578857,16.522226333618164,6.177019119262695,-17.1860408782959,-5.2591376304626465,-8.720905303955078,17.45561408996582,21.22176170349121,-7.8936238288879395,-7.400509357452393,-42.24892044067383,4.609015941619873,-39.7154655456543,-44.39655303955078,-5.862590789794922,-7.882747173309326,-14.867389678955078,19.755569458007812,4.842893600463867,-47.099796295166016,47.06675720214844,-8.516502380371094,-9.660699844360352,27.849994659423828,39.4727783203125,-21.919824600219727,1.150765061378479,17.23291015625,43.2302360534668,-48.03425598144531,0.6558599472045898,25.878616333007812,-58.20945739746094,7.940639019012451,4.445115566253662,-42.16309356689453,51.942840576171875,-32.350860595703125,-40.803592681884766,1.259148120880127,12.63137435913086,-11.875051498413086,-8.557479858398438,-73.17228698730469,-0.850470781326294,-4.412838935852051,-3.7747373580932617,-60.2493782043457,-24.9743709564209,19.625568389892578,12.531523704528809,-37.96440505981445,12.723429679870605,-44.66707229614258,-8.864279747009277,15.567472457885742,43.69953155517578,-6.531880855560303,11.536327362060547,29.70751190185547,13.865551948547363,-10.842400550842285,8.615159034729004,13.31269359588623,22.29558753967285,-17.081575393676758,18.86652374267578,9.225570678710938,-23.110580444335938,28.272775650024414,10.796640396118164,-1.2701438665390015,49.22372055053711,-66.31330871582031,47.70439529418945,-14.57889461517334,-4.920393943786621,-14.311153411865234,0.03641209751367569,16.604278564453125,-42.59684371948242,7.93438720703125,-60.36043930053711,-8.861669540405273,51.10698699951172,51.227848052978516,-17.822750091552734,-12.88095760345459,-8.347362518310547,-24.095829010009766,-0.38322320580482483,11.366793632507324,-45.42431640625,48.74435043334961,-11.65707778930664,-13.9435453414917,20.107032775878906,22.212604522705078,-14.5252103805542,14.837896347045898,-9.743165969848633,-9.735264778137207,-10.980779647827148,-60.3232536315918,-19.36092185974121,-66.62013244628906,5.8053765296936035,-75.07683563232422,26.221689224243164,-9.759801864624023,12.382603645324707,-48.08078384399414,-39.08930206298828,-34.41883850097656,16.903610229492188,-20.387889862060547,-14.227152824401855,0.7180643081665039,-11.539830207824707,14.83491325378418,31.44026756286621,-69.3167495727539,-13.157893180847168,9.257752418518066,19.24063491821289,54.5798225402832,19.520763397216797,9.108028411865234,-10.601408958435059,18.22657585144043,36.30458068847656,13.365097045898438,-74.5111083984375,-20.6464786529541,7.134072780609131,12.837427139282227,23.64645767211914,77.61688995361328,-15.843948364257812,16.690181732177734,-8.9453125,73.17900085449219,-41.93891906738281,18.431108474731445,46.84431457519531,-17.27750015258789,-43.52505111694336,76.3096923828125,15.143755912780762,-13.730623245239258,-2.4541072845458984,49.690216064453125,31.19455909729004,16.271488189697266,-9.102591514587402,-14.912210464477539,-1.3122092485427856,-55.38506317138672,-22.06475830078125,-15.901374816894531,-46.309120178222656,41.04146194458008,27.515331268310547,10.884390830993652,-0.925005316734314,-48.047603607177734,20.220062255859375,13.951128959655762,-11.722129821777344,-12.685887336730957,22.351503372192383,73.8175048828125,21.00509262084961,-18.289199829101562,39.48457336425781,-0.4836133122444153,12.158712387084961,9.919337272644043,-0.6347499489784241,-68.90635681152344,72.76738739013672,8.272165298461914,-44.84575271606445,-9.820887565612793,8.89728832244873,73.2735595703125,9.287156105041504,-49.33860778808594,10.862198829650879,-22.887989044189453,28.723783493041992,27.79416847229004,47.36668395996094,25.72749137878418,-43.35301208496094,-3.7288174629211426,14.013786315917969,-29.970781326293945,-1.7501145601272583,-2.338289499282837,28.041471481323242,15.30010986328125,25.863855361938477,-34.089542388916016,0.6962473392486572,2.5804646015167236,74.80479431152344,16.710886001586914,-14.77783489227295,-9.885149002075195,-42.254634857177734,-18.054950714111328,-35.53212356567383,-34.09955596923828,-41.89051055908203,-31.817556381225586,49.462852478027344,12.55108642578125,20.09303092956543,1.299499273300171,20.822351455688477,16.23671531677246,-20.061365127563477,-8.154687881469727,13.826784133911133,6.369787693023682,-49.445613861083984,14.057114601135254,20.399072647094727,-2.4863882064819336,51.47172927856445,-33.631019592285156,14.456718444824219,11.076542854309082,-3.7006826400756836,-14.625515937805176,18.003339767456055,-20.129369735717773,-45.47792053222656,-22.281436920166016,16.71672248840332,43.989200592041016,-47.995426177978516,16.27668571472168,-8.614208221435547,23.016345977783203,9.903365135192871,-44.29619598388672,-8.912760734558105,9.740006446838379,11.937909126281738,-37.11791229248047,-14.439855575561523,30.551998138427734,-59.33118438720703,72.96684265136719,-44.297203063964844,6.238278388977051,-23.688480377197266,72.98458862304688,-2.0743987560272217,7.232947826385498,-43.855953216552734,-74.244140625,10.652685165405273,12.362930297851562,-17.598125457763672,-1.3767257928848267,10.872422218322754,-17.240060806274414,-48.000038146972656,-2.1241838932037354,-32.1955680847168,14.615376472473145,12.867899894714355,73.37403106689453,8.32709789276123,-16.446813583374023,74.38532257080078,-16.515731811523438,-16.27103614807129,-33.31977081298828,47.00876235961914,0.8312305212020874,-64.19245147705078,-1.9600086212158203,-15.062281608581543,51.5413932800293,1.6896283626556396,-0.819360613822937,-9.238158226013184,-50.208465576171875,-14.439004898071289,24.39328384399414,-22.36963653564453,-44.02647399902344,-15.550228118896484,-22.162485122680664,13.250130653381348,31.773378372192383,-32.204505920410156,-12.587592124938965,11.92247486114502,9.366562843322754,53.34866714477539,-1.2156840562820435,19.205110549926758,-22.095226287841797,-3.3443448543548584,-3.1069421768188477,-67.8784408569336,-11.783477783203125,16.738582611083984,43.36614990234375,18.825164794921875,-48.033660888671875,-46.99020004272461,-69.45623016357422,8.72810173034668,18.918214797973633,-69.2217025756836,22.748798370361328,19.542999267578125,19.944604873657227,-33.16218185424805,10.812690734863281,50.51247787475586,42.66176986694336,-58.063621520996094,-7.5688252449035645,53.39513397216797,19.04222869873047,46.803077697753906,14.613914489746094,-39.98577880859375,-47.35909652709961,-0.04434094578027725,43.19245910644531,-40.349605560302734,11.21408462524414,9.267562866210938,16.208404541015625,16.71974754333496,74.55388641357422,-4.5121893882751465,10.773550987243652,24.886432647705078,14.323823928833008,11.367759704589844,22.116743087768555,-18.89101219177246,-3.0043933391571045,-67.60166931152344,46.78330993652344,51.14754104614258,26.19996452331543,27.352262496948242,10.543167114257812,11.570513725280762,-74.17402648925781,-16.64200210571289,19.491107940673828,30.341035842895508,-66.38571166992188,-7.800051689147949,-17.564796447753906,-15.057806968688965,-56.82124710083008,9.218215942382812,0.7992787957191467,-30.736392974853516,-19.17698097229004,11.243465423583984,-0.6584227681159973,-67.73949432373047,11.123441696166992,18.12117576599121,-45.69025421142578,-13.226776123046875,-17.251415252685547,-46.16242218017578,-15.585521697998047,-9.72065544128418,-48.97002029418945,-5.572013854980469,12.505784034729004,15.691642761230469,21.644189834594727,-42.19346237182617,-60.086639404296875,7.625126361846924,-7.209774971008301,-13.210512161254883,-9.390069007873535,-6.164117813110352,-13.94354248046875,-63.414886474609375,19.66445541381836,29.510135650634766,40.29676055908203,22.263010025024414,12.011246681213379,73.5103530883789,-14.751744270324707,-3.8387787342071533,-12.159400939941406,-6.012922286987305,48.03242492675781,-13.793596267700195,-5.31097936630249,-17.187074661254883,-11.732560157775879,-10.734651565551758,-0.23162512481212616,-69.21733093261719,6.453853607177734,-14.203385353088379,-33.37628173828125,3.783137798309326,38.72724914550781,-73.59402465820312,-46.18098831176758,-6.293198585510254,17.543811798095703,50.60853576660156,-8.594139099121094,12.851293563842773,10.00357723236084,-21.464750289916992,-7.960797309875488,-30.93572235107422,16.37887954711914,31.101930618286133,5.294183254241943,-68.68387603759766,4.861398696899414,12.484956741333008,11.595523834228516,15.408090591430664,-1.0992636680603027,2.5144524574279785,8.853799819946289,-67.11428833007812,13.101101875305176,4.686463356018066,-39.33222961425781,-60.35811996459961,-31.748472213745117,-50.852088928222656,-41.94146728515625,-42.521297454833984,8.602025032043457,13.877684593200684,-45.9136848449707,-4.638416767120361,5.4275736808776855,-31.402992248535156,23.149715423583984,15.466827392578125,9.297842025756836,-20.239160537719727,-48.70569610595703,-44.299407958984375,41.419158935546875,47.941749572753906,19.687755584716797,17.819910049438477,-49.144588470458984,9.106270790100098,-5.590852737426758,0.6696051359176636,30.88135528564453,-15.166159629821777,29.334815979003906,14.874837875366211,24.500370025634766,20.16225242614746,8.25894546508789,27.84968376159668,51.20289993286133,29.58441162109375,2.878241539001465,16.858083724975586,77.63202667236328,13.665998458862305,15.167000770568848,-2.745729684829712,-34.76682662963867,-5.603618144989014,6.235038757324219,14.472896575927734,14.759607315063477,-6.1082916259765625,-2.3598928451538086,19.374637603759766,12.949470520019531,9.08758544921875,-19.283199310302734,12.235600471496582,-17.139711380004883,-23.59539794921875,-31.83766746520996,29.796113967895508,6.430332183837891,-19.432418823242188,52.31369400024414,4.6710028648376465,20.179353713989258,-15.359267234802246,-14.446590423583984,-13.493287086486816,-67.93800354003906,49.15968704223633,30.1171875,30.865320205688477,-49.54006576538086,28.713830947875977,-6.078988552093506,18.326366424560547,-9.077235221862793,-0.9231284856796265,0.9594748616218567,9.696517944335938,46.88856506347656,1.8091236352920532,19.33403778076172,-20.684436798095703,1.9284628629684448,7.239361763000488,6.7302961349487305,-1.8489232063293457,10.86111831665039,27.150390625,52.065757751464844,8.793822288513184,25.366491317749023,15.630661010742188,-12.3796968460083,46.871395111083984,14.440089225769043,30.32620620727539,-3.071010112762451,74.16481018066406,-68.73159790039062,4.491281986236572,-9.256359100341797,5.082403182983398,-25.795337677001953,48.766727447509766,-8.758122444152832,17.582365036010742,47.82019805908203,-10.943034172058105,11.407368659973145,10.78481388092041,11.685859680175781,-44.286407470703125,-5.806039333343506,24.592756271362305,-40.68844223022461,78.77910614013672,-1.4463070631027222,50.88970184326172,31.14655876159668,-21.849773406982422,-67.60804748535156,-23.21202850341797,-5.655797481536865,-4.336175441741943,12.35098648071289,-8.497904777526855,13.491287231445312,29.19000816345215,-2.3667404651641846,-15.052062034606934,-40.961551666259766,-61.46128463745117,-13.286357879638672,-66.90422058105469,-60.242950439453125,47.01105499267578,4.2967848777771,47.58608627319336,-31.922760009765625,-13.645751953125,-33.83543395996094,11.46804428100586,2.1503658294677734,-11.865585327148438,-6.364602088928223,9.612092971801758,-56.84664535522461,2.2013092041015625,-9.643043518066406,-33.009620666503906,13.253558158874512,-3.4649343490600586,-57.0263671875,20.062959671020508,22.713518142700195,-59.77850341796875,-2.987163782119751,-63.37928009033203,-47.347007751464844,24.691205978393555,48.34367370605469,12.16766357421875,16.844261169433594,8.084918022155762,12.069336891174316,15.563166618347168,18.3428897857666,15.46170711517334,-13.163471221923828,-14.866495132446289,11.546380996704102,-68.23616027832031,9.225956916809082,22.132007598876953,50.8848876953125,-16.400575637817383,-14.701952934265137,46.803794860839844,-11.579780578613281,-67.92369079589844,7.686305046081543,36.96751403808594,-13.316628456115723,26.395742416381836,51.450904846191406,6.172944068908691,-15.60879135131836,-10.510435104370117,16.485450744628906,-17.57314682006836,13.861405372619629,0.7794121503829956,51.48781204223633,23.222103118896484,-67.68641662597656,38.730384826660156,-55.532535552978516,6.245438575744629,47.819732666015625,-1.4215561151504517,-9.98973274230957,-11.798664093017578,15.348695755004883,-17.275495529174805,43.84798812866211,25.41565704345703,-33.7411003112793,23.169645309448242,-69.07533264160156,7.677465915679932,15.944052696228027,-21.841262817382812,-4.178752899169922,-58.111793518066406,-3.0966198444366455,-14.841963768005371,23.697954177856445,-12.99768352508545,7.542035102844238,-10.814193725585938,-3.756010055541992,-69.37443542480469,41.41030502319336,-6.653353691101074,-3.7096035480499268,-19.7735595703125,28.885683059692383,12.919170379638672,-62.665740966796875,-74.53968048095703,74.38626861572266,-31.26541519165039,13.505430221557617,-17.052867889404297,16.555444717407227,17.74353790283203,-8.576445579528809,-10.324685096740723,-46.25178527832031,-15.462211608886719,50.66266632080078,-4.977602958679199,-75.13420867919922,-50.78703689575195,25.593379974365234,5.488282203674316,27.354368209838867,9.652512550354004,21.500715255737305,14.112784385681152,10.020208358764648,-5.034816741943359,-5.157734394073486,-46.167659759521484,-12.028488159179688,52.34275436401367,-10.332310676574707,8.594986915588379,24.633459091186523,16.031240463256836,43.643760681152344,-15.703660011291504,-11.076909065246582,-15.946305274963379,-1.5744482278823853,-17.676239013671875,-74.80925750732422,-1.1295626163482666,-10.197253227233887,49.93400192260742,22.653635025024414,15.039027214050293,10.717183113098145,26.804719924926758,8.57511043548584,16.799612045288086,11.840389251708984,-74.84072875976562,0.3089185655117035,16.811649322509766,11.627762794494629,-48.1878547668457,-33.890586853027344,29.839811325073242,-11.46794319152832,0.26771876215934753,20.973045349121094,-15.90207290649414,21.441118240356445,47.61139678955078,23.522056579589844,-6.215944766998291,9.71986198425293,21.57776641845703,-49.587196350097656,19.780078887939453,46.99653625488281,-13.768366813659668,9.080677032470703,75.09738159179688,21.47039222717285,17.66453742980957,12.423303604125977,-11.343063354492188,23.400972366333008,35.78688430786133,-35.63612365722656,8.54965877532959,5.143278121948242,-5.68666410446167,-62.83362579345703,21.445693969726562,17.384540557861328,12.243196487426758,-23.407520294189453,-22.614103317260742,30.784149169921875,8.98669719696045,-9.547585487365723,-67.95874786376953,-39.00270462036133,47.81337356567383,11.634794235229492,6.162503719329834,-12.045633316040039,4.068874835968018,7.368514537811279,2.9680657386779785,19.243728637695312,-14.925244331359863,-2.610368490219116,-18.024682998657227,30.053197860717773,-34.82369613647461,16.8720703125,0.2629712224006653,-3.0043418407440186,-34.094486236572266,29.94853973388672,2.6063170433044434,-5.055619716644287,22.65975570678711,-12.095412254333496,23.769306182861328,-39.688438415527344,30.30101776123047,21.74493408203125,-39.23435592651367,-66.43557739257812,19.286518096923828,11.523029327392578,-50.01678466796875,-16.809776306152344,-14.889015197753906,-45.05855941772461,-11.960840225219727,-57.782711029052734,-69.8448257446289,73.3985824584961,30.37193489074707,-9.15263843536377,-2.1585962772369385,43.371116638183594,-11.193907737731934,16.78476333618164,3.5656731128692627,-17.566566467285156,1.2427361011505127,-12.120312690734863,-68.8725357055664,2.495032787322998,-65.21852111816406,-13.963835716247559,-11.859170913696289,13.863779067993164,16.673828125,-3.4280142784118652,10.503326416015625,13.427618980407715,14.177083969116211,17.93132209777832,48.07210922241211,-16.832021713256836,-17.317047119140625,13.120269775390625,-25.140932083129883,-16.408050537109375,-4.286798477172852,29.350141525268555,-15.206246376037598,3.538039445877075,16.345796585083008,52.295143127441406,11.621045112609863,-57.09690475463867,-10.301437377929688,-11.264263153076172,24.931190490722656,-69.27964782714844,75.1321792602539,-59.669246673583984,50.85773468017578,-12.5669584274292,-13.53935432434082,-38.0195198059082,-9.12585735321045,-74.64443969726562,6.771071910858154,-11.57683277130127,-8.359665870666504,19.09966468811035,-22.081716537475586,-15.900877952575684,0.1279233694076538,15.04894733428955,22.564411163330078,-43.24913787841797,-68.1117935180664,-0.4283945560455322,25.635374069213867,4.454423427581787,27.354293823242188,46.9369010925293,-22.281618118286133,29.361772537231445,26.38920783996582,13.60773754119873,15.900046348571777,-45.2191276550293,8.723514556884766,22.154205322265625,-17.980060577392578,-73.32490539550781,-18.549854278564453,-17.46274185180664,-41.00468444824219,14.325315475463867,-18.567758560180664,-75.23810577392578,-38.01982498168945,-16.756559371948242,-38.23444747924805,-1.0581141710281372,30.878721237182617,-10.981882095336914,10.604243278503418,-57.091976165771484,14.639095306396484,4.340166091918945,-46.16153335571289,-10.073345184326172,21.116121292114258,30.66899299621582,-11.020598411560059,-46.12068176269531,6.793456077575684,1.155068039894104,-16.392160415649414,19.739131927490234,16.587968826293945,-49.00077819824219,2.707638740539551,-0.222824826836586,14.279224395751953,18.671815872192383,-23.26123809814453,75.19148254394531,-42.71394348144531,12.282631874084473,-6.824616432189941,-30.77842140197754,-10.234688758850098,20.483394622802734,3.9904327392578125,8.043585777282715,-11.000920295715332,-15.693368911743164,23.146156311035156,48.07106399536133,0.8504770994186401,-14.31803035736084,-14.888875961303711,-69.48957824707031,0.8191969990730286,5.017948627471924,14.77802562713623,18.155174255371094,10.133613586425781,29.818357467651367,16.093698501586914,-5.135918617248535,16.876630783081055,10.779704093933105,26.22257423400879,9.967123985290527,73.25730895996094,15.34582805633545,-2.1141769886016846,-8.894590377807617,-11.84885025024414,-57.59577941894531,-16.588420867919922,21.973514556884766,-69.67731475830078,-16.21653175354004,19.968782424926758,22.99330711364746,1.1537152528762817,-15.398137092590332,15.66540813446045,15.641677856445312,16.91111183166504,-0.557984471321106,-42.11847686767578,22.77045440673828,3.2619469165802,49.462955474853516,46.95074462890625,52.041053771972656,-15.572388648986816,-74.966796875,-12.575715065002441,48.7713737487793,17.855693817138672,20.804637908935547,-73.62091064453125,28.514019012451172,-6.824790000915527,15.259671211242676,-10.233779907226562,18.982751846313477,-51.084896087646484,30.38190460205078,16.631690979003906,-13.94332504272461,73.69524383544922,6.411231994628906,18.710464477539062,-8.19491195678711,46.908042907714844,-16.87047004699707,13.464991569519043,78.01264190673828,16.992725372314453,76.3296890258789,9.107539176940918,3.750897169113159,22.57238006591797,-9.282015800476074,10.857166290283203,-34.63324737548828,28.787355422973633,28.235755920410156,75.68486022949219,-4.884485244750977,-39.84088897705078,14.572240829467773,-16.25726890563965,28.219907760620117,47.58863067626953,75.70378112792969,12.334132194519043,23.368898391723633,15.837486267089844,51.35054397583008,1.5212323665618896,8.630037307739258,-14.889856338500977,0.03531058132648468,-12.592405319213867,5.965917587280273,-47.1071891784668,31.068126678466797,-6.011506080627441,-14.87750244140625,-12.243151664733887,4.984181880950928,8.295360565185547,18.008283615112305,23.358642578125,26.882150650024414,-10.234171867370605,8.494389533996582,7.04021692276001,-8.740946769714355,-23.47905921936035,-45.58891677856445,74.4586410522461,29.314828872680664,27.19947624206543,-3.430715799331665,-45.36965560913086,-13.177845001220703,-21.18482780456543,-8.482495307922363,-2.95151424407959,-18.7752628326416,2.995729923248291,-13.694162368774414,-44.37180709838867,47.03091049194336,29.31325912475586,-67.89289093017578,-74.93636322021484,-15.805493354797363,11.59315299987793,-58.300010681152344,-5.521858215332031,-12.249001502990723,50.48717498779297,-9.486055374145508,7.346498966217041,-75.11625671386719,13.595181465148926,-7.458555698394775,-49.10286331176758,50.20612335205078,14.64002513885498,-14.401276588439941,-11.517455101013184,12.374902725219727,-4.519983768463135,-66.6884765625,30.301536560058594,-47.10322189331055,-21.898666381835938,-19.122114181518555,21.387853622436523,2.6651556491851807,-19.264806747436523,1.0112481117248535,-6.073160648345947,-2.078737497329712,-10.506860733032227,-19.33411407470703,-11.25147533416748,-5.820005416870117,3.961489677429199,8.092777252197266,-20.82182502746582,-9.110444068908691,27.78972816467285,11.37431526184082,-38.447139739990234,51.496070861816406,-24.19219970703125,46.79829025268555,-17.850685119628906,0.4755287766456604,-2.9272732734680176,-58.08372497558594,5.402733325958252,-30.701324462890625,11.610136032104492,12.976785659790039,-13.172934532165527,9.836952209472656,2.0643179416656494,-38.42723083496094,-12.051351547241211,4.097050666809082,-34.81196594238281,-13.046012878417969,-13.943143844604492,-59.724002838134766,18.77495002746582,50.009796142578125,-10.149418830871582,4.5853400230407715,13.037505149841309,-59.908111572265625,25.954269409179688,-61.49623107910156,-11.794792175292969,1.0253223180770874,47.096649169921875,16.533830642700195,15.42856216430664,18.924362182617188,15.277107238769531,-2.4576284885406494,29.96552848815918,-62.83501434326172,15.146114349365234,-7.5464677810668945,7.405198574066162,14.335187911987305,4.929884433746338,19.140853881835938,-47.45878601074219,-13.952729225158691,23.67142677307129,26.807828903198242,13.938433647155762,-8.963491439819336,-30.797956466674805,21.296499252319336,-21.43642234802246,-33.33177947998047,19.653751373291016,-1.3484516143798828,-9.620363235473633,-37.6668701171875,14.618298530578613,-21.679044723510742,22.694889068603516,20.69422149658203,22.306333541870117,0.8577824831008911,-4.7123188972473145,-14.76357650756836,16.742944717407227,52.039981842041016,-42.538455963134766,-7.230188846588135,5.223632335662842,-34.72157287597656,11.760116577148438,-21.96168327331543,-1.1910672187805176,-16.350900650024414,-17.714590072631836,77.30633544921875,-38.214908599853516,-48.7905387878418,-2.522782325744629,-42.31173324584961,28.06358528137207,-35.587284088134766,21.49659538269043,-0.7741143107414246,31.93132781982422,7.242827415466309,-1.093950867652893,8.320342063903809,0.24625378847122192,49.198665618896484,51.471736907958984,-22.57742691040039,49.21603012084961,-6.284625053405762,-69.33061218261719,-11.571579933166504,-12.50212574005127,-4.373455047607422,-34.267879486083984,26.818517684936523,-30.952030181884766,19.722301483154297,-17.318878173828125,27.720312118530273,-16.29649543762207,-11.038352966308594,7.834446907043457,11.632818222045898,47.0113639831543,20.59724998474121,24.773414611816406,-65.52979278564453,14.703824996948242,-15.670639038085938,-33.72932815551758,-37.77787399291992,11.710716247558594,-44.000267028808594,14.458927154541016,-66.46958923339844,-59.34038162231445,-4.547859191894531,11.864788055419922,14.554298400878906,25.312454223632812,18.95016860961914,-5.346570014953613,6.251280784606934,-67.08041381835938,9.034698486328125,-2.280649185180664,-11.076963424682617,-11.311714172363281,15.414691925048828,-14.901816368103027,8.285822868347168,31.041337966918945,-11.029377937316895,0.10282465815544128,-45.94415283203125,-8.391529083251953,-7.901821613311768,-65.53419494628906,-69.55225372314453,-32.31128692626953,7.379604339599609,-15.261898040771484,-17.09531021118164,26.09056282043457,-17.801380157470703,-56.63282775878906,47.72511672973633,25.167036056518555,-14.46992301940918,-31.207826614379883,-12.024080276489258,20.215618133544922,-0.3447318971157074,24.578746795654297,14.861688613891602,75.71510314941406,-1.6940381526947021,-33.10701370239258,21.183887481689453,50.573604583740234,28.731475830078125,-61.48713684082031,25.85221290588379,28.161975860595703,31.08318328857422,23.561119079589844,1.6831837892532349,-25.513015747070312,77.45927429199219,24.176382064819336,3.7649331092834473,-45.926937103271484,-0.4447975158691406,-49.01408386230469,-43.312477111816406,0.7660458087921143,-11.772968292236328,28.62122344970703,46.79811477661133,-11.406253814697266,47.449710845947266,-18.34977149963379,-25.277868270874023,10.624528884887695,-13.907844543457031,24.0882511138916,-18.09869384765625,4.437869071960449,-33.63689041137695,27.544328689575195,-8.527915000915527,11.225375175476074,-17.028888702392578,-5.161813735961914,31.07724380493164,-14.439336776733398,21.858562469482422,-51.4377326965332,11.180418014526367,-68.90755462646484,7.579523086547852,-10.694605827331543,-14.534088134765625,-9.463156700134277,-5.277184963226318,-6.304980754852295,-11.616782188415527,52.04466247558594,12.661434173583984,22.10907745361328,0.3006654977798462,11.653594017028809,-13.043614387512207,47.59690856933594,19.223955154418945,17.332454681396484,16.542478561401367,-22.334678649902344,2.4880642890930176,-12.77444076538086,-16.76775360107422,22.591543197631836,22.33817481994629,28.541858673095703,-69.75829315185547,11.778801918029785,-11.557038307189941,6.659945964813232,15.769843101501465,-13.702746391296387,-12.555805206298828,-18.66383171081543,-0.5807898640632629,-5.368122577667236,-37.141815185546875,-3.6441051959991455,-9.01033878326416,75.48477172851562,-14.73875617980957,-43.360435485839844,25.753948211669922,-31.398258209228516,-4.08026647567749,9.980152130126953,-12.384198188781738,-1.0763667821884155,-42.5416259765625,28.01350975036621,-42.86920928955078,9.299836158752441,12.178604125976562,-43.5386962890625,12.463476181030273,52.2962532043457,-34.636077880859375,22.30919647216797,-18.241788864135742,-73.6998062133789,46.83717727661133,51.00822448730469,28.567758560180664,6.56231689453125,17.593185424804688,28.836578369140625,10.451839447021484,-12.283527374267578,-1.0918939113616943,-45.83668899536133,48.5797233581543,-65.45008850097656,-17.873239517211914,-20.279199600219727,-50.20574188232422,-14.792901039123535,7.997961521148682,11.636953353881836,-16.221582412719727,-4.433137893676758,16.955976486206055,15.134767532348633,-55.53290557861328,9.888162612915039,-14.912911415100098,-22.853418350219727,-9.634237289428711,-7.188344478607178,47.94140625,-1.858694314956665,0.5108867883682251,23.517988204956055,20.33846092224121,50.88400650024414,4.7846293449401855,-1.960640788078308,10.011401176452637,-13.66135025024414,35.04671096801758,-6.576037883758545,16.875932693481445,78.14834594726562,-11.099288940429688,-4.427577018737793,-33.839439392089844,15.862676620483398,-34.003875732421875,-4.76409387588501,10.299057006835938,-5.172813415527344,24.518577575683594,75.46221923828125,18.009763717651367,12.181524276733398,-39.657501220703125,-7.88873815536499,-67.71269226074219,-7.678078651428223,36.566917419433594,28.724422454833984,27.839935302734375,8.137374877929688,25.162996292114258,0.046981483697891235,34.65543746948242,-69.68436431884766,19.098007202148438,-1.3019232749938965,-10.60995864868164,-27.970062255859375,-49.09401321411133,-15.0382080078125,-15.804471015930176,50.76535415649414,16.495573043823242,-37.55863952636719,-16.101083755493164,-18.40949249267578,6.413434982299805,18.74128532409668,-1.907326102256775,50.571197509765625,-7.281410217285156,-25.22460174560547,17.140684127807617,18.420896530151367,-43.68696975708008,20.13981056213379,2.3287718296051025,8.715980529785156,-5.346524715423584,75.72783660888672,-58.17178726196289,-55.29420852661133,-11.603412628173828,27.33018684387207,35.67728805541992,-14.817853927612305,46.839168548583984,11.740668296813965,-48.183284759521484,-11.153975486755371,14.153654098510742,-40.2869987487793,-9.110946655273438,10.00444221496582,-15.241201400756836,-70.49227142333984,19.406343460083008,14.53576946258545,-3.6573731899261475,-37.50541305541992,-18.595722198486328,36.3101921081543,-16.42007827758789,9.11945915222168,-49.74380874633789,-15.010018348693848,-14.529413223266602,77.33158874511719,31.002050399780273,-9.61834716796875,0.913468599319458,16.193471908569336,-40.82453536987305,-9.554235458374023,-5.387501239776611,51.998958587646484,-21.27909278869629,-13.889090538024902,12.326294898986816,4.621431827545166,23.56085205078125,36.32933807373047,0.7691273093223572,-42.80858612060547,-35.9725341796875,-67.00348663330078,46.79905319213867,-68.9679183959961,13.865062713623047,-13.290095329284668,38.76336669921875,25.667179107666016,42.316917419433594,4.837488174438477,-19.84503936767578,21.089506149291992,-8.760405540466309,-3.252312183380127,78.00567626953125,-31.805835723876953,-14.69435977935791,-8.507970809936523,-13.936949729919434,8.874164581298828,52.06065368652344,-33.21321105957031,-66.8286361694336,39.4612922668457,-12.183202743530273,30.300960540771484,-6.483798980712891,3.9621496200561523,15.58205795288086,-2.116577625274658,-2.608905792236328,-14.867066383361816,-12.10097885131836,-16.273887634277344,19.087251663208008,46.908042907714844,15.378326416015625,-32.78526306152344,30.66748046875,51.597625732421875,-12.236882209777832,-62.874298095703125,11.775299072265625,7.2206315994262695,18.678741455078125,3.3935606479644775,7.07041597366333,26.36231803894043,-17.260665893554688,-1.4691799879074097,39.879364013671875,-35.08247375488281,-8.481477737426758,-66.4337158203125,-12.213613510131836,-6.420459747314453,51.59751510620117,2.9435973167419434,-4.832704544067383,-5.981467247009277,3.133786916732788,2.0694122314453125,-9.551288604736328,15.790397644042969,24.76224708557129,29.65199089050293,-24.352066040039062,14.518064498901367,-40.95293426513672,16.840192794799805,2.451610565185547,17.452312469482422,5.85650110244751,51.10789108276367,4.842875003814697,-6.009087562561035,3.577476978302002,1.8258838653564453,-14.464493751525879,49.46470642089844,-8.876964569091797,47.151283264160156,-22.20409393310547,29.303569793701172,-49.2164192199707,50.721923828125,50.4014892578125,19.708499908447266,11.423297882080078,24.346948623657227,16.58143424987793,23.29771614074707,-73.91134643554688,-2.4513347148895264,-22.402807235717773,-14.098869323730469,-49.560691833496094,27.99290657043457,-5.201773166656494,-13.930421829223633,-10.507875442504883,4.77939510345459,5.548159599304199,11.12196159362793,-23.678133010864258,25.716333389282227,-2.6157119274139404,39.25,-4.5731000900268555,7.068302631378174,20.272783279418945,-18.05054473876953,29.450176239013672,28.99565887451172,-75.01078033447266,52.073829650878906,-40.18365478515625,2.9466071128845215,-44.07886505126953,-4.060186386108398,-33.8621940612793,50.67106246948242,-18.10444450378418,19.73310661315918,25.925689697265625,28.063644409179688,26.384368896484375,46.84783935546875,-12.127251625061035,-48.18682098388672,-10.291470527648926,14.588146209716797,9.719355583190918,-49.843223571777344,52.01369857788086,75.47693634033203,-40.7001953125,48.307613372802734,21.224103927612305,16.155410766601562,17.558961868286133,-21.550142288208008,26.219036102294922,18.6051082611084,-8.87743854522705,52.01500701904297,-1.9679787158966064,-58.21769714355469,-39.757015228271484,72.7431869506836,-3.5634944438934326,77.16325378417969,77.53288269042969,-38.37630844116211,23.695232391357422,50.438724517822266,23.796707153320312,-2.1553666591644287,28.957237243652344,-16.164413452148438,46.80903625488281,23.008453369140625,-33.00446701049805,-5.8115315437316895,19.2614803314209,-14.73129653930664,-14.80534839630127,46.82304763793945,-4.494290828704834,36.33879089355469,-72.96526336669922,-10.377943992614746,6.889105796813965,11.055761337280273,-7.189450263977051,9.573476791381836,-48.7044563293457,-15.11585807800293,5.599127292633057,16.745704650878906,-17.437904357910156,-41.87599182128906,-55.34229278564453,-22.549558639526367,47.9384651184082,-14.029651641845703,-33.2605094909668,21.817855834960938,-30.1575927734375,-10.105372428894043,-43.13694381713867,50.920936584472656,-3.201359748840332,12.933037757873535,30.121225357055664,-18.7905330657959,-46.42512893676758,-33.746925354003906,8.329731941223145,8.0853910446167,-5.445275783538818,38.29607391357422,0.2909136116504669,11.370595932006836,-1.4595907926559448,-42.024314880371094,-18.306638717651367,23.793785095214844,16.735586166381836,-3.2477173805236816,15.612944602966309,-7.162220001220703,18.2822265625,6.105014324188232,0.18641288578510284,15.30158805847168,-58.12685775756836,-4.399641513824463,-3.3377299308776855,29.255300521850586,-10.737065315246582,-14.520105361938477,-5.889249801635742,-22.057279586791992,1.2230039834976196,15.3184814453125,12.679717063903809,29.882904052734375,-17.197551727294922,-21.703081130981445,47.0224723815918,8.955848693847656,73.88076782226562,19.716705322265625,47.12667465209961,-10.234696388244629,13.864096641540527,25.237619400024414,0.5518684983253479,31.621788024902344,28.556507110595703,6.646302223205566,2.205838918685913,-1.531508207321167,-29.231679916381836,20.02183723449707,-19.736982345581055,-13.058259010314941,43.82691192626953,-42.011470794677734,75.46153259277344,-2.4860641956329346,0.5670232176780701,-1.2986834049224854,9.838543891906738,3.430842161178589,12.332271575927734,-3.657269239425659,-33.00571823120117,-16.72504234313965,-74.63522338867188,-13.251778602600098,-39.00639343261719,16.38360023498535,12.291411399841309,-73.66777801513672,-5.513906002044678,3.1805474758148193,-17.268163681030273,-31.099729537963867,15.470538139343262,20.170419692993164,0.26156219840049744,-16.994871139526367,51.897274017333984,-14.770840644836426,-60.22429656982422,19.562898635864258,-68.5204849243164,-43.71461868286133,-37.707298278808594,-68.0327377319336,74.80780792236328,-14.799747467041016,-43.4641227722168,-11.877147674560547,-3.108232021331787,28.065601348876953,-63.36934280395508,-12.853720664978027,-58.270721435546875,46.814781188964844,-37.421539306640625,14.188080787658691,-12.75894546508789,29.486305236816406,-12.64876651763916,17.92096710205078,28.133203506469727,12.269095420837402,73.2292251586914,-20.38190269470215,-19.482532501220703,13.014610290527344,-1.9573438167572021,22.06067657470703,18.685209274291992,27.698463439941406,20.76581382751465,-16.436784744262695,-13.995049476623535,-3.976323366165161,-42.039554595947266,13.772493362426758,-10.36311149597168,-38.00375747680664,74.43780517578125,-11.344379425048828,-41.94904327392578,-45.66981887817383,-9.554102897644043,50.5647087097168,19.462614059448242,-14.479059219360352,47.639015197753906,8.246782302856445,17.702354431152344,22.712364196777344,12.651430130004883,-9.019603729248047,-17.655967712402344,32.55930709838867,51.47142791748047,-68.3735122680664,-44.98885726928711,25.900508880615234,2.41280460357666,-39.06663131713867,-18.60125732421875,46.988094329833984,-5.6170125007629395,16.0936222076416,2.0669105052948,-10.46058177947998,0.9517682790756226,49.2730827331543,-2.541116714477539,-3.6610238552093506,-15.468396186828613,17.830251693725586,16.261804580688477,18.594858169555664,-47.04128646850586,11.374565124511719,13.711091041564941,-37.00767135620117,-17.61244010925293,1.6813806295394897,21.41050910949707,25.346454620361328,3.9446346759796143,-49.61393737792969,12.7770357131958,-23.666078567504883,3.743478775024414,39.880859375,-43.115535736083984,-37.16139602661133,15.59887981414795,-4.578994274139404,4.560675144195557,-38.70028305053711,22.73217010498047,-12.754441261291504,-11.564472198486328,-62.59496307373047,28.69864845275879,-9.747096061706543,-0.09146155416965485,-10.457904815673828,11.619213104248047,46.90428924560547,-58.17744827270508,46.94988250732422,-1.7759437561035156,19.163694381713867,28.677330017089844,-28.2569580078125,74.17630767822266,16.281343460083008,-33.768978118896484,16.0937442779541,9.673260688781738,22.212486267089844,-14.595069885253906,6.188910961151123,17.07468605041504,-50.102657318115234,47.94091033935547,5.590027332305908,-14.319713592529297,15.140632629394531,51.896976470947266,-10.818013191223145,21.762889862060547,-62.59834289550781,24.389408111572266,7.965343952178955,-22.517194747924805,-68.61703491210938,-57.00117492675781,47.93852233886719,-0.5454517006874084,18.602811813354492,-5.7905802726745605,-33.91007614135742,-30.555784225463867,-46.8803825378418,-32.62959671020508,12.809385299682617,24.338239669799805,40.973812103271484,-33.951942443847656,12.821921348571777,31.807884216308594,1.973453164100647,18.1213436126709,-19.252710342407227,1.5245071649551392,-2.7950098514556885,12.150739669799805,-74.41474914550781,17.60352897644043,-58.745906829833984,46.8260383605957,9.136618614196777,-15.783872604370117,52.16791915893555,50.72133255004883,-42.95934295654297,-0.6657862663269043,-69.98410034179688,30.4005126953125,-6.790998458862305,23.263877868652344,-12.557719230651855,27.19280433654785,-14.319147109985352,25.60619354248047,-50.184730529785156,31.766510009765625,-34.1220703125,18.98948097229004,15.095970153808594,31.350452423095703,-10.121094703674316,1.5576461553573608,-17.554424285888672,25.6606388092041,-45.042320251464844,26.831729888916016,-7.15329647064209,73.50917053222656,19.195594787597656,31.184059143066406,12.591474533081055,-4.576049327850342,14.00550365447998,15.290602684020996,-10.870698928833008,20.15033531188965,-10.50834846496582,-3.9001739025115967,-16.71880340576172,26.547134399414062,0.8772863149642944,-10.904889106750488,8.084213256835938,-2.7904655933380127,49.2842903137207,5.344663143157959,25.841754913330078,4.5844011306762695,35.338523864746094,27.88297462463379,10.667207717895508,47.60137176513672,-4.114471435546875,-19.568143844604492,51.13740539550781,39.082115173339844,13.531228065490723,-67.69159698486328,-14.64004135131836,3.7910261154174805,-4.79306697845459,17.030738830566406,21.298147201538086,-73.0775375366211,-14.759979248046875,26.225040435791016,-15.934325218200684,-5.130680561065674,38.293025970458984,-34.2050895690918,47.54124450683594,26.221391677856445,75.72055053710938,6.805312156677246,-70.31366729736328,27.349964141845703,-13.764447212219238,17.23453140258789,29.996868133544922,0.3086981773376465,48.34904861450195,1.6339704990386963,-6.329063415527344,-33.20558166503906,-11.025895118713379,17.250669479370117,-55.532413482666016,51.28501892089844,17.272689819335938,13.599568367004395,73.18914031982422,-50.721370697021484,-20.425634384155273,72.91610717773438,13.510039329528809,-24.40622329711914,-56.634952545166016,23.372089385986328,-12.11237621307373,23.69561195373535,-66.82785034179688,16.999759674072266,-34.54096603393555,-15.77833080291748,11.858335494995117,42.31571578979492,-47.14137649536133,10.561985969543457,-42.712806701660156,-6.825233459472656,-21.32300567626953,72.79940795898438,-43.96538543701172,-60.06991195678711,13.324966430664062,-45.17494201660156,16.809680938720703,-9.237366676330566,-13.879752159118652,-42.82750701904297,42.195831298828125,17.30137825012207,38.293739318847656,2.9138269424438477,24.8609561920166,-18.355724334716797,52.038116455078125,12.857301712036133,49.48698806762695,21.811790466308594,-74.69475555419922,-4.96761417388916,19.646869659423828,11.02793025970459,26.166879653930664,28.501426696777344,-9.643757820129395,-16.407955169677734,13.620455741882324,-13.171178817749023,23.532926559448242,-25.787843704223633,51.2520637512207,74.90108489990234,-39.59675216674805,-13.43855094909668,12.17499828338623,-45.67168426513672,4.951099872589111,21.49974250793457,-16.263233184814453,47.932273864746094,-12.77143669128418,19.54340934753418,-14.841909408569336,-22.53877067565918,26.209888458251953,-35.0992546081543,-4.8019022941589355,-3.536242961883545,14.855199813842773,30.419519424438477,47.554847717285156,-1.491629719734192,-10.078696250915527,15.413374900817871,-45.93075942993164,-13.764384269714355,43.635711669921875,0.7129573822021484,9.804669380187988,-14.759164810180664,-18.068870544433594,-60.18267059326172,2.9389123916625977,15.54708194732666,-20.413436889648438,-39.96522903442383,0.9662892818450928,22.36420440673828,0.07938755303621292,48.30962371826172,48.81060791015625,16.779865264892578,-60.261104583740234,-74.98641204833984,-1.2029736042022705,18.814651489257812,7.245532512664795,-0.6788808703422546,14.8257474899292,12.974663734436035,73.9881362915039,-50.60552978515625,-40.323036193847656,-46.30781555175781,-44.18863296508789,10.482277870178223,-5.589501857757568,-23.41718864440918,29.926084518432617,26.09012794494629,-9.914039611816406,-16.607685089111328,28.335023880004883,5.247758865356445,-2.0944948196411133,-0.4847986400127411,16.383543014526367,72.7483139038086,3.740825653076172,11.418174743652344,-66.40069580078125,-22.287555694580078,-17.055274963378906,23.539840698242188,-19.32587432861328,21.32573699951172,-13.6920166015625,19.677276611328125,-6.14165735244751,-40.37697219848633,-43.685760498046875,50.753055572509766,28.019119262695312,46.79803466796875,30.811519622802734,21.569150924682617,1.5859277248382568,50.628238677978516,52.14546585083008,12.788064002990723,6.173058986663818,-33.76675796508789,35.06734848022461,-44.12800598144531,15.814857482910156,24.39519691467285,29.74340057373047,1.4746421575546265,18.276304244995117,23.136394500732422,-4.837268352508545,7.533517360687256,12.654122352600098,13.997949600219727,2.7815544605255127,-5.472498893737793,-69.23486328125,-69.4845962524414,-14.54605770111084,-34.050025939941406,-68.10887145996094,-38.324127197265625,15.414372444152832,-10.302699089050293,-11.511964797973633,-39.8913459777832,-18.443031311035156,11.508345603942871,9.554300308227539,51.054325103759766,-11.25318717956543,-5.107519149780273,21.09812355041504,17.496713638305664,-27.148530960083008,9.328351020812988,17.612735748291016,-19.8996639251709,15.731593132019043,54.58256149291992,-5.846407890319824,-21.408794403076172,46.95624542236328,14.460381507873535,18.775007247924805,9.461017608642578,43.99906921386719,21.7235050201416,-43.687660217285156,-59.76179885864258,-1.5003304481506348,51.25971603393555,-9.956884384155273,-31.967905044555664,1.9097263813018799,-32.317256927490234,12.487235069274902,15.49249267578125,-10.090813636779785,-8.347989082336426,0.9801245927810669,12.108184814453125,0.6288118958473206,29.33271026611328,78.5362548828125,0.99070805311203,-15.324158668518066,18.988449096679688,12.475567817687988,-43.6843147277832,0.22427578270435333,11.36902904510498,13.103711128234863,10.51268482208252,14.001644134521484,1.2451744079589844,-5.162457466125488,-43.581661224365234,11.686800956726074,-9.240890502929688,8.49300765991211,-9.641273498535156,34.66152572631836,1.5722814798355103,16.192733764648438,29.510995864868164,1.0153275728225708,21.81385612487793,-11.58020305633545,-44.28715133666992,77.45220947265625,-38.72776794433594,-14.868489265441895,9.067181587219238,26.862098693847656,-13.572786331176758,14.145384788513184,-64.7968521118164,10.938140869140625,51.471622467041016,24.011192321777344,-0.23222143948078156,-0.2331181764602661,24.015676498413086,-14.217540740966797,10.660259246826172,-33.06139373779297,21.254335403442383,-30.863666534423828,23.08182716369629,6.723123073577881,16.600175857543945,23.618810653686523,-57.82203674316406,12.067678451538086,14.402351379394531,31.258317947387695,52.0718994140625,-42.63131332397461,-15.898531913757324,-15.83191967010498,-12.7951021194458,-15.593338966369629,47.81143569946289,-45.30771255493164,18.583356857299805,13.74982738494873,-42.24907684326172,30.115774154663086,26.64046287536621,-14.292628288269043,-4.945893287658691,-8.540696144104004,-14.813074111938477,27.203857421875,24.450977325439453,47.1503791809082,-14.739630699157715,-42.246192932128906,12.918783187866211,-42.014793395996094,-7.915963649749756,0.4758036434650421,-56.635169982910156,-1.4909006357192993,9.295573234558105,-29.667333602905273,0.7596020698547363,-10.322697639465332,24.036937713623047,13.825023651123047,4.44081449508667,-53.90284729003906,-68.80494689941406,28.32904052734375,21.59356689453125,51.50217819213867,-42.21181869506836,15.518476486206055,5.889732837677002,-43.51329803466797,-43.31254577636719,74.86427307128906,8.764087677001953,47.67721176147461,46.84004592895508,48.315895080566406,-34.75772476196289,-50.43418502807617,-21.70168113708496,0.8631362915039062,-43.23357009887695,49.93456268310547,31.764102935791016,26.4129581451416,30.220706939697266,6.606490135192871,-37.70970916748047,-13.165095329284668,-57.788028717041016,30.177244186401367,35.06672668457031,-14.62902545928955,19.651927947998047,-41.762813568115234,-8.79331111907959,48.040069580078125,-33.24271011352539,-55.532569885253906,-5.832308292388916,46.84703826904297,21.81238555908203,-5.793900489807129,17.984052658081055,-67.72688293457031,-12.475052833557129,39.50436782836914,28.89971923828125,2.512758493423462,-33.44940948486328,-17.782678604125977,-0.36737579107284546,41.047332763671875,4.958425998687744,-5.522377014160156,41.95670700073242,30.914081573486328,13.328661918640137,-8.566656112670898,-58.3073844909668,-45.93614196777344,13.875921249389648,29.586944580078125,9.27538013458252,4.438360691070557,-37.009376525878906,1.2692697048187256,-46.89308166503906,-41.9042854309082,12.164193153381348,77.13147735595703,-57.788883209228516,52.1085205078125,27.72780990600586,7.0336432456970215,-29.3096923828125,-66.737060546875,-20.14105987548828,-14.876541137695312,-41.46672058105469,20.212112426757812,-16.685895919799805,8.751069068908691,2.3249521255493164,-40.257545471191406,3.2956769466400146,27.837499618530273,11.62203598022461,-17.332515716552734,-55.940277099609375,11.619155883789062,38.28886032104492,7.373015880584717,-0.0976998507976532,-23.801549911499023,-49.721256256103516,18.351762771606445,-2.9697418212890625,13.812567710876465,-0.44683536887168884,-0.6286059021949768,-29.916610717773438,-23.327144622802734,-18.562393188476562,-17.776411056518555,18.964962005615234,48.77838897705078,-13.991737365722656,-21.675764083862305,-46.75563049316406,48.75476837158203,-4.174183368682861,-3.5799975395202637,12.171843528747559,-63.36369323730469,-17.204771041870117,-20.612930297851562,-32.15837097167969,-20.103435516357422,72.77437591552734,-24.921566009521484,15.102190017700195,36.96685791015625,-44.25241470336914,12.504215240478516,-9.224140167236328,-69.67472839355469,5.678804874420166,53.090110778808594,47.13156509399414,-34.37163543701172,-9.799580574035645,47.136802673339844,-50.47029495239258,-13.173362731933594,30.67193031311035,24.36513900756836,19.56494140625,-18.279258728027344,52.177303314208984,6.113773822784424,-16.231098175048828,-8.130867004394531,1.51386559009552,24.10911750793457,1.4670270681381226,-10.234999656677246,-8.56336784362793,-15.744768142700195,11.849387168884277,-1.7846453189849854,1.5407934188842773,51.68679428100586,-2.453848361968994,-34.575843811035156,-17.120742797851562,-7.778110504150391,47.79499816894531,19.57103157043457,-41.774871826171875,-16.848241806030273,-32.39149856567383,16.82097053527832,16.304698944091797,17.11470603942871,72.92405700683594,-21.49268341064453,-16.873395919799805,-3.45109486579895,27.550580978393555,13.616875648498535,-17.314796447753906,-9.970834732055664,31.296720504760742,46.847389221191406,48.56910705566406,-12.564536094665527,75.74620819091797,-31.246864318847656,-44.27889633178711,27.118886947631836,-18.68927574157715,-5.587682247161865,1.1171234846115112,-17.275041580200195,-34.06804275512695,24.094514846801758,-7.500479698181152,-18.404155731201172,20.271696090698242,16.984514236450195,14.642439842224121,-14.916168212890625,31.307819366455078,-9.548609733581543,19.726911544799805,17.861492156982422,9.584490776062012,-12.004622459411621,0.13356727361679077,7.660012245178223,1.717747449874878,-3.5477097034454346,2.6917197704315186,-68.83830261230469,1.0656790733337402,4.124629020690918,-50.07062530517578,19.737655639648438,15.227106094360352,-61.43545913696289,15.193486213684082,25.687965393066406,77.16181945800781,-58.24957275390625,-44.90373992919922,73.51311492919922,-14.739130020141602,17.505617141723633,-15.87271785736084,5.887791633605957,17.547319412231445,-46.2564697265625,13.279150009155273,-19.48857307434082,28.838462829589844,-17.57594871520996,-14.270336151123047,-11.432640075683594,-13.002946853637695,14.474705696105957,-49.41165542602539,28.772932052612305,-18.674222946166992,-19.875104904174805,-11.567804336547852,-23.664138793945312,73.55335998535156,-45.35778045654297,-66.62934875488281,-10.87485408782959,-42.36259078979492,1.7240896224975586,-48.63577651977539,-18.85622215270996,-13.660847663879395,-9.125421524047852,31.118427276611328,3.1348917484283447,-24.99947738647461,-15.901208877563477,-38.92715072631836,-23.65305519104004,-39.644893646240234,-14.207159042358398,-42.46609878540039,6.4966816902160645,-46.34824752807617,-6.824735164642334,-59.33496856689453,12.637056350708008,-11.059951782226562,-11.972267150878906,3.9782168865203857,-13.431262016296387,-4.916417121887207,-36.66013717651367,-54.7107048034668,-38.443389892578125,-16.97894859313965,-47.57094955444336,-0.24509957432746887,35.75905990600586,-15.85777473449707,4.145167827606201,45.664390563964844,-43.51814270019531,5.540208339691162,4.06472110748291,75.71663665771484,-0.1274532973766327,-18.1038818359375,73.21317291259766,19.746681213378906,15.157504081726074,-2.670912504196167,-74.1719741821289,47.83701705932617,5.162610054016113,-1.3138105869293213,-13.049697875976562,-10.234101295471191,0.8481497764587402,48.779937744140625,-12.871641159057617,28.77842903137207,-14.150686264038086,24.499637603759766,-42.99528121948242,-14.333536148071289,6.355101108551025,77.32331085205078,-7.928552627563477,51.22852325439453,-31.746986389160156,-5.127963066101074,18.695600509643555,9.360416412353516,-31.36159324645996,-23.06499481201172,5.223324775695801,-22.814973831176758,18.03119468688965,6.949793338775635,24.347209930419922,27.423471450805664,11.757728576660156,-14.159573554992676,16.829736709594727,19.40435791015625,15.361957550048828,2.6718335151672363,-0.3652114272117615,-4.0706868171691895,-14.31904125213623,16.261676788330078,-1.4559096097946167,-9.347939491271973,-0.7854673266410828,-62.780052185058594,10.662588119506836,-14.879322052001953,-64.64141082763672,-13.16051197052002,-32.9891242980957,-34.41001892089844,10.888821601867676,30.569326400756836,-14.636088371276855,-44.77248764038086,-12.345897674560547,-58.315338134765625,-73.78854370117188,-7.464097499847412,-15.903251647949219,28.418596267700195,19.91434097290039,-60.19392013549805,-18.54612159729004,-0.5162203311920166,-5.616530895233154,-4.705097675323486,-43.84652328491211,-16.725244522094727,-12.916398048400879,50.38549041748047,-48.64377975463867,-9.304204940795898,-10.740406036376953,-4.558140754699707,-2.587759256362915,-66.31317901611328,-9.32460880279541,46.93074417114258,12.128044128417969,-18.83864402770996,-7.801194667816162,20.074918746948242,14.282994270324707,-14.153569221496582,51.93050765991211,-68.93096923828125,12.768518447875977,-21.637434005737305,-42.24721145629883,5.590446472167969,-42.03379821777344,36.02751922607422,15.395248413085938,76.46918487548828,-33.328025817871094,-5.453444480895996,-45.029396057128906,13.108684539794922,20.656774520874023,-9.299948692321777,-14.333148002624512,-50.449405670166016,20.049863815307617,-75.25062561035156,-24.52181053161621,7.322946071624756,-59.334381103515625,-17.715639114379883,22.51326560974121,-61.47592544555664,8.839417457580566,-6.983038902282715,29.964536666870117,-38.363304138183594,73.25444030761719,-14.164385795593262,-1.4111428260803223,22.181962966918945,-3.2477364540100098,-16.66051483154297,-46.003543853759766,21.1866455078125,-13.287612915039062,20.74925994873047,18.587017059326172,28.578838348388672,2.2413506507873535,41.66333770751953,-12.205582618713379,-15.403639793395996,-21.838695526123047,74.0024185180664,22.3095703125,-48.77288055419922,-13.610735893249512,16.723718643188477,-11.170991897583008,-6.0797624588012695,12.386295318603516,5.1195597648620605,-4.399348258972168,-44.39414596557617,-31.92193031311035,-23.64109992980957,48.75495147705078,13.493502616882324,5.695388317108154,20.192415237426758,-34.13857650756836,-17.259607315063477,-47.89913558959961,7.529268264770508,0.20015650987625122,-17.020771026611328,10.23746109008789,-20.952211380004883,-13.11561107635498,-60.223472595214844,51.88054656982422,-18.850841522216797,23.695959091186523,51.58911895751953,-9.960922241210938,-8.216689109802246,-20.33538055419922,-10.241928100585938,8.333415031433105,-15.140401840209961,-1.4957971572875977,-23.422122955322266,0.28200680017471313,11.675293922424316,12.798806190490723,31.775941848754883,-37.941978454589844,0.9130328297615051,47.03947067260742,-34.58154296875,0.5407785177230835,48.81456756591797,22.6989688873291,48.93727111816406,17.750314712524414,-21.516712188720703,-47.320064544677734,77.16287994384766,-68.43276977539062,36.08039474487305,10.807150840759277,-44.85043716430664,-30.75166130065918,11.635024070739746,39.877220153808594,-17.48159408569336,18.161088943481445,16.16562843322754,-43.58468246459961,-12.152131080627441,17.00505828857422,-9.977718353271484,18.449369430541992,14.911293983459473,-75.15887451171875,15.85900592803955,-14.17174243927002,17.120803833007812,22.3121280670166,-9.46534252166748,25.94185447692871,24.944255828857422,-15.295544624328613,-6.421232223510742,3.3264334201812744,-12.553505897521973,46.954715728759766,52.046085357666016,-37.184871673583984,24.926809310913086,2.860011339187622,20.081716537475586,11.564095497131348,-18.281343460083008,-6.125550746917725,-50.17611312866211,15.495952606201172,26.938325881958008,-11.646562576293945,28.84027862548828,-64.74189758300781,27.35215950012207,7.643584728240967,-67.96173858642578,19.76649284362793,73.09332275390625,-46.664222717285156,-18.294870376586914,6.079448223114014,-3.938129425048828,26.005765914916992,-9.69413948059082,52.341644287109375,-5.331191062927246,21.994543075561523,9.296562194824219,-6.734414100646973,-9.651769638061523,25.521696090698242,-62.59810256958008,4.978400230407715,4.132344722747803,-3.7012360095977783,-63.554466247558594,4.088909149169922,-23.842782974243164,-60.20821762084961,-75.15777587890625,51.89697265625,-46.096153259277344,-39.14989471435547,77.14827728271484,-5.554561614990234,-11.506731033325195,1.4959207773208618,-3.2481276988983154,-16.152761459350586,32.56007766723633,-5.233726978302002,-12.49609088897705,-2.6436634063720703,10.412424087524414,-12.347768783569336,25.97967529296875,16.755512237548828,-74.56282043457031,73.96504211425781,22.31214714050293,51.47249984741211,-10.346909523010254,13.008984565734863,48.34959411621094,-21.418046951293945,-50.01717758178711,8.653789520263672,-12.1525297164917,1.3915574550628662,48.960750579833984,4.015812873840332,6.545345306396484,13.42530345916748,-69.72284698486328,-34.848846435546875,-8.678670883178711,-47.698638916015625,-1.5279021263122559,73.17279815673828,18.95986557006836,25.180517196655273,20.365726470947266,10.628576278686523,15.428592681884766,28.693294525146484,9.274136543273926,-9.130860328674316,17.580604553222656,18.950153350830078,28.71005630493164,-68.2603988647461,14.184776306152344,47.13398742675781,19.023881912231445,51.74215316772461,28.887523651123047,28.501220703125,21.994123458862305,28.079702377319336,21.13994026184082,15.686711311340332,-66.37751007080078,25.815107345581055,-44.57302474975586,-5.937021732330322,47.58918762207031,15.386503219604492,1.2546199560165405,13.473490715026855,16.85859489440918,27.423490524291992,5.224300384521484,-74.79505920410156,52.11141586303711,16.813907623291016,2.5264437198638916,9.906941413879395,15.432835578918457,20.780048370361328,-43.01361846923828,-17.486515045166016,17.265382766723633,-3.831049680709839,-59.78971481323242,-33.16661071777344,78.18543243408203,-59.3315544128418,-3.747117280960083,21.57012939453125,15.058147430419922,-24.64641761779785,17.284664154052734,17.335813522338867,18.81779670715332,-0.7921979427337646,-29.282880783081055,-46.27656173706055,-1.6624926328659058,9.598405838012695,-62.64976119995117,23.0338077545166,11.792411804199219,-17.28944969177246,-13.537044525146484,-60.21535110473633,-74.3306884765625,-6.068598747253418,-3.642946243286133,17.827173233032227,-4.492410659790039,-14.547775268554688,-10.017692565917969,14.51771354675293,16.49970817565918,-23.275253295898438,30.845417022705078,19.412471771240234,4.357438564300537,-1.5489394664764404,-40.75544738769531,-48.91962814331055,-16.956714630126953,0.39153844118118286,-32.58547592163086,-11.193158149719238,-58.23251724243164,50.009254455566406,21.84882926940918,-74.14340209960938,-15.412769317626953,-9.629129409790039,-67.86155700683594,15.718544006347656,19.710262298583984,-22.513460159301758,-3.0036604404449463,47.587257385253906,-16.66031837463379,-9.31597900390625,12.574810028076172,-11.903164863586426,21.75054931640625,-0.43245187401771545,9.314337730407715,18.78171157836914,51.10662841796875,20.428096771240234,50.55799865722656,-34.689579010009766,1.4783400297164917,-48.29619216918945,-5.728613376617432,21.767559051513672,0.18612858653068542,6.301329612731934,-18.08361053466797,15.305022239685059,-37.28641128540039,-7.6426920890808105,-68.42204284667969,50.59685516357422,-9.80447006225586,-12.760223388671875,-22.28713607788086,5.120943546295166,-55.3691291809082,0.18682506680488586,-66.93389129638672,-14.165502548217773,16.496923446655273,18.292348861694336,-64.60699462890625,-8.388015747070312,25.979257583618164,21.788105010986328,-16.489782333374023,2.8638930320739746,23.41040802001953,18.746723175048828,-45.78758239746094,1.7395788431167603,5.040506362915039,16.093576431274414,-15.758461952209473,-46.10335922241211,73.94152069091797,-42.346336364746094,-39.01490783691406,21.944934844970703,-5.417981147766113,-21.8782958984375,73.25102996826172,31.681989669799805,16.26078987121582,47.021484375,-15.463335037231445,-39.541900634765625,51.61405944824219,10.90211009979248,-24.598186492919922,-56.98471450805664,-1.1909538507461548,23.6957950592041,-14.479063987731934,7.69992733001709,-21.64461898803711,-10.212020874023438,-42.81243133544922,-5.872167110443115,14.817626953125,-11.57557487487793,-41.114234924316406,-64.5459976196289,-11.984966278076172,-12.916884422302246,6.770078182220459,17.59141731262207,43.692344665527344,11.997509956359863,43.17151641845703,11.065979957580566,-6.7786126136779785,3.962136745452881,2.7122371196746826,-10.524651527404785,15.659006118774414,-13.980762481689453,-1.2266849279403687,-18.63458824157715,-11.12147331237793,-14.28573226928711,-59.80077362060547,76.42454528808594,51.97114944458008,-29.84699821472168,-65.58333587646484,3.778468608856201,-17.261579513549805,7.741988182067871,46.43922805786133,-34.22380447387695,-34.67189025878906,-29.061887741088867,-5.345676422119141,21.29060935974121,6.202582359313965,28.26244354248047,-55.53411865234375,-38.98870849609375,-40.52214813232422,-12.034127235412598,2.2805044651031494,-42.53095245361328,-5.440580368041992,-50.292579650878906,-14.148210525512695,4.849475383758545,-15.996050834655762,-44.228641510009766,3.072441577911377,-7.1255717277526855,-15.903375625610352,-34.086219787597656,14.492864608764648,46.1268424987793,73.23993682861328,26.833513259887695,30.915225982666016,28.295373916625977,21.616737365722656,13.21976089477539,-3.144528865814209,-31.36306381225586,12.024127960205078,8.557031631469727,-33.83625793457031,17.37922477722168,19.609161376953125,-3.1021740436553955,-13.336688041687012,16.268699645996094,-75.12655639648438,-13.212267875671387,21.364299774169922,-60.344608306884766,-45.955482482910156,41.78817367553711,13.838440895080566,-9.778002738952637,28.209388732910156,21.67392921447754,-37.38298416137695,0.020563002675771713,15.053227424621582,9.113425254821777,-14.99478816986084,-3.2588300704956055,0.6564937829971313,-5.065245151519775,77.80300903320312,38.72914505004883,-11.828511238098145,-29.727222442626953,14.12116527557373,49.94865036010742,72.94579315185547,75.52498626708984,-17.36470603942871,27.671173095703125,-58.10317611694336,-4.550568103790283,52.186336517333984,18.947879791259766,12.397435188293457,28.016965866088867,28.067935943603516,-14.499133110046387,-9.579680442810059,19.4003849029541,-2.121154546737671,-73.7647476196289,11.895317077636719,78.01408386230469,-65.5798568725586,-19.494518280029297,20.737079620361328,5.493580341339111,36.57243728637695,-38.00365447998047,14.503496170043945,-20.8985538482666,-31.85382843017578,-12.9351224899292,4.008294582366943,-14.355609893798828,73.6911849975586,-38.50370788574219,-68.78948211669922,-10.658397674560547,46.84733581542969,-19.600444793701172,9.853226661682129,-37.16659164428711,-10.906901359558105,18.018980026245117,16.560802459716797,47.64204788208008,-67.8392333984375,-18.299907684326172,-1.11947500705719,-26.89095687866211,17.772478103637695,-3.247528076171875,-1.7415943145751953,4.859944820404053,-5.8106489181518555,-16.236495971679688,46.82582092285156,-1.8553310632705688,-11.585877418518066,-15.626660346984863,2.022073745727539,2.273372173309326,-16.346412658691406,9.991276741027832,5.186297416687012,8.674124717712402,-6.292604923248291,26.18229866027832,77.15306854248047,-37.19939041137695,16.795923233032227,-14.439119338989258,18.29902458190918,13.716049194335938,6.731956958770752,17.703100204467773,-4.696770668029785,12.22689437866211,23.25774574279785,-33.66263198852539,-12.280895233154297,28.014263153076172,-46.04877853393555,46.80916976928711,19.843997955322266,12.24224853515625,-9.550252914428711,74.7796859741211,-16.779390335083008,-1.7033146619796753,25.50332260131836,28.830032348632812,20.131568908691406,34.70418167114258,-0.23483148217201233,17.235130310058594,18.218544006347656,-3.9002437591552734,20.55386734008789,5.223099231719971,28.776874542236328,1.6796461343765259,46.96963882446289,-35.0959587097168,-45.67631149291992,30.8720760345459,22.7230281829834,13.703640937805176,-40.46486282348633,-66.86893463134766,-20.385957717895508,-8.714577674865723,47.012672424316406,-74.97278594970703,26.599679946899414,-73.59809875488281,27.566904067993164,-1.5360491275787354,27.77386474609375,-10.773594856262207,15.790074348449707,51.20045852661133,-12.221470832824707,-45.102108001708984,-0.54425048828125,34.41518783569336,7.549082279205322,-45.85749053955078,-11.312470436096191,30.300626754760742,11.358165740966797,-9.500814437866211,-15.05166244506836,16.475860595703125,11.606046676635742,17.935121536254883,-20.29469108581543,-0.5233465433120728,-48.26761245727539,15.339506149291992,-13.858573913574219,38.69651412963867,-12.601405143737793,10.62895393371582,8.986442565917969,27.848873138427734,50.435302734375,25.85329818725586,-14.737820625305176,-34.80358123779297,28.34539794921875,-68.50133514404297,-36.755393981933594,3.8456547260284424,-17.61577033996582,10.322126388549805,-15.016237258911133,-56.82456970214844,-7.8879594802856445,29.861576080322266,-37.51719665527344,7.076162338256836,15.051217079162598,-64.40621948242188,14.486181259155273,77.62421417236328,-37.44966125488281,-74.55293273925781,-60.377723693847656,-67.9913558959961,20.190692901611328,-14.746356010437012,-10.879875183105469,0.5332075953483582,-54.59073257446289,-36.71104049682617,29.866409301757812,-68.69641876220703,17.10422134399414,-67.00645446777344,-14.142476081848145,22.82773208618164,3.124074697494507,15.237719535827637,46.56558609008789,74.1571273803711,-2.830580711364746,-21.261720657348633,-22.232011795043945,52.16606140136719,4.437868118286133,47.98942565917969,-50.080718994140625,-9.051695823669434,-34.831539154052734,23.766468048095703,-20.371187210083008,-5.4573187828063965,14.792420387268066,-32.40764617919922,-40.406795501708984,72.79681396484375,47.165565490722656,-8.90045166015625,-17.152462005615234,28.441078186035156,-9.255247116088867,27.193092346191406,8.962167739868164,-16.299617767333984,24.653779983520508,47.45025634765625,76.33938598632812,12.424874305725098,12.318316459655762,-63.49712371826172,23.160991668701172,-13.496098518371582,-15.355483055114746,-9.963902473449707,-12.447320938110352,-20.196935653686523,-1.946692943572998,28.4027042388916,73.68292999267578,27.822195053100586,-17.285730361938477,2.2652149200439453,-11.121350288391113,-5.2024946212768555,13.065667152404785,51.496456146240234,9.283312797546387,-35.987159729003906,-65.4704360961914,15.5870943069458,-3.3179373741149902,47.58648681640625,-39.7629280090332,47.379791259765625,-5.717330455780029,-50.89035415649414,13.638609886169434,-14.014619827270508,-23.139019012451172,24.32061195373535,-7.843808650970459,23.86818504333496,12.436668395996094,8.633378028869629,-74.78866577148438,-32.015872955322266,-15.224550247192383,7.924096584320068,-44.439517974853516,-11.911876678466797,-22.041797637939453,-1.3188854455947876,-7.186478137969971,-11.877198219299316,-64.78570556640625,16.55417823791504,9.758171081542969,-40.4429931640625,-5.86263370513916,-18.648807525634766,-8.346800804138184,-30.69171714782715,-45.0710334777832,19.401491165161133,8.319904327392578,21.78351593017578,-6.132040500640869,5.176722049713135,23.089017868041992,-57.10736846923828,-12.722201347351074,12.753933906555176,28.369712829589844,23.44955062866211,-9.249255180358887,19.672000885009766,10.55717945098877,12.810632705688477,-66.78482055664062,-10.855030059814453,-42.867332458496094,27.76474380493164,-20.58591079711914,-73.76010131835938,4.303897857666016,14.350177764892578,-44.3570556640625,-19.62602424621582,21.43132209777832,-64.56500244140625,-56.956546783447266,27.7561092376709,1.2393691539764404,4.329544544219971,46.8741455078125,13.402047157287598,75.14195251464844,-12.69682788848877,7.082551002502441,15.00662612915039,-30.772897720336914,7.351922988891602,-25.253681182861328,25.049598693847656,-58.31398391723633,-12.626385688781738,18.57981300354004,10.243855476379395,11.791141510009766,-74.98352813720703,-45.357643127441406,10.648638725280762,-22.515625,-13.888599395751953,51.935325622558594,-44.20616149902344,39.909236907958984,27.95377540588379,29.382957458496094,8.261872291564941,51.20433807373047,-4.95780611038208,4.482407093048096,-47.33787155151367,20.08901023864746,73.69535827636719,49.177581787109375,-11.070222854614258,-16.238422393798828,0.47404244542121887,-64.8011245727539,-11.30444622039795,-69.49366760253906,16.81292724609375,25.454200744628906,18.789777755737305,-13.959206581115723,18.031293869018555,18.053964614868164,-40.589107513427734,6.559610843658447,17.073392868041992,-19.391643524169922,47.12891387939453,-18.803871154785156,-54.58967971801758,-2.7534666061401367,22.907629013061523,-43.05059051513672,-14.593934059143066,-44.853511810302734,27.543642044067383,22.732328414916992,30.579872131347656,10.52765941619873,-64.82402038574219,-19.56058692932129,4.330913543701172,25.23979377746582,23.594520568847656,-12.147968292236328,-7.8885064125061035,48.61769104003906,13.398970603942871,-67.09965515136719,-17.33327865600586,23.203834533691406,-46.15287780761719,-10.697892189025879,-15.290426254272461,9.275999069213867,-4.027153968811035,-55.30894470214844,75.52670288085938,-74.07837677001953,-6.824842929840088,5.113186359405518,21.270360946655273,19.69129753112793,32.560218811035156,-31.062335968017578,51.121158599853516,-58.231876373291016,8.761232376098633,28.771303176879883,47.041770935058594,12.694236755371094,31.8837947845459,0.8490932583808899,28.067157745361328,-38.215110778808594,13.887298583984375,0.5677266716957092,18.339460372924805,7.071740627288818,-21.155452728271484,51.031009674072266,51.933135986328125,-9.29761791229248,-14.802144050598145,-1.4187231063842773,78.08860778808594,13.714945793151855,-0.8102981448173523,22.03238868713379,-4.290368556976318,-57.937191009521484,-14.272504806518555,-56.629276275634766,3.2847483158111572,23.430200576782227,-1.0318235158920288,35.336402893066406,77.45537567138672,-45.581016540527344,-0.6717687845230103,-5.306593894958496,16.36884117126465,10.281063079833984,14.120504379272461,-22.79874038696289,-27.888906478881836,17.55227279663086,-14.214461326599121,-48.08982849121094,39.56148910522461,13.302119255065918,17.712614059448242,17.499197006225586,41.04533004760742,-14.387721061706543,-43.62752914428711,29.51898765563965,-49.44232940673828,-3.9389562606811523,27.30007553100586,-22.932634353637695,-11.569384574890137,15.813339233398438,-18.774518966674805,-11.199101448059082,21.662593841552734,46.571590423583984,-64.44689178466797,-12.339189529418945,1.4291497468948364,-36.66328811645508,-33.31779861450195,-46.121402740478516,78.00244140625,29.531021118164062,-3.1401453018188477,4.864992618560791,-14.162940979003906,0.7919213175773621,4.188145160675049,3.9066452980041504,-45.715030670166016,2.0320611000061035,-14.71951961517334,-42.233360290527344,8.925251007080078,-12.684683799743652,10.224712371826172,41.409244537353516,16.7534236907959,-12.204170227050781,21.331439971923828,-14.988800048828125,-15.888527870178223,-10.654398918151855,-10.354082107543945,-40.71681213378906,-73.97188568115234,-21.606603622436523,-9.244621276855469,-13.724724769592285,-18.769216537475586,3.218662738800049,21.697818756103516,11.060669898986816,3.0940961837768555,17.790119171142578,-47.947818756103516,-43.687843322753906,1.637738823890686,-12.133915901184082,28.924280166625977,-49.14730453491211,2.9906530380249023,-38.400455474853516,-19.73084259033203,-16.677059173583984,36.5696907043457,11.00297737121582,-39.948272705078125,48.3101921081543,-16.65166664123535,46.79905319213867,-45.78666305541992,-45.32346725463867,-5.994406700134277,-43.74944305419922,38.756004333496094,-17.763601303100586,29.088634490966797,-23.658367156982422,11.877908706665039,-23.342382431030273,-6.685512542724609,20.9638729095459,22.924238204956055,-9.44334602355957,11.77480411529541,-5.583406925201416,-56.62991714477539,3.097815990447998,4.328667640686035,0.2694433629512787,11.630518913269043,-39.72999954223633,11.872193336486816,24.461042404174805,-45.680572509765625,-12.286678314208984,-6.772365093231201,-10.365694999694824,-2.8590729236602783,-8.389123916625977,45.521278381347656,19.114763259887695,-5.616919040679932,-57.29228210449219,-58.10862350463867,27.370668411254883,-13.865979194641113,-7.902048587799072,-73.68060302734375,12.281765937805176,-10.663020133972168,26.49201202392578,46.80917739868164,43.97160339355469,-57.603851318359375,-6.824616432189941,13.879034042358398,-0.6042323112487793,-42.53852081298828,46.80917739868164,-20.510295867919922,-11.05000114440918,49.728233337402344,-34.277618408203125,15.262016296386719,30.301441192626953,12.344291687011719,8.815518379211426,19.59949493408203,-73.68360137939453,29.250429153442383,43.63375473022461,-5.193544387817383,17.96082305908203,30.983402252197266,43.980411529541016,-30.1374454498291,-21.526439666748047,-38.830623626708984,-73.57523345947266,29.872879028320312,-39.749053955078125,77.4888687133789,28.764245986938477,-44.384788513183594,-63.500118255615234,-7.450521469116211,-41.773372650146484,22.07795524597168,-44.401737213134766,51.47111511230469,-1.7998367547988892,73.51616668701172,-47.67786407470703,-15.511615753173828,-5.481064319610596,6.651281356811523,41.049888610839844,-56.82218933105469,18.330093383789062,10.670544624328613,9.584578514099121,5.849318504333496,6.039736270904541,12.264406204223633,26.881973266601562,18.662757873535156,16.430246353149414,-42.997520446777344,28.31639862060547,14.6368408203125,29.70467758178711,13.606433868408203,-16.212194442749023,-14.930123329162598,-41.327964782714844,10.806977272033691,15.221323013305664,13.834973335266113,-65.50390625,-19.685516357421875,-43.93084716796875,-5.133559703826904,-57.833126068115234,15.09787368774414,50.34925079345703,27.128374099731445,-73.0788803100586,26.0463924407959,-54.067893981933594,13.667016983032227,15.61603832244873,-3.5227038860321045,13.974992752075195,-11.14340591430664,-24.68387794494629,-16.896224975585938,1.4336010217666626,-2.939063310623169,11.633722305297852,-74.28803253173828,-12.004998207092285,49.293052673339844,23.775962829589844,77.4791030883789,72.95452117919922,-45.35319137573242,11.208844184875488,14.474068641662598,24.398378372192383,-12.659553527832031,-14.765482902526855,8.925272941589355,-21.793506622314453,9.29603385925293,1.983111023902893,-33.85968017578125,-42.92683410644531,-0.9968019127845764,73.5226821899414,23.1474666595459,27.979997634887695,-8.0875244140625,-11.684677124023438,51.100345611572266,-63.504737854003906,25.55950164794922,-40.43394470214844,16.760927200317383,19.292251586914062,-37.98661804199219,51.21528625488281,6.523917198181152,22.948230743408203,-42.13349914550781,-17.344411849975586,7.698864936828613,22.972312927246094,45.19917678833008,73.66496276855469,36.436485290527344,11.006742477416992,8.001479148864746,15.156420707702637,7.287109851837158,-42.90829849243164,14.814160346984863,21.53159523010254,-37.81255340576172,-21.662837982177734,16.834625244140625,12.810575485229492,-45.43970489501953,-23.76674461364746,-42.86089324951172,-70.01410675048828,30.349000930786133,-74.17790985107422,-58.18364715576172,48.5783576965332,-74.8824462890625,21.157079696655273,-19.975162506103516,16.787883758544922,-55.360076904296875,28.835607528686523,35.761287689208984,-68.91172790527344,50.7751579284668,-15.869250297546387,-50.53529357910156,-15.645509719848633,29.155683517456055,-45.720645904541016,19.755569458007812,14.674893379211426,28.8433895111084,-45.57529830932617,27.32051658630371,-73.64481353759766,5.249143600463867,12.614433288574219,-13.83594036102295,73.17838287353516,11.1583890914917,-32.10078430175781,-48.82399368286133,9.296172142028809,-7.958995819091797,-19.902830123901367,-12.277442932128906,-12.622900009155273,31.27541160583496,48.77387237548828,-54.63683319091797,-44.87064743041992,-63.594966888427734,16.050249099731445,19.177370071411133,16.383508682250977,-13.72114372253418,-12.190901756286621,8.319792747497559,-42.16859817504883,-18.269451141357422,47.52812576293945,-57.29294967651367,-14.164369583129883,-3.469038248062134,-73.89339447021484,24.78538703918457,20.719961166381836,-0.7392000555992126,-73.69242858886719,-38.880367279052734,51.120887756347656,-5.843151569366455,11.472308158874512,-8.179749488830566,16.10276222229004,-9.581697463989258,29.188880920410156,6.384890556335449,12.375454902648926,-44.23583221435547,-13.468897819519043,47.127845764160156,30.432605743408203,-19.173107147216797,-23.469552993774414,-56.634979248046875,28.77031707763672,-0.82926344871521,-14.439112663269043,-75.07941436767578,-50.602294921875,7.837069988250732,21.966690063476562,-5.006698131561279,-39.88628005981445,36.971900939941406,30.965200424194336,-3.1640963554382324,9.353002548217773,-4.919952392578125,-17.23196792602539,26.388641357421875,-74.76355743408203,14.111827850341797,-1.7916814088821411,4.678700923919678,13.395984649658203,7.3900146484375,-5.835184574127197,21.53856086730957,-22.930564880371094,-56.85421371459961,35.10607147216797,-10.203409194946289,-42.0196533203125,51.607608795166016,-41.504058837890625,-46.01004409790039,-42.18075180053711,-6.405529975891113,-13.495018005371094,-66.96376037597656,5.696409225463867,51.35009765625,-10.05063247680664,21.141918182373047,6.017768859863281,-44.62085723876953,14.93518352508545,-13.696789741516113,-9.491097450256348,26.682308197021484,21.364402770996094,47.81280517578125,-3.605520248413086,-0.10051781684160233,47.94796371459961,46.79324722290039,-20.95494842529297,-42.246864318847656,23.1463565826416,-65.40269470214844,-55.32670974731445,75.10670471191406,31.818096160888672,52.03874588012695,19.43899917602539,-8.975879669189453,12.009244918823242,9.373552322387695,44.00053405761719,41.39942169189453,47.70558166503906,18.549930572509766,-11.385355949401855,11.714507102966309,16.66938591003418,-10.508360862731934,73.25507354736328,51.648162841796875,-2.6598012447357178,52.23000717163086,22.472198486328125,-14.391345977783203,-34.31215286254883,10.115912437438965,-66.89981842041016,4.684682846069336,26.223024368286133,49.19477844238281,73.69760131835938,28.070728302001953,15.417486190795898,-12.120298385620117,20.2313289642334,-59.34511947631836,47.93813705444336,2.2337558269500732,0.5523306727409363,0.6729663610458374,21.53636360168457,28.534509658813477,25.279508590698242,-69.40870666503906,13.078349113464355,17.976043701171875,-15.672922134399414,-14.912919044494629,31.26237678527832,-15.003055572509766,7.96158504486084,14.444713592529297,-10.648394584655762,-5.686091899871826,-37.28599166870117,-3.6531896591186523,8.86813735961914,-46.96445083618164,-16.915233612060547,-15.395106315612793,43.1785888671875,1.0647138357162476,16.228431701660156,17.01382827758789,48.775978088378906,30.30313491821289,-8.370475769042969,-66.89066314697266,3.564859390258789,0.8926582336425781,30.085874557495117,13.860454559326172,-9.387804985046387,-12.310274124145508,-19.527570724487305,47.366722106933594,20.15289878845215,-41.800045013427734,-31.393840789794922,22.87600326538086,13.386907577514648,35.33484649658203,20.038244247436523,17.322580337524414,-21.683013916015625,-66.40777587890625,-3.6575045585632324,-74.37523651123047,27.42377281188965,-12.690044403076172,-31.797449111938477,46.799007415771484,15.080028533935547,-18.41701889038086],\"yaxis\":\"y\",\"type\":\"scattergl\"}],                        {\"template\":{\"data\":{\"histogram2dcontour\":[{\"type\":\"histogram2dcontour\",\"colorbar\":{\"outlinewidth\":0,\"ticks\":\"\"},\"colorscale\":[[0.0,\"#0d0887\"],[0.1111111111111111,\"#46039f\"],[0.2222222222222222,\"#7201a8\"],[0.3333333333333333,\"#9c179e\"],[0.4444444444444444,\"#bd3786\"],[0.5555555555555556,\"#d8576b\"],[0.6666666666666666,\"#ed7953\"],[0.7777777777777778,\"#fb9f3a\"],[0.8888888888888888,\"#fdca26\"],[1.0,\"#f0f921\"]]}],\"choropleth\":[{\"type\":\"choropleth\",\"colorbar\":{\"outlinewidth\":0,\"ticks\":\"\"}}],\"histogram2d\":[{\"type\":\"histogram2d\",\"colorbar\":{\"outlinewidth\":0,\"ticks\":\"\"},\"colorscale\":[[0.0,\"#0d0887\"],[0.1111111111111111,\"#46039f\"],[0.2222222222222222,\"#7201a8\"],[0.3333333333333333,\"#9c179e\"],[0.4444444444444444,\"#bd3786\"],[0.5555555555555556,\"#d8576b\"],[0.6666666666666666,\"#ed7953\"],[0.7777777777777778,\"#fb9f3a\"],[0.8888888888888888,\"#fdca26\"],[1.0,\"#f0f921\"]]}],\"heatmap\":[{\"type\":\"heatmap\",\"colorbar\":{\"outlinewidth\":0,\"ticks\":\"\"},\"colorscale\":[[0.0,\"#0d0887\"],[0.1111111111111111,\"#46039f\"],[0.2222222222222222,\"#7201a8\"],[0.3333333333333333,\"#9c179e\"],[0.4444444444444444,\"#bd3786\"],[0.5555555555555556,\"#d8576b\"],[0.6666666666666666,\"#ed7953\"],[0.7777777777777778,\"#fb9f3a\"],[0.8888888888888888,\"#fdca26\"],[1.0,\"#f0f921\"]]}],\"heatmapgl\":[{\"type\":\"heatmapgl\",\"colorbar\":{\"outlinewidth\":0,\"ticks\":\"\"},\"colorscale\":[[0.0,\"#0d0887\"],[0.1111111111111111,\"#46039f\"],[0.2222222222222222,\"#7201a8\"],[0.3333333333333333,\"#9c179e\"],[0.4444444444444444,\"#bd3786\"],[0.5555555555555556,\"#d8576b\"],[0.6666666666666666,\"#ed7953\"],[0.7777777777777778,\"#fb9f3a\"],[0.8888888888888888,\"#fdca26\"],[1.0,\"#f0f921\"]]}],\"contourcarpet\":[{\"type\":\"contourcarpet\",\"colorbar\":{\"outlinewidth\":0,\"ticks\":\"\"}}],\"contour\":[{\"type\":\"contour\",\"colorbar\":{\"outlinewidth\":0,\"ticks\":\"\"},\"colorscale\":[[0.0,\"#0d0887\"],[0.1111111111111111,\"#46039f\"],[0.2222222222222222,\"#7201a8\"],[0.3333333333333333,\"#9c179e\"],[0.4444444444444444,\"#bd3786\"],[0.5555555555555556,\"#d8576b\"],[0.6666666666666666,\"#ed7953\"],[0.7777777777777778,\"#fb9f3a\"],[0.8888888888888888,\"#fdca26\"],[1.0,\"#f0f921\"]]}],\"surface\":[{\"type\":\"surface\",\"colorbar\":{\"outlinewidth\":0,\"ticks\":\"\"},\"colorscale\":[[0.0,\"#0d0887\"],[0.1111111111111111,\"#46039f\"],[0.2222222222222222,\"#7201a8\"],[0.3333333333333333,\"#9c179e\"],[0.4444444444444444,\"#bd3786\"],[0.5555555555555556,\"#d8576b\"],[0.6666666666666666,\"#ed7953\"],[0.7777777777777778,\"#fb9f3a\"],[0.8888888888888888,\"#fdca26\"],[1.0,\"#f0f921\"]]}],\"mesh3d\":[{\"type\":\"mesh3d\",\"colorbar\":{\"outlinewidth\":0,\"ticks\":\"\"}}],\"scatter\":[{\"fillpattern\":{\"fillmode\":\"overlay\",\"size\":10,\"solidity\":0.2},\"type\":\"scatter\"}],\"parcoords\":[{\"type\":\"parcoords\",\"line\":{\"colorbar\":{\"outlinewidth\":0,\"ticks\":\"\"}}}],\"scatterpolargl\":[{\"type\":\"scatterpolargl\",\"marker\":{\"colorbar\":{\"outlinewidth\":0,\"ticks\":\"\"}}}],\"bar\":[{\"error_x\":{\"color\":\"#2a3f5f\"},\"error_y\":{\"color\":\"#2a3f5f\"},\"marker\":{\"line\":{\"color\":\"#E5ECF6\",\"width\":0.5},\"pattern\":{\"fillmode\":\"overlay\",\"size\":10,\"solidity\":0.2}},\"type\":\"bar\"}],\"scattergeo\":[{\"type\":\"scattergeo\",\"marker\":{\"colorbar\":{\"outlinewidth\":0,\"ticks\":\"\"}}}],\"scatterpolar\":[{\"type\":\"scatterpolar\",\"marker\":{\"colorbar\":{\"outlinewidth\":0,\"ticks\":\"\"}}}],\"histogram\":[{\"marker\":{\"pattern\":{\"fillmode\":\"overlay\",\"size\":10,\"solidity\":0.2}},\"type\":\"histogram\"}],\"scattergl\":[{\"type\":\"scattergl\",\"marker\":{\"colorbar\":{\"outlinewidth\":0,\"ticks\":\"\"}}}],\"scatter3d\":[{\"type\":\"scatter3d\",\"line\":{\"colorbar\":{\"outlinewidth\":0,\"ticks\":\"\"}},\"marker\":{\"colorbar\":{\"outlinewidth\":0,\"ticks\":\"\"}}}],\"scattermapbox\":[{\"type\":\"scattermapbox\",\"marker\":{\"colorbar\":{\"outlinewidth\":0,\"ticks\":\"\"}}}],\"scatterternary\":[{\"type\":\"scatterternary\",\"marker\":{\"colorbar\":{\"outlinewidth\":0,\"ticks\":\"\"}}}],\"scattercarpet\":[{\"type\":\"scattercarpet\",\"marker\":{\"colorbar\":{\"outlinewidth\":0,\"ticks\":\"\"}}}],\"carpet\":[{\"aaxis\":{\"endlinecolor\":\"#2a3f5f\",\"gridcolor\":\"white\",\"linecolor\":\"white\",\"minorgridcolor\":\"white\",\"startlinecolor\":\"#2a3f5f\"},\"baxis\":{\"endlinecolor\":\"#2a3f5f\",\"gridcolor\":\"white\",\"linecolor\":\"white\",\"minorgridcolor\":\"white\",\"startlinecolor\":\"#2a3f5f\"},\"type\":\"carpet\"}],\"table\":[{\"cells\":{\"fill\":{\"color\":\"#EBF0F8\"},\"line\":{\"color\":\"white\"}},\"header\":{\"fill\":{\"color\":\"#C8D4E3\"},\"line\":{\"color\":\"white\"}},\"type\":\"table\"}],\"barpolar\":[{\"marker\":{\"line\":{\"color\":\"#E5ECF6\",\"width\":0.5},\"pattern\":{\"fillmode\":\"overlay\",\"size\":10,\"solidity\":0.2}},\"type\":\"barpolar\"}],\"pie\":[{\"automargin\":true,\"type\":\"pie\"}]},\"layout\":{\"autotypenumbers\":\"strict\",\"colorway\":[\"#636efa\",\"#EF553B\",\"#00cc96\",\"#ab63fa\",\"#FFA15A\",\"#19d3f3\",\"#FF6692\",\"#B6E880\",\"#FF97FF\",\"#FECB52\"],\"font\":{\"color\":\"#2a3f5f\"},\"hovermode\":\"closest\",\"hoverlabel\":{\"align\":\"left\"},\"paper_bgcolor\":\"white\",\"plot_bgcolor\":\"#E5ECF6\",\"polar\":{\"bgcolor\":\"#E5ECF6\",\"angularaxis\":{\"gridcolor\":\"white\",\"linecolor\":\"white\",\"ticks\":\"\"},\"radialaxis\":{\"gridcolor\":\"white\",\"linecolor\":\"white\",\"ticks\":\"\"}},\"ternary\":{\"bgcolor\":\"#E5ECF6\",\"aaxis\":{\"gridcolor\":\"white\",\"linecolor\":\"white\",\"ticks\":\"\"},\"baxis\":{\"gridcolor\":\"white\",\"linecolor\":\"white\",\"ticks\":\"\"},\"caxis\":{\"gridcolor\":\"white\",\"linecolor\":\"white\",\"ticks\":\"\"}},\"coloraxis\":{\"colorbar\":{\"outlinewidth\":0,\"ticks\":\"\"}},\"colorscale\":{\"sequential\":[[0.0,\"#0d0887\"],[0.1111111111111111,\"#46039f\"],[0.2222222222222222,\"#7201a8\"],[0.3333333333333333,\"#9c179e\"],[0.4444444444444444,\"#bd3786\"],[0.5555555555555556,\"#d8576b\"],[0.6666666666666666,\"#ed7953\"],[0.7777777777777778,\"#fb9f3a\"],[0.8888888888888888,\"#fdca26\"],[1.0,\"#f0f921\"]],\"sequentialminus\":[[0.0,\"#0d0887\"],[0.1111111111111111,\"#46039f\"],[0.2222222222222222,\"#7201a8\"],[0.3333333333333333,\"#9c179e\"],[0.4444444444444444,\"#bd3786\"],[0.5555555555555556,\"#d8576b\"],[0.6666666666666666,\"#ed7953\"],[0.7777777777777778,\"#fb9f3a\"],[0.8888888888888888,\"#fdca26\"],[1.0,\"#f0f921\"]],\"diverging\":[[0,\"#8e0152\"],[0.1,\"#c51b7d\"],[0.2,\"#de77ae\"],[0.3,\"#f1b6da\"],[0.4,\"#fde0ef\"],[0.5,\"#f7f7f7\"],[0.6,\"#e6f5d0\"],[0.7,\"#b8e186\"],[0.8,\"#7fbc41\"],[0.9,\"#4d9221\"],[1,\"#276419\"]]},\"xaxis\":{\"gridcolor\":\"white\",\"linecolor\":\"white\",\"ticks\":\"\",\"title\":{\"standoff\":15},\"zerolinecolor\":\"white\",\"automargin\":true,\"zerolinewidth\":2},\"yaxis\":{\"gridcolor\":\"white\",\"linecolor\":\"white\",\"ticks\":\"\",\"title\":{\"standoff\":15},\"zerolinecolor\":\"white\",\"automargin\":true,\"zerolinewidth\":2},\"scene\":{\"xaxis\":{\"backgroundcolor\":\"#E5ECF6\",\"gridcolor\":\"white\",\"linecolor\":\"white\",\"showbackground\":true,\"ticks\":\"\",\"zerolinecolor\":\"white\",\"gridwidth\":2},\"yaxis\":{\"backgroundcolor\":\"#E5ECF6\",\"gridcolor\":\"white\",\"linecolor\":\"white\",\"showbackground\":true,\"ticks\":\"\",\"zerolinecolor\":\"white\",\"gridwidth\":2},\"zaxis\":{\"backgroundcolor\":\"#E5ECF6\",\"gridcolor\":\"white\",\"linecolor\":\"white\",\"showbackground\":true,\"ticks\":\"\",\"zerolinecolor\":\"white\",\"gridwidth\":2}},\"shapedefaults\":{\"line\":{\"color\":\"#2a3f5f\"}},\"annotationdefaults\":{\"arrowcolor\":\"#2a3f5f\",\"arrowhead\":0,\"arrowwidth\":1},\"geo\":{\"bgcolor\":\"white\",\"landcolor\":\"#E5ECF6\",\"subunitcolor\":\"white\",\"showland\":true,\"showlakes\":true,\"lakecolor\":\"white\"},\"title\":{\"x\":0.05},\"mapbox\":{\"style\":\"light\"}}},\"xaxis\":{\"anchor\":\"y\",\"domain\":[0.0,1.0],\"title\":{\"text\":\"COMP0\"}},\"yaxis\":{\"anchor\":\"x\",\"domain\":[0.0,1.0],\"title\":{\"text\":\"COMP1\"}},\"legend\":{\"tracegroupgap\":0},\"title\":{\"text\":\"Proyecci\\u00f3n componente 1 vs componente 0\"}},                        {\"responsive\": true}                    ).then(function(){\n",
              "                            \n",
              "var gd = document.getElementById('948b4fc4-50ff-4382-a1e0-f847d03cbf83');\n",
              "var x = new MutationObserver(function (mutations, observer) {{\n",
              "        var display = window.getComputedStyle(gd).display;\n",
              "        if (!display || display === 'none') {{\n",
              "            console.log([gd, 'removed!']);\n",
              "            Plotly.purge(gd);\n",
              "            observer.disconnect();\n",
              "        }}\n",
              "}});\n",
              "\n",
              "// Listen for the removal of the full notebook cells\n",
              "var notebookContainer = gd.closest('#notebook-container');\n",
              "if (notebookContainer) {{\n",
              "    x.observe(notebookContainer, {childList: true});\n",
              "}}\n",
              "\n",
              "// Listen for the clearing of the current output cell\n",
              "var outputEl = gd.closest('.output');\n",
              "if (outputEl) {{\n",
              "    x.observe(outputEl, {childList: true});\n",
              "}}\n",
              "\n",
              "                        })                };                            </script>        </div>\n",
              "</body>\n",
              "</html>"
            ]
          },
          "metadata": {}
        }
      ]
    },
    {
      "cell_type": "markdown",
      "metadata": {
        "cell_id": "75015b8bec9f4985ae3535276edb9cf6",
        "deepnote_cell_height": 61.866668701171875,
        "deepnote_cell_type": "markdown",
        "tags": [],
        "id": "ULHkGwryHhgY"
      },
      "source": [
        "### 1.3.3 Clustering"
      ]
    },
    {
      "cell_type": "markdown",
      "metadata": {
        "cell_id": "01eb144ba7b844c98b0f68dc07f1ba38",
        "deepnote_cell_height": 53.866668701171875,
        "deepnote_cell_type": "markdown",
        "tags": [],
        "id": "Whx_M5XxHhgY"
      },
      "source": [
        "#### 1.3.3.1 Método del Codo [1 puntos]"
      ]
    },
    {
      "cell_type": "markdown",
      "metadata": {
        "cell_id": "de1f59f512af42618d3a5b084f84b460",
        "deepnote_cell_height": 223.06666564941406,
        "deepnote_cell_type": "markdown",
        "tags": [],
        "id": "KHTAD6V9HhgY"
      },
      "source": [
        "Utilizando la clase creada para escalamiento, aplique el método del codo para visualizar cual es el número de clusters que mejor se ajustan a los datos. Realice esto utilizando el algoritmo K-means dentro de un pipeline para un $k \\in [1,20]$, donde k representa el número de clusters del k-means. Para la realización de esta sección y la próxima (1.3.3.2), considere los mismos pasos utilizados para el t-sne, pero **permutando el algoritmo de reducción de dimensionalidad por k-means.**\n",
        "\n",
        "A través del grafico obtenido, comente y justifique que valor de k escogería para realizar el k-means."
      ]
    },
    {
      "cell_type": "markdown",
      "metadata": {
        "cell_id": "a268dbe1c26b4dccbaa8c976005c9141",
        "deepnote_cell_height": 52.26666259765625,
        "deepnote_cell_type": "markdown",
        "tags": [],
        "id": "ZAxBCajoHhgY"
      },
      "source": [
        "**Respuesta:**"
      ]
    },
    {
      "cell_type": "code",
      "execution_count": 137,
      "metadata": {
        "cell_id": "36239002cba54f98a3778e66878b1041",
        "deepnote_cell_height": 65.86666870117188,
        "deepnote_cell_type": "code",
        "tags": [],
        "id": "x3DPaij-HhgY"
      },
      "outputs": [],
      "source": [
        "\n",
        "def aplicar_pipeline(df,k):  \n",
        "  pipeline_KMEANS =  Pipeline(steps = [\n",
        "      ('lrmfp',FunctionTransformer(custom_features) ), #paso 1\n",
        "      ('transformacion',\n",
        "      ColumnTransformer([('min_max',MinMax(),nombre_columnas)])), #paso 2\n",
        "      ('kmeans',KMeans(n_clusters = k,init='k-means++',random_state=1,n_init=1 ))\n",
        "  ])\n",
        "  pipeline_KMEANS.fit(df)\n",
        "  return pipeline_KMEANS\n"
      ]
    },
    {
      "cell_type": "code",
      "source": [
        "\n",
        "inercias = [  aplicar_pipeline(df_retail,k)['kmeans'].inertia_ for k in range(1,21) ]\n",
        "inercias = pd.DataFrame({'n_cluster':range(1,21),\n",
        "                         'inercia':inercias\n",
        "                         })"
      ],
      "metadata": {
        "id": "aRLGNedZYI_m"
      },
      "execution_count": 138,
      "outputs": []
    },
    {
      "cell_type": "code",
      "source": [
        "inercias"
      ],
      "metadata": {
        "colab": {
          "base_uri": "https://localhost:8080/",
          "height": 676
        },
        "id": "k7FZK08ObX-e",
        "outputId": "fb1914e2-d9d2-456c-d14b-63cdc96df8c7"
      },
      "execution_count": 140,
      "outputs": [
        {
          "output_type": "execute_result",
          "data": {
            "text/plain": [
              "    n_cluster     inercia\n",
              "0           1  883.389554\n",
              "1           2  357.660440\n",
              "2           3  194.703394\n",
              "3           4  133.635480\n",
              "4           5  111.512358\n",
              "5           6   95.673355\n",
              "6           7   80.479320\n",
              "7           8   74.453796\n",
              "8           9   65.260000\n",
              "9          10   59.493321\n",
              "10         11   54.513080\n",
              "11         12   52.187287\n",
              "12         13   49.819150\n",
              "13         14   47.258368\n",
              "14         15   43.853624\n",
              "15         16   42.311004\n",
              "16         17   38.111483\n",
              "17         18   36.845853\n",
              "18         19   35.693759\n",
              "19         20   31.765713"
            ],
            "text/html": [
              "\n",
              "  <div id=\"df-ee64f6f1-ec56-41b8-83c4-0348c7696c78\">\n",
              "    <div class=\"colab-df-container\">\n",
              "      <div>\n",
              "<style scoped>\n",
              "    .dataframe tbody tr th:only-of-type {\n",
              "        vertical-align: middle;\n",
              "    }\n",
              "\n",
              "    .dataframe tbody tr th {\n",
              "        vertical-align: top;\n",
              "    }\n",
              "\n",
              "    .dataframe thead th {\n",
              "        text-align: right;\n",
              "    }\n",
              "</style>\n",
              "<table border=\"1\" class=\"dataframe\">\n",
              "  <thead>\n",
              "    <tr style=\"text-align: right;\">\n",
              "      <th></th>\n",
              "      <th>n_cluster</th>\n",
              "      <th>inercia</th>\n",
              "    </tr>\n",
              "  </thead>\n",
              "  <tbody>\n",
              "    <tr>\n",
              "      <th>0</th>\n",
              "      <td>1</td>\n",
              "      <td>883.389554</td>\n",
              "    </tr>\n",
              "    <tr>\n",
              "      <th>1</th>\n",
              "      <td>2</td>\n",
              "      <td>357.660440</td>\n",
              "    </tr>\n",
              "    <tr>\n",
              "      <th>2</th>\n",
              "      <td>3</td>\n",
              "      <td>194.703394</td>\n",
              "    </tr>\n",
              "    <tr>\n",
              "      <th>3</th>\n",
              "      <td>4</td>\n",
              "      <td>133.635480</td>\n",
              "    </tr>\n",
              "    <tr>\n",
              "      <th>4</th>\n",
              "      <td>5</td>\n",
              "      <td>111.512358</td>\n",
              "    </tr>\n",
              "    <tr>\n",
              "      <th>5</th>\n",
              "      <td>6</td>\n",
              "      <td>95.673355</td>\n",
              "    </tr>\n",
              "    <tr>\n",
              "      <th>6</th>\n",
              "      <td>7</td>\n",
              "      <td>80.479320</td>\n",
              "    </tr>\n",
              "    <tr>\n",
              "      <th>7</th>\n",
              "      <td>8</td>\n",
              "      <td>74.453796</td>\n",
              "    </tr>\n",
              "    <tr>\n",
              "      <th>8</th>\n",
              "      <td>9</td>\n",
              "      <td>65.260000</td>\n",
              "    </tr>\n",
              "    <tr>\n",
              "      <th>9</th>\n",
              "      <td>10</td>\n",
              "      <td>59.493321</td>\n",
              "    </tr>\n",
              "    <tr>\n",
              "      <th>10</th>\n",
              "      <td>11</td>\n",
              "      <td>54.513080</td>\n",
              "    </tr>\n",
              "    <tr>\n",
              "      <th>11</th>\n",
              "      <td>12</td>\n",
              "      <td>52.187287</td>\n",
              "    </tr>\n",
              "    <tr>\n",
              "      <th>12</th>\n",
              "      <td>13</td>\n",
              "      <td>49.819150</td>\n",
              "    </tr>\n",
              "    <tr>\n",
              "      <th>13</th>\n",
              "      <td>14</td>\n",
              "      <td>47.258368</td>\n",
              "    </tr>\n",
              "    <tr>\n",
              "      <th>14</th>\n",
              "      <td>15</td>\n",
              "      <td>43.853624</td>\n",
              "    </tr>\n",
              "    <tr>\n",
              "      <th>15</th>\n",
              "      <td>16</td>\n",
              "      <td>42.311004</td>\n",
              "    </tr>\n",
              "    <tr>\n",
              "      <th>16</th>\n",
              "      <td>17</td>\n",
              "      <td>38.111483</td>\n",
              "    </tr>\n",
              "    <tr>\n",
              "      <th>17</th>\n",
              "      <td>18</td>\n",
              "      <td>36.845853</td>\n",
              "    </tr>\n",
              "    <tr>\n",
              "      <th>18</th>\n",
              "      <td>19</td>\n",
              "      <td>35.693759</td>\n",
              "    </tr>\n",
              "    <tr>\n",
              "      <th>19</th>\n",
              "      <td>20</td>\n",
              "      <td>31.765713</td>\n",
              "    </tr>\n",
              "  </tbody>\n",
              "</table>\n",
              "</div>\n",
              "      <button class=\"colab-df-convert\" onclick=\"convertToInteractive('df-ee64f6f1-ec56-41b8-83c4-0348c7696c78')\"\n",
              "              title=\"Convert this dataframe to an interactive table.\"\n",
              "              style=\"display:none;\">\n",
              "        \n",
              "  <svg xmlns=\"http://www.w3.org/2000/svg\" height=\"24px\"viewBox=\"0 0 24 24\"\n",
              "       width=\"24px\">\n",
              "    <path d=\"M0 0h24v24H0V0z\" fill=\"none\"/>\n",
              "    <path d=\"M18.56 5.44l.94 2.06.94-2.06 2.06-.94-2.06-.94-.94-2.06-.94 2.06-2.06.94zm-11 1L8.5 8.5l.94-2.06 2.06-.94-2.06-.94L8.5 2.5l-.94 2.06-2.06.94zm10 10l.94 2.06.94-2.06 2.06-.94-2.06-.94-.94-2.06-.94 2.06-2.06.94z\"/><path d=\"M17.41 7.96l-1.37-1.37c-.4-.4-.92-.59-1.43-.59-.52 0-1.04.2-1.43.59L10.3 9.45l-7.72 7.72c-.78.78-.78 2.05 0 2.83L4 21.41c.39.39.9.59 1.41.59.51 0 1.02-.2 1.41-.59l7.78-7.78 2.81-2.81c.8-.78.8-2.07 0-2.86zM5.41 20L4 18.59l7.72-7.72 1.47 1.35L5.41 20z\"/>\n",
              "  </svg>\n",
              "      </button>\n",
              "      \n",
              "  <style>\n",
              "    .colab-df-container {\n",
              "      display:flex;\n",
              "      flex-wrap:wrap;\n",
              "      gap: 12px;\n",
              "    }\n",
              "\n",
              "    .colab-df-convert {\n",
              "      background-color: #E8F0FE;\n",
              "      border: none;\n",
              "      border-radius: 50%;\n",
              "      cursor: pointer;\n",
              "      display: none;\n",
              "      fill: #1967D2;\n",
              "      height: 32px;\n",
              "      padding: 0 0 0 0;\n",
              "      width: 32px;\n",
              "    }\n",
              "\n",
              "    .colab-df-convert:hover {\n",
              "      background-color: #E2EBFA;\n",
              "      box-shadow: 0px 1px 2px rgba(60, 64, 67, 0.3), 0px 1px 3px 1px rgba(60, 64, 67, 0.15);\n",
              "      fill: #174EA6;\n",
              "    }\n",
              "\n",
              "    [theme=dark] .colab-df-convert {\n",
              "      background-color: #3B4455;\n",
              "      fill: #D2E3FC;\n",
              "    }\n",
              "\n",
              "    [theme=dark] .colab-df-convert:hover {\n",
              "      background-color: #434B5C;\n",
              "      box-shadow: 0px 1px 3px 1px rgba(0, 0, 0, 0.15);\n",
              "      filter: drop-shadow(0px 1px 2px rgba(0, 0, 0, 0.3));\n",
              "      fill: #FFFFFF;\n",
              "    }\n",
              "  </style>\n",
              "\n",
              "      <script>\n",
              "        const buttonEl =\n",
              "          document.querySelector('#df-ee64f6f1-ec56-41b8-83c4-0348c7696c78 button.colab-df-convert');\n",
              "        buttonEl.style.display =\n",
              "          google.colab.kernel.accessAllowed ? 'block' : 'none';\n",
              "\n",
              "        async function convertToInteractive(key) {\n",
              "          const element = document.querySelector('#df-ee64f6f1-ec56-41b8-83c4-0348c7696c78');\n",
              "          const dataTable =\n",
              "            await google.colab.kernel.invokeFunction('convertToInteractive',\n",
              "                                                     [key], {});\n",
              "          if (!dataTable) return;\n",
              "\n",
              "          const docLinkHtml = 'Like what you see? Visit the ' +\n",
              "            '<a target=\"_blank\" href=https://colab.research.google.com/notebooks/data_table.ipynb>data table notebook</a>'\n",
              "            + ' to learn more about interactive tables.';\n",
              "          element.innerHTML = '';\n",
              "          dataTable['output_type'] = 'display_data';\n",
              "          await google.colab.output.renderOutput(dataTable, element);\n",
              "          const docLink = document.createElement('div');\n",
              "          docLink.innerHTML = docLinkHtml;\n",
              "          element.appendChild(docLink);\n",
              "        }\n",
              "      </script>\n",
              "    </div>\n",
              "  </div>\n",
              "  "
            ]
          },
          "metadata": {},
          "execution_count": 140
        }
      ]
    },
    {
      "cell_type": "code",
      "source": [
        "fig = px.line(inercias,x='n_cluster',y='inercia',title=\"codo K-Means\")\n",
        "fig"
      ],
      "metadata": {
        "colab": {
          "base_uri": "https://localhost:8080/",
          "height": 542
        },
        "id": "h2KC4O3UaZZO",
        "outputId": "7a874ef5-702d-4f39-92e5-b0a206df00ca"
      },
      "execution_count": 141,
      "outputs": [
        {
          "output_type": "display_data",
          "data": {
            "text/html": [
              "<html>\n",
              "<head><meta charset=\"utf-8\" /></head>\n",
              "<body>\n",
              "    <div>            <script src=\"https://cdnjs.cloudflare.com/ajax/libs/mathjax/2.7.5/MathJax.js?config=TeX-AMS-MML_SVG\"></script><script type=\"text/javascript\">if (window.MathJax && window.MathJax.Hub && window.MathJax.Hub.Config) {window.MathJax.Hub.Config({SVG: {font: \"STIX-Web\"}});}</script>                <script type=\"text/javascript\">window.PlotlyConfig = {MathJaxConfig: 'local'};</script>\n",
              "        <script charset=\"utf-8\" src=\"https://cdn.plot.ly/plotly-2.20.0.min.js\"></script>                <div id=\"0523939f-a5c3-4365-a5d8-0e00d0efac98\" class=\"plotly-graph-div\" style=\"height:525px; width:100%;\"></div>            <script type=\"text/javascript\">                                    window.PLOTLYENV=window.PLOTLYENV || {};                                    if (document.getElementById(\"0523939f-a5c3-4365-a5d8-0e00d0efac98\")) {                    Plotly.newPlot(                        \"0523939f-a5c3-4365-a5d8-0e00d0efac98\",                        [{\"hovertemplate\":\"n_cluster=%{x}<br>inercia=%{y}<extra></extra>\",\"legendgroup\":\"\",\"line\":{\"color\":\"#636efa\",\"dash\":\"solid\"},\"marker\":{\"symbol\":\"circle\"},\"mode\":\"lines\",\"name\":\"\",\"orientation\":\"v\",\"showlegend\":false,\"x\":[1,2,3,4,5,6,7,8,9,10,11,12,13,14,15,16,17,18,19,20],\"xaxis\":\"x\",\"y\":[883.389554453883,357.660440220794,194.70339406902133,133.63547991302693,111.51235789820285,95.67335483302394,80.47931968996207,74.453795917256,65.26000003616947,59.493321021809045,54.51307977686851,52.1872873865437,49.81914966322445,47.25836761451552,43.85362400788492,42.311003942076354,38.11148318329203,36.845852825563654,35.69375926952331,31.76571344700338],\"yaxis\":\"y\",\"type\":\"scatter\"}],                        {\"template\":{\"data\":{\"histogram2dcontour\":[{\"type\":\"histogram2dcontour\",\"colorbar\":{\"outlinewidth\":0,\"ticks\":\"\"},\"colorscale\":[[0.0,\"#0d0887\"],[0.1111111111111111,\"#46039f\"],[0.2222222222222222,\"#7201a8\"],[0.3333333333333333,\"#9c179e\"],[0.4444444444444444,\"#bd3786\"],[0.5555555555555556,\"#d8576b\"],[0.6666666666666666,\"#ed7953\"],[0.7777777777777778,\"#fb9f3a\"],[0.8888888888888888,\"#fdca26\"],[1.0,\"#f0f921\"]]}],\"choropleth\":[{\"type\":\"choropleth\",\"colorbar\":{\"outlinewidth\":0,\"ticks\":\"\"}}],\"histogram2d\":[{\"type\":\"histogram2d\",\"colorbar\":{\"outlinewidth\":0,\"ticks\":\"\"},\"colorscale\":[[0.0,\"#0d0887\"],[0.1111111111111111,\"#46039f\"],[0.2222222222222222,\"#7201a8\"],[0.3333333333333333,\"#9c179e\"],[0.4444444444444444,\"#bd3786\"],[0.5555555555555556,\"#d8576b\"],[0.6666666666666666,\"#ed7953\"],[0.7777777777777778,\"#fb9f3a\"],[0.8888888888888888,\"#fdca26\"],[1.0,\"#f0f921\"]]}],\"heatmap\":[{\"type\":\"heatmap\",\"colorbar\":{\"outlinewidth\":0,\"ticks\":\"\"},\"colorscale\":[[0.0,\"#0d0887\"],[0.1111111111111111,\"#46039f\"],[0.2222222222222222,\"#7201a8\"],[0.3333333333333333,\"#9c179e\"],[0.4444444444444444,\"#bd3786\"],[0.5555555555555556,\"#d8576b\"],[0.6666666666666666,\"#ed7953\"],[0.7777777777777778,\"#fb9f3a\"],[0.8888888888888888,\"#fdca26\"],[1.0,\"#f0f921\"]]}],\"heatmapgl\":[{\"type\":\"heatmapgl\",\"colorbar\":{\"outlinewidth\":0,\"ticks\":\"\"},\"colorscale\":[[0.0,\"#0d0887\"],[0.1111111111111111,\"#46039f\"],[0.2222222222222222,\"#7201a8\"],[0.3333333333333333,\"#9c179e\"],[0.4444444444444444,\"#bd3786\"],[0.5555555555555556,\"#d8576b\"],[0.6666666666666666,\"#ed7953\"],[0.7777777777777778,\"#fb9f3a\"],[0.8888888888888888,\"#fdca26\"],[1.0,\"#f0f921\"]]}],\"contourcarpet\":[{\"type\":\"contourcarpet\",\"colorbar\":{\"outlinewidth\":0,\"ticks\":\"\"}}],\"contour\":[{\"type\":\"contour\",\"colorbar\":{\"outlinewidth\":0,\"ticks\":\"\"},\"colorscale\":[[0.0,\"#0d0887\"],[0.1111111111111111,\"#46039f\"],[0.2222222222222222,\"#7201a8\"],[0.3333333333333333,\"#9c179e\"],[0.4444444444444444,\"#bd3786\"],[0.5555555555555556,\"#d8576b\"],[0.6666666666666666,\"#ed7953\"],[0.7777777777777778,\"#fb9f3a\"],[0.8888888888888888,\"#fdca26\"],[1.0,\"#f0f921\"]]}],\"surface\":[{\"type\":\"surface\",\"colorbar\":{\"outlinewidth\":0,\"ticks\":\"\"},\"colorscale\":[[0.0,\"#0d0887\"],[0.1111111111111111,\"#46039f\"],[0.2222222222222222,\"#7201a8\"],[0.3333333333333333,\"#9c179e\"],[0.4444444444444444,\"#bd3786\"],[0.5555555555555556,\"#d8576b\"],[0.6666666666666666,\"#ed7953\"],[0.7777777777777778,\"#fb9f3a\"],[0.8888888888888888,\"#fdca26\"],[1.0,\"#f0f921\"]]}],\"mesh3d\":[{\"type\":\"mesh3d\",\"colorbar\":{\"outlinewidth\":0,\"ticks\":\"\"}}],\"scatter\":[{\"fillpattern\":{\"fillmode\":\"overlay\",\"size\":10,\"solidity\":0.2},\"type\":\"scatter\"}],\"parcoords\":[{\"type\":\"parcoords\",\"line\":{\"colorbar\":{\"outlinewidth\":0,\"ticks\":\"\"}}}],\"scatterpolargl\":[{\"type\":\"scatterpolargl\",\"marker\":{\"colorbar\":{\"outlinewidth\":0,\"ticks\":\"\"}}}],\"bar\":[{\"error_x\":{\"color\":\"#2a3f5f\"},\"error_y\":{\"color\":\"#2a3f5f\"},\"marker\":{\"line\":{\"color\":\"#E5ECF6\",\"width\":0.5},\"pattern\":{\"fillmode\":\"overlay\",\"size\":10,\"solidity\":0.2}},\"type\":\"bar\"}],\"scattergeo\":[{\"type\":\"scattergeo\",\"marker\":{\"colorbar\":{\"outlinewidth\":0,\"ticks\":\"\"}}}],\"scatterpolar\":[{\"type\":\"scatterpolar\",\"marker\":{\"colorbar\":{\"outlinewidth\":0,\"ticks\":\"\"}}}],\"histogram\":[{\"marker\":{\"pattern\":{\"fillmode\":\"overlay\",\"size\":10,\"solidity\":0.2}},\"type\":\"histogram\"}],\"scattergl\":[{\"type\":\"scattergl\",\"marker\":{\"colorbar\":{\"outlinewidth\":0,\"ticks\":\"\"}}}],\"scatter3d\":[{\"type\":\"scatter3d\",\"line\":{\"colorbar\":{\"outlinewidth\":0,\"ticks\":\"\"}},\"marker\":{\"colorbar\":{\"outlinewidth\":0,\"ticks\":\"\"}}}],\"scattermapbox\":[{\"type\":\"scattermapbox\",\"marker\":{\"colorbar\":{\"outlinewidth\":0,\"ticks\":\"\"}}}],\"scatterternary\":[{\"type\":\"scatterternary\",\"marker\":{\"colorbar\":{\"outlinewidth\":0,\"ticks\":\"\"}}}],\"scattercarpet\":[{\"type\":\"scattercarpet\",\"marker\":{\"colorbar\":{\"outlinewidth\":0,\"ticks\":\"\"}}}],\"carpet\":[{\"aaxis\":{\"endlinecolor\":\"#2a3f5f\",\"gridcolor\":\"white\",\"linecolor\":\"white\",\"minorgridcolor\":\"white\",\"startlinecolor\":\"#2a3f5f\"},\"baxis\":{\"endlinecolor\":\"#2a3f5f\",\"gridcolor\":\"white\",\"linecolor\":\"white\",\"minorgridcolor\":\"white\",\"startlinecolor\":\"#2a3f5f\"},\"type\":\"carpet\"}],\"table\":[{\"cells\":{\"fill\":{\"color\":\"#EBF0F8\"},\"line\":{\"color\":\"white\"}},\"header\":{\"fill\":{\"color\":\"#C8D4E3\"},\"line\":{\"color\":\"white\"}},\"type\":\"table\"}],\"barpolar\":[{\"marker\":{\"line\":{\"color\":\"#E5ECF6\",\"width\":0.5},\"pattern\":{\"fillmode\":\"overlay\",\"size\":10,\"solidity\":0.2}},\"type\":\"barpolar\"}],\"pie\":[{\"automargin\":true,\"type\":\"pie\"}]},\"layout\":{\"autotypenumbers\":\"strict\",\"colorway\":[\"#636efa\",\"#EF553B\",\"#00cc96\",\"#ab63fa\",\"#FFA15A\",\"#19d3f3\",\"#FF6692\",\"#B6E880\",\"#FF97FF\",\"#FECB52\"],\"font\":{\"color\":\"#2a3f5f\"},\"hovermode\":\"closest\",\"hoverlabel\":{\"align\":\"left\"},\"paper_bgcolor\":\"white\",\"plot_bgcolor\":\"#E5ECF6\",\"polar\":{\"bgcolor\":\"#E5ECF6\",\"angularaxis\":{\"gridcolor\":\"white\",\"linecolor\":\"white\",\"ticks\":\"\"},\"radialaxis\":{\"gridcolor\":\"white\",\"linecolor\":\"white\",\"ticks\":\"\"}},\"ternary\":{\"bgcolor\":\"#E5ECF6\",\"aaxis\":{\"gridcolor\":\"white\",\"linecolor\":\"white\",\"ticks\":\"\"},\"baxis\":{\"gridcolor\":\"white\",\"linecolor\":\"white\",\"ticks\":\"\"},\"caxis\":{\"gridcolor\":\"white\",\"linecolor\":\"white\",\"ticks\":\"\"}},\"coloraxis\":{\"colorbar\":{\"outlinewidth\":0,\"ticks\":\"\"}},\"colorscale\":{\"sequential\":[[0.0,\"#0d0887\"],[0.1111111111111111,\"#46039f\"],[0.2222222222222222,\"#7201a8\"],[0.3333333333333333,\"#9c179e\"],[0.4444444444444444,\"#bd3786\"],[0.5555555555555556,\"#d8576b\"],[0.6666666666666666,\"#ed7953\"],[0.7777777777777778,\"#fb9f3a\"],[0.8888888888888888,\"#fdca26\"],[1.0,\"#f0f921\"]],\"sequentialminus\":[[0.0,\"#0d0887\"],[0.1111111111111111,\"#46039f\"],[0.2222222222222222,\"#7201a8\"],[0.3333333333333333,\"#9c179e\"],[0.4444444444444444,\"#bd3786\"],[0.5555555555555556,\"#d8576b\"],[0.6666666666666666,\"#ed7953\"],[0.7777777777777778,\"#fb9f3a\"],[0.8888888888888888,\"#fdca26\"],[1.0,\"#f0f921\"]],\"diverging\":[[0,\"#8e0152\"],[0.1,\"#c51b7d\"],[0.2,\"#de77ae\"],[0.3,\"#f1b6da\"],[0.4,\"#fde0ef\"],[0.5,\"#f7f7f7\"],[0.6,\"#e6f5d0\"],[0.7,\"#b8e186\"],[0.8,\"#7fbc41\"],[0.9,\"#4d9221\"],[1,\"#276419\"]]},\"xaxis\":{\"gridcolor\":\"white\",\"linecolor\":\"white\",\"ticks\":\"\",\"title\":{\"standoff\":15},\"zerolinecolor\":\"white\",\"automargin\":true,\"zerolinewidth\":2},\"yaxis\":{\"gridcolor\":\"white\",\"linecolor\":\"white\",\"ticks\":\"\",\"title\":{\"standoff\":15},\"zerolinecolor\":\"white\",\"automargin\":true,\"zerolinewidth\":2},\"scene\":{\"xaxis\":{\"backgroundcolor\":\"#E5ECF6\",\"gridcolor\":\"white\",\"linecolor\":\"white\",\"showbackground\":true,\"ticks\":\"\",\"zerolinecolor\":\"white\",\"gridwidth\":2},\"yaxis\":{\"backgroundcolor\":\"#E5ECF6\",\"gridcolor\":\"white\",\"linecolor\":\"white\",\"showbackground\":true,\"ticks\":\"\",\"zerolinecolor\":\"white\",\"gridwidth\":2},\"zaxis\":{\"backgroundcolor\":\"#E5ECF6\",\"gridcolor\":\"white\",\"linecolor\":\"white\",\"showbackground\":true,\"ticks\":\"\",\"zerolinecolor\":\"white\",\"gridwidth\":2}},\"shapedefaults\":{\"line\":{\"color\":\"#2a3f5f\"}},\"annotationdefaults\":{\"arrowcolor\":\"#2a3f5f\",\"arrowhead\":0,\"arrowwidth\":1},\"geo\":{\"bgcolor\":\"white\",\"landcolor\":\"#E5ECF6\",\"subunitcolor\":\"white\",\"showland\":true,\"showlakes\":true,\"lakecolor\":\"white\"},\"title\":{\"x\":0.05},\"mapbox\":{\"style\":\"light\"}}},\"xaxis\":{\"anchor\":\"y\",\"domain\":[0.0,1.0],\"title\":{\"text\":\"n_cluster\"}},\"yaxis\":{\"anchor\":\"x\",\"domain\":[0.0,1.0],\"title\":{\"text\":\"inercia\"}},\"legend\":{\"tracegroupgap\":0},\"title\":{\"text\":\"codo K-Means\"}},                        {\"responsive\": true}                    ).then(function(){\n",
              "                            \n",
              "var gd = document.getElementById('0523939f-a5c3-4365-a5d8-0e00d0efac98');\n",
              "var x = new MutationObserver(function (mutations, observer) {{\n",
              "        var display = window.getComputedStyle(gd).display;\n",
              "        if (!display || display === 'none') {{\n",
              "            console.log([gd, 'removed!']);\n",
              "            Plotly.purge(gd);\n",
              "            observer.disconnect();\n",
              "        }}\n",
              "}});\n",
              "\n",
              "// Listen for the removal of the full notebook cells\n",
              "var notebookContainer = gd.closest('#notebook-container');\n",
              "if (notebookContainer) {{\n",
              "    x.observe(notebookContainer, {childList: true});\n",
              "}}\n",
              "\n",
              "// Listen for the clearing of the current output cell\n",
              "var outputEl = gd.closest('.output');\n",
              "if (outputEl) {{\n",
              "    x.observe(outputEl, {childList: true});\n",
              "}}\n",
              "\n",
              "                        })                };                            </script>        </div>\n",
              "</body>\n",
              "</html>"
            ]
          },
          "metadata": {}
        }
      ]
    },
    {
      "cell_type": "markdown",
      "source": [
        "Dado lo observado, por el método del codo se elige un k=4, dado que la elasticidad de pasar al k=5 es significativamente menor que la de pasar del k=3 al k=4, es decir, la ganancia de información de aumentar el k mas allá del 4 no es significativa."
      ],
      "metadata": {
        "id": "ezPnDmJlbLx5"
      }
    },
    {
      "cell_type": "markdown",
      "metadata": {
        "cell_id": "3bb5d86bc1e54cf18a851e71c2c3a3c1",
        "deepnote_cell_height": 53.866668701171875,
        "deepnote_cell_type": "markdown",
        "tags": [],
        "id": "D8B91mxFHhgc"
      },
      "source": [
        "#### 1.3.3.2 Segmentación de Clientes con K-Means 🎁 [1 punto]"
      ]
    },
    {
      "cell_type": "markdown",
      "metadata": {
        "cell_id": "f8c3b4d105754ccb8a1ce6dfd606a40e",
        "deepnote_cell_height": 200.6666717529297,
        "deepnote_cell_type": "markdown",
        "tags": [],
        "id": "usO0fWKGHhgc"
      },
      "source": [
        "En base a la elección de k realizada en la sección anterior, utilice este valor escogido y entrene un modelo de K-means utilizando el mismo pipeline de scikit-learn utilizado anteriormente.\n",
        "\n",
        "Una vez ajustado los datos, genere una tabla con los promedios (o medianas) para cada uno de los atributos, agrupando estos por el clúster que pertenecen. ¿Es posible observar agrupaciones coherentes?, ¿Qué tipo de clientes posee el retail?, Justifique su respuesta y no decepcione a Mr. Lepin.\n"
      ]
    },
    {
      "cell_type": "markdown",
      "metadata": {
        "cell_id": "dbce893901024a828d2b875798e27674",
        "deepnote_cell_height": 52.26666259765625,
        "deepnote_cell_type": "markdown",
        "tags": [],
        "id": "NejQocW6Hhgc"
      },
      "source": [
        "**Respuesta:**"
      ]
    },
    {
      "cell_type": "code",
      "execution_count": 147,
      "metadata": {
        "cell_id": "375d5f6e310c442d82a9c940805fc6d2",
        "deepnote_cell_height": 65.86666870117188,
        "deepnote_cell_type": "code",
        "tags": [],
        "id": "QUJ4YUo0Hhgc",
        "colab": {
          "base_uri": "https://localhost:8080/",
          "height": 206
        },
        "outputId": "7b1e99df-6310-4a45-c415-f4d49c16a67b"
      },
      "outputs": [
        {
          "output_type": "execute_result",
          "data": {
            "text/plain": [
              "                  L           R          F            M          P\n",
              "cluster                                                           \n",
              "0        319.446828   22.760500  10.213584  5248.032609  20.118767\n",
              "1         17.391066   50.898119   1.721787   672.194687   2.379310\n",
              "2         17.625686  254.309550   1.504940   573.058160   2.814160\n",
              "3        182.041667   66.798611   4.184524  1533.639733  20.854464"
            ],
            "text/html": [
              "\n",
              "  <div id=\"df-d09aba55-c3ad-4a60-8542-825e0cafc636\">\n",
              "    <div class=\"colab-df-container\">\n",
              "      <div>\n",
              "<style scoped>\n",
              "    .dataframe tbody tr th:only-of-type {\n",
              "        vertical-align: middle;\n",
              "    }\n",
              "\n",
              "    .dataframe tbody tr th {\n",
              "        vertical-align: top;\n",
              "    }\n",
              "\n",
              "    .dataframe thead th {\n",
              "        text-align: right;\n",
              "    }\n",
              "</style>\n",
              "<table border=\"1\" class=\"dataframe\">\n",
              "  <thead>\n",
              "    <tr style=\"text-align: right;\">\n",
              "      <th></th>\n",
              "      <th>L</th>\n",
              "      <th>R</th>\n",
              "      <th>F</th>\n",
              "      <th>M</th>\n",
              "      <th>P</th>\n",
              "    </tr>\n",
              "    <tr>\n",
              "      <th>cluster</th>\n",
              "      <th></th>\n",
              "      <th></th>\n",
              "      <th></th>\n",
              "      <th></th>\n",
              "      <th></th>\n",
              "    </tr>\n",
              "  </thead>\n",
              "  <tbody>\n",
              "    <tr>\n",
              "      <th>0</th>\n",
              "      <td>319.446828</td>\n",
              "      <td>22.760500</td>\n",
              "      <td>10.213584</td>\n",
              "      <td>5248.032609</td>\n",
              "      <td>20.118767</td>\n",
              "    </tr>\n",
              "    <tr>\n",
              "      <th>1</th>\n",
              "      <td>17.391066</td>\n",
              "      <td>50.898119</td>\n",
              "      <td>1.721787</td>\n",
              "      <td>672.194687</td>\n",
              "      <td>2.379310</td>\n",
              "    </tr>\n",
              "    <tr>\n",
              "      <th>2</th>\n",
              "      <td>17.625686</td>\n",
              "      <td>254.309550</td>\n",
              "      <td>1.504940</td>\n",
              "      <td>573.058160</td>\n",
              "      <td>2.814160</td>\n",
              "    </tr>\n",
              "    <tr>\n",
              "      <th>3</th>\n",
              "      <td>182.041667</td>\n",
              "      <td>66.798611</td>\n",
              "      <td>4.184524</td>\n",
              "      <td>1533.639733</td>\n",
              "      <td>20.854464</td>\n",
              "    </tr>\n",
              "  </tbody>\n",
              "</table>\n",
              "</div>\n",
              "      <button class=\"colab-df-convert\" onclick=\"convertToInteractive('df-d09aba55-c3ad-4a60-8542-825e0cafc636')\"\n",
              "              title=\"Convert this dataframe to an interactive table.\"\n",
              "              style=\"display:none;\">\n",
              "        \n",
              "  <svg xmlns=\"http://www.w3.org/2000/svg\" height=\"24px\"viewBox=\"0 0 24 24\"\n",
              "       width=\"24px\">\n",
              "    <path d=\"M0 0h24v24H0V0z\" fill=\"none\"/>\n",
              "    <path d=\"M18.56 5.44l.94 2.06.94-2.06 2.06-.94-2.06-.94-.94-2.06-.94 2.06-2.06.94zm-11 1L8.5 8.5l.94-2.06 2.06-.94-2.06-.94L8.5 2.5l-.94 2.06-2.06.94zm10 10l.94 2.06.94-2.06 2.06-.94-2.06-.94-.94-2.06-.94 2.06-2.06.94z\"/><path d=\"M17.41 7.96l-1.37-1.37c-.4-.4-.92-.59-1.43-.59-.52 0-1.04.2-1.43.59L10.3 9.45l-7.72 7.72c-.78.78-.78 2.05 0 2.83L4 21.41c.39.39.9.59 1.41.59.51 0 1.02-.2 1.41-.59l7.78-7.78 2.81-2.81c.8-.78.8-2.07 0-2.86zM5.41 20L4 18.59l7.72-7.72 1.47 1.35L5.41 20z\"/>\n",
              "  </svg>\n",
              "      </button>\n",
              "      \n",
              "  <style>\n",
              "    .colab-df-container {\n",
              "      display:flex;\n",
              "      flex-wrap:wrap;\n",
              "      gap: 12px;\n",
              "    }\n",
              "\n",
              "    .colab-df-convert {\n",
              "      background-color: #E8F0FE;\n",
              "      border: none;\n",
              "      border-radius: 50%;\n",
              "      cursor: pointer;\n",
              "      display: none;\n",
              "      fill: #1967D2;\n",
              "      height: 32px;\n",
              "      padding: 0 0 0 0;\n",
              "      width: 32px;\n",
              "    }\n",
              "\n",
              "    .colab-df-convert:hover {\n",
              "      background-color: #E2EBFA;\n",
              "      box-shadow: 0px 1px 2px rgba(60, 64, 67, 0.3), 0px 1px 3px 1px rgba(60, 64, 67, 0.15);\n",
              "      fill: #174EA6;\n",
              "    }\n",
              "\n",
              "    [theme=dark] .colab-df-convert {\n",
              "      background-color: #3B4455;\n",
              "      fill: #D2E3FC;\n",
              "    }\n",
              "\n",
              "    [theme=dark] .colab-df-convert:hover {\n",
              "      background-color: #434B5C;\n",
              "      box-shadow: 0px 1px 3px 1px rgba(0, 0, 0, 0.15);\n",
              "      filter: drop-shadow(0px 1px 2px rgba(0, 0, 0, 0.3));\n",
              "      fill: #FFFFFF;\n",
              "    }\n",
              "  </style>\n",
              "\n",
              "      <script>\n",
              "        const buttonEl =\n",
              "          document.querySelector('#df-d09aba55-c3ad-4a60-8542-825e0cafc636 button.colab-df-convert');\n",
              "        buttonEl.style.display =\n",
              "          google.colab.kernel.accessAllowed ? 'block' : 'none';\n",
              "\n",
              "        async function convertToInteractive(key) {\n",
              "          const element = document.querySelector('#df-d09aba55-c3ad-4a60-8542-825e0cafc636');\n",
              "          const dataTable =\n",
              "            await google.colab.kernel.invokeFunction('convertToInteractive',\n",
              "                                                     [key], {});\n",
              "          if (!dataTable) return;\n",
              "\n",
              "          const docLinkHtml = 'Like what you see? Visit the ' +\n",
              "            '<a target=\"_blank\" href=https://colab.research.google.com/notebooks/data_table.ipynb>data table notebook</a>'\n",
              "            + ' to learn more about interactive tables.';\n",
              "          element.innerHTML = '';\n",
              "          dataTable['output_type'] = 'display_data';\n",
              "          await google.colab.output.renderOutput(dataTable, element);\n",
              "          const docLink = document.createElement('div');\n",
              "          docLink.innerHTML = docLinkHtml;\n",
              "          element.appendChild(docLink);\n",
              "        }\n",
              "      </script>\n",
              "    </div>\n",
              "  </div>\n",
              "  "
            ]
          },
          "metadata": {},
          "execution_count": 147
        }
      ],
      "source": [
        "# para el k=4 tomado:\n",
        "pipeline_bueno =  aplicar_pipeline(df_retail,4) \n",
        "kmeans=pipeline_bueno['kmeans']\n",
        "\n",
        "df_metricas=df_lrmfp.copy()\n",
        "df_metricas['cluster']=kmeans.labels_\n",
        "df_metricas.groupby('cluster').mean()"
      ]
    },
    {
      "cell_type": "markdown",
      "source": [
        "NOTA: Para este analisis  Recency se interpreta como \"mientras mas alto su valor, mas interes en volver, dado que se calculó como el maximo de las ultimas compras realizadas - la ultima compra del cliente analisado, es decir, si el cliente que coincide con el maximo su ultima compra es el mismo dia es decir tiene un valor de 0 y por tanto no tiene interes en volver\" \n",
        "\n",
        "\n",
        "Observando la tabla, claramente hay segmentación de clientes, donde cada cluster representa un perfil de cliente distinto. En particular los clientes del cluster 0 mantiene un periodo largo como clientes del local pero no van muy seguido (Recency bajo), mantienen una frecuencia de compras alto en todo su periodo, de media 10, y le han dado a la tienda altas sumas de dinero (Monetary alto) en el total de sus compras y aproximadamente van cada 20 dias a comprar (Periodicity).\n",
        "\n",
        "Para el cluster 1 y 2 son clientes relativamente nuevos, cuya diferencia mas marcada es que los del cluster 2 su ultima compra fue un día lejano al día en que se realiza el estudio, por tanto son mas propensos a volver a comprar. En general estos 2 clusters tienen  Frecuencia, Monetary y Periodicity muy similares.\n",
        "\n",
        "El cluster 3 mantiene una periodicidad equivalente a los clientes del cluster 0 pero llevan menos tiempo siendo clientes y además van con menos frecuencia a comprar, es decir, son potenciales clientes que pueden ser futuros usuarios del cluster 0 pues tienen bastante similitud."
      ],
      "metadata": {
        "id": "gagHME6xezj7"
      }
    },
    {
      "cell_type": "markdown",
      "metadata": {
        "cell_id": "18e50ee0240543d692bcde6d9c29fe73",
        "deepnote_cell_height": 261.4666748046875,
        "deepnote_cell_type": "markdown",
        "tags": [],
        "id": "p_0MSGD5Hhgc"
      },
      "source": [
        "**Respuesta Esperada:**\n",
        "\n",
        "|         | Length  | Recency   | Frequency | Monetary | Periodicity |       |\n",
        "|---------|---------|-----------|----------|-------------|-------|-------|\n",
        "| Cluster |         |           |          |             |       |       |\n",
        "|    0    |   258.8 |      45.2 |     76.1 |      1107.7 | 107.6 |   449 |\n",
        "|    1    |    76.1 |     217.6 |     45.5 |       791.7 |  14.1 |   466 |\n",
        "|    2    |   368.5 |       4.8 |   2715.0 |    226621.6 |   4.2 |     4 |\n",
        "|    3    |    85.3 |      45.7 |     65.8 |      1047.0 |  10.5 |   987 |\n",
        "|    4    |   347.2 |      15.9 |   1658.0 |     35829.3 |   8.0 |    25 |\n",
        "|    5    |   298.0 |      29.8 |    183.8 |      3639.9 |  32.0 |  1188 |"
      ]
    },
    {
      "cell_type": "markdown",
      "metadata": {
        "cell_id": "f79d1fa6b1a64b6f97bffc62b037a663",
        "deepnote_cell_height": 53.866668701171875,
        "deepnote_cell_type": "markdown",
        "tags": [],
        "id": "I2hxrwxlHhgd"
      },
      "source": [
        "#### 1.3.3.3 Plot de K-Means 📈 [0.5 puntos]\n",
        "\n"
      ]
    },
    {
      "cell_type": "markdown",
      "metadata": {
        "cell_id": "2d0348435e814f16b8957dfbc6384a88",
        "deepnote_cell_height": 192.26666259765625,
        "deepnote_cell_type": "markdown",
        "owner_user_id": "d50c3174-babb-4861-9c71-7e3af66458b8",
        "tags": [],
        "id": "xVdKIVWqHhgd"
      },
      "source": [
        "Por último, Mr. Lepin, impaciente de no entender lo que usted intenta explicarle, le solicita que por favor muestre algún resultado \"visual\" de los grupos encontrados.\n",
        "\n",
        "Para esto, grafique nuevamente las características encontradas usando `T-SNE` (no calcule de nuevo, simplemente utilice las proyecciones encontradas) y agregue las labels calculadas con kmeans como el argumento `color`.   \n",
        "\n",
        "Comente: ¿Se separan bien los distintos clusters en la visualización?\n"
      ]
    },
    {
      "cell_type": "markdown",
      "metadata": {
        "cell_id": "e805388b96c04ea8a06a262229c2f799",
        "deepnote_cell_height": 52.26666259765625,
        "deepnote_cell_type": "markdown",
        "tags": [],
        "id": "2Ir1Cqp9Hhgd"
      },
      "source": [
        "**Respuesta:**"
      ]
    },
    {
      "cell_type": "code",
      "execution_count": 148,
      "metadata": {
        "cell_id": "9e2d26de81ed4a729e25c6c5361310e1",
        "deepnote_cell_height": 65.86666870117188,
        "deepnote_cell_type": "code",
        "tags": [],
        "id": "QQ7veKvmHhgd",
        "colab": {
          "base_uri": "https://localhost:8080/",
          "height": 542
        },
        "outputId": "1b9126c9-a7c1-4588-f54d-c9a80f8bef6a"
      },
      "outputs": [
        {
          "output_type": "display_data",
          "data": {
            "text/html": [
              "<html>\n",
              "<head><meta charset=\"utf-8\" /></head>\n",
              "<body>\n",
              "    <div>            <script src=\"https://cdnjs.cloudflare.com/ajax/libs/mathjax/2.7.5/MathJax.js?config=TeX-AMS-MML_SVG\"></script><script type=\"text/javascript\">if (window.MathJax && window.MathJax.Hub && window.MathJax.Hub.Config) {window.MathJax.Hub.Config({SVG: {font: \"STIX-Web\"}});}</script>                <script type=\"text/javascript\">window.PlotlyConfig = {MathJaxConfig: 'local'};</script>\n",
              "        <script charset=\"utf-8\" src=\"https://cdn.plot.ly/plotly-2.20.0.min.js\"></script>                <div id=\"76847773-f1bc-4287-8cb0-b738ceac5cb1\" class=\"plotly-graph-div\" style=\"height:525px; width:100%;\"></div>            <script type=\"text/javascript\">                                    window.PLOTLYENV=window.PLOTLYENV || {};                                    if (document.getElementById(\"76847773-f1bc-4287-8cb0-b738ceac5cb1\")) {                    Plotly.newPlot(                        \"76847773-f1bc-4287-8cb0-b738ceac5cb1\",                        [{\"hovertemplate\":\"COMP0=%{x}<br>COMP1=%{y}<br>color=%{marker.color}<extra></extra>\",\"legendgroup\":\"\",\"marker\":{\"color\":[3,1,1,3,1,1,1,2,1,1,0,0,0,3,2,2,2,3,2,3,2,3,1,3,2,3,3,1,1,1,3,0,3,2,1,3,2,0,1,0,2,2,0,3,3,1,1,3,1,1,3,2,0,3,1,1,0,1,3,1,2,1,3,0,3,1,0,0,2,3,1,2,1,1,1,1,1,0,1,1,2,1,2,1,3,2,2,0,0,0,1,1,3,3,0,2,0,3,2,1,2,0,1,3,2,2,3,2,3,2,3,1,2,0,1,2,3,1,0,0,3,1,2,3,2,2,1,1,0,0,3,1,1,2,1,1,2,0,1,1,0,2,2,1,1,3,0,1,2,3,0,0,3,0,1,2,0,1,3,3,0,1,1,2,1,0,0,3,1,2,0,0,1,1,3,2,3,2,1,2,3,2,3,3,0,0,0,0,0,1,1,2,1,3,1,0,2,3,3,1,0,0,2,2,1,2,1,2,0,0,0,0,1,1,1,2,3,1,3,1,2,1,2,2,3,0,0,2,0,0,2,3,1,3,3,3,3,1,2,3,0,1,1,1,1,2,2,3,3,2,0,0,3,1,0,0,0,1,1,1,3,1,1,1,1,1,2,2,1,2,1,3,0,2,3,2,3,2,1,1,3,1,0,2,1,2,1,1,2,3,1,3,1,1,0,3,1,1,2,3,1,3,1,1,0,2,0,3,0,2,1,0,0,2,3,0,3,3,0,0,3,2,1,2,3,1,1,3,3,1,3,1,1,2,2,1,3,1,1,1,0,1,2,0,1,0,0,3,3,3,0,3,1,3,1,3,1,2,3,3,1,1,1,2,3,0,3,0,2,0,1,3,3,0,2,3,0,3,0,2,0,1,3,0,3,0,2,3,0,0,2,1,2,2,1,1,2,0,0,2,2,2,3,3,1,3,1,3,1,1,2,0,0,3,1,2,0,0,1,0,2,0,3,2,0,0,0,3,1,2,3,1,3,3,2,0,1,0,1,2,0,2,0,1,3,0,1,3,3,0,2,0,1,2,3,2,3,0,3,1,3,1,1,1,1,2,0,2,3,2,3,1,1,0,3,1,0,2,3,2,1,2,2,3,1,2,3,1,3,0,2,1,3,1,0,0,1,3,0,0,1,1,2,1,2,1,0,3,2,0,0,1,1,0,3,3,3,3,1,1,0,1,2,0,2,2,0,2,3,0,1,2,1,1,2,0,2,1,3,1,1,1,0,3,1,1,3,0,2,1,3,0,3,2,0,0,3,0,3,1,1,0,2,2,1,1,1,2,2,1,0,0,2,1,0,2,2,1,3,2,3,2,3,1,1,3,2,1,0,3,0,0,2,1,0,3,0,3,0,3,3,1,2,2,2,2,3,0,1,0,0,2,1,3,1,0,1,3,3,1,3,0,1,1,3,0,1,3,1,1,0,3,1,1,0,0,0,1,1,0,3,3,3,0,1,1,2,2,2,2,3,2,1,0,3,0,2,3,3,3,3,3,2,1,3,0,1,3,2,1,1,1,3,2,0,0,0,1,3,1,0,0,3,1,3,3,2,3,3,3,3,1,0,3,1,1,1,1,1,1,3,0,1,1,0,1,0,0,2,3,1,1,2,2,2,0,1,3,1,1,2,3,0,3,3,2,0,0,2,2,3,3,2,2,0,0,1,1,1,0,3,1,0,2,3,0,3,2,3,1,1,2,3,3,2,3,0,3,0,1,1,2,0,2,1,2,3,0,3,3,3,0,2,1,2,1,3,3,3,1,0,0,2,0,0,3,0,2,0,0,0,2,1,1,3,3,1,2,1,0,2,3,3,3,3,1,1,0,1,2,0,2,0,3,1,1,0,3,3,3,0,2,3,3,1,1,1,1,1,2,3,2,1,0,1,0,1,0,0,0,1,3,3,1,0,0,1,0,0,1,0,1,1,3,2,3,3,2,3,0,0,0,0,1,3,1,3,0,2,3,3,2,3,1,2,2,0,0,2,3,3,0,2,1,3,2,2,0,1,2,1,3,2,0,3,0,0,1,2,2,1,0,1,3,0,3,0,1,0,1,0,3,3,0,3,1,2,0,0,3,0,0,1,1,2,1,2,3,3,3,1,3,1,1,2,1,1,1,0,0,2,3,2,2,3,1,1,1,0,2,3,3,3,0,2,3,1,0,1,3,1,3,3,2,2,0,3,0,3,0,0,1,2,0,2,1,1,0,3,2,2,1,0,2,0,3,3,2,1,2,2,1,0,2,0,0,3,0,0,2,1,0,1,1,1,2,0,3,1,1,0,3,1,1,1,2,2,0,1,3,0,3,0,0,3,1,0,1,3,2,0,1,2,0,0,0,0,2,1,2,0,1,1,2,3,1,3,1,1,0,1,1,2,0,3,0,2,0,3,3,3,2,3,1,3,1,0,0,0,3,0,3,0,3,2,2,3,0,0,1,3,0,0,3,3,3,2,3,1,3,0,2,1,2,1,2,3,0,1,1,1,3,3,3,0,1,1,0,0,2,1,1,3,0,2,2,2,1,0,0,0,0,1,3,0,3,1,1,3,1,3,1,1,1,0,1,0,2,0,3,1,0,3,1,0,0,0,0,1,3,3,1,0,0,1,2,3,0,0,3,2,1,3,1,1,1,2,3,0,3,0,2,2,1,3,1,1,3,3,2,0,0,0,2,3,3,0,2,0,2,3,0,0,0,1,3,0,1,3,2,0,1,0,3,0,0,0,1,2,1,2,2,2,3,1,0,2,0,0,1,0,1,0,1,0,1,2,0,1,2,3,0,3,2,3,0,2,0,2,0,3,0,3,3,1,0,0,2,1,1,2,3,0,2,2,0,0,0,2,1,0,1,3,0,0,1,2,0,1,0,0,0,0,2,0,1,3,3,3,1,1,2,2,2,3,1,0,3,3,3,1,3,1,1,2,0,1,1,0,3,1,0,3,2,3,0,1,0,0,1,2,2,0,0,0,1,1,0,1,3,1,2,3,3,0,1,0,3,1,3,1,3,3,3,3,2,0,1,2,3,2,3,1,0,1,3,1,2,3,0,0,1,1,3,3,1,1,1,1,2,2,3,0,0,1,3,1,0,3,2,3,0,0,0,3,0,1,0,3,0,0,3,0,1,3,0,0,2,3,1,2,3,1,2,3,1,1,3,1,3,0,2,1,0,1,0,2,1,3,2,1,0,1,0,0,1,2,1,1,0,1,2,1,0,2,2,3,3,2,1,2,2,1,2,1,1,1,0,3,1,2,1,2,3,0,3,0,3,0,2,2,0,1,3,3,1,1,0,1,0,1,1,0,3,0,3,0,3,3,1,3,0,1,1,2,3,3,0,0,0,1,1,1,1,1,1,3,0,3,0,1,1,2,0,0,1,1,2,0,0,0,2,0,1,2,2,2,1,0,0,0,0,0,1,2,0,1,1,3,1,1,3,0,0,2,0,2,3,1,0,3,0,3,2,1,0,3,0,3,1,2,1,2,1,0,1,0,0,1,0,3,3,0,2,3,0,0,0,1,2,0,3,0,1,0,3,1,0,2,2,1,0,0,1,0,1,3,1,3,1,1,3,0,2,1,1,0,1,2,2,3,3,1,2,1,0,0,1,3,2,1,2,3,1,2,2,0,0,3,0,0,3,3,1,2,1,3,3,1,3,2,3,3,3,0,0,1,3,1,1,3,1,2,0,0,2,0,2,0,2,0,0,2,3,3,2,3,3,1,0,1,3,0,1,2,2,2,3,1,1,1,3,2,2,0,0,0,3,2,1,2,3,3,1,1,3,1,2,3,1,1,1,3,0,3,2,3,1,0,0,1,0,0,3,1,2,1,1,1,0,2,3,2,2,1,0,0,1,3,0,1,1,3,0,3,1,1,2,3,3,1,0,1,2,2,1,0,0,1,3,1,2,3,1,0,3,2,2,2,1,1,1,2,1,2,1,2,0,2,2,1,0,1,0,2,1,1,3,1,0,2,1,1,2,0,2,3,3,3,0,0,1,0,0,2,2,0,1,2,2,1,1,2,3,0,0,2,0,1,3,2,1,3,1,0,3,2,3,3,0,3,3,1,2,0,0,1,0,1,0,0,3,3,2,2,1,2,3,0,2,3,2,1,2,1,2,2,0,0,0,0,0,1,2,3,3,1,0,1,3,1,3,0,0,1,0,3,2,3,2,2,3,2,3,1,2,1,3,1,1,1,2,3,2,0,2,0,2,0,1,3,3,0,1,2,2,1,2,2,0,2,3,0,0,1,2,0,1,1,2,3,2,2,1,2,2,0,0,0,3,2,2,1,1,2,3,1,2,3,2,1,0,3,0,1,3,1,3,3,3,3,1,1,3,2,0,1,2,1,3,1,2,0,0,0,3,1,1,0,2,1,2,1,0,0,1,1,0,3,2,0,0,0,0,3,0,1,3,3,0,3,1,0,1,1,3,0,0,1,3,2,0,2,2,2,1,0,3,0,2,0,1,2,3,1,3,1,3,2,1,2,3,3,3,3,3,3,2,1,3,1,3,1,2,3,1,1,3,1,1,0,2,1,1,2,1,1,3,1,1,1,1,2,0,1,1,0,0,1,3,1,2,1,0,3,0,0,2,0,3,2,3,1,3,0,0,0,0,0,3,1,3,1,0,3,1,2,3,1,1,3,2,2,0,2,0,3,2,3,3,1,2,2,1,1,0,3,1,1,2,3,2,1,3,3,2,0,3,3,2,0,2,1,3,0,1,3,2,2,0,3,1,0,3,3,2,1,1,2,0,1,1,2,3,1,1,0,0,3,0,0,2,1,2,0,0,0,1,2,2,1,2,3,2,1,0,0,1,2,3,1,2,2,0,2,1,0,3,3,1,1,2,3,2,1,1,1,1,1,2,0,2,1,0,2,2,0,3,0,3,0,1,3,1,2,3,3,2,2,1,1,1,0,3,0,3,0,1,0,1,2,1,3,0,2,3,3,3,3,1,2,1,2,2,2,3,3,0,0,0,2,1,0,3,0,1,1,2,0,2,3,0,3,2,0,2,2,3,3,2,2,0,1,1,3,1,0,0,1,1,2,3,1,2,1,2,2,2,3,1,0,0,3,0,2,2,3,0,1,0,3,1,2,0,0,2,1,3,2,3,1,1,0,0,0,1,0,1,0,0,2,1,0,1,1,3,2,1,1,3,1,3,1,0,1,2,0,2,0,0,3,2,0,2,2,1,0,0,3,3,0,0,0,0,3,2,1,2,2,1,0,0,1,0,2,3,2,3,2,1,3,2,1,1,3,0,0,2,0,0,3,1,0,2,3,0,1,3,1,3,0,3,1,1,0,1,2,2,3,1,1,3,0,3,3,0,0,2,1,1,1,1,3,3,1,0,0,0,3,2,3,3,1,2,2,3,0,1,1,3,0,3,2,1,3,1,1,1,2,0,2,0,2,0,2,2,3,1,1,2,1,3,0,0,3,2,0,3,2,0,2,3,3,1,1,0,1,1,1,2,0,3,1,1,0,3,2,0,1,0,0,1,3,0,3,3,2,1,1,2,3,3,0,2,2,1,1,3,2,3,1,1,1,3,0,3,1,3,3,3,0,2,0,0,2,3,1,3,3,0,0,0,1,0,1,0,3,2,3,2,3,3,0,1,2,0,1,2,1,1,0,0,3,3,1,3,2,0,2,2,0,1,0,1,0,1,0,3,0,2,1,0,0,2,2,1,1,3,1,0,2,1,3,0,1,0,0,0,3,3,3,0,3,2,1,1,0,1,3,1,1,0,2,1,1,0,2,0,2,1,1,0,2,2,1,0,3,1,1,2,2,2,2,2,1,1,1,3,1,2,2,0,0,3,1,0,1,0,2,0,3,1,3,2,1,1,1,2,0,1,0,1,3,2,0,3,1,3,3,2,1,3,2,0,0,3,1,1,2,0,3,2,1,3,1,1,0,2,1,2,0,3,1,1,3,0,1,0,3,0,0,1,0,0,0,3,1,3,2,0,1,3,1,2,3,2,3,3,1,1,1,1,2,2,3,3,1,2,3,3,3,1,3,1,1,3,2,1,2,2,1,3,3,1,1,2,2,1,0,2,1,0,0,0,2,3,2,1,3,1,3,0,3,1,3,0,0,3,3,2,2,1,3,3,2,0,1,3,1,0,0,0,2,3,1,3,0,2,0,3,2,2,2,3,2,1,1,0,3,1,0,1,1,0,3,3,0,3,3,0,0,1,0,0,0,0,1,3,1,3,3,1,1,3,1,2,0,1,0,0,2,1,1,2,1,3,1,3,0,1,0,3,0,3,0,0,3,0,1,2,1,3,1,3,2,1,1,0,1,1,1,3,3,3,0,1,1,1,1,1,1,0,1,3,1,1,1,0,0,0,3,0,3,1,1,1,1,1,3,2,1,3,2,1,3,3,2,1,3,2,0,3,3,1,2,3,0,1,1,3,2,3,0,1,2,1,1,3,2,3,2,1,3,0,3,1,1,2,3,2,3,2,2,0,0,0,2,0,3,3,3,1,3,3,3,3,1,3,1,1,0,1,1,0,0,3,1,3,1,1,0,1,0,2,1,1,3,1,3,1,3,1,2,1,3,0,3,0,1,3,2,3,3,3,0,0,1,2,1,0,3,1,3,1,2,0,2,1,0,1,0,2,0,1,1,2,1,1,0,1,1,0,1,3,1,2,1,2,1,3,2,2,3,1,2,1,2,3,2,2,2,0,0,3,2,2,1,0,3,1,1,0,0,3,1,1,3,2,0,2,2,1,1,1,2,3,1,0,3,3,1,2,3,2,2,0,0,3,3,0,0,3,1,0,3,0,2,1,1,2,1,3,2,0,2,2,3,1,2,1,2,3,1,1,2,2,3,0,0,1,0,0,1,0,0,1,0,1,0,2,3,3,2,3,3,3,3,2,2,1,0,3,2,3,3,1,1,0,0,0,0,1,0,3,1,2,2,1,3,3,3,0,3,2,0,0,2,3,3,3,1,3,3,0,1,3,3,1,1,2,1,1,2,1,3,3,2,1,2,3,0,0,0,0,0,3,1,2,2,2,0,0,2,1,1,3,3,2,2,2,0,0,1,1,3,1,3,2,2,0,0,0,0,2,0,3,0,0,0,1,0,2,2,2,0,0,0,0,0,0,1,0,1,0,2,0,2,0,3,2,2,1,2,3,3,0,0,2,1,0,3,3,1,1,2,1,3,0,3,1,0,0,0,3,1,1,3,0,1,0,0,1,0,1,1,0,0,0,0,0,0,0,3,1,2,2,3,3,1,1,0,1,1,1,1,2,0,1,3,3,1,0,2,1,3,2,3,3,3,0,2,0,0,2,2,2,2,1,3,1,1,0,3,3,3,3,1,3,1,2,3,1,1,3,1,0,1,1,0,2,1,1,0,0,3,3,0,3,1,1,3,2,3,1,2,1,1,0,3,3,2,2,0,2,3,1,2,0,1,1,3,2,0,2,3,0,1,3,0,3,1,1,1,0,3,0,2,2,2,0,0,3,3,0,0,0,0,1,0,3,1,2,2,1,1,2,1,3,2,1,1,1,3,0,3,0,1,1,1,0,3,1,1,1,0,3,3,1,3,0,1,1,2,2,2,2,0,0,0,2,3,1,0,0,1,0,2,0,3,3,1,3,2,1,1,2,2,3,0,0,1,3,0,3,0,0,3,1,2,2,0,1,0,2,2,2,0,0,1,0,2,2,0,0,2,3,0,0,0,1,0,2,1,3,0,3,2,1,0,3,1,3,2,3,2,1,1,0,2,1,2,1,1,2,3,2,1,3,3,1,0,2,1,3,1,3,2,0,0,0,0,0,1,3,3,3,1,0,2,1,3,1,3,2,3,0,1,3,0,1,1,2,1,2,0,3,1,2,3,0,3,0,3,2,2,0,3,3,0,2,0,2,2,1,1,2,0,3,1,1,3,3,2,1,2,1,0,1,0,1,2,2,0,1,0,2,3,1,1,2,3,0,0,3,0,0,3,3,1,0,3,2,0,3,0,0,2,3,1,1,0,1,1,3,1,0,0,1,1,0,1,3,0,1,3,2,1,1,1,1,2,1,0,1,1,1,2,1,0,1,0,0,3,0,2,2,0,1,1,2,2,2,1,0,1,0,3,0,0,1,1,2,2,0,3,0,0,0,3,3,3,2,2,2,3,1,0,1,0,3,0,3,0,0,2,0,3,3,0,0,0,2,3,1,1,3,0,2,1,2,0,1,0,0,1,0,1,2,0,3,1,1,3,0,1,3,3,3,1,1,1,0,0,1,1,1,1,1,1,2,2,0,1,0,0,1,1,0,0,0,3,0,0,2,1,0,1,0,3,1,3,0,1,3,0,1,1,0,2,3,2,2,2,0,3,0,1,3,1,0,1,0,2,3,0,1,1,0,3,1,2,1,2,0,2,3,2,1,1,1,2,2,2,3,3,1,1,1,1,2,3,2,0,2,0,1,0,0,1,2,3,1,3,0,1,1,1,0,2,0,2,1,1,3,0,2,3,1,2,2,1,3,0,1,0,0,3,3,1,2,1,1,0,0,2,2,1,2,1,2,0,2,0,2,1,2,1,0,3,2,3,1,2,2,3,0,0,2,0,3,0,3,1,1,1,3,2,0,2,2,1,3,3,3,0,0,1,1,2,0,1,2,0,0,0,2,1,1,0,1,3,2,1,0,0,3,0,0,2,1,1,1,1,1,1,2,2,3,3,1,1,3,3,1,0,0,1,0,0,0,2,3,3,2,0,3,0,3,1,1,1,0,3,3,1,0,0,1,0,1,1,3,0,0,1,3,1,3,1,2,0,1,2,3,2,1,1,0,1,2,3,2,3,3,3,3,0,0,3,0,1,1,1,3,2,2,1,3,0,1,0,3,3,0,1,2,0,1,1,1,0,0,3,1,3,0,0,2,2,1,1,2,3,1,2,3,1,2,1,0,2,0,3,0,1,0,2,0,2,0,2,1,3,1,1,0,1,2,0,1,1,3,1,2,1,2,3,2,1,0,1,0,2,1,2,3,0,3,0,0,0,0,0,1,0,0,0,0,3,0,1,0,3,0,1,3,1,0,1,0,2,0,1,2,1,3,0,3,0,0,1,3,3,2,2,1,0,2,0,2,2,1,0,2,2,1,1,0,3,2,2,1,1,3,2,2,0,0,0,2,1,0,1,0,2,1,2,0,0,1,3,2,0,2,2,2,3,0,3,3,1,0,2,1,3,3,2,1,3,1,1,0,1,1,2,1,0,3,3,1,0,2,1,2,3,1,3,0,1,2,0,0,1,0,1,0,2,3,2,0,1,1,2,1,3,3,1,2,2,1,1,1,0,0,2,0,0,2,1,3,2,1,1,3,1,2,2,2,1,1,2,0,3,3,0,3,3,3,0,1,0,2,0,3,3,1,0,3,1,1,1,0,0,1,1,2,0,3,3,3,1,0,1,2,0,0,2,3,1,2,3,1,2,3,1,2,1,1,1,1,1,1,2,2,1,2,3,1,2,1,3,0,0,2,3,3,2,2,3,1,2,1,1,2,2,2,0,0,3,0,2,2,2,3,0,3,0,1,2,2,3,2,2,1,1,3,1,3,2,2,2,0,2,1,2,1,2,2,3,1,2,0,0,1,0,0,0,1,0,3,0,2,3,1,1,3,3,1,1,0,2,3,0,3,2,2,1,1,3,3,0,0,3,1,1,2,2,1,1,2,2,2,3,0,1,1,2,1,2,0,1,2,3,3],\"coloraxis\":\"coloraxis\",\"symbol\":\"circle\"},\"mode\":\"markers\",\"name\":\"\",\"showlegend\":false,\"x\":[-6.334944725036621,-2.281705617904663,-78.07022857666016,8.829920768737793,25.797801971435547,0.03175116330385208,-24.77705955505371,-53.457420349121094,-6.314053058624268,8.574478149414062,39.56605529785156,37.42039489746094,34.05797576904297,5.665262699127197,-15.148505210876465,-19.872562408447266,-23.251192092895508,16.235210418701172,-24.310136795043945,17.020631790161133,-24.156295776367188,-0.03792339563369751,-6.488461971282959,14.150561332702637,-51.24875259399414,-11.289995193481445,1.7645885944366455,26.599353790283203,17.55984115600586,-33.1210823059082,-9.006753921508789,22.713546752929688,1.9169927835464478,-49.03593444824219,-7.977288722991943,20.27381134033203,4.808261394500732,32.24489212036133,-32.352447509765625,35.183563232421875,-38.215293884277344,9.632172584533691,39.04138946533203,-6.761079788208008,-6.835427284240723,-40.72990417480469,-26.28130531311035,-4.115772247314453,-16.589513778686523,-58.86604690551758,1.0706380605697632,-6.560792446136475,40.78913116455078,14.885351181030273,-5.3770551681518555,-12.409567832946777,49.310184478759766,-12.850129127502441,-8.341266632080078,-66.34181213378906,-3.2274112701416016,21.057579040527344,7.49547004699707,47.2122802734375,-6.0251641273498535,23.057212829589844,43.575904846191406,55.44485855102539,-19.55685806274414,7.406939506530762,17.613065719604492,-9.030365943908691,-39.43665313720703,-10.515759468078613,-15.21756362915039,-22.267953872680664,-6.901680946350098,14.556510925292969,-77.85958862304688,-18.23471450805664,-41.88042449951172,-61.41257858276367,9.6361083984375,-43.4619255065918,-12.557441711425781,-34.08370590209961,12.938061714172363,70.52386474609375,61.50138473510742,38.42119598388672,-26.299150466918945,-7.977475643157959,18.292253494262695,-7.834468841552734,23.32378578186035,-23.943010330200195,41.421260833740234,1.2853275537490845,-38.658897399902344,-55.72427749633789,-7.032295227050781,58.61027145385742,-17.875843048095703,13.47179126739502,-15.822794914245605,-30.53665542602539,22.08445930480957,-50.73480987548828,12.004716873168945,-53.46065902709961,3.0529351234436035,-25.209821701049805,-53.33448791503906,13.722793579101562,-51.75638198852539,-15.244010925292969,0.2733585238456726,-53.023799896240234,58.36710739135742,35.318355560302734,-9.555574417114258,-26.954252243041992,-38.20265579223633,17.00154685974121,11.777314186096191,-19.001914978027344,-25.072355270385742,25.9764404296875,13.980879783630371,60.685630798339844,-8.962574005126953,-66.3377685546875,-41.127071380615234,-17.346580505371094,-6.791902542114258,-66.37679290771484,9.799111366271973,35.63864517211914,-8.653844833374023,-24.729799270629883,41.52167510986328,-13.618069648742676,9.633728981018066,-10.266870498657227,-21.496627807617188,-4.342820167541504,42.63450622558594,-10.29588794708252,-55.46598815917969,-3.843099594116211,60.699974060058594,39.06706619262695,8.38899040222168,27.17757225036621,-4.845025539398193,-37.78904724121094,32.309566497802734,-40.248802185058594,0.051177941262722015,13.37506103515625,52.114952087402344,-18.67841339111328,-10.181090354919434,9.627744674682617,-18.72787094116211,50.145835876464844,47.43325424194336,16.012052536010742,11.145711898803711,-50.75040817260742,45.862030029296875,27.936145782470703,-20.1881046295166,-6.802674770355225,9.837467193603516,-28.077571868896484,-0.5237413048744202,-34.34608459472656,-11.026054382324219,-15.146027565002441,4.046609401702881,-16.291120529174805,6.239581108093262,17.884984970092773,23.788959503173828,26.96127700805664,50.24726104736328,23.7999267578125,41.843963623046875,-11.999813079833984,-78.06880950927734,-38.612144470214844,-43.621952056884766,-7.6980695724487305,-78.19542694091797,26.199907302856445,-24.129892349243164,18.076112747192383,23.283151626586914,-1.072097897529602,41.907047271728516,25.95684814453125,-41.64445114135742,-46.22775650024414,-15.640146255493164,-30.58063316345215,-15.706685066223145,-18.031749725341797,47.560882568359375,66.52474975585938,67.40267181396484,60.953895568847656,21.024599075317383,-50.96515655517578,-39.267974853515625,-17.247478485107422,-5.583164691925049,-40.79981994628906,-14.21175765991211,-17.56390380859375,-49.61050796508789,-34.63298034667969,-18.218168258666992,-23.752124786376953,0.8355994820594788,59.81285095214844,65.85224914550781,-24.099456787109375,62.721473693847656,52.06660461425781,-49.365055084228516,-2.123830795288086,-12.196819305419922,2.4999992847442627,16.210514068603516,20.594900131225586,6.552839756011963,21.00058937072754,-38.21133041381836,3.5997843742370605,38.662288665771484,0.09564019739627838,-41.57606887817383,21.90810775756836,2.4407873153686523,-36.90674591064453,-25.633432388305664,-8.369897842407227,-4.907520294189453,-42.1875,64.55712127685547,72.7552719116211,-6.622438430786133,-71.401611328125,46.24502182006836,13.977431297302246,51.241600036621094,-61.95732498168945,-60.391605377197266,19.069934844970703,-4.837160110473633,-2.6694257259368896,25.998044967651367,-65.10647583007812,-61.249786376953125,-48.32459259033203,-52.289249420166016,-40.45554733276367,-4.227789402008057,0.011764097958803177,-60.988460540771484,14.083639144897461,53.355804443359375,-44.848876953125,-0.6189627051353455,-38.7327880859375,-7.127408981323242,-40.564292907714844,-31.384483337402344,-22.234600067138672,18.644929885864258,-27.36876678466797,24.790569305419922,-40.2078971862793,-1.6374619007110596,-23.2996826171875,-11.299613952636719,-41.074790954589844,-38.342411041259766,3.1215052604675293,-41.06466293334961,-10.055270195007324,0.6366329193115234,-25.46640396118164,37.810001373291016,-4.8949503898620605,20.9173583984375,-11.384879112243652,-24.252220153808594,-13.053556442260742,-8.188483238220215,-6.1776604652404785,-8.863831520080566,-60.64497375488281,45.707000732421875,-39.85165023803711,36.43992614746094,-14.305010795593262,44.42826843261719,-45.68073654174805,-58.751190185546875,39.533775329589844,52.86087417602539,-54.01252365112305,19.50335121154785,64.31404113769531,11.897162437438965,2.0616044998168945,26.684003829956055,57.06755447387695,-6.9789557456970215,9.62721061706543,12.268699645996094,5.3703932762146,15.385150909423828,-70.5434799194336,-52.44795608520508,20.15846061706543,-11.522382736206055,-1.1685006618499756,12.680560111999512,21.05413818359375,-60.64380645751953,13.911274909973145,-31.221912384033203,-17.706518173217773,14.568235397338867,-39.46017074584961,-10.440794944763184,-26.33039665222168,47.923030853271484,0.05874656140804291,9.110392570495605,23.61163330078125,-77.899658203125,64.62211608886719,26.425077438354492,4.945268154144287,4.969174861907959,11.588008880615234,35.86295700073242,8.381905555725098,21.009675979614258,-5.274803638458252,12.605304718017578,4.41166353225708,-4.042046070098877,-55.08323287963867,3.0486629009246826,3.0250084400177,-31.434635162353516,-42.11566162109375,-52.12446594238281,-19.336246490478516,-11.593469619750977,26.957948684692383,16.029176712036133,22.260557174682617,-45.355613708496094,45.80982971191406,-14.512163162231445,15.681690216064453,12.00622272491455,38.292789459228516,-23.360280990600586,-12.248071670532227,69.62076568603516,7.401570796966553,43.376258850097656,-48.278865814208984,39.38187789916992,-1.0120701789855957,5.384637355804443,69.56109619140625,-16.72991180419922,46.43430709838867,-13.610947608947754,20.61163902282715,13.265303611755371,47.01011276245117,-0.24310792982578278,17.256839752197266,-28.314809799194336,-6.564460754394531,-77.96047973632812,23.075105667114258,-4.080068111419678,58.93306350708008,43.69163513183594,-38.17790222167969,-16.72385597229004,-19.45831871032715,-10.199053764343262,7.347097396850586,-48.77775573730469,21.4736328125,25.37095069885254,3.144503355026245,-78.17350006103516,2.7299249172210693,-42.96745300292969,43.77791976928711,69.24893951416016,21.593610763549805,-31.40057945251465,-52.692893981933594,33.58417510986328,38.3129997253418,-39.35669708251953,46.23191833496094,-6.193648815155029,54.26609802246094,15.994080543518066,-44.85657501220703,25.498279571533203,24.42243003845215,38.24370574951172,7.229496479034424,9.893106460571289,-0.9098686575889587,5.86012077331543,25.920072555541992,15.39173698425293,-8.773595809936523,-0.9945840239524841,53.750431060791016,-10.964780807495117,54.8967399597168,-24.832679748535156,-54.81422805786133,28.84705924987793,3.634671449661255,24.414873123168945,21.871618270874023,-3.242440938949585,62.171634674072266,-56.68994903564453,-2.7390830516815186,18.489667892456055,42.48679733276367,-19.368358612060547,53.148956298828125,-53.36079788208008,-38.61072540283203,-13.438501358032227,-7.944475173950195,8.988252639770508,42.51765441894531,2.943605899810791,18.43911361694336,-0.5843202471733093,-11.113000869750977,-53.370635986328125,-1.885815978050232,-55.98607635498047,10.74095630645752,48.374332427978516,-15.948356628417969,-8.441926956176758,-17.15388298034668,-1.719478964805603,-13.352593421936035,-61.413944244384766,60.4207649230957,12.382226943969727,-4.382215976715088,64.04071044921875,-26.650110244750977,17.64794158935547,-29.67133140563965,-52.80062484741211,-46.089290618896484,-18.52583885192871,11.45677375793457,-50.95968246459961,-28.83876609802246,6.318081378936768,-10.600034713745117,6.3612236976623535,28.20670509338379,-39.694828033447266,-10.35567569732666,-4.886237621307373,-61.053916931152344,61.444305419921875,68.73960876464844,-34.75716018676758,9.365185737609863,65.64768981933594,35.61162185668945,-45.546852111816406,-45.73078155517578,-19.62891387939453,21.891889572143555,-1.7220202684402466,-34.7552375793457,72.29281616210938,-3.8487191200256348,-6.37597131729126,24.018604278564453,69.9576187133789,1.0354218482971191,-1.0233898162841797,56.45832824707031,-6.563974380493164,20.007831573486328,-8.594307899475098,20.15104866027832,-78.2852554321289,-31.307682037353516,24.780780792236328,-11.217020034790039,-45.89729690551758,34.541412353515625,2.118845224380493,-42.139801025390625,28.47052764892578,-6.941133499145508,19.2882022857666,28.663969039916992,-9.233192443847656,0.5256649255752563,-23.325288772583008,15.033547401428223,-38.140281677246094,34.86669158935547,-20.869173049926758,-20.364572525024414,21.357147216796875,-60.21220397949219,-7.813823223114014,-45.729251861572266,52.12647247314453,-6.403924465179443,-0.445601224899292,-76.0005874633789,-3.5599112510681152,53.7043571472168,-53.316410064697266,-56.23480224609375,16.166053771972656,53.49129104614258,-3.685354709625244,-25.95805549621582,27.672073364257812,38.72190475463867,-3.7305502891540527,38.47740936279297,18.258285522460938,11.261798858642578,-41.10396957397461,57.825435638427734,-40.0458869934082,-20.329843521118164,-31.367938995361328,-31.93916130065918,8.838695526123047,-42.6619987487793,-51.60790252685547,-14.467345237731934,61.72060775756836,63.68893051147461,-13.475580215454102,-54.57624053955078,48.34319305419922,-31.677932739257812,-41.080162048339844,22.876686096191406,21.002965927124023,-26.776992797851562,-9.631171226501465,-5.433187484741211,-12.967263221740723,-40.5001106262207,-32.394168853759766,-0.6089739203453064,-40.51200485229492,-8.02588939666748,68.69088745117188,-10.634929656982422,45.296138763427734,47.288944244384766,-8.052275657653809,-72.78783416748047,49.10960006713867,19.600309371948242,31.248144149780273,-8.594550132751465,51.897701263427734,9.318253517150879,17.249114990234375,-16.496305465698242,-7.124232769012451,-31.91396713256836,-55.36750411987305,-54.94779586791992,20.611526489257812,36.783653259277344,0.8871001601219177,29.188098907470703,26.527175903320312,-19.749881744384766,12.350275039672852,1.0655473470687866,-18.51108741760254,35.74529266357422,-27.941028594970703,5.94893741607666,-0.26073744893074036,-57.15517044067383,-1.4257314205169678,26.06824493408203,-24.589445114135742,-16.597463607788086,19.832124710083008,27.38681411743164,26.391191482543945,0.0008351205033250153,-78.20994567871094,-2.066370964050293,40.848751068115234,9.586601257324219,-5.630773544311523,-73.07271575927734,38.91730499267578,65.89112854003906,65.40176391601562,17.546396255493164,-26.230985641479492,24.12179183959961,21.376352310180664,4.227749347686768,14.625191688537598,32.691165924072266,-77.90299987792969,-22.79252052307129,-25.288280487060547,-26.060937881469727,-43.87684631347656,-21.074722290039062,5.6972856521606445,0.38297057151794434,-78.08240509033203,21.81657600402832,-11.035992622375488,35.00944900512695,-12.388195991516113,13.254339218139648,-4.697420597076416,2.8527209758758545,-11.334001541137695,7.542316436767578,-38.136775970458984,-14.464784622192383,4.957712173461914,32.554378509521484,-54.656517028808594,-13.365471839904785,-45.672855377197266,2.0991451740264893,-1.8854879140853882,-64.54618072509766,11.086420059204102,12.848017692565918,21.860698699951172,53.754600524902344,69.19183349609375,-23.371089935302734,-8.038054466247559,-57.60687255859375,62.53324508666992,46.877532958984375,4.204514026641846,-15.489360809326172,21.890684127807617,-17.509809494018555,-44.06930923461914,-12.327759742736816,19.19809913635254,-8.74495792388916,-11.123873710632324,-17.925020217895508,23.8679256439209,-9.52458667755127,-6.109437942504883,-26.54728126525879,-55.948490142822266,-10.770383834838867,17.256210327148438,21.113826751708984,-15.885087013244629,38.8090705871582,-10.753710746765137,-71.61194610595703,23.13253402709961,-57.68903732299805,53.44306564331055,33.87232971191406,-42.93394470214844,-7.345855236053467,-10.675137519836426,-34.76027297973633,-42.55078125,6.465562343597412,-15.583306312561035,58.37754440307617,-7.623995304107666,12.84199333190918,-66.4153823852539,-22.917768478393555,-53.963653564453125,13.000417709350586,24.651386260986328,6.60334587097168,20.68463706970215,-23.806690216064453,70.24181365966797,31.64413070678711,-30.42730712890625,-23.509319305419922,-8.810088157653809,10.755213737487793,-13.604348182678223,-16.919933319091797,61.80018997192383,24.099199295043945,-52.40946578979492,-65.73270416259766,-20.888662338256836,54.76737594604492,7.1330108642578125,-38.64809799194336,23.241878509521484,-29.101078033447266,-5.688999652862549,25.712614059448242,-4.267967700958252,-44.45372772216797,-3.7860140800476074,-24.369646072387695,-55.996246337890625,-19.782508850097656,9.870560646057129,-3.705796241760254,-24.847978591918945,11.960835456848145,58.94188690185547,20.126338958740234,26.829544067382812,-54.884971618652344,-16.746023178100586,-15.273222923278809,47.556297302246094,-19.0910587310791,2.70637845993042,-23.96026039123535,7.97477388381958,35.928253173828125,16.6668758392334,-8.597359657287598,14.74769115447998,69.76543426513672,-8.049981117248535,-19.082090377807617,-15.289665222167969,-23.071382522583008,17.357324600219727,9.318883895874023,2.315861940383911,-25.608407974243164,22.69985580444336,49.44818115234375,-24.089628219604492,25.14179039001465,53.0426025390625,5.276890277862549,46.44036865234375,-7.5852789878845215,63.34852981567383,46.861289978027344,41.073577880859375,-7.042987823486328,-15.520401000976562,-20.061077117919922,-0.18165843188762665,-3.814227819442749,-9.805745124816895,-14.76596450805664,-39.612186431884766,52.131309509277344,5.8295135498046875,8.682428359985352,5.664074897766113,21.329774856567383,4.348887920379639,-34.73709487915039,-72.9251480102539,50.34746170043945,-2.094470262527466,-14.885841369628906,26.742870330810547,-19.404775619506836,45.831600189208984,-0.7682998776435852,-16.50045394897461,-24.660602569580078,35.58144760131836,-1.9176679849624634,2.519118547439575,1.0273205041885376,61.177852630615234,-23.655364990234375,18.308517456054688,1.873616337776184,-6.919146537780762,-24.675891876220703,-55.2443962097168,12.870771408081055,20.907970428466797,-0.6072268486022949,11.77472972869873,4.80406379699707,-8.867916107177734,44.26617431640625,-49.08163833618164,39.460113525390625,-28.517799377441406,28.5770206451416,37.89026641845703,69.24943542480469,-27.985034942626953,3.862983465194702,-10.267189025878906,-8.043242454528809,54.92976379394531,32.376068115234375,-28.344085693359375,58.78943634033203,46.65149688720703,-25.86501693725586,36.8482666015625,-22.75688362121582,-32.38312911987305,21.929471969604492,7.8388991355896,-6.8185954093933105,-6.062693119049072,-42.57229232788086,5.233219623565674,30.67587661743164,60.37582015991211,31.64354133605957,28.93276023864746,-48.32167053222656,-15.958431243896484,-12.924728393554688,-9.058453559875488,65.4234390258789,-19.40398406982422,1.8648180961608887,5.925650119781494,-5.439593315124512,7.476813793182373,-16.733919143676758,-41.9330940246582,-47.790069580078125,43.96018600463867,53.62751388549805,-20.318002700805664,5.174605369567871,2.097822666168213,34.501834869384766,-17.655136108398438,-14.886146545410156,-15.217599868774414,-38.143821716308594,14.494359970092773,52.832271575927734,11.12551212310791,-45.67439651489258,25.7409725189209,-9.249510765075684,5.829164028167725,22.58055305480957,15.167973518371582,47.47908020019531,31.70912742614746,-77.97174835205078,-39.994422912597656,-19.826478958129883,-56.98949432373047,47.08975601196289,-13.246912002563477,-16.93119239807129,45.25279235839844,3.7738754749298096,41.46712875366211,23.442157745361328,36.33846664428711,-47.4766960144043,52.59575653076172,15.550324440002441,-18.581912994384766,38.66397476196289,21.10783576965332,-14.540271759033203,-42.554378509521484,33.992435455322266,32.8586540222168,-6.552427768707275,24.940786361694336,54.486717224121094,-23.571292877197266,-1.0112090110778809,-6.94065523147583,-57.4254035949707,-20.444467544555664,-7.100644588470459,8.708635330200195,11.821521759033203,-61.02654266357422,19.27376937866211,-1.74920654296875,-75.58064270019531,-18.829971313476562,-71.45711517333984,-4.034818649291992,-9.435698509216309,52.18939208984375,71.66072082519531,-54.96540069580078,21.04716682434082,-22.510929107666016,-45.345706939697266,21.700546264648438,-69.68843841552734,-70.50480651855469,-32.963478088378906,23.9317569732666,-24.849754333496094,-10.925149917602539,12.425985336303711,20.425275802612305,37.90835952758789,-40.33694839477539,8.577913284301758,-57.98470687866211,29.599876403808594,-25.55377960205078,8.432830810546875,-2.7679734230041504,16.684133529663086,15.449950218200684,-17.24885368347168,-18.842803955078125,49.38193893432617,21.139083862304688,30.309228897094727,-18.823915481567383,55.67429733276367,37.618804931640625,-4.082449436187744,-38.033023834228516,37.0460090637207,-44.13703918457031,-31.58566665649414,-14.832623481750488,33.491905212402344,21.324626922607422,-38.40500259399414,-16.48008918762207,-78.13860321044922,60.44523620605469,4.799195289611816,64.45475006103516,8.592967987060547,-9.279282569885254,-21.040380477905273,-11.065435409545898,-24.551849365234375,-8.054584503173828,-44.22529220581055,69.69197845458984,-1.4930636882781982,60.092674255371094,34.008583068847656,-17.134286880493164,28.50901985168457,24.907651901245117,-49.74281692504883,-52.94065856933594,69.23283386230469,-20.76763916015625,-38.669437408447266,-23.748397827148438,-16.12518882751465,14.25743579864502,-4.759716033935547,-26.0192928314209,-24.07300567626953,47.65495681762695,10.26848316192627,-39.999603271484375,11.321537017822266,-42.133811950683594,-12.473007202148438,-44.15110397338867,23.651906967163086,-41.52199935913086,6.768890857696533,70.45611572265625,3.2200822830200195,29.14177703857422,38.14216995239258,5.476588726043701,-76.44042205810547,34.11294174194336,-13.982401847839355,-5.551850318908691,-38.489959716796875,24.554706573486328,-53.36276626586914,-19.771751403808594,27.44253921508789,40.14242935180664,47.1910514831543,26.491636276245117,-18.527225494384766,-40.25794219970703,-54.214508056640625,58.84089660644531,-42.09429931640625,-18.708999633789062,-21.300437927246094,-13.945430755615234,-7.086109161376953,17.15323829650879,-47.878108978271484,-33.87959671020508,41.24949264526367,23.011381149291992,-13.958161354064941,1.986656665802002,47.055267333984375,16.84978485107422,40.4266357421875,-40.056800842285156,48.715797424316406,-3.4229848384857178,-5.897959232330322,8.40944766998291,-38.422367095947266,-12.570951461791992,9.871886253356934,-8.579758644104004,13.965849876403809,43.74404525756836,35.130924224853516,33.480594635009766,-6.074138164520264,32.61665344238281,-8.630017280578613,49.14252853393555,5.285073757171631,-28.00919532775879,-13.021989822387695,13.997518539428711,30.771879196166992,43.89097213745117,-9.809258460998535,8.257583618164062,40.74764633178711,42.0309944152832,14.660931587219238,-13.269343376159668,-4.725621700286865,-25.697778701782227,7.288067817687988,-28.44609832763672,19.67086410522461,47.71955108642578,-20.748746871948242,-14.491520881652832,-9.017425537109375,-25.78369903564453,13.470610618591309,-11.914475440979004,32.97169876098633,-43.45840835571289,-39.78324508666992,-1.0100677013397217,3.449748992919922,-11.041342735290527,-8.764473915100098,36.131309509277344,-24.328079223632812,-77.90374755859375,28.395566940307617,48.30084991455078,-25.276948928833008,-5.546360492706299,-16.878934860229492,0.4140014350414276,46.17580795288086,-40.20037841796875,-54.96413040161133,-8.051448822021484,-12.719895362854004,36.06553649902344,30.584144592285156,54.5552864074707,37.898902893066406,25.546703338623047,20.758724212646484,53.231689453125,-7.384737968444824,2.015136957168579,-78.25725555419922,20.83146858215332,-8.338277816772461,6.224486827850342,-78.12364196777344,-4.021976947784424,-43.45668029785156,28.754892349243164,-9.897111892700195,25.429157257080078,-53.96259689331055,34.56401062011719,-8.845459938049316,-28.43873405456543,49.22318649291992,7.326998233795166,-32.9572868347168,45.79172897338867,62.491943359375,47.97748565673828,40.39961624145508,-1.358035683631897,23.500761032104492,-18.379568099975586,-10.415600776672363,56.28205871582031,52.63324737548828,-3.7402236461639404,-28.69539451599121,-9.42344856262207,62.899986267089844,35.77015686035156,-5.001945495605469,-9.000847816467285,-8.740724563598633,-16.631853103637695,-38.983646392822266,-57.1827507019043,-59.0521125793457,-52.52030944824219,-11.615699768066406,24.142858505249023,9.105840682983398,41.3033332824707,-54.409542083740234,-13.022417068481445,-23.790565490722656,16.52616310119629,-47.87910842895508,8.855415344238281,-16.927322387695312,-8.644537925720215,-44.09043502807617,64.23287200927734,67.72350311279297,45.67100143432617,-47.57371520996094,11.176650047302246,10.359240531921387,25.858699798583984,-55.07075119018555,57.54035568237305,-0.9913449883460999,6.8465399742126465,26.67083740234375,46.82963943481445,42.60849380493164,20.910541534423828,22.007610321044922,65.5755615234375,9.002466201782227,-10.426886558532715,-12.454626083374023,52.47349166870117,-21.503795623779297,32.94350051879883,5.565639972686768,59.96236038208008,29.933029174804688,25.42534065246582,-8.195821762084961,-23.2355899810791,-27.860132217407227,10.741552352905273,-0.6016727089881897,-27.29309844970703,-4.022913932800293,-2.7461252212524414,23.815998077392578,9.803030967712402,36.83908462524414,61.32020950317383,2.1080336570739746,40.59153747558594,-38.98141098022461,64.3906478881836,-59.04841995239258,38.10224151611328,-8.83287525177002,-21.144168853759766,55.43062210083008,-77.91322326660156,0.9693123698234558,-8.57229232788086,57.56288146972656,19.616291046142578,-1.2760626077651978,6.773397922515869,39.58506393432617,-14.332182884216309,14.61915397644043,-4.156534671783447,39.063026428222656,3.228804111480713,55.41091537475586,14.866339683532715,-6.384696006774902,-52.294620513916016,26.07904815673828,26.625404357910156,-9.860855102539062,-71.48222351074219,-6.427178382873535,-45.9576301574707,8.629140853881836,43.198699951171875,-11.467557907104492,-9.85113525390625,55.82267761230469,64.4428939819336,44.10776138305664,14.320656776428223,-24.86551856994629,26.263042449951172,-47.87710189819336,-7.31325101852417,44.06837844848633,23.877208709716797,-32.092105865478516,-19.806934356689453,34.11920166015625,-49.2436637878418,44.294471740722656,71.44686126708984,24.55874252319336,58.00156021118164,-21.652664184570312,52.759483337402344,-59.04942321777344,-16.17217254638672,3.3192028999328613,0.3270629346370697,-26.143280029296875,-0.3726755678653717,-6.904541492462158,-25.466306686401367,-18.240556716918945,11.382555961608887,2.3093507289886475,33.03327941894531,6.260213375091553,-3.2488484382629395,-5.146325588226318,-16.029211044311523,10.155451774597168,-54.42957305908203,0.4543217122554779,-0.6097495555877686,24.645666122436523,11.26968765258789,-4.064267635345459,43.549896240234375,4.408542633056641,-27.518095016479492,39.18886184692383,-12.368300437927246,-32.30995559692383,5.511322498321533,23.67962074279785,-4.8887248039245605,37.957672119140625,21.937299728393555,-4.148748397827148,12.251626014709473,-45.86074447631836,41.80861282348633,47.951786041259766,39.94707107543945,-70.69113159179688,-18.97299575805664,44.38872146606445,-32.08763885498047,3.787421464920044,-14.436165809631348,-53.13678741455078,-4.689091682434082,1.3768242597579956,25.615520477294922,-73.54866027832031,24.371150970458984,-11.471176147460938,-15.791559219360352,-12.192087173461914,-65.10072326660156,-0.14356641471385956,-16.29985237121582,-3.20875883102417,9.977076530456543,-18.783161163330078,36.680397033691406,-43.72509002685547,14.48461627960205,-5.815155982971191,-4.280681610107422,-0.17154070734977722,-22.76751136779785,27.183908462524414,22.88642692565918,-11.735084533691406,-57.134315490722656,-44.11479187011719,-5.375694751739502,32.32209396362305,53.809532165527344,-20.96074676513672,-43.69645309448242,20.45067596435547,-8.941781044006348,-52.46651840209961,-55.616676330566406,-77.91732025146484,-25.838119506835938,-30.758241653442383,11.808562278747559,14.442994117736816,22.414220809936523,39.647369384765625,-25.889747619628906,18.707889556884766,-24.727304458618164,41.248313903808594,-17.961091995239258,-8.06948471069336,-4.622430801391602,43.693729400634766,35.11231994628906,55.311885833740234,16.1694393157959,38.59807205200195,-23.750017166137695,31.981595993041992,-0.2028276026248932,69.52168273925781,66.929443359375,21.728256225585938,29.289194107055664,-10.015222549438477,12.098188400268555,26.710859298706055,49.683292388916016,-44.587928771972656,-4.702731609344482,-57.1845588684082,-53.46376037597656,-3.6029446125030518,-54.651790618896484,-25.063642501831055,8.718274116516113,-59.76911163330078,-44.76421356201172,-14.11744213104248,-23.425939559936523,21.287776947021484,26.766706466674805,-54.03500747680664,-21.80916976928711,42.064842224121094,-77.83720397949219,55.399139404296875,-27.29374885559082,-5.874118328094482,-7.127290725708008,-40.679443359375,-52.37204360961914,38.952537536621094,-23.313676834106445,26.635204315185547,28.797889709472656,-17.432161331176758,-13.729331016540527,-8.181563377380371,-10.096741676330566,32.967674255371094,-7.807778358459473,-55.118072509765625,-14.283607482910156,27.308181762695312,-38.17873764038086,-22.927352905273438,9.171343803405762,-6.789961814880371,-42.153770446777344,-19.08155059814453,10.30763053894043,-29.671491622924805,-12.46978759765625,9.63061809539795,-64.54594421386719,8.749334335327148,-41.38132095336914,46.024044036865234,-1.7630513906478882,-7.023392677307129,-54.99388885498047,-57.62299728393555,-52.32086944580078,20.78822135925293,53.70210647583008,-5.651149749755859,34.43461608886719,19.544775009155273,36.69455337524414,-8.529008865356445,-26.3655948638916,50.530704498291016,14.240126609802246,8.533945083618164,14.022797584533691,-9.13908863067627,-44.84629440307617,25.85784149169922,24.93206214904785,54.04472351074219,12.432826042175293,21.935977935791016,38.904911041259766,-8.106138229370117,56.316368103027344,23.25767707824707,29.098066329956055,20.12896156311035,-11.187780380249023,-17.895235061645508,-18.74640464782715,41.06096267700195,-57.98467254638672,-40.96369171142578,-46.80384826660156,16.709386825561523,12.179930686950684,48.69718933105469,45.04126739501953,28.3427791595459,3.2900869846343994,-61.57912826538086,-61.965476989746094,14.244196891784668,-14.622147560119629,-8.320244789123535,23.150096893310547,42.07002639770508,-5.535491466522217,49.29719924926758,-18.47810935974121,24.433242797851562,-9.181806564331055,35.11936569213867,43.84617614746094,-57.34782409667969,-41.54536437988281,-26.144594192504883,26.606260299682617,51.233272552490234,50.538658142089844,-9.848913192749023,25.336538314819336,-54.541412353515625,-15.52468204498291,12.867645263671875,-54.82014846801758,-24.71384048461914,23.429128646850586,42.311729431152344,44.894901275634766,34.435516357421875,28.92318344116211,-9.848713874816895,-13.672094345092773,34.59211730957031,-27.906593322753906,3.2507548332214355,-0.42537960410118103,-9.040397644042969,21.896055221557617,2.564573287963867,27.917001724243164,25.81331443786621,-4.816075801849365,24.982845306396484,4.238125324249268,-0.12648576498031616,-9.600112915039062,48.170413970947266,20.084917068481445,48.51425552368164,4.282166957855225,-40.23672103881836,-9.666642189025879,42.22001647949219,1.0218600034713745,34.96358108520508,3.7769935131073,-38.553680419921875,-19.502696990966797,-45.729957580566406,-22.29769515991211,-10.000288009643555,36.285186767578125,9.893821716308594,71.59918212890625,36.05841827392578,-51.48833084106445,35.43476486206055,8.362269401550293,19.834491729736328,28.864166259765625,-27.290658950805664,-12.321402549743652,52.77735137939453,28.94786834716797,63.25954818725586,-55.62862014770508,4.802577495574951,57.438987731933594,10.178415298461914,36.113243103027344,-11.431469917297363,28.335905075073242,14.77674388885498,-14.416040420532227,46.15245056152344,-22.124711990356445,-19.845571517944336,9.054183959960938,63.06861877441406,34.57719421386719,-20.400598526000977,32.775569915771484,-54.424949645996094,-11.114470481872559,-77.63286590576172,-7.183905124664307,-72.2754898071289,-45.552650451660156,11.025077819824219,45.7425537109375,-8.860650062561035,-47.006385803222656,21.867168426513672,35.32512664794922,-57.6384391784668,-38.39179611206055,-43.28348159790039,21.574787139892578,18.966428756713867,-5.018610000610352,-54.907188415527344,21.016475677490234,39.26872253417969,48.43039321899414,23.064476013183594,6.440359115600586,-24.84858512878418,-9.600411415100098,-54.04005813598633,-6.149613380432129,0.757881760597229,-6.560821056365967,-19.927595138549805,43.61808776855469,72.33232879638672,11.587718963623047,35.96262741088867,25.986927032470703,-0.7193862795829773,-6.847986698150635,-32.69135665893555,8.598875999450684,14.167901039123535,1.2838926315307617,2.0061800479888916,-7.725399017333984,5.229916572570801,-42.691070556640625,-8.307143211364746,19.35232162475586,7.485714435577393,55.15628433227539,45.881248474121094,25.751346588134766,11.772465705871582,-48.78129577636719,-10.571939468383789,-11.154654502868652,-63.03904724121094,6.4653000831604,22.477148056030273,28.88627815246582,-18.31597900390625,34.013980865478516,-19.403772354125977,71.3023910522461,-38.14119338989258,39.65622329711914,43.081024169921875,-49.96416473388672,19.89029884338379,-3.6342597007751465,-15.020367622375488,14.43262004852295,9.442451477050781,-49.08560562133789,34.37235641479492,-55.66021728515625,0.16202719509601593,68.66551971435547,-70.50015258789062,-19.92623519897461,-8.863901138305664,-31.17474365234375,-8.960630416870117,-2.873262405395508,-39.320133209228516,11.144830703735352,21.507083892822266,-48.525638580322266,-54.81566619873047,39.25532913208008,69.95185089111328,24.291671752929688,19.882749557495117,-50.40607452392578,9.011054992675781,-15.52802848815918,21.062728881835938,0.32881683111190796,-9.62500286102295,-5.36527681350708,23.803770065307617,-14.663065910339355,-32.41130447387695,-5.105149745941162,-6.851840972900391,-16.353464126586914,-16.51570701599121,11.897415161132812,64.292236328125,7.35094690322876,-31.692745208740234,-8.379467010498047,-11.465557098388672,57.8916130065918,57.42145919799805,-35.310550689697266,64.62134552001953,29.597423553466797,12.384062767028809,-71.37474822998047,-9.849903106689453,-27.308542251586914,25.23571014404297,-53.32719802856445,53.77074432373047,-49.61069107055664,-1.376878023147583,-7.588048934936523,-43.8122673034668,-31.580482482910156,23.87903594970703,48.113075256347656,-2.0388247966766357,-8.995071411132812,57.03187561035156,-48.3398551940918,-15.266417503356934,-11.051859855651855,66.57756042480469,20.371339797973633,-6.7191548347473145,-77.91680908203125,-48.28179931640625,15.552217483520508,-10.910730361938477,-8.786126136779785,34.34745788574219,-51.488094329833984,-13.716958045959473,-19.10867691040039,-59.77089309692383,26.40959358215332,58.344078063964844,-6.670185089111328,15.00027084350586,-71.3588638305664,-24.887521743774414,7.470921516418457,-53.94464111328125,49.30646514892578,-3.0438687801361084,-18.39487075805664,-48.30256652832031,-38.192752838134766,22.09680938720703,-10.405327796936035,-17.83123779296875,-4.817627429962158,9.928991317749023,-45.681915283203125,-55.24626541137695,-45.68985366821289,49.275962829589844,-41.47706985473633,-40.463531494140625,-14.177919387817383,61.030696868896484,-39.60881423950195,32.99504852294922,-14.334352493286133,-8.27512264251709,-76.69214630126953,15.07386589050293,-77.9640121459961,24.976608276367188,-29.959383010864258,-8.535572052001953,12.788535118103027,-44.841209411621094,22.979598999023438,-54.21452331542969,19.451236724853516,0.3842868208885193,6.643442630767822,40.14454650878906,41.62465286254883,-48.32197570800781,26.511621475219727,26.687252044677734,-19.739282608032227,-1.2760626077651978,48.828372955322266,-9.36838436126709,-19.612367630004883,-21.530115127563477,-41.90003967285156,-23.79810905456543,-19.68620491027832,12.04747486114502,33.983577728271484,29.62102699279785,-41.749263763427734,53.94561767578125,-78.13130187988281,-1.4846752882003784,-44.381900787353516,-51.65911865234375,-2.886406421661377,-18.70801544189453,49.80218505859375,-5.200162410736084,-21.530176162719727,11.148293495178223,2.3535399436950684,38.354496002197266,-7.570960521697998,2.507836103439331,-39.995880126953125,-47.21781921386719,46.51655578613281,24.426025390625,-6.649025917053223,47.258216857910156,-5.868069648742676,46.65516662597656,28.247201919555664,9.610021591186523,-8.442397117614746,-19.8974609375,-40.45549011230469,-73.6518325805664,-28.11039161682129,15.232327461242676,37.564517974853516,10.735267639160156,18.697996139526367,1.1178162097930908,-23.356945037841797,-24.71657943725586,-10.933664321899414,13.233055114746094,-32.268611907958984,28.218204498291016,56.31319046020508,63.2284049987793,37.165443420410156,62.18051528930664,-3.101431131362915,-38.1805419921875,-2.8722927570343018,2.068723201751709,-9.339314460754395,47.83700942993164,-70.49728393554688,21.56609535217285,-58.59785461425781,9.315763473510742,72.7997055053711,25.924806594848633,-9.723333358764648,52.504798889160156,5.388990879058838,-45.97905349731445,11.544533729553223,-41.74882888793945,-52.643218994140625,-6.567200183868408,-25.551584243774414,23.582021713256836,-4.051580905914307,-24.087434768676758,-40.614646911621094,-7.666706085205078,0.6338289380073547,-72.91971588134766,-9.87210464477539,-31.05281639099121,10.092538833618164,-50.98680114746094,30.317588806152344,-55.12020492553711,32.86919403076172,-2.606419563293457,33.11321258544922,-31.58415412902832,19.603721618652344,8.03749942779541,55.191219329833984,-11.180181503295898,15.224531173706055,-8.860251426696777,-40.9807243347168,-13.617215156555176,-15.744053840637207,58.829315185546875,-28.440710067749023,-0.15928073227405548,38.199012756347656,28.76309585571289,-60.64991760253906,15.226421356201172,23.092710494995117,23.50116539001465,-40.32395553588867,-0.907149612903595,-3.642913818359375,-12.841714859008789,-14.51397705078125,-43.636817932128906,-54.58737564086914,12.9380464553833,27.162734985351562,41.14212417602539,27.395336151123047,19.361474990844727,-3.7738537788391113,-17.979761123657227,-54.48191452026367,-72.92178344726562,-52.01021957397461,24.39409828186035,-50.38982009887695,-7.122614860534668,1.2465935945510864,-48.3117790222168,-2.10408353805542,46.55667495727539,2.0989856719970703,68.31588745117188,-63.036319732666016,-3.3569397926330566,-6.655636787414551,14.340641021728516,-3.3961777687072754,-2.0344743728637695,1.1509407758712769,18.00599479675293,25.325536727905273,-2.8531298637390137,6.462734699249268,45.31053924560547,-6.974101543426514,-53.75807571411133,-11.166020393371582,18.654565811157227,-0.4191562533378601,-31.092103958129883,32.89811325073242,48.74445343017578,47.84199142456055,10.63266372680664,26.373638153076172,-7.291626453399658,70.41535949707031,-42.573673248291016,-71.33319854736328,-46.22987365722656,-22.012596130371094,56.60140609741211,26.584863662719727,18.479873657226562,-18.176435470581055,52.96026611328125,10.31085205078125,-38.2784423828125,31.089340209960938,34.14028549194336,58.24876022338867,71.77130126953125,2.556295871734619,37.71060562133789,-27.238422393798828,7.921646595001221,8.202516555786133,35.311641693115234,7.215914249420166,-51.48612594604492,35.77627944946289,-23.543893814086914,-27.316097259521484,6.407573699951172,66.82510375976562,50.229522705078125,-17.1618709564209,4.8045525550842285,0.5247753858566284,25.635793685913086,-6.172614574432373,-25.780189514160156,4.929033279418945,-59.05125427246094,63.223602294921875,19.440994262695312,27.008445739746094,-54.07219314575195,28.066455841064453,-20.71091651916504,-34.220542907714844,6.614593505859375,-11.214543342590332,-11.958227157592773,-13.354724884033203,15.913324356079102,-39.96872329711914,-6.596419334411621,-8.86404037475586,2.415870189666748,3.564802408218384,9.136209487915039,-2.995236873626709,-7.383902072906494,-12.452977180480957,-38.32697677612305,-54.483245849609375,21.57618522644043,-1.010146975517273,-0.14438004791736603,-9.268000602722168,-47.947296142578125,-11.312581062316895,0.7513024806976318,-73.11144256591797,-5.037797451019287,-14.783588409423828,-57.26825714111328,54.967533111572266,-24.445178985595703,-19.302457809448242,-16.12912940979004,15.084383010864258,-51.9390869140625,20.878196716308594,-11.829862594604492,-15.365921020507812,-8.372671127319336,-6.869104385375977,11.372533798217773,-7.943241596221924,41.46177673339844,23.138822555541992,-57.03894805908203,25.133798599243164,34.677024841308594,-22.745567321777344,21.750024795532227,-27.468042373657227,0.026865549385547638,-45.69123077392578,49.98041534423828,15.870738983154297,24.19346046447754,33.157470703125,-29.371248245239258,28.84598159790039,8.696463584899902,-0.9862165451049805,-4.008331775665283,-77.84172058105469,5.9076433181762695,41.75373840332031,65.40994262695312,28.809127807617188,31.268909454345703,26.625179290771484,14.521361351013184,-44.615867614746094,1.4461005926132202,-41.49997329711914,49.76049041748047,-3.8485629558563232,-43.44664764404297,-6.915892601013184,9.111069679260254,17.25351333618164,26.402938842773438,15.76356315612793,-31.69073486328125,-51.819644927978516,40.011314392089844,-11.44357967376709,26.683876037597656,11.214524269104004,-16.7899227142334,-7.102953910827637,20.4985408782959,-17.769577026367188,-52.637481689453125,-29.67585563659668,-15.269562721252441,0.850251317024231,52.97321701049805,13.314407348632812,-42.11975860595703,-77.88372802734375,-0.6050212979316711,9.899436950683594,-47.57144546508789,-22.008800506591797,-8.915786743164062,2.97635555267334,-15.84161376953125,26.855052947998047,7.286818027496338,8.842506408691406,-31.446611404418945,45.42253875732422,-51.20500946044922,-32.010196685791016,-8.525726318359375,64.5773696899414,-8.693215370178223,-8.910575866699219,-38.69218063354492,-17.194353103637695,33.84163284301758,-11.807327270507812,2.5542688369750977,44.05421829223633,-4.1591691970825195,3.731555461883545,-44.3839111328125,-8.600351333618164,-45.556114196777344,-18.870458602905273,37.94167709350586,-20.037681579589844,-5.034715175628662,-54.240726470947266,-0.546882688999176,-41.38871383666992,-23.48350715637207,28.322473526000977,42.32206344604492,-6.794474124908447,28.98244285583496,66.01813507080078,-1.270967721939087,-27.315082550048828,-7.577967166900635,26.63158416748047,64.18738555908203,25.699636459350586,-9.622123718261719,-7.037636756896973,-17.874052047729492,-14.762389183044434,-47.57395935058594,-9.084060668945312,-18.026634216308594,-51.976295471191406,72.4753646850586,47.91190719604492,-10.585061073303223,6.46492338180542,11.820391654968262,-53.03669738769531,-19.291454315185547,15.083480834960938,30.1453914642334,-17.89603614807129,-23.489097595214844,50.88125991821289,-16.96508026123047,-0.2195853739976883,-15.43973159790039,-28.305484771728516,6.462769031524658,20.801969528198242,-51.198734283447266,-65.79197692871094,-48.92885208129883,-10.205933570861816,2.835132598876953,-8.166433334350586,-44.78847885131836,63.36048126220703,-42.12267303466797,-7.039119720458984,66.90203857421875,-21.16508674621582,-34.132080078125,28.58890724182129,-4.340203762054443,29.301692962646484,19.977575302124023,38.49251937866211,-1.0158644914627075,9.327408790588379,-28.23362159729004,-3.221205711364746,5.862202167510986,16.83598518371582,-26.48505210876465,13.234702110290527,-5.490124225616455,-24.657123565673828,-14.839086532592773,37.92500686645508,0.30266380310058594,57.5788459777832,14.39378833770752,24.431188583374023,-45.3008918762207,24.289081573486328,-6.057613849639893,-53.30851364135742,-8.549371719360352,-12.18374252319336,45.130226135253906,-53.729488372802734,-3.7418365478515625,-12.079057693481445,14.71420955657959,18.313478469848633,25.548236846923828,-55.34067916870117,-63.04684066772461,1.4736348390579224,-29.771411895751953,-19.420625686645508,2.590034246444702,-1.5786689519882202,33.82904052734375,50.84544372558594,39.06966018676758,-27.668109893798828,-58.59923553466797,25.10953712463379,18.129404067993164,34.843101501464844,-22.600656509399414,-40.725887298583984,-42.57318115234375,41.43368148803711,-15.833003044128418,22.438495635986328,34.967864990234375,-4.6481733322143555,-49.32884979248047,42.93121337890625,-18.6539363861084,4.8016252517700195,-0.5799378156661987,-6.533315658569336,-31.90971565246582,-45.20851135253906,43.65127182006836,-16.562597274780273,-12.100910186767578,-4.157289981842041,-70.58502960205078,63.78955078125,46.4744873046875,1.9776840209960938,-77.94436645507812,-55.05318069458008,5.2148332595825195,-71.4282455444336,-46.229698181152344,-9.859785079956055,-10.870464324951172,-55.397300720214844,-9.84941577911377,3.160902976989746,-15.579004287719727,38.9252815246582,41.07872009277344,-7.253941059112549,40.68382263183594,-38.037635803222656,7.848286151885986,-11.654420852661133,37.91001510620117,-54.599815368652344,29.7056941986084,10.626811981201172,25.548927307128906,-20.944860458374023,47.88502502441406,63.951622009277344,0.4441610276699066,-8.528767585754395,7.911342620849609,-1.715651035308838,-13.2617826461792,-9.945289611816406,24.430309295654297,26.1600284576416,49.572425842285156,52.571407318115234,12.785528182983398,52.006568908691406,-11.306982040405273,41.063751220703125,55.783058166503906,-41.4684944152832,3.052794933319092,49.57735061645508,-0.5145823955535889,-38.97745132446289,5.607635021209717,-0.9135352969169617,-10.352652549743652,-25.950807571411133,-15.398150444030762,25.558460235595703,-3.902039051055908,-60.2123908996582,45.305946350097656,21.031869888305664,-41.44119644165039,59.63636779785156,-46.229610443115234,28.632415771484375,52.576602935791016,1.3291813135147095,-27.29714584350586,66.9516830444336,-16.291606903076172,-53.73265075683594,-5.432316780090332,34.89019012451172,28.868207931518555,-8.957468032836914,19.98917579650879,26.29385757446289,28.6581974029541,28.08981704711914,52.87027359008789,17.36126708984375,-19.49911880493164,-9.657767295837402,-31.235139846801758,-0.7741189002990723,-7.485987663269043,40.317935943603516,67.72807312011719,26.402206420898438,25.98591423034668,-20.820125579833984,-10.331085205078125,6.461102485656738,17.295621871948242,-21.361465454101562,-47.47642517089844,-2.651569366455078,-55.32600021362305,-51.6651725769043,-70.58293914794922,-3.065730333328247,65.18122100830078,49.40830993652344,-11.482643127441406,41.84669876098633,28.5056095123291,-12.385016441345215,-32.752559661865234,41.81903839111328,-40.32659912109375,1.4093561172485352,57.0576057434082,-77.96601867675781,-7.076866149902344,-26.202096939086914,10.671063423156738,46.122135162353516,4.531776428222656,-40.48527908325195,-21.612913131713867,61.09883117675781,-19.614328384399414,-13.616761207580566,-14.734604835510254,-2.234513759613037,20.93437385559082,-2.743893623352051,-9.182696342468262,34.59943771362305,23.16962242126465,-6.959499835968018,60.84498596191406,48.40433120727539,-6.129812240600586,-10.797637939453125,-2.9830563068389893,-33.106014251708984,0.626475989818573,-18.188495635986328,2.0631895065307617,-10.104681968688965,41.66332244873047,24.051286697387695,43.169647216796875,14.129515647888184,-19.45539093017578,4.94033145904541,16.531681060791016,-26.623779296875,-47.94728088378906,-0.9077008366584778,3.2761456966400146,39.112430572509766,-18.693090438842773,-22.942607879638672,-5.455921173095703,63.71180725097656,8.760513305664062,-22.156906127929688,-54.42597961425781,-9.920013427734375,-65.24664306640625,-39.24370193481445,-35.32786178588867,-32.408748626708984,29.436159133911133,-4.816035747528076,50.630279541015625,-22.55965232849121,26.661874771118164,12.84073543548584,-26.48974609375,3.150784492492676,-20.45931053161621,-7.546827793121338,-49.976932525634766,-34.54359436035156,-17.196821212768555,52.806800842285156,35.98784255981445,-12.982868194580078,-27.33551788330078,61.731746673583984,0.2657702565193176,-42.19583511352539,61.2232780456543,-45.47482681274414,2.779850482940674,-2.896862268447876,-14.474026679992676,8.852473258972168,41.070430755615234,-13.899043083190918,-12.805402755737305,-8.289312362670898,-46.80852508544922,41.65350341796875,-12.98823070526123,-40.435325622558594,-76.52694702148438,65.67872619628906,-3.0337369441986084,-31.13763427734375,44.85388946533203,-65.4808120727539,64.88195037841797,13.466568946838379,-9.838202476501465,-8.801749229431152,58.079750061035156,2.6819581985473633,5.427292346954346,-23.304855346679688,-72.90031433105469,-23.397197723388672,-0.6015819311141968,4.894881725311279,11.359661102294922,65.57627868652344,-39.70154571533203,-22.042211532592773,-35.32061004638672,-25.86139678955078,18.77861976623535,-20.944303512573242,5.657667636871338,-56.07598876953125,-20.55859375,-53.92597198486328,2.9768118858337402,54.7245979309082,-9.369282722473145,-39.45909881591797,2.762833595275879,-17.63511848449707,14.031988143920898,35.32720947265625,-13.476920127868652,25.715673446655273,25.918724060058594,-19.46440887451172,-6.136537551879883,-35.30564498901367,-4.392515659332275,7.100763320922852,53.88593292236328,22.691944122314453,66.91214752197266,-20.6901798248291,36.610721588134766,0.14907793700695038,34.7689323425293,9.458651542663574,-43.17294692993164,-9.240242958068848,-50.4092903137207,3.4634954929351807,8.215900421142578,42.18633270263672,-20.3668155670166,-53.7419319152832,48.52528381347656,26.00375747680664,-14.539968490600586,-6.335295677185059,-48.32603073120117,65.16629028320312,38.235538482666016,-0.4987783432006836,-13.60021686553955,15.458108901977539,5.662487983703613,-29.671764373779297,49.21990966796875,-38.14109802246094,-38.140480041503906,51.726802825927734,-53.02071762084961,67.67418670654297,-54.51462173461914,61.75932312011719,-57.18682861328125,62.49700927734375,9.057042121887207,55.576019287109375,-19.577041625976562,23.234996795654297,26.217622756958008,63.2629508972168,-53.6167106628418,-24.8784236907959,-9.939006805419922,-78.2634506225586,5.34763240814209,-40.54290008544922,43.72221755981445,-12.472112655639648,-10.73068618774414,-11.356452941894531,40.12972640991211,19.07016372680664,42.651275634765625,25.20966911315918,42.3932991027832,2.8948819637298584,-3.56311297416687,-5.449013710021973,53.06645584106445,21.48505401611328,1.1177306175231934,-50.35381317138672,19.0657901763916,65.6024169921875,18.481887817382812,-3.9993081092834473,-18.9781551361084,24.430078506469727,41.60192108154297,-42.92875671386719,-10.913838386535645,-27.471235275268555,35.22883605957031,-20.029748916625977,33.451900482177734,-40.23442077636719,25.133060455322266,-15.563193321228027,52.738182067871094,-17.5932559967041,-20.885330200195312,18.447603225708008,33.96540832519531,23.023452758789062,23.084396362304688,21.89601707458496,-7.925327777862549,-42.587215423583984,-11.954490661621094,-6.5616655349731445,-13.616405487060547,-52.40070724487305,-11.010191917419434,-12.333928108215332,-18.410308837890625,25.5843505859375,-17.252676010131836,-22.592792510986328,34.13871765136719,34.32762145996094,-11.5330228805542,-44.79460144042969,43.63185119628906,23.03443717956543,51.608009338378906,-49.97647476196289,35.08561706542969,-10.248871803283691,-40.232784271240234,-3.5420851707458496,10.198334693908691,-10.152132987976074,25.742162704467773,-65.80327606201172,-2.6032767295837402,63.92611312866211,-65.09752655029297,58.254154205322266,11.152942657470703,-12.679469108581543,-44.867897033691406,25.681421279907227,-7.055631637573242,-14.1297607421875,-0.8713653683662415,8.677778244018555,-42.964630126953125,-21.35075569152832,17.425073623657227,-41.878021240234375,46.90632629394531,66.7848129272461,-9.52413558959961,23.221261978149414,3.2807788848876953,-18.788022994995117,36.6978645324707,-9.18880558013916,-40.235103607177734,-10.984347343444824,15.131319999694824,-31.815324783325195,-1.10447096824646,52.39219284057617,-12.867426872253418,22.761157989501953,-25.704360961914062,43.25432205200195,2.34845232963562,-9.184616088867188,12.716316223144531,2.732633113861084,26.970659255981445,-3.71571946144104,65.2557373046875,-5.756563186645508,69.65264892578125,28.51592254638672,-2.2303507328033447,29.615610122680664,30.11220359802246,56.299530029296875,0.9234527349472046,-28.172277450561523,9.601691246032715,-46.23261260986328,69.96487426757812,-22.01666259765625,-5.321492671966553,-5.722534656524658,-50.74224090576172,7.163202285766602,-18.54210090637207,7.198036193847656,0.19747541844844818,-11.47754955291748,-10.568706512451172,-78.15584564208984,-15.781160354614258,-51.56502914428711,9.79860782623291,5.639535427093506,-1.546224594116211,-2.3348796367645264,9.108904838562012,8.783474922180176,7.964463233947754,-8.25917911529541,-22.738969802856445,16.931575775146484,-12.555724143981934,-56.20170593261719,3.170269012451172,-0.9100891351699829,-7.158237457275391,-18.512813568115234,-47.78969192504883,-34.68968963623047,-15.870574951171875,-9.661116600036621,9.000629425048828,-21.393022537231445,-25.47774314880371,1.1204978227615356,-13.129858016967773,43.42275619506836,1.7410783767700195,2.9490251541137695,43.4577751159668,48.20613479614258,26.33701515197754,-30.666404724121094,-5.38319730758667,-26.482805252075195,-20.643978118896484,19.96980857849121,-61.39503860473633,15.729251861572266,51.11042022705078,15.774374961853027,-59.054508209228516,-9.282194137573242,43.63313674926758,38.90351104736328,-2.6351656913757324,4.664155960083008,14.790833473205566,-38.178070068359375,-52.24664306640625,8.458341598510742,7.856448650360107,-8.948029518127441,38.489559173583984,-41.51241683959961,7.134974479675293,-11.184972763061523,35.64344024658203,62.65142059326172,58.7758903503418,-1.7162110805511475,-2.854618549346924,-14.078958511352539,7.531776428222656,48.805843353271484,-20.332063674926758,27.173192977905273,-9.784008026123047,-53.66358184814453,-2.6078741550445557,8.59427547454834,14.155853271484375,-1.984649896621704,-11.464677810668945,-34.72725296020508,53.202964782714844,10.935439109802246,-66.41487121582031,29.73630714416504,-77.97447204589844,-53.3354377746582,50.604095458984375,-7.2845048904418945,3.3305258750915527,55.39731216430664,-4.958999156951904,8.602263450622559,46.24685287475586,45.32921600341797,-39.99730682373047,25.335670471191406,36.740474700927734,69.9919204711914,30.248788833618164,-25.025541305541992,-16.797266006469727,-18.79960060119629,8.460559844970703,4.285867214202881,-15.581748008728027,-24.0540828704834,5.880154609680176,-5.694311141967773,-52.30461883544922,62.159786224365234,-24.63161849975586,45.436180114746094,46.09526824951172,-12.848265647888184,-27.433725357055664,25.87942123413086,0.38287630677223206,-47.00849151611328,11.304977416992188,-77.65959167480469,23.131141662597656,57.468509674072266,-33.061767578125,38.8696174621582,-3.6736035346984863,34.08342361450195,0.5044593214988708,41.176795959472656,29.083662033081055,4.564128875732422,67.43251037597656,-11.39908218383789,-24.294267654418945,-77.59456634521484,8.557000160217285,-41.38528060913086,-5.025476932525635,1.473513126373291,-0.3514963388442993,12.609854698181152,30.706329345703125,-5.6847662925720215,-26.718799591064453,-3.5359678268432617,8.851917266845703,16.51665496826172,-8.410167694091797,47.39568328857422,-19.750356674194336,-9.920364379882812,-78.16899108886719,-42.139991760253906,-12.576273918151855,-2.8874287605285645,27.584697723388672,22.14296531677246,4.892885684967041,2.0335171222686768,-38.98208236694336,21.91827392578125,38.08257293701172,23.98261070251465,46.273948669433594,-13.64021110534668,27.955120086669922,8.008609771728516,-10.216801643371582,26.182537078857422,-43.718143463134766,-75.82743072509766,-3.707465410232544,20.98077964782715,-48.78718948364258,-77.58419036865234,-2.3738715648651123,-10.692407608032227,23.081541061401367,-7.552822113037109,-11.800337791442871,-9.848922729492188,-27.0698299407959,16.257308959960938,-0.9835756421089172,25.245464324951172,5.712503433227539,17.472150802612305,0.8862370252609253,-12.462897300720215,-10.624139785766602,41.49357604980469,-55.61731719970703,-59.04928207397461,-18.114139556884766,9.798745155334473,17.150474548339844,49.37245559692383,-53.00572204589844,-20.118114471435547,-9.56945514678955,-52.452884674072266,13.109504699707031,-13.7205171585083,20.811771392822266,14.125704765319824,-11.599472999572754,-5.25175142288208,36.17997360229492,20.054058074951172,-57.565834045410156,-12.553877830505371,-40.67889404296875,-6.1535234451293945,-29.578083038330078,9.428918838500977,-17.259641647338867,-55.39397430419922,37.92681884765625,41.29263687133789,61.398101806640625,-51.87187576293945,34.91755676269531,15.887049674987793,7.80842399597168,-3.9594976902008057,-45.30234909057617,-10.587753295898438,9.137358665466309,-10.779169082641602,-0.5195086002349854,-23.690637588500977,-9.032353401184082,-49.2531623840332,15.335599899291992,27.712339401245117,-54.47465515136719,-7.43435001373291,40.76777267456055,52.04902267456055,15.680058479309082,25.9312801361084,5.786503314971924,23.170795440673828,-1.0511921644210815,35.01844787597656,-78.08056640625,50.3348503112793,-15.807944297790527,20.772537231445312,-78.28768157958984,-0.4434541165828705,-66.42118072509766,10.075423240661621,-5.2049970626831055,9.139180183410645,-55.67414093017578,-32.2627067565918,-6.541949272155762,-3.597362995147705,33.89767074584961,-0.46732085943222046,33.131412506103516,12.268548965454102,20.862829208374023,-8.05127239227295,-12.734776496887207,1.1110233068466187,-4.202159881591797,64.2839126586914,48.410945892333984,-53.00630569458008,-23.314836502075195,9.906793594360352,48.5255241394043,6.234817028045654,19.06660270690918,5.07097864151001,-8.314903259277344,-49.02105712890625,53.634300231933594,-11.399369239807129,-7.862691402435303,35.60323715209961,25.55245590209961,23.726940155029297,-22.753562927246094,29.19064712524414,-45.297245025634766,-9.301283836364746,-22.92093276977539,-4.021181583404541,-10.76542854309082,70.81813049316406,21.9156551361084,-15.389765739440918,28.067228317260742,-24.6984806060791,12.075011253356934,-38.35269546508789,-19.792314529418945,-8.803860664367676,1.0397812128067017,-44.96306610107422,9.052919387817383,-17.929765701293945,-38.2755012512207,22.372163772583008,-4.035096645355225,-24.270050048828125,-55.2449836730957,-24.31273651123047,-11.287300109863281,-23.400915145874023,-34.178443908691406,-40.8770751953125,23.671777725219727,26.51241683959961,7.119609355926514,-6.1250786781311035,-25.3707218170166,-11.284521102905273,28.72313690185547,-3.8478121757507324,-53.979393005371094,-38.76693344116211,48.084495544433594,24.65240478515625,0.10500965267419815,24.603782653808594,-56.04755401611328,-5.768570423126221,9.815560340881348,34.26823806762695,-40.951194763183594,-23.756689071655273,-14.633508682250977,-78.14215850830078,-31.165855407714844,-42.208213806152344,-0.3186662495136261,-17.14606285095215,40.34565734863281,5.527880668640137,5.145568370819092,20.398866653442383,-30.53163719177246,-0.5670119524002075,-54.587764739990234,-21.532825469970703,45.36048126220703,22.224172592163086,3.5413308143615723,-3.8298885822296143,26.97206687927246,35.03810119628906,18.027463912963867,-26.074365615844727,27.578012466430664,7.636600494384766,67.26983642578125,-53.31930160522461,-44.996681213378906,-24.138755798339844,0.5239494442939758,-9.752022743225098,3.1718146800994873,-14.732248306274414,27.283185958862305,-15.376447677612305,-28.14240837097168,3.2245676517486572,-32.35224914550781,-12.842256546020508,-15.307456970214844,-49.06626892089844,-12.633334159851074,25.91782569885254,-9.698917388916016,-44.15205383300781,-44.377410888671875,22.80695915222168,65.26839447021484,34.005104064941406,23.037059783935547,30.77902603149414,47.11550521850586,-39.208396911621094,58.483272552490234,66.39226531982422,-4.890512943267822,44.93470001220703,-53.00957107543945,43.96405029296875,-54.04439926147461,0.1915973573923111,20.850078582763672,-19.99445343017578,25.009185791015625,19.79684066772461,16.119298934936523,-11.82954216003418,-0.6019799113273621,-24.88185691833496,-45.561702728271484,26.0408935546875,15.011462211608887,-20.94062042236328,4.250899791717529,9.482251167297363,-65.24610900878906,-7.3143792152404785,55.50302505493164,35.69402313232422,44.742034912109375,28.287574768066406,15.411754608154297,42.525882720947266,22.6771297454834,11.323873519897461,-50.13349914550781,-0.22637593746185303,-9.801658630371094,10.740702629089355,4.890928268432617,19.211441040039062,47.35271072387695,5.626370906829834,-24.849075317382812,33.803611755371094,45.64394760131836,-42.93156433105469,8.30597972869873,-9.38765811920166,22.332115173339844,-23.488712310791016,-4.669369697570801,-18.880094528198242,41.860408782958984,-22.91250991821289,6.403558254241943,-6.12856912612915,-26.368642807006836,-4.8903937339782715,15.083813667297363,-32.89336395263672,-42.11079025268555,-12.860093116760254,-65.72013854980469,-13.02387523651123,-11.315536499023438,-38.2672004699707,-14.629403114318848,-52.63642501831055,18.104087829589844,23.370298385620117,26.821958541870117,38.993350982666016,24.021333694458008,23.66107940673828,-10.035872459411621,-1.010804533958435,-6.140377998352051,-54.03911590576172,-29.66826820373535,21.602136611938477,48.70906448364258,7.84921932220459,-23.88043785095215,-7.871126651763916,20.89295196533203,6.166210174560547,-36.62863540649414,-15.36349868774414,-39.97896194458008,68.36274719238281,52.010921478271484,9.036102294921875,-14.380793571472168,0.8678657412528992,-9.55607795715332,21.20018196105957,0.4475042521953583,-50.807823181152344,46.985443115234375,65.030517578125,39.0855827331543,37.77048110961914,-24.260730743408203,53.78848648071289,20.66025161743164,55.26248550415039,64.5960464477539,28.21699333190918,-13.775500297546387,63.9200325012207,1.74312162399292,-51.51274490356445,-21.497848510742188,53.15700149536133,49.73259735107422,60.58842849731445,39.332950592041016,64.49195861816406,31.067790985107422,-18.684505462646484,50.7266845703125,-4.584686756134033,38.372318267822266,-11.46739673614502,43.57185363769531,-38.36405563354492,48.65886306762695,-3.273965835571289,-55.409263610839844,-40.6802978515625,-2.7708740234375,-25.704326629638672,-1.8755812644958496,-7.021243095397949,57.74195098876953,48.33003616333008,-16.274486541748047,22.032657623291016,30.891353607177734,11.972686767578125,19.208852767944336,-25.8867130279541,-54.5787467956543,-15.003836631774902,21.89548110961914,-2.494905710220337,51.18917465209961,8.076417922973633,-7.565102577209473,13.828221321105957,33.268798828125,28.845664978027344,19.00737953186035,-9.448548316955566,-33.07772445678711,15.916635513305664,68.6275863647461,-23.55362892150879,27.2436466217041,67.40419006347656,-77.89271545410156,23.986495971679688,-26.3937931060791,0.9520291686058044,38.66880416870117,25.289806365966797,56.55238723754883,42.12269973754883,24.606826782226562,45.1887321472168,49.90595245361328,-10.984649658203125,-25.636838912963867,-19.599193572998047,-15.23855209350586,-6.834160327911377,-1.7027651071548462,-39.56306457519531,3.7580580711364746,26.468429565429688,-19.641218185424805,-8.18315315246582,-58.06781768798828,23.419126510620117,11.809377670288086,47.2705078125,0.8745271563529968,2.7688262462615967,8.784987449645996,11.249028205871582,30.683998107910156,-52.330806732177734,-23.68829917907715,2.485841751098633,4.80432653427124,13.97480297088623,4.928978443145752,-14.031848907470703,41.40555191040039,-23.676809310913086,26.252185821533203,39.22663116455078,-30.75514030456543,-31.901290893554688,-25.11009407043457,-31.689477920532227,-8.99090576171875,15.194579124450684,-10.975914001464844,-72.97199249267578,59.65098571777344,16.365617752075195,5.209530830383301,-6.0939226150512695,-13.06063461303711,-5.836883544921875,1.1343883275985718,-15.303407669067383,12.85926342010498,11.54609203338623,-56.00992965698242,-23.519731521606445,12.25175666809082,25.35608673095703,25.68444061279297,-17.785715103149414,-44.96181106567383,65.38370513916016,-31.204069137573242,15.310261726379395,-61.5770378112793,34.82111358642578,28.537172317504883,7.551340103149414,-13.79399585723877,61.720680236816406,-10.879379272460938,3.657546043395996,-27.87334632873535,9.56595230102539,-47.5738639831543,15.772598266601562,-0.882526159286499,-6.148416996002197,-5.226990222930908,-3.0136609077453613,58.37684631347656,-5.404733657836914,3.8021326065063477,1.038913607597351,-23.112388610839844,34.75397872924805,-9.218483924865723,6.638247966766357,-3.7134578227996826,-20.2664852142334,39.087486267089844,-5.825864315032959,-28.28221321105957,-6.598053455352783,-54.587799072265625,45.188968658447266,-41.91549301147461,3.1088359355926514,41.67780685424805,-0.6937152147293091,-4.799233913421631,49.214866638183594,21.341533660888672,-6.117101669311523,15.235086441040039,-41.58537292480469,35.31648254394531,-8.75828742980957,14.482683181762695,-39.84451675415039,-19.712121963500977,-40.479835510253906,50.41015625,32.45901107788086,0.019757812842726707,15.285727500915527,45.411624908447266,30.917285919189453,44.350276947021484,41.393516540527344,-77.73313903808594,28.570083618164062,0.36821863055229187,-26.157100677490234,-9.796119689941406,-24.88972282409668,-11.600132942199707,14.289270401000977,-28.05445098876953,-16.306198120117188,22.392011642456055,-0.5119647979736328,-10.784255027770996,-52.32871627807617,-9.663548469543457,20.0004940032959,56.14253234863281,10.11707592010498,44.876033782958984,25.55937957763672,-42.13677978515625,-40.83360290527344,34.667396545410156,-13.164480209350586,-5.565459728240967,-71.33428955078125,-5.986236572265625,25.05406951904297,5.546523571014404,8.480658531188965,-7.477564334869385,-12.444501876831055,23.94550132751465,-78.05745697021484,-53.35607147216797,-46.05233383178711,-11.220254898071289,-0.9879018664360046,-55.444217681884766,51.188453674316406,33.63905715942383,63.650543212890625,-18.593944549560547,-5.442324161529541,-57.52610397338867,25.777603149414062,26.06903076171875,-14.912397384643555,28.64523696899414,-15.952255249023438,34.692684173583984,13.644875526428223,-10.550710678100586,-4.888606548309326,-11.508596420288086,-11.425265312194824,21.038593292236328,-32.77182388305664,-42.21687698364258,-45.719051361083984,11.139474868774414,43.71015930175781,56.89442443847656,-8.066824913024902,-0.47422292828559875,33.50966262817383,12.940393447875977,31.869556427001953,41.311187744140625,-0.18989649415016174,-70.51321411132812,-15.148707389831543,-45.67378616333008,45.340660095214844,-9.812561988830566,43.169395446777344,-17.303373336791992,-1.718546748161316,-1.78564453125,27.87017059326172,49.31020736694336,-27.204513549804688,40.65776062011719,-25.702560424804688,-51.580509185791016,35.02229309082031,32.40382385253906,-55.131553649902344,0.7892829775810242,28.633895874023438,38.661102294921875,23.641063690185547,-4.085965633392334,64.3766860961914,-14.331771850585938,14.287687301635742,-3.5508861541748047,60.73710250854492,11.92880916595459,-48.532020568847656,-43.44660186767578,33.31098556518555,5.449975967407227,-9.945718765258789,4.311951160430908,-39.974327087402344,1.943447470664978,0.9733489751815796,-43.80257797241211,9.817288398742676,34.179962158203125,-2.601736068725586,-12.980463027954102,-18.96654510498047,-45.56083297729492,-40.724159240722656,-16.76883888244629,-10.309638977050781,-11.442266464233398,-16.66461944580078,-6.714663028717041,-9.153424263000488,-10.100850105285645,33.62854766845703,-38.28369903564453,-25.385295867919922,-7.345958709716797,-72.92232513427734,16.15034294128418,-3.2228260040283203,25.459014892578125,34.99772644042969,43.440887451171875,27.489797592163086,29.757966995239258,-14.50810718536377,-10.477363586425781,12.035514831542969,11.625353813171387,-64.54638671875,48.84001922607422,-12.856643676757812,-45.5714111328125,-5.479970455169678,-45.7274169921875,11.211912155151367,-19.16863250732422,-8.175898551940918,60.220577239990234,-71.57027435302734,5.915415287017822,46.32032775878906,-9.93443489074707,-41.870689392089844,-54.90467834472656,0.5274119973182678,-3.7731211185455322,28.31783676147461,-12.282384872436523,-39.997886657714844,-7.953363418579102,6.655289649963379,26.450489044189453,22.056589126586914,24.69048500061035,-11.196317672729492,-47.651527404785156,-38.175838470458984,14.744284629821777,-11.244414329528809,19.683387756347656,64.42697143554688,-40.679141998291016,26.23483657836914,-38.697418212890625,-7.118602275848389,-51.66440963745117,4.296205043792725,-53.960689544677734,25.310583114624023,-13.28359603881836,-39.29140853881836,8.2534761428833,5.939819812774658,-0.17852334678173065,-8.52885913848877,-2.7454450130462646,-19.846637725830078,2.099724531173706,49.9225959777832,-25.572284698486328,51.11586380004883,-58.30741500854492,-47.226463317871094,-31.20722770690918,46.01024627685547,-33.92345428466797,27.37035369873047,-47.2834587097168,2.7099099159240723,3.988966941833496,-40.96284484863281,-54.212005615234375,6.152644157409668,45.81262969970703,33.05656814575195,-11.515356063842773,53.75489044189453,28.070592880249023,7.4750261306762695,17.156789779663086,3.4797158241271973,65.23848724365234,-0.07500122487545013,-45.65716552734375,34.62529373168945,9.184408187866211,70.28952026367188,36.78614807128906,12.937787055969238,18.074125289916992,-50.34866714477539,-52.458003997802734,32.58907699584961,-15.354409217834473,-10.530280113220215,-12.40560245513916,-76.6817626953125,25.501657485961914,35.46500015258789,-27.94651985168457,-39.3200798034668,33.97901916503906,-44.664520263671875,-10.864361763000488,31.159866333007812,15.13215446472168,8.177523612976074,-13.607959747314453,-44.6221923828125,-2.8329944610595703,21.0706729888916,-16.783567428588867,-52.721763610839844,-78.15573120117188,40.86915969848633,-18.946779251098633,25.954416275024414,-10.470682144165039,-24.273834228515625,-13.515172958374023,65.6187744140625,7.945844650268555,32.11754608154297,46.86575698852539,-13.04077434539795,47.235137939453125,1.1931982040405273,-7.047919273376465,33.24112319946289,-23.605300903320312,-11.940987586975098,-26.485490798950195,-40.23670959472656,-11.173081398010254,-5.08192777633667,37.53999328613281,-14.391300201416016,26.34483528137207,0.4877707064151764,35.78330612182617,48.33664321899414,-8.566317558288574,-39.26005554199219,-0.9131589531898499,1.1169216632843018,45.15057373046875,8.85640811920166,44.04610824584961,35.94551086425781,51.59867858886719,20.211645126342773,-6.771889686584473,19.890125274658203,4.23514461517334,-4.241703987121582,-19.0489501953125,-16.520404815673828,-22.871559143066406,27.200403213500977,-54.88698196411133,29.593961715698242,2.913978099822998,41.59455871582031,6.660258769989014,39.66187286376953,44.14777374267578,-5.387205123901367,48.17398452758789,20.753740310668945,3.5788912773132324,23.647539138793945,35.82136917114258,35.14373016357422,14.484275817871094,-3.8583571910858154,-53.28084945678711,14.185111999511719,-15.686013221740723,34.288360595703125,-11.466658592224121,-7.880289554595947,5.872313976287842,39.0189208984375,-5.664450168609619,61.5621223449707,39.50112533569336,-25.33898162841797,46.27920150756836,-61.91850662231445,-18.919530868530273,61.20927810668945,20.148422241210938,-2.772066831588745,-56.10578918457031,-6.091606616973877,71.39907836914062,24.56739044189453,-12.785870552062988,7.000385761260986,-9.269277572631836,-63.04359817504883,-57.03884506225586,15.446450233459473,34.70667266845703,66.36662292480469,-39.27968978881836,-65.10648345947266,-15.510732650756836,-39.461055755615234,-10.583735466003418,-33.889766693115234,-16.00828742980957,-42.15462112426758,58.894412994384766,-65.24676513671875,35.99711990356445,63.57842254638672,-28.461091995239258,-38.91139221191406,36.967376708984375,31.325061798095703,62.324546813964844,2.964543104171753,29.400135040283203,50.05083465576172,-44.78438949584961,12.743504524230957,45.45216369628906,-1.1418882608413696,35.83894729614258,1.8693581819534302,0.7682468891143799,3.4778008460998535,67.12387084960938,-8.22948169708252,-4.561611652374268,51.5928955078125,15.258939743041992,-28.237770080566406,27.572969436645508,-38.43185806274414,4.844799041748047,-7.120462417602539,-45.17915725708008,-9.01431941986084,34.925167083740234,-6.4480791091918945,50.07945251464844,-8.92695140838623,9.2997465133667,-11.304760932922363,46.64800262451172,23.163631439208984,46.0300178527832,-30.211105346679688,-18.680973052978516,37.89583969116211,-2.7441887855529785,25.506967544555664,47.56916809082031,-1.5974516868591309,-53.9448356628418,-23.3094539642334,-10.619017601013184,-44.390037536621094,30.6297550201416,-25.250381469726562,19.892854690551758,-20.40070343017578,-71.46180725097656,-19.62990379333496,-32.37176513671875,-27.146583557128906,-5.378857612609863,-15.263527870178223,7.260987758636475,18.808361053466797,-25.077655792236328,15.4616060256958,-40.97251510620117,8.859935760498047,-16.409629821777344,21.966968536376953,-51.049861907958984,39.14960479736328,-28.026405334472656,54.9322509765625,-39.3505744934082,68.40151977539062,14.185433387756348,-13.649975776672363,1.1210012435913086,1.2319175004959106,25.953014373779297,7.019476413726807,63.88682174682617,-8.70938777923584,-76.89946746826172,-8.412873268127441,51.48646926879883,-21.908517837524414,47.24815368652344,-18.96074867248535,15.487039566040039,-78.08357238769531,3.5044338703155518,23.45467758178711,-19.72446060180664,15.068086624145508,-39.320743560791016,-15.566393852233887,-45.18332290649414,8.161900520324707,9.390676498413086,26.758411407470703,-0.7314185500144958,33.21693420410156,27.6015682220459,-3.7416586875915527,-3.3617401123046875,25.26255226135254,-8.85241985321045,0.8515045046806335,-38.9809455871582,25.359962463378906,45.990074157714844,-29.2470645904541,-52.636234283447266,-11.052497863769531,-19.89440155029297,23.438640594482422,-42.59724426269531,38.87258529663086,0.012973149307072163,67.25423431396484,-22.841533660888672,-23.83013343811035,-55.14272689819336,-6.809730529785156,65.16487121582031,-0.7155286073684692,-50.75040054321289,2.974755048751831,-24.64453125,-31.128080368041992,-23.312053680419922,20.73190689086914,29.116058349609375,41.99260330200195,-15.054144859313965,42.495445251464844,-6.747472763061523,60.268924713134766,-2.9150431156158447,22.837547302246094,-52.44060134887695,24.436798095703125,-6.863095283508301,-19.42496109008789,25.22028923034668,-49.3267707824707,-14.538763999938965,26.462556838989258,-4.998067855834961,11.497930526733398,-9.849059104919434,39.62637710571289,54.51054000854492,-10.834805488586426,-9.40582275390625,-49.60905456542969,41.917022705078125,-9.109766960144043,-45.58613967895508,39.67860412597656,28.409975051879883,14.605561256408691,-42.96552276611328,-51.97748565673828,-6.602449417114258,33.5843620300293,2.581428050994873,-2.818643093109131,-18.302433013916016,-10.845247268676758,23.08315086364746,33.812950134277344,-3.5266525745391846,30.364103317260742,60.711177825927734,1.1933521032333374,15.15495491027832,-55.854522705078125,-27.827775955200195,-6.342678546905518,-54.647335052490234,1.9963409900665283,-14.335464477539062,-19.930402755737305,17.101675033569336,-9.385597229003906,-44.960784912109375,-24.212583541870117,8.888599395751953,-6.374074935913086,3.6589772701263428,27.46741485595703,27.65325355529785,18.443527221679688,69.89521789550781,24.315935134887695,66.83634185791016,-42.554931640625,-4.9522223472595215,-0.46026626229286194,-21.65092658996582,33.61794662475586,5.1644792556762695,40.39960479736328,-10.398292541503906,-39.514076232910156,0.8142610788345337,-12.450663566589355,42.87065887451172,5.755281925201416,-0.37555840611457825,-27.619421005249023,27.005422592163086,56.783790588378906,-19.633033752441406,57.61981964111328,-2.972963571548462,-35.319541931152344,-11.970685005187988,49.29506301879883,38.89255905151367,-8.09574031829834,-9.117616653442383,-43.66401672363281,4.247542381286621,-15.597650527954102,-48.52578353881836,51.355735778808594,-40.47404098510742,-13.616312980651855,17.111642837524414,-4.817626476287842,3.805739164352417,25.515052795410156,36.5749626159668,-10.4222993850708,-45.686458587646484,15.814967155456543,-24.342397689819336,-5.474915027618408,-17.04084014892578,-3.638092279434204,19.778926849365234,58.077880859375,27.9529972076416,2.88346791267395,37.49077606201172,-66.4135971069336,24.43921661376953,-20.186614990234375,-10.007585525512695,-38.365997314453125,-44.14199447631836,-40.298484802246094,9.295549392700195,51.51484298706055,-0.28040611743927,50.267578125,-6.673971652984619,7.806372165679932,33.98558807373047,-61.5777473449707,-10.031564712524414,38.395145416259766,-66.42125701904297,21.13742446899414,-27.211746215820312,38.656368255615234,43.025794982910156,0.9988700151443481,2.1271934509277344,-7.791946887969971,33.04694366455078,35.813377380371094,-3.7732582092285156,-0.36089611053466797,20.898014068603516,-38.983062744140625,-45.66275405883789,-10.12969970703125,21.110212326049805,-3.7731621265411377,4.471728801727295,-54.14448928833008,11.933921813964844,-6.939982891082764,44.91756820678711,-54.21437072753906,50.41056823730469,11.292166709899902,57.92287063598633,2.128164291381836,42.75369644165039,-40.32428741455078,39.87563705444336,-29.670799255371094,49.531219482421875,-0.3483923375606537,-8.862807273864746,3.9933509826660156,-6.082363128662109,0.7345874905586243,34.529090881347656,-6.106053352355957,-14.5295991897583,44.05532455444336,24.610774993896484,-22.874130249023438,-7.003146171569824,-40.68879318237305,-16.248144149780273,24.59808921813965,-29.6763973236084,21.349363327026367,0.3827381730079651,-10.562058448791504,31.985628128051758,-72.2260513305664,72.12337493896484,-42.96366882324219,-27.94269371032715,-30.837461471557617,-12.75688648223877,39.66160583496094,-8.772891998291016,72.77740478515625,38.225807189941406,36.29927444458008,37.83335876464844,13.05046272277832,22.03861427307129,24.56104850769043,65.47534942626953,45.035919189453125,52.9282341003418,6.384821891784668,35.081302642822266,-7.495946884155273,66.5335464477539,5.223344802856445,42.436832427978516,14.216057777404785,7.313530921936035,1.47524094581604,38.80184555053711,23.257001876831055,56.91448211669922,12.548808097839355,24.244739532470703,-2.5016167163848877,-19.31177520751953,24.904136657714844,-17.556568145751953,65.70721435546875,-5.026175022125244,57.3388671875,23.100492477416992,-6.508312702178955,17.179119110107422,-12.49242877960205,-37.9331169128418,-44.14725875854492,-1.0215710401535034,43.127052307128906,-15.826958656311035,50.92073059082031,-14.532896041870117,-1.7198327779769897,25.508291244506836,49.25935745239258,-46.07231140136719,-18.008831024169922,-39.85929489135742,-77.76485443115234,69.72602081298828,-2.3761088848114014,-42.93036651611328,-34.155006408691406,-14.993467330932617,22.063533782958984,-9.011999130249023,1.4722968339920044,-54.41080093383789,33.70570373535156,22.6029109954834,30.184648513793945,-20.42686653137207,-22.87799072265625,35.11613464355469,-39.2751350402832,30.020217895507812,-19.79037094116211,-43.43693161010742,14.737404823303223,71.54244232177734,49.76737976074219,-2.1545679569244385,4.178893566131592,-41.91633605957031,61.85503387451172,-10.098454475402832,-5.394486427307129,-48.39582061767578,-13.225772857666016,71.50028991699219,-13.681361198425293,2.8884012699127197,22.070240020751953,63.998531341552734,-21.524213790893555,-6.069413661956787,-1.9394733905792236,-1.9564776420593262,-44.784645080566406,-3.441762924194336,-4.311575412750244,22.084144592285156,-14.85637378692627,38.85282516479492,0.8887452483177185,-27.32591438293457,8.59771728515625,-2.7564780712127686,46.209720611572266,6.164658546447754,9.275705337524414,25.346742630004883,34.61423110961914,-48.78898620605469,9.896356582641602,-32.41322326660156,22.089427947998047,3.01485013961792,4.937121868133545,34.687992095947266,3.319432020187378,-52.289249420166016,31.251876831054688,42.24510955810547,26.46687889099121,35.6973762512207,2.1156327724456787,36.00419616699219,-18.216567993164062,12.37192153930664,0.44675493240356445,23.948976516723633,-56.16126251220703,-7.451876163482666,-42.931034088134766,-38.78296661376953,2.856668710708618,21.929935455322266,-39.85101318359375,-53.63789367675781,-14.75009822845459,26.03531265258789,25.90780258178711,15.434712409973145,48.31009292602539,34.09537887573242,-47.9472770690918,32.243228912353516,49.81636047363281,-42.15477752685547,17.55918312072754,7.048999786376953,-10.881175994873047,21.136201858520508,-44.96303176879883,-4.981897354125977,0.7939841151237488,-20.110424041748047,-50.923431396484375,-37.68589401245117,2.1310503482818604,-3.118346691131592,-31.90497589111328,38.47492218017578,-13.195001602172852,-3.333817481994629,66.2376480102539,9.56376838684082,23.75373649597168,10.096446990966797,53.68825912475586,-5.358746528625488,29.55393409729004,1.1209789514541626,38.79542922973633,-3.6869144439697266,-4.506136894226074,24.430280685424805,52.82603073120117,7.259986877441406,-45.7274169921875,-4.890233516693115,2.9707448482513428,24.912689208984375,55.912899017333984,-69.69324493408203,-40.430625915527344,-47.789302825927734,48.513938903808594,1.5919898748397827,12.759321212768555,1.282230019569397,-18.669111251831055,38.085296630859375,-4.097768306732178,-45.346763610839844,40.59367370605469,71.24662017822266,-45.18703079223633,2.656071186065674,-72.90733337402344,-15.460189819335938,2.3803114891052246,-27.999345779418945,-50.00819778442383,-4.0142717361450195,18.480430603027344,14.653640747070312,-3.749464273452759,2.9728593826293945,17.962358474731445,-38.85252380371094,-54.88621139526367,-17.806419372558594,-40.95221710205078,-20.92994499206543,-40.25103759765625,-21.624412536621094,23.207489013671875,-10.5623197555542,-45.48725891113281,-54.42525100708008,7.482699871063232,44.509525299072266,51.746116638183594,-12.471639633178711,18.627471923828125,16.15049934387207,-12.41958999633789,-4.817152976989746,-10.985143661499023,19.066299438476562,-54.409725189208984,14.124208450317383,25.302730560302734,-9.022089004516602,-53.36576843261719,-27.29619598388672,62.16842269897461,45.74586486816406,9.191737174987793,57.26653289794922,-39.704933166503906,-42.560699462890625,5.370635032653809,-11.657361030578613,28.752531051635742,-12.713775634765625,44.004180908203125,-58.59972381591797,1.040223479270935,-20.836761474609375,6.295202732086182,-25.70082664489746,-18.40374183654785,-52.465721130371094,-10.542037010192871,11.786396026611328,12.854454040527344,-6.647959232330322,-55.0963134765625,10.313436508178711,0.9736547470092773,36.34137725830078,-46.79195785522461,-41.45156478881836,-52.6822624206543,21.947254180908203,6.462548732757568,-33.97416305541992,1.12270987033844,-33.78632354736328,-24.407712936401367,52.62660598754883,35.40367126464844,8.817970275878906,53.43331527709961,65.53604888916016,29.757999420166016,-48.78005599975586,48.13628005981445,0.9814140796661377,39.17864990234375,-46.102386474609375,15.2738618850708,-38.6683464050293,-7.030236721038818,8.23003101348877,12.552240371704102,-31.90894317626953,-17.27985954284668,29.511201858520508,-40.48923110961914,14.683550834655762,14.699023246765137,-10.905051231384277,-14.759371757507324,-54.213993072509766,-61.57026290893555,12.843979835510254,3.889378786087036,-17.702991485595703,37.150428771972656,60.04969787597656,9.428800582885742,-41.853668212890625,-78.03120422363281,3.635749578475952,-16.439594268798828,17.61365509033203,-57.55146789550781,-16.779808044433594,-19.03432846069336,-49.32524108886719,-12.011992454528809,44.71342468261719,-11.403458595275879,-18.696176528930664,-38.329952239990234,-1.0175111293792725,-55.39491653442383,34.0258903503418,-55.97498321533203,-4.280721187591553,8.287428855895996,9.43907642364502],\"xaxis\":\"x\",\"y\":[16.735933303833008,-40.494903564453125,-14.752522468566895,-15.393233299255371,-44.918331146240234,-46.00236511230469,-61.53168487548828,21.306211471557617,-39.99605941772461,-66.47826385498047,28.872596740722656,12.412664413452148,-6.503291606903076,12.81655502319336,77.80425262451172,51.18061065673828,51.97536849975586,0.3460134267807007,29.31170654296875,1.598750352859497,29.084749221801758,-4.879112243652344,-44.45092010498047,-12.663909912109375,19.347064971923828,-11.90909194946289,5.874164581298828,-55.720638275146484,-42.1660270690918,-46.3209342956543,-0.7409675121307373,4.828375339508057,5.859492778778076,36.04907989501953,-39.22502517700195,-14.107149124145508,47.53507995605469,-3.520808458328247,-47.32014846801758,-5.978245258331299,-2.8522796630859375,49.212642669677734,-4.474177360534668,-19.633934020996094,-7.257693290710449,-10.908175468444824,-59.95689392089844,-16.081823348999023,-67.72834014892578,-11.141069412231445,-21.97075080871582,46.83708572387695,11.159344673156738,0.0006205507088452578,-44.225502014160156,-13.746177673339844,10.476579666137695,-23.30864715576172,-9.887535095214844,-5.272761344909668,46.8239860534668,-42.74974822998047,-20.058162689208984,-12.11130428314209,-24.094396591186523,-57.785709381103516,18.16628074645996,9.798394203186035,31.1633358001709,14.163806915283203,-41.79872512817383,75.05630493164062,-40.660282135009766,-46.67485046386719,-19.634979248046875,0.3936663568019867,-47.40693283081055,16.95686149597168,-18.605314254760742,-18.07510757446289,41.961509704589844,-8.152815818786621,49.215301513671875,-38.02509307861328,14.222329139709473,1.574550747871399,50.43453598022461,8.135306358337402,16.325040817260742,-14.334665298461914,-60.17005920410156,-21.7633056640625,-5.766984462738037,-18.559749603271484,-13.5325345993042,19.097238540649414,-10.864809036254883,7.127076148986816,1.170400857925415,-31.295490264892578,74.18956756591797,18.242053985595703,-67.05799865722656,-12.485014915466309,49.29973220825195,51.884796142578125,8.117053031921387,18.367761611938477,6.18270206451416,31.897586822509766,-8.940753936767578,-61.8481330871582,31.79007911682129,16.924894332885742,-33.5494384765625,49.20733642578125,-4.484594821929932,-14.233004570007324,20.60135841369629,-11.787724494934082,9.275334358215332,1.621245265007019,0.7687712907791138,-1.7724592685699463,50.05561065673828,23.9722843170166,-61.75074768066406,-54.60426330566406,16.303197860717773,14.019966125488281,6.183263778686523,-5.267158031463623,-11.76561164855957,17.412708282470703,-42.11982345581055,-5.441939830780029,48.77953338623047,29.284175872802734,-38.64346694946289,-61.49806213378906,-11.899761199951172,48.30494689941406,49.20923614501953,-26.712812423706055,0.8034841418266296,-16.980525970458984,28.007343292236328,-36.18693923950195,26.83056640625,-5.4068603515625,17.5209903717041,28.443416595458984,-9.80688190460205,1.2667694091796875,-48.838157653808594,-3.8015382289886475,-13.209171295166016,-10.051745414733887,3.9797441959381104,-17.50872039794922,29.941940307617188,-66.35546112060547,-27.33306121826172,49.222503662109375,-66.46794891357422,23.298274993896484,16.349302291870117,-2.2518415451049805,-67.71497344970703,18.34024429321289,-14.626933097839355,-1.2255408763885498,6.8789591789245605,-42.11973571777344,7.21049165725708,3.3596303462982178,-21.18221092224121,2.4151418209075928,-36.14189147949219,77.8165283203125,-20.519041061401367,49.487205505371094,-1.4163026809692383,-11.01338005065918,13.08224105834961,2.376269817352295,-12.274035453796387,13.14026927947998,-4.68292760848999,-23.993640899658203,-19.550148010253906,-0.26840323209762573,-38.360618591308594,-7.775325298309326,-17.25363540649414,-15.54609489440918,29.10086441040039,25.728343963623047,24.780498504638672,-73.51908111572266,-13.427911758422852,23.461688995361328,42.449119567871094,38.296966552734375,-69.00096893310547,18.23183822631836,-18.726730346679688,15.681044578552246,-11.346368789672852,10.648283958435059,12.577037811279297,23.51504135131836,-42.84733581542969,-14.886021614074707,-40.41998291015625,49.93320846557617,-17.047893524169922,-40.47288513183594,13.27165412902832,-17.137939453125,35.67706298828125,-44.204566955566406,11.902817726135254,29.274023056030273,-20.886402130126953,21.630151748657227,10.417667388916016,27.773042678833008,22.94278907775879,14.008637428283691,35.375816345214844,-22.463035583496094,-23.295141220092773,-17.470661163330078,-15.203089714050293,-10.589861869812012,4.433734893798828,-60.31544494628906,-2.853463649749756,2.9922285079956055,-5.861297130584717,-45.80664825439453,-12.889861106872559,-43.29317855834961,-50.38822937011719,1.3788131475448608,52.66862487792969,2.303385019302368,12.664891242980957,7.541690349578857,16.522226333618164,6.177019119262695,-17.1860408782959,-5.2591376304626465,-8.720905303955078,17.45561408996582,21.22176170349121,-7.8936238288879395,-7.400509357452393,-42.24892044067383,4.609015941619873,-39.7154655456543,-44.39655303955078,-5.862590789794922,-7.882747173309326,-14.867389678955078,19.755569458007812,4.842893600463867,-47.099796295166016,47.06675720214844,-8.516502380371094,-9.660699844360352,27.849994659423828,39.4727783203125,-21.919824600219727,1.150765061378479,17.23291015625,43.2302360534668,-48.03425598144531,0.6558599472045898,25.878616333007812,-58.20945739746094,7.940639019012451,4.445115566253662,-42.16309356689453,51.942840576171875,-32.350860595703125,-40.803592681884766,1.259148120880127,12.63137435913086,-11.875051498413086,-8.557479858398438,-73.17228698730469,-0.850470781326294,-4.412838935852051,-3.7747373580932617,-60.2493782043457,-24.9743709564209,19.625568389892578,12.531523704528809,-37.96440505981445,12.723429679870605,-44.66707229614258,-8.864279747009277,15.567472457885742,43.69953155517578,-6.531880855560303,11.536327362060547,29.70751190185547,13.865551948547363,-10.842400550842285,8.615159034729004,13.31269359588623,22.29558753967285,-17.081575393676758,18.86652374267578,9.225570678710938,-23.110580444335938,28.272775650024414,10.796640396118164,-1.2701438665390015,49.22372055053711,-66.31330871582031,47.70439529418945,-14.57889461517334,-4.920393943786621,-14.311153411865234,0.03641209751367569,16.604278564453125,-42.59684371948242,7.93438720703125,-60.36043930053711,-8.861669540405273,51.10698699951172,51.227848052978516,-17.822750091552734,-12.88095760345459,-8.347362518310547,-24.095829010009766,-0.38322320580482483,11.366793632507324,-45.42431640625,48.74435043334961,-11.65707778930664,-13.9435453414917,20.107032775878906,22.212604522705078,-14.5252103805542,14.837896347045898,-9.743165969848633,-9.735264778137207,-10.980779647827148,-60.3232536315918,-19.36092185974121,-66.62013244628906,5.8053765296936035,-75.07683563232422,26.221689224243164,-9.759801864624023,12.382603645324707,-48.08078384399414,-39.08930206298828,-34.41883850097656,16.903610229492188,-20.387889862060547,-14.227152824401855,0.7180643081665039,-11.539830207824707,14.83491325378418,31.44026756286621,-69.3167495727539,-13.157893180847168,9.257752418518066,19.24063491821289,54.5798225402832,19.520763397216797,9.108028411865234,-10.601408958435059,18.22657585144043,36.30458068847656,13.365097045898438,-74.5111083984375,-20.6464786529541,7.134072780609131,12.837427139282227,23.64645767211914,77.61688995361328,-15.843948364257812,16.690181732177734,-8.9453125,73.17900085449219,-41.93891906738281,18.431108474731445,46.84431457519531,-17.27750015258789,-43.52505111694336,76.3096923828125,15.143755912780762,-13.730623245239258,-2.4541072845458984,49.690216064453125,31.19455909729004,16.271488189697266,-9.102591514587402,-14.912210464477539,-1.3122092485427856,-55.38506317138672,-22.06475830078125,-15.901374816894531,-46.309120178222656,41.04146194458008,27.515331268310547,10.884390830993652,-0.925005316734314,-48.047603607177734,20.220062255859375,13.951128959655762,-11.722129821777344,-12.685887336730957,22.351503372192383,73.8175048828125,21.00509262084961,-18.289199829101562,39.48457336425781,-0.4836133122444153,12.158712387084961,9.919337272644043,-0.6347499489784241,-68.90635681152344,72.76738739013672,8.272165298461914,-44.84575271606445,-9.820887565612793,8.89728832244873,73.2735595703125,9.287156105041504,-49.33860778808594,10.862198829650879,-22.887989044189453,28.723783493041992,27.79416847229004,47.36668395996094,25.72749137878418,-43.35301208496094,-3.7288174629211426,14.013786315917969,-29.970781326293945,-1.7501145601272583,-2.338289499282837,28.041471481323242,15.30010986328125,25.863855361938477,-34.089542388916016,0.6962473392486572,2.5804646015167236,74.80479431152344,16.710886001586914,-14.77783489227295,-9.885149002075195,-42.254634857177734,-18.054950714111328,-35.53212356567383,-34.09955596923828,-41.89051055908203,-31.817556381225586,49.462852478027344,12.55108642578125,20.09303092956543,1.299499273300171,20.822351455688477,16.23671531677246,-20.061365127563477,-8.154687881469727,13.826784133911133,6.369787693023682,-49.445613861083984,14.057114601135254,20.399072647094727,-2.4863882064819336,51.47172927856445,-33.631019592285156,14.456718444824219,11.076542854309082,-3.7006826400756836,-14.625515937805176,18.003339767456055,-20.129369735717773,-45.47792053222656,-22.281436920166016,16.71672248840332,43.989200592041016,-47.995426177978516,16.27668571472168,-8.614208221435547,23.016345977783203,9.903365135192871,-44.29619598388672,-8.912760734558105,9.740006446838379,11.937909126281738,-37.11791229248047,-14.439855575561523,30.551998138427734,-59.33118438720703,72.96684265136719,-44.297203063964844,6.238278388977051,-23.688480377197266,72.98458862304688,-2.0743987560272217,7.232947826385498,-43.855953216552734,-74.244140625,10.652685165405273,12.362930297851562,-17.598125457763672,-1.3767257928848267,10.872422218322754,-17.240060806274414,-48.000038146972656,-2.1241838932037354,-32.1955680847168,14.615376472473145,12.867899894714355,73.37403106689453,8.32709789276123,-16.446813583374023,74.38532257080078,-16.515731811523438,-16.27103614807129,-33.31977081298828,47.00876235961914,0.8312305212020874,-64.19245147705078,-1.9600086212158203,-15.062281608581543,51.5413932800293,1.6896283626556396,-0.819360613822937,-9.238158226013184,-50.208465576171875,-14.439004898071289,24.39328384399414,-22.36963653564453,-44.02647399902344,-15.550228118896484,-22.162485122680664,13.250130653381348,31.773378372192383,-32.204505920410156,-12.587592124938965,11.92247486114502,9.366562843322754,53.34866714477539,-1.2156840562820435,19.205110549926758,-22.095226287841797,-3.3443448543548584,-3.1069421768188477,-67.8784408569336,-11.783477783203125,16.738582611083984,43.36614990234375,18.825164794921875,-48.033660888671875,-46.99020004272461,-69.45623016357422,8.72810173034668,18.918214797973633,-69.2217025756836,22.748798370361328,19.542999267578125,19.944604873657227,-33.16218185424805,10.812690734863281,50.51247787475586,42.66176986694336,-58.063621520996094,-7.5688252449035645,53.39513397216797,19.04222869873047,46.803077697753906,14.613914489746094,-39.98577880859375,-47.35909652709961,-0.04434094578027725,43.19245910644531,-40.349605560302734,11.21408462524414,9.267562866210938,16.208404541015625,16.71974754333496,74.55388641357422,-4.5121893882751465,10.773550987243652,24.886432647705078,14.323823928833008,11.367759704589844,22.116743087768555,-18.89101219177246,-3.0043933391571045,-67.60166931152344,46.78330993652344,51.14754104614258,26.19996452331543,27.352262496948242,10.543167114257812,11.570513725280762,-74.17402648925781,-16.64200210571289,19.491107940673828,30.341035842895508,-66.38571166992188,-7.800051689147949,-17.564796447753906,-15.057806968688965,-56.82124710083008,9.218215942382812,0.7992787957191467,-30.736392974853516,-19.17698097229004,11.243465423583984,-0.6584227681159973,-67.73949432373047,11.123441696166992,18.12117576599121,-45.69025421142578,-13.226776123046875,-17.251415252685547,-46.16242218017578,-15.585521697998047,-9.72065544128418,-48.97002029418945,-5.572013854980469,12.505784034729004,15.691642761230469,21.644189834594727,-42.19346237182617,-60.086639404296875,7.625126361846924,-7.209774971008301,-13.210512161254883,-9.390069007873535,-6.164117813110352,-13.94354248046875,-63.414886474609375,19.66445541381836,29.510135650634766,40.29676055908203,22.263010025024414,12.011246681213379,73.5103530883789,-14.751744270324707,-3.8387787342071533,-12.159400939941406,-6.012922286987305,48.03242492675781,-13.793596267700195,-5.31097936630249,-17.187074661254883,-11.732560157775879,-10.734651565551758,-0.23162512481212616,-69.21733093261719,6.453853607177734,-14.203385353088379,-33.37628173828125,3.783137798309326,38.72724914550781,-73.59402465820312,-46.18098831176758,-6.293198585510254,17.543811798095703,50.60853576660156,-8.594139099121094,12.851293563842773,10.00357723236084,-21.464750289916992,-7.960797309875488,-30.93572235107422,16.37887954711914,31.101930618286133,5.294183254241943,-68.68387603759766,4.861398696899414,12.484956741333008,11.595523834228516,15.408090591430664,-1.0992636680603027,2.5144524574279785,8.853799819946289,-67.11428833007812,13.101101875305176,4.686463356018066,-39.33222961425781,-60.35811996459961,-31.748472213745117,-50.852088928222656,-41.94146728515625,-42.521297454833984,8.602025032043457,13.877684593200684,-45.9136848449707,-4.638416767120361,5.4275736808776855,-31.402992248535156,23.149715423583984,15.466827392578125,9.297842025756836,-20.239160537719727,-48.70569610595703,-44.299407958984375,41.419158935546875,47.941749572753906,19.687755584716797,17.819910049438477,-49.144588470458984,9.106270790100098,-5.590852737426758,0.6696051359176636,30.88135528564453,-15.166159629821777,29.334815979003906,14.874837875366211,24.500370025634766,20.16225242614746,8.25894546508789,27.84968376159668,51.20289993286133,29.58441162109375,2.878241539001465,16.858083724975586,77.63202667236328,13.665998458862305,15.167000770568848,-2.745729684829712,-34.76682662963867,-5.603618144989014,6.235038757324219,14.472896575927734,14.759607315063477,-6.1082916259765625,-2.3598928451538086,19.374637603759766,12.949470520019531,9.08758544921875,-19.283199310302734,12.235600471496582,-17.139711380004883,-23.59539794921875,-31.83766746520996,29.796113967895508,6.430332183837891,-19.432418823242188,52.31369400024414,4.6710028648376465,20.179353713989258,-15.359267234802246,-14.446590423583984,-13.493287086486816,-67.93800354003906,49.15968704223633,30.1171875,30.865320205688477,-49.54006576538086,28.713830947875977,-6.078988552093506,18.326366424560547,-9.077235221862793,-0.9231284856796265,0.9594748616218567,9.696517944335938,46.88856506347656,1.8091236352920532,19.33403778076172,-20.684436798095703,1.9284628629684448,7.239361763000488,6.7302961349487305,-1.8489232063293457,10.86111831665039,27.150390625,52.065757751464844,8.793822288513184,25.366491317749023,15.630661010742188,-12.3796968460083,46.871395111083984,14.440089225769043,30.32620620727539,-3.071010112762451,74.16481018066406,-68.73159790039062,4.491281986236572,-9.256359100341797,5.082403182983398,-25.795337677001953,48.766727447509766,-8.758122444152832,17.582365036010742,47.82019805908203,-10.943034172058105,11.407368659973145,10.78481388092041,11.685859680175781,-44.286407470703125,-5.806039333343506,24.592756271362305,-40.68844223022461,78.77910614013672,-1.4463070631027222,50.88970184326172,31.14655876159668,-21.849773406982422,-67.60804748535156,-23.21202850341797,-5.655797481536865,-4.336175441741943,12.35098648071289,-8.497904777526855,13.491287231445312,29.19000816345215,-2.3667404651641846,-15.052062034606934,-40.961551666259766,-61.46128463745117,-13.286357879638672,-66.90422058105469,-60.242950439453125,47.01105499267578,4.2967848777771,47.58608627319336,-31.922760009765625,-13.645751953125,-33.83543395996094,11.46804428100586,2.1503658294677734,-11.865585327148438,-6.364602088928223,9.612092971801758,-56.84664535522461,2.2013092041015625,-9.643043518066406,-33.009620666503906,13.253558158874512,-3.4649343490600586,-57.0263671875,20.062959671020508,22.713518142700195,-59.77850341796875,-2.987163782119751,-63.37928009033203,-47.347007751464844,24.691205978393555,48.34367370605469,12.16766357421875,16.844261169433594,8.084918022155762,12.069336891174316,15.563166618347168,18.3428897857666,15.46170711517334,-13.163471221923828,-14.866495132446289,11.546380996704102,-68.23616027832031,9.225956916809082,22.132007598876953,50.8848876953125,-16.400575637817383,-14.701952934265137,46.803794860839844,-11.579780578613281,-67.92369079589844,7.686305046081543,36.96751403808594,-13.316628456115723,26.395742416381836,51.450904846191406,6.172944068908691,-15.60879135131836,-10.510435104370117,16.485450744628906,-17.57314682006836,13.861405372619629,0.7794121503829956,51.48781204223633,23.222103118896484,-67.68641662597656,38.730384826660156,-55.532535552978516,6.245438575744629,47.819732666015625,-1.4215561151504517,-9.98973274230957,-11.798664093017578,15.348695755004883,-17.275495529174805,43.84798812866211,25.41565704345703,-33.7411003112793,23.169645309448242,-69.07533264160156,7.677465915679932,15.944052696228027,-21.841262817382812,-4.178752899169922,-58.111793518066406,-3.0966198444366455,-14.841963768005371,23.697954177856445,-12.99768352508545,7.542035102844238,-10.814193725585938,-3.756010055541992,-69.37443542480469,41.41030502319336,-6.653353691101074,-3.7096035480499268,-19.7735595703125,28.885683059692383,12.919170379638672,-62.665740966796875,-74.53968048095703,74.38626861572266,-31.26541519165039,13.505430221557617,-17.052867889404297,16.555444717407227,17.74353790283203,-8.576445579528809,-10.324685096740723,-46.25178527832031,-15.462211608886719,50.66266632080078,-4.977602958679199,-75.13420867919922,-50.78703689575195,25.593379974365234,5.488282203674316,27.354368209838867,9.652512550354004,21.500715255737305,14.112784385681152,10.020208358764648,-5.034816741943359,-5.157734394073486,-46.167659759521484,-12.028488159179688,52.34275436401367,-10.332310676574707,8.594986915588379,24.633459091186523,16.031240463256836,43.643760681152344,-15.703660011291504,-11.076909065246582,-15.946305274963379,-1.5744482278823853,-17.676239013671875,-74.80925750732422,-1.1295626163482666,-10.197253227233887,49.93400192260742,22.653635025024414,15.039027214050293,10.717183113098145,26.804719924926758,8.57511043548584,16.799612045288086,11.840389251708984,-74.84072875976562,0.3089185655117035,16.811649322509766,11.627762794494629,-48.1878547668457,-33.890586853027344,29.839811325073242,-11.46794319152832,0.26771876215934753,20.973045349121094,-15.90207290649414,21.441118240356445,47.61139678955078,23.522056579589844,-6.215944766998291,9.71986198425293,21.57776641845703,-49.587196350097656,19.780078887939453,46.99653625488281,-13.768366813659668,9.080677032470703,75.09738159179688,21.47039222717285,17.66453742980957,12.423303604125977,-11.343063354492188,23.400972366333008,35.78688430786133,-35.63612365722656,8.54965877532959,5.143278121948242,-5.68666410446167,-62.83362579345703,21.445693969726562,17.384540557861328,12.243196487426758,-23.407520294189453,-22.614103317260742,30.784149169921875,8.98669719696045,-9.547585487365723,-67.95874786376953,-39.00270462036133,47.81337356567383,11.634794235229492,6.162503719329834,-12.045633316040039,4.068874835968018,7.368514537811279,2.9680657386779785,19.243728637695312,-14.925244331359863,-2.610368490219116,-18.024682998657227,30.053197860717773,-34.82369613647461,16.8720703125,0.2629712224006653,-3.0043418407440186,-34.094486236572266,29.94853973388672,2.6063170433044434,-5.055619716644287,22.65975570678711,-12.095412254333496,23.769306182861328,-39.688438415527344,30.30101776123047,21.74493408203125,-39.23435592651367,-66.43557739257812,19.286518096923828,11.523029327392578,-50.01678466796875,-16.809776306152344,-14.889015197753906,-45.05855941772461,-11.960840225219727,-57.782711029052734,-69.8448257446289,73.3985824584961,30.37193489074707,-9.15263843536377,-2.1585962772369385,43.371116638183594,-11.193907737731934,16.78476333618164,3.5656731128692627,-17.566566467285156,1.2427361011505127,-12.120312690734863,-68.8725357055664,2.495032787322998,-65.21852111816406,-13.963835716247559,-11.859170913696289,13.863779067993164,16.673828125,-3.4280142784118652,10.503326416015625,13.427618980407715,14.177083969116211,17.93132209777832,48.07210922241211,-16.832021713256836,-17.317047119140625,13.120269775390625,-25.140932083129883,-16.408050537109375,-4.286798477172852,29.350141525268555,-15.206246376037598,3.538039445877075,16.345796585083008,52.295143127441406,11.621045112609863,-57.09690475463867,-10.301437377929688,-11.264263153076172,24.931190490722656,-69.27964782714844,75.1321792602539,-59.669246673583984,50.85773468017578,-12.5669584274292,-13.53935432434082,-38.0195198059082,-9.12585735321045,-74.64443969726562,6.771071910858154,-11.57683277130127,-8.359665870666504,19.09966468811035,-22.081716537475586,-15.900877952575684,0.1279233694076538,15.04894733428955,22.564411163330078,-43.24913787841797,-68.1117935180664,-0.4283945560455322,25.635374069213867,4.454423427581787,27.354293823242188,46.9369010925293,-22.281618118286133,29.361772537231445,26.38920783996582,13.60773754119873,15.900046348571777,-45.2191276550293,8.723514556884766,22.154205322265625,-17.980060577392578,-73.32490539550781,-18.549854278564453,-17.46274185180664,-41.00468444824219,14.325315475463867,-18.567758560180664,-75.23810577392578,-38.01982498168945,-16.756559371948242,-38.23444747924805,-1.0581141710281372,30.878721237182617,-10.981882095336914,10.604243278503418,-57.091976165771484,14.639095306396484,4.340166091918945,-46.16153335571289,-10.073345184326172,21.116121292114258,30.66899299621582,-11.020598411560059,-46.12068176269531,6.793456077575684,1.155068039894104,-16.392160415649414,19.739131927490234,16.587968826293945,-49.00077819824219,2.707638740539551,-0.222824826836586,14.279224395751953,18.671815872192383,-23.26123809814453,75.19148254394531,-42.71394348144531,12.282631874084473,-6.824616432189941,-30.77842140197754,-10.234688758850098,20.483394622802734,3.9904327392578125,8.043585777282715,-11.000920295715332,-15.693368911743164,23.146156311035156,48.07106399536133,0.8504770994186401,-14.31803035736084,-14.888875961303711,-69.48957824707031,0.8191969990730286,5.017948627471924,14.77802562713623,18.155174255371094,10.133613586425781,29.818357467651367,16.093698501586914,-5.135918617248535,16.876630783081055,10.779704093933105,26.22257423400879,9.967123985290527,73.25730895996094,15.34582805633545,-2.1141769886016846,-8.894590377807617,-11.84885025024414,-57.59577941894531,-16.588420867919922,21.973514556884766,-69.67731475830078,-16.21653175354004,19.968782424926758,22.99330711364746,1.1537152528762817,-15.398137092590332,15.66540813446045,15.641677856445312,16.91111183166504,-0.557984471321106,-42.11847686767578,22.77045440673828,3.2619469165802,49.462955474853516,46.95074462890625,52.041053771972656,-15.572388648986816,-74.966796875,-12.575715065002441,48.7713737487793,17.855693817138672,20.804637908935547,-73.62091064453125,28.514019012451172,-6.824790000915527,15.259671211242676,-10.233779907226562,18.982751846313477,-51.084896087646484,30.38190460205078,16.631690979003906,-13.94332504272461,73.69524383544922,6.411231994628906,18.710464477539062,-8.19491195678711,46.908042907714844,-16.87047004699707,13.464991569519043,78.01264190673828,16.992725372314453,76.3296890258789,9.107539176940918,3.750897169113159,22.57238006591797,-9.282015800476074,10.857166290283203,-34.63324737548828,28.787355422973633,28.235755920410156,75.68486022949219,-4.884485244750977,-39.84088897705078,14.572240829467773,-16.25726890563965,28.219907760620117,47.58863067626953,75.70378112792969,12.334132194519043,23.368898391723633,15.837486267089844,51.35054397583008,1.5212323665618896,8.630037307739258,-14.889856338500977,0.03531058132648468,-12.592405319213867,5.965917587280273,-47.1071891784668,31.068126678466797,-6.011506080627441,-14.87750244140625,-12.243151664733887,4.984181880950928,8.295360565185547,18.008283615112305,23.358642578125,26.882150650024414,-10.234171867370605,8.494389533996582,7.04021692276001,-8.740946769714355,-23.47905921936035,-45.58891677856445,74.4586410522461,29.314828872680664,27.19947624206543,-3.430715799331665,-45.36965560913086,-13.177845001220703,-21.18482780456543,-8.482495307922363,-2.95151424407959,-18.7752628326416,2.995729923248291,-13.694162368774414,-44.37180709838867,47.03091049194336,29.31325912475586,-67.89289093017578,-74.93636322021484,-15.805493354797363,11.59315299987793,-58.300010681152344,-5.521858215332031,-12.249001502990723,50.48717498779297,-9.486055374145508,7.346498966217041,-75.11625671386719,13.595181465148926,-7.458555698394775,-49.10286331176758,50.20612335205078,14.64002513885498,-14.401276588439941,-11.517455101013184,12.374902725219727,-4.519983768463135,-66.6884765625,30.301536560058594,-47.10322189331055,-21.898666381835938,-19.122114181518555,21.387853622436523,2.6651556491851807,-19.264806747436523,1.0112481117248535,-6.073160648345947,-2.078737497329712,-10.506860733032227,-19.33411407470703,-11.25147533416748,-5.820005416870117,3.961489677429199,8.092777252197266,-20.82182502746582,-9.110444068908691,27.78972816467285,11.37431526184082,-38.447139739990234,51.496070861816406,-24.19219970703125,46.79829025268555,-17.850685119628906,0.4755287766456604,-2.9272732734680176,-58.08372497558594,5.402733325958252,-30.701324462890625,11.610136032104492,12.976785659790039,-13.172934532165527,9.836952209472656,2.0643179416656494,-38.42723083496094,-12.051351547241211,4.097050666809082,-34.81196594238281,-13.046012878417969,-13.943143844604492,-59.724002838134766,18.77495002746582,50.009796142578125,-10.149418830871582,4.5853400230407715,13.037505149841309,-59.908111572265625,25.954269409179688,-61.49623107910156,-11.794792175292969,1.0253223180770874,47.096649169921875,16.533830642700195,15.42856216430664,18.924362182617188,15.277107238769531,-2.4576284885406494,29.96552848815918,-62.83501434326172,15.146114349365234,-7.5464677810668945,7.405198574066162,14.335187911987305,4.929884433746338,19.140853881835938,-47.45878601074219,-13.952729225158691,23.67142677307129,26.807828903198242,13.938433647155762,-8.963491439819336,-30.797956466674805,21.296499252319336,-21.43642234802246,-33.33177947998047,19.653751373291016,-1.3484516143798828,-9.620363235473633,-37.6668701171875,14.618298530578613,-21.679044723510742,22.694889068603516,20.69422149658203,22.306333541870117,0.8577824831008911,-4.7123188972473145,-14.76357650756836,16.742944717407227,52.039981842041016,-42.538455963134766,-7.230188846588135,5.223632335662842,-34.72157287597656,11.760116577148438,-21.96168327331543,-1.1910672187805176,-16.350900650024414,-17.714590072631836,77.30633544921875,-38.214908599853516,-48.7905387878418,-2.522782325744629,-42.31173324584961,28.06358528137207,-35.587284088134766,21.49659538269043,-0.7741143107414246,31.93132781982422,7.242827415466309,-1.093950867652893,8.320342063903809,0.24625378847122192,49.198665618896484,51.471736907958984,-22.57742691040039,49.21603012084961,-6.284625053405762,-69.33061218261719,-11.571579933166504,-12.50212574005127,-4.373455047607422,-34.267879486083984,26.818517684936523,-30.952030181884766,19.722301483154297,-17.318878173828125,27.720312118530273,-16.29649543762207,-11.038352966308594,7.834446907043457,11.632818222045898,47.0113639831543,20.59724998474121,24.773414611816406,-65.52979278564453,14.703824996948242,-15.670639038085938,-33.72932815551758,-37.77787399291992,11.710716247558594,-44.000267028808594,14.458927154541016,-66.46958923339844,-59.34038162231445,-4.547859191894531,11.864788055419922,14.554298400878906,25.312454223632812,18.95016860961914,-5.346570014953613,6.251280784606934,-67.08041381835938,9.034698486328125,-2.280649185180664,-11.076963424682617,-11.311714172363281,15.414691925048828,-14.901816368103027,8.285822868347168,31.041337966918945,-11.029377937316895,0.10282465815544128,-45.94415283203125,-8.391529083251953,-7.901821613311768,-65.53419494628906,-69.55225372314453,-32.31128692626953,7.379604339599609,-15.261898040771484,-17.09531021118164,26.09056282043457,-17.801380157470703,-56.63282775878906,47.72511672973633,25.167036056518555,-14.46992301940918,-31.207826614379883,-12.024080276489258,20.215618133544922,-0.3447318971157074,24.578746795654297,14.861688613891602,75.71510314941406,-1.6940381526947021,-33.10701370239258,21.183887481689453,50.573604583740234,28.731475830078125,-61.48713684082031,25.85221290588379,28.161975860595703,31.08318328857422,23.561119079589844,1.6831837892532349,-25.513015747070312,77.45927429199219,24.176382064819336,3.7649331092834473,-45.926937103271484,-0.4447975158691406,-49.01408386230469,-43.312477111816406,0.7660458087921143,-11.772968292236328,28.62122344970703,46.79811477661133,-11.406253814697266,47.449710845947266,-18.34977149963379,-25.277868270874023,10.624528884887695,-13.907844543457031,24.0882511138916,-18.09869384765625,4.437869071960449,-33.63689041137695,27.544328689575195,-8.527915000915527,11.225375175476074,-17.028888702392578,-5.161813735961914,31.07724380493164,-14.439336776733398,21.858562469482422,-51.4377326965332,11.180418014526367,-68.90755462646484,7.579523086547852,-10.694605827331543,-14.534088134765625,-9.463156700134277,-5.277184963226318,-6.304980754852295,-11.616782188415527,52.04466247558594,12.661434173583984,22.10907745361328,0.3006654977798462,11.653594017028809,-13.043614387512207,47.59690856933594,19.223955154418945,17.332454681396484,16.542478561401367,-22.334678649902344,2.4880642890930176,-12.77444076538086,-16.76775360107422,22.591543197631836,22.33817481994629,28.541858673095703,-69.75829315185547,11.778801918029785,-11.557038307189941,6.659945964813232,15.769843101501465,-13.702746391296387,-12.555805206298828,-18.66383171081543,-0.5807898640632629,-5.368122577667236,-37.141815185546875,-3.6441051959991455,-9.01033878326416,75.48477172851562,-14.73875617980957,-43.360435485839844,25.753948211669922,-31.398258209228516,-4.08026647567749,9.980152130126953,-12.384198188781738,-1.0763667821884155,-42.5416259765625,28.01350975036621,-42.86920928955078,9.299836158752441,12.178604125976562,-43.5386962890625,12.463476181030273,52.2962532043457,-34.636077880859375,22.30919647216797,-18.241788864135742,-73.6998062133789,46.83717727661133,51.00822448730469,28.567758560180664,6.56231689453125,17.593185424804688,28.836578369140625,10.451839447021484,-12.283527374267578,-1.0918939113616943,-45.83668899536133,48.5797233581543,-65.45008850097656,-17.873239517211914,-20.279199600219727,-50.20574188232422,-14.792901039123535,7.997961521148682,11.636953353881836,-16.221582412719727,-4.433137893676758,16.955976486206055,15.134767532348633,-55.53290557861328,9.888162612915039,-14.912911415100098,-22.853418350219727,-9.634237289428711,-7.188344478607178,47.94140625,-1.858694314956665,0.5108867883682251,23.517988204956055,20.33846092224121,50.88400650024414,4.7846293449401855,-1.960640788078308,10.011401176452637,-13.66135025024414,35.04671096801758,-6.576037883758545,16.875932693481445,78.14834594726562,-11.099288940429688,-4.427577018737793,-33.839439392089844,15.862676620483398,-34.003875732421875,-4.76409387588501,10.299057006835938,-5.172813415527344,24.518577575683594,75.46221923828125,18.009763717651367,12.181524276733398,-39.657501220703125,-7.88873815536499,-67.71269226074219,-7.678078651428223,36.566917419433594,28.724422454833984,27.839935302734375,8.137374877929688,25.162996292114258,0.046981483697891235,34.65543746948242,-69.68436431884766,19.098007202148438,-1.3019232749938965,-10.60995864868164,-27.970062255859375,-49.09401321411133,-15.0382080078125,-15.804471015930176,50.76535415649414,16.495573043823242,-37.55863952636719,-16.101083755493164,-18.40949249267578,6.413434982299805,18.74128532409668,-1.907326102256775,50.571197509765625,-7.281410217285156,-25.22460174560547,17.140684127807617,18.420896530151367,-43.68696975708008,20.13981056213379,2.3287718296051025,8.715980529785156,-5.346524715423584,75.72783660888672,-58.17178726196289,-55.29420852661133,-11.603412628173828,27.33018684387207,35.67728805541992,-14.817853927612305,46.839168548583984,11.740668296813965,-48.183284759521484,-11.153975486755371,14.153654098510742,-40.2869987487793,-9.110946655273438,10.00444221496582,-15.241201400756836,-70.49227142333984,19.406343460083008,14.53576946258545,-3.6573731899261475,-37.50541305541992,-18.595722198486328,36.3101921081543,-16.42007827758789,9.11945915222168,-49.74380874633789,-15.010018348693848,-14.529413223266602,77.33158874511719,31.002050399780273,-9.61834716796875,0.913468599319458,16.193471908569336,-40.82453536987305,-9.554235458374023,-5.387501239776611,51.998958587646484,-21.27909278869629,-13.889090538024902,12.326294898986816,4.621431827545166,23.56085205078125,36.32933807373047,0.7691273093223572,-42.80858612060547,-35.9725341796875,-67.00348663330078,46.79905319213867,-68.9679183959961,13.865062713623047,-13.290095329284668,38.76336669921875,25.667179107666016,42.316917419433594,4.837488174438477,-19.84503936767578,21.089506149291992,-8.760405540466309,-3.252312183380127,78.00567626953125,-31.805835723876953,-14.69435977935791,-8.507970809936523,-13.936949729919434,8.874164581298828,52.06065368652344,-33.21321105957031,-66.8286361694336,39.4612922668457,-12.183202743530273,30.300960540771484,-6.483798980712891,3.9621496200561523,15.58205795288086,-2.116577625274658,-2.608905792236328,-14.867066383361816,-12.10097885131836,-16.273887634277344,19.087251663208008,46.908042907714844,15.378326416015625,-32.78526306152344,30.66748046875,51.597625732421875,-12.236882209777832,-62.874298095703125,11.775299072265625,7.2206315994262695,18.678741455078125,3.3935606479644775,7.07041597366333,26.36231803894043,-17.260665893554688,-1.4691799879074097,39.879364013671875,-35.08247375488281,-8.481477737426758,-66.4337158203125,-12.213613510131836,-6.420459747314453,51.59751510620117,2.9435973167419434,-4.832704544067383,-5.981467247009277,3.133786916732788,2.0694122314453125,-9.551288604736328,15.790397644042969,24.76224708557129,29.65199089050293,-24.352066040039062,14.518064498901367,-40.95293426513672,16.840192794799805,2.451610565185547,17.452312469482422,5.85650110244751,51.10789108276367,4.842875003814697,-6.009087562561035,3.577476978302002,1.8258838653564453,-14.464493751525879,49.46470642089844,-8.876964569091797,47.151283264160156,-22.20409393310547,29.303569793701172,-49.2164192199707,50.721923828125,50.4014892578125,19.708499908447266,11.423297882080078,24.346948623657227,16.58143424987793,23.29771614074707,-73.91134643554688,-2.4513347148895264,-22.402807235717773,-14.098869323730469,-49.560691833496094,27.99290657043457,-5.201773166656494,-13.930421829223633,-10.507875442504883,4.77939510345459,5.548159599304199,11.12196159362793,-23.678133010864258,25.716333389282227,-2.6157119274139404,39.25,-4.5731000900268555,7.068302631378174,20.272783279418945,-18.05054473876953,29.450176239013672,28.99565887451172,-75.01078033447266,52.073829650878906,-40.18365478515625,2.9466071128845215,-44.07886505126953,-4.060186386108398,-33.8621940612793,50.67106246948242,-18.10444450378418,19.73310661315918,25.925689697265625,28.063644409179688,26.384368896484375,46.84783935546875,-12.127251625061035,-48.18682098388672,-10.291470527648926,14.588146209716797,9.719355583190918,-49.843223571777344,52.01369857788086,75.47693634033203,-40.7001953125,48.307613372802734,21.224103927612305,16.155410766601562,17.558961868286133,-21.550142288208008,26.219036102294922,18.6051082611084,-8.87743854522705,52.01500701904297,-1.9679787158966064,-58.21769714355469,-39.757015228271484,72.7431869506836,-3.5634944438934326,77.16325378417969,77.53288269042969,-38.37630844116211,23.695232391357422,50.438724517822266,23.796707153320312,-2.1553666591644287,28.957237243652344,-16.164413452148438,46.80903625488281,23.008453369140625,-33.00446701049805,-5.8115315437316895,19.2614803314209,-14.73129653930664,-14.80534839630127,46.82304763793945,-4.494290828704834,36.33879089355469,-72.96526336669922,-10.377943992614746,6.889105796813965,11.055761337280273,-7.189450263977051,9.573476791381836,-48.7044563293457,-15.11585807800293,5.599127292633057,16.745704650878906,-17.437904357910156,-41.87599182128906,-55.34229278564453,-22.549558639526367,47.9384651184082,-14.029651641845703,-33.2605094909668,21.817855834960938,-30.1575927734375,-10.105372428894043,-43.13694381713867,50.920936584472656,-3.201359748840332,12.933037757873535,30.121225357055664,-18.7905330657959,-46.42512893676758,-33.746925354003906,8.329731941223145,8.0853910446167,-5.445275783538818,38.29607391357422,0.2909136116504669,11.370595932006836,-1.4595907926559448,-42.024314880371094,-18.306638717651367,23.793785095214844,16.735586166381836,-3.2477173805236816,15.612944602966309,-7.162220001220703,18.2822265625,6.105014324188232,0.18641288578510284,15.30158805847168,-58.12685775756836,-4.399641513824463,-3.3377299308776855,29.255300521850586,-10.737065315246582,-14.520105361938477,-5.889249801635742,-22.057279586791992,1.2230039834976196,15.3184814453125,12.679717063903809,29.882904052734375,-17.197551727294922,-21.703081130981445,47.0224723815918,8.955848693847656,73.88076782226562,19.716705322265625,47.12667465209961,-10.234696388244629,13.864096641540527,25.237619400024414,0.5518684983253479,31.621788024902344,28.556507110595703,6.646302223205566,2.205838918685913,-1.531508207321167,-29.231679916381836,20.02183723449707,-19.736982345581055,-13.058259010314941,43.82691192626953,-42.011470794677734,75.46153259277344,-2.4860641956329346,0.5670232176780701,-1.2986834049224854,9.838543891906738,3.430842161178589,12.332271575927734,-3.657269239425659,-33.00571823120117,-16.72504234313965,-74.63522338867188,-13.251778602600098,-39.00639343261719,16.38360023498535,12.291411399841309,-73.66777801513672,-5.513906002044678,3.1805474758148193,-17.268163681030273,-31.099729537963867,15.470538139343262,20.170419692993164,0.26156219840049744,-16.994871139526367,51.897274017333984,-14.770840644836426,-60.22429656982422,19.562898635864258,-68.5204849243164,-43.71461868286133,-37.707298278808594,-68.0327377319336,74.80780792236328,-14.799747467041016,-43.4641227722168,-11.877147674560547,-3.108232021331787,28.065601348876953,-63.36934280395508,-12.853720664978027,-58.270721435546875,46.814781188964844,-37.421539306640625,14.188080787658691,-12.75894546508789,29.486305236816406,-12.64876651763916,17.92096710205078,28.133203506469727,12.269095420837402,73.2292251586914,-20.38190269470215,-19.482532501220703,13.014610290527344,-1.9573438167572021,22.06067657470703,18.685209274291992,27.698463439941406,20.76581382751465,-16.436784744262695,-13.995049476623535,-3.976323366165161,-42.039554595947266,13.772493362426758,-10.36311149597168,-38.00375747680664,74.43780517578125,-11.344379425048828,-41.94904327392578,-45.66981887817383,-9.554102897644043,50.5647087097168,19.462614059448242,-14.479059219360352,47.639015197753906,8.246782302856445,17.702354431152344,22.712364196777344,12.651430130004883,-9.019603729248047,-17.655967712402344,32.55930709838867,51.47142791748047,-68.3735122680664,-44.98885726928711,25.900508880615234,2.41280460357666,-39.06663131713867,-18.60125732421875,46.988094329833984,-5.6170125007629395,16.0936222076416,2.0669105052948,-10.46058177947998,0.9517682790756226,49.2730827331543,-2.541116714477539,-3.6610238552093506,-15.468396186828613,17.830251693725586,16.261804580688477,18.594858169555664,-47.04128646850586,11.374565124511719,13.711091041564941,-37.00767135620117,-17.61244010925293,1.6813806295394897,21.41050910949707,25.346454620361328,3.9446346759796143,-49.61393737792969,12.7770357131958,-23.666078567504883,3.743478775024414,39.880859375,-43.115535736083984,-37.16139602661133,15.59887981414795,-4.578994274139404,4.560675144195557,-38.70028305053711,22.73217010498047,-12.754441261291504,-11.564472198486328,-62.59496307373047,28.69864845275879,-9.747096061706543,-0.09146155416965485,-10.457904815673828,11.619213104248047,46.90428924560547,-58.17744827270508,46.94988250732422,-1.7759437561035156,19.163694381713867,28.677330017089844,-28.2569580078125,74.17630767822266,16.281343460083008,-33.768978118896484,16.0937442779541,9.673260688781738,22.212486267089844,-14.595069885253906,6.188910961151123,17.07468605041504,-50.102657318115234,47.94091033935547,5.590027332305908,-14.319713592529297,15.140632629394531,51.896976470947266,-10.818013191223145,21.762889862060547,-62.59834289550781,24.389408111572266,7.965343952178955,-22.517194747924805,-68.61703491210938,-57.00117492675781,47.93852233886719,-0.5454517006874084,18.602811813354492,-5.7905802726745605,-33.91007614135742,-30.555784225463867,-46.8803825378418,-32.62959671020508,12.809385299682617,24.338239669799805,40.973812103271484,-33.951942443847656,12.821921348571777,31.807884216308594,1.973453164100647,18.1213436126709,-19.252710342407227,1.5245071649551392,-2.7950098514556885,12.150739669799805,-74.41474914550781,17.60352897644043,-58.745906829833984,46.8260383605957,9.136618614196777,-15.783872604370117,52.16791915893555,50.72133255004883,-42.95934295654297,-0.6657862663269043,-69.98410034179688,30.4005126953125,-6.790998458862305,23.263877868652344,-12.557719230651855,27.19280433654785,-14.319147109985352,25.60619354248047,-50.184730529785156,31.766510009765625,-34.1220703125,18.98948097229004,15.095970153808594,31.350452423095703,-10.121094703674316,1.5576461553573608,-17.554424285888672,25.6606388092041,-45.042320251464844,26.831729888916016,-7.15329647064209,73.50917053222656,19.195594787597656,31.184059143066406,12.591474533081055,-4.576049327850342,14.00550365447998,15.290602684020996,-10.870698928833008,20.15033531188965,-10.50834846496582,-3.9001739025115967,-16.71880340576172,26.547134399414062,0.8772863149642944,-10.904889106750488,8.084213256835938,-2.7904655933380127,49.2842903137207,5.344663143157959,25.841754913330078,4.5844011306762695,35.338523864746094,27.88297462463379,10.667207717895508,47.60137176513672,-4.114471435546875,-19.568143844604492,51.13740539550781,39.082115173339844,13.531228065490723,-67.69159698486328,-14.64004135131836,3.7910261154174805,-4.79306697845459,17.030738830566406,21.298147201538086,-73.0775375366211,-14.759979248046875,26.225040435791016,-15.934325218200684,-5.130680561065674,38.293025970458984,-34.2050895690918,47.54124450683594,26.221391677856445,75.72055053710938,6.805312156677246,-70.31366729736328,27.349964141845703,-13.764447212219238,17.23453140258789,29.996868133544922,0.3086981773376465,48.34904861450195,1.6339704990386963,-6.329063415527344,-33.20558166503906,-11.025895118713379,17.250669479370117,-55.532413482666016,51.28501892089844,17.272689819335938,13.599568367004395,73.18914031982422,-50.721370697021484,-20.425634384155273,72.91610717773438,13.510039329528809,-24.40622329711914,-56.634952545166016,23.372089385986328,-12.11237621307373,23.69561195373535,-66.82785034179688,16.999759674072266,-34.54096603393555,-15.77833080291748,11.858335494995117,42.31571578979492,-47.14137649536133,10.561985969543457,-42.712806701660156,-6.825233459472656,-21.32300567626953,72.79940795898438,-43.96538543701172,-60.06991195678711,13.324966430664062,-45.17494201660156,16.809680938720703,-9.237366676330566,-13.879752159118652,-42.82750701904297,42.195831298828125,17.30137825012207,38.293739318847656,2.9138269424438477,24.8609561920166,-18.355724334716797,52.038116455078125,12.857301712036133,49.48698806762695,21.811790466308594,-74.69475555419922,-4.96761417388916,19.646869659423828,11.02793025970459,26.166879653930664,28.501426696777344,-9.643757820129395,-16.407955169677734,13.620455741882324,-13.171178817749023,23.532926559448242,-25.787843704223633,51.2520637512207,74.90108489990234,-39.59675216674805,-13.43855094909668,12.17499828338623,-45.67168426513672,4.951099872589111,21.49974250793457,-16.263233184814453,47.932273864746094,-12.77143669128418,19.54340934753418,-14.841909408569336,-22.53877067565918,26.209888458251953,-35.0992546081543,-4.8019022941589355,-3.536242961883545,14.855199813842773,30.419519424438477,47.554847717285156,-1.491629719734192,-10.078696250915527,15.413374900817871,-45.93075942993164,-13.764384269714355,43.635711669921875,0.7129573822021484,9.804669380187988,-14.759164810180664,-18.068870544433594,-60.18267059326172,2.9389123916625977,15.54708194732666,-20.413436889648438,-39.96522903442383,0.9662892818450928,22.36420440673828,0.07938755303621292,48.30962371826172,48.81060791015625,16.779865264892578,-60.261104583740234,-74.98641204833984,-1.2029736042022705,18.814651489257812,7.245532512664795,-0.6788808703422546,14.8257474899292,12.974663734436035,73.9881362915039,-50.60552978515625,-40.323036193847656,-46.30781555175781,-44.18863296508789,10.482277870178223,-5.589501857757568,-23.41718864440918,29.926084518432617,26.09012794494629,-9.914039611816406,-16.607685089111328,28.335023880004883,5.247758865356445,-2.0944948196411133,-0.4847986400127411,16.383543014526367,72.7483139038086,3.740825653076172,11.418174743652344,-66.40069580078125,-22.287555694580078,-17.055274963378906,23.539840698242188,-19.32587432861328,21.32573699951172,-13.6920166015625,19.677276611328125,-6.14165735244751,-40.37697219848633,-43.685760498046875,50.753055572509766,28.019119262695312,46.79803466796875,30.811519622802734,21.569150924682617,1.5859277248382568,50.628238677978516,52.14546585083008,12.788064002990723,6.173058986663818,-33.76675796508789,35.06734848022461,-44.12800598144531,15.814857482910156,24.39519691467285,29.74340057373047,1.4746421575546265,18.276304244995117,23.136394500732422,-4.837268352508545,7.533517360687256,12.654122352600098,13.997949600219727,2.7815544605255127,-5.472498893737793,-69.23486328125,-69.4845962524414,-14.54605770111084,-34.050025939941406,-68.10887145996094,-38.324127197265625,15.414372444152832,-10.302699089050293,-11.511964797973633,-39.8913459777832,-18.443031311035156,11.508345603942871,9.554300308227539,51.054325103759766,-11.25318717956543,-5.107519149780273,21.09812355041504,17.496713638305664,-27.148530960083008,9.328351020812988,17.612735748291016,-19.8996639251709,15.731593132019043,54.58256149291992,-5.846407890319824,-21.408794403076172,46.95624542236328,14.460381507873535,18.775007247924805,9.461017608642578,43.99906921386719,21.7235050201416,-43.687660217285156,-59.76179885864258,-1.5003304481506348,51.25971603393555,-9.956884384155273,-31.967905044555664,1.9097263813018799,-32.317256927490234,12.487235069274902,15.49249267578125,-10.090813636779785,-8.347989082336426,0.9801245927810669,12.108184814453125,0.6288118958473206,29.33271026611328,78.5362548828125,0.99070805311203,-15.324158668518066,18.988449096679688,12.475567817687988,-43.6843147277832,0.22427578270435333,11.36902904510498,13.103711128234863,10.51268482208252,14.001644134521484,1.2451744079589844,-5.162457466125488,-43.581661224365234,11.686800956726074,-9.240890502929688,8.49300765991211,-9.641273498535156,34.66152572631836,1.5722814798355103,16.192733764648438,29.510995864868164,1.0153275728225708,21.81385612487793,-11.58020305633545,-44.28715133666992,77.45220947265625,-38.72776794433594,-14.868489265441895,9.067181587219238,26.862098693847656,-13.572786331176758,14.145384788513184,-64.7968521118164,10.938140869140625,51.471622467041016,24.011192321777344,-0.23222143948078156,-0.2331181764602661,24.015676498413086,-14.217540740966797,10.660259246826172,-33.06139373779297,21.254335403442383,-30.863666534423828,23.08182716369629,6.723123073577881,16.600175857543945,23.618810653686523,-57.82203674316406,12.067678451538086,14.402351379394531,31.258317947387695,52.0718994140625,-42.63131332397461,-15.898531913757324,-15.83191967010498,-12.7951021194458,-15.593338966369629,47.81143569946289,-45.30771255493164,18.583356857299805,13.74982738494873,-42.24907684326172,30.115774154663086,26.64046287536621,-14.292628288269043,-4.945893287658691,-8.540696144104004,-14.813074111938477,27.203857421875,24.450977325439453,47.1503791809082,-14.739630699157715,-42.246192932128906,12.918783187866211,-42.014793395996094,-7.915963649749756,0.4758036434650421,-56.635169982910156,-1.4909006357192993,9.295573234558105,-29.667333602905273,0.7596020698547363,-10.322697639465332,24.036937713623047,13.825023651123047,4.44081449508667,-53.90284729003906,-68.80494689941406,28.32904052734375,21.59356689453125,51.50217819213867,-42.21181869506836,15.518476486206055,5.889732837677002,-43.51329803466797,-43.31254577636719,74.86427307128906,8.764087677001953,47.67721176147461,46.84004592895508,48.315895080566406,-34.75772476196289,-50.43418502807617,-21.70168113708496,0.8631362915039062,-43.23357009887695,49.93456268310547,31.764102935791016,26.4129581451416,30.220706939697266,6.606490135192871,-37.70970916748047,-13.165095329284668,-57.788028717041016,30.177244186401367,35.06672668457031,-14.62902545928955,19.651927947998047,-41.762813568115234,-8.79331111907959,48.040069580078125,-33.24271011352539,-55.532569885253906,-5.832308292388916,46.84703826904297,21.81238555908203,-5.793900489807129,17.984052658081055,-67.72688293457031,-12.475052833557129,39.50436782836914,28.89971923828125,2.512758493423462,-33.44940948486328,-17.782678604125977,-0.36737579107284546,41.047332763671875,4.958425998687744,-5.522377014160156,41.95670700073242,30.914081573486328,13.328661918640137,-8.566656112670898,-58.3073844909668,-45.93614196777344,13.875921249389648,29.586944580078125,9.27538013458252,4.438360691070557,-37.009376525878906,1.2692697048187256,-46.89308166503906,-41.9042854309082,12.164193153381348,77.13147735595703,-57.788883209228516,52.1085205078125,27.72780990600586,7.0336432456970215,-29.3096923828125,-66.737060546875,-20.14105987548828,-14.876541137695312,-41.46672058105469,20.212112426757812,-16.685895919799805,8.751069068908691,2.3249521255493164,-40.257545471191406,3.2956769466400146,27.837499618530273,11.62203598022461,-17.332515716552734,-55.940277099609375,11.619155883789062,38.28886032104492,7.373015880584717,-0.0976998507976532,-23.801549911499023,-49.721256256103516,18.351762771606445,-2.9697418212890625,13.812567710876465,-0.44683536887168884,-0.6286059021949768,-29.916610717773438,-23.327144622802734,-18.562393188476562,-17.776411056518555,18.964962005615234,48.77838897705078,-13.991737365722656,-21.675764083862305,-46.75563049316406,48.75476837158203,-4.174183368682861,-3.5799975395202637,12.171843528747559,-63.36369323730469,-17.204771041870117,-20.612930297851562,-32.15837097167969,-20.103435516357422,72.77437591552734,-24.921566009521484,15.102190017700195,36.96685791015625,-44.25241470336914,12.504215240478516,-9.224140167236328,-69.67472839355469,5.678804874420166,53.090110778808594,47.13156509399414,-34.37163543701172,-9.799580574035645,47.136802673339844,-50.47029495239258,-13.173362731933594,30.67193031311035,24.36513900756836,19.56494140625,-18.279258728027344,52.177303314208984,6.113773822784424,-16.231098175048828,-8.130867004394531,1.51386559009552,24.10911750793457,1.4670270681381226,-10.234999656677246,-8.56336784362793,-15.744768142700195,11.849387168884277,-1.7846453189849854,1.5407934188842773,51.68679428100586,-2.453848361968994,-34.575843811035156,-17.120742797851562,-7.778110504150391,47.79499816894531,19.57103157043457,-41.774871826171875,-16.848241806030273,-32.39149856567383,16.82097053527832,16.304698944091797,17.11470603942871,72.92405700683594,-21.49268341064453,-16.873395919799805,-3.45109486579895,27.550580978393555,13.616875648498535,-17.314796447753906,-9.970834732055664,31.296720504760742,46.847389221191406,48.56910705566406,-12.564536094665527,75.74620819091797,-31.246864318847656,-44.27889633178711,27.118886947631836,-18.68927574157715,-5.587682247161865,1.1171234846115112,-17.275041580200195,-34.06804275512695,24.094514846801758,-7.500479698181152,-18.404155731201172,20.271696090698242,16.984514236450195,14.642439842224121,-14.916168212890625,31.307819366455078,-9.548609733581543,19.726911544799805,17.861492156982422,9.584490776062012,-12.004622459411621,0.13356727361679077,7.660012245178223,1.717747449874878,-3.5477097034454346,2.6917197704315186,-68.83830261230469,1.0656790733337402,4.124629020690918,-50.07062530517578,19.737655639648438,15.227106094360352,-61.43545913696289,15.193486213684082,25.687965393066406,77.16181945800781,-58.24957275390625,-44.90373992919922,73.51311492919922,-14.739130020141602,17.505617141723633,-15.87271785736084,5.887791633605957,17.547319412231445,-46.2564697265625,13.279150009155273,-19.48857307434082,28.838462829589844,-17.57594871520996,-14.270336151123047,-11.432640075683594,-13.002946853637695,14.474705696105957,-49.41165542602539,28.772932052612305,-18.674222946166992,-19.875104904174805,-11.567804336547852,-23.664138793945312,73.55335998535156,-45.35778045654297,-66.62934875488281,-10.87485408782959,-42.36259078979492,1.7240896224975586,-48.63577651977539,-18.85622215270996,-13.660847663879395,-9.125421524047852,31.118427276611328,3.1348917484283447,-24.99947738647461,-15.901208877563477,-38.92715072631836,-23.65305519104004,-39.644893646240234,-14.207159042358398,-42.46609878540039,6.4966816902160645,-46.34824752807617,-6.824735164642334,-59.33496856689453,12.637056350708008,-11.059951782226562,-11.972267150878906,3.9782168865203857,-13.431262016296387,-4.916417121887207,-36.66013717651367,-54.7107048034668,-38.443389892578125,-16.97894859313965,-47.57094955444336,-0.24509957432746887,35.75905990600586,-15.85777473449707,4.145167827606201,45.664390563964844,-43.51814270019531,5.540208339691162,4.06472110748291,75.71663665771484,-0.1274532973766327,-18.1038818359375,73.21317291259766,19.746681213378906,15.157504081726074,-2.670912504196167,-74.1719741821289,47.83701705932617,5.162610054016113,-1.3138105869293213,-13.049697875976562,-10.234101295471191,0.8481497764587402,48.779937744140625,-12.871641159057617,28.77842903137207,-14.150686264038086,24.499637603759766,-42.99528121948242,-14.333536148071289,6.355101108551025,77.32331085205078,-7.928552627563477,51.22852325439453,-31.746986389160156,-5.127963066101074,18.695600509643555,9.360416412353516,-31.36159324645996,-23.06499481201172,5.223324775695801,-22.814973831176758,18.03119468688965,6.949793338775635,24.347209930419922,27.423471450805664,11.757728576660156,-14.159573554992676,16.829736709594727,19.40435791015625,15.361957550048828,2.6718335151672363,-0.3652114272117615,-4.0706868171691895,-14.31904125213623,16.261676788330078,-1.4559096097946167,-9.347939491271973,-0.7854673266410828,-62.780052185058594,10.662588119506836,-14.879322052001953,-64.64141082763672,-13.16051197052002,-32.9891242980957,-34.41001892089844,10.888821601867676,30.569326400756836,-14.636088371276855,-44.77248764038086,-12.345897674560547,-58.315338134765625,-73.78854370117188,-7.464097499847412,-15.903251647949219,28.418596267700195,19.91434097290039,-60.19392013549805,-18.54612159729004,-0.5162203311920166,-5.616530895233154,-4.705097675323486,-43.84652328491211,-16.725244522094727,-12.916398048400879,50.38549041748047,-48.64377975463867,-9.304204940795898,-10.740406036376953,-4.558140754699707,-2.587759256362915,-66.31317901611328,-9.32460880279541,46.93074417114258,12.128044128417969,-18.83864402770996,-7.801194667816162,20.074918746948242,14.282994270324707,-14.153569221496582,51.93050765991211,-68.93096923828125,12.768518447875977,-21.637434005737305,-42.24721145629883,5.590446472167969,-42.03379821777344,36.02751922607422,15.395248413085938,76.46918487548828,-33.328025817871094,-5.453444480895996,-45.029396057128906,13.108684539794922,20.656774520874023,-9.299948692321777,-14.333148002624512,-50.449405670166016,20.049863815307617,-75.25062561035156,-24.52181053161621,7.322946071624756,-59.334381103515625,-17.715639114379883,22.51326560974121,-61.47592544555664,8.839417457580566,-6.983038902282715,29.964536666870117,-38.363304138183594,73.25444030761719,-14.164385795593262,-1.4111428260803223,22.181962966918945,-3.2477364540100098,-16.66051483154297,-46.003543853759766,21.1866455078125,-13.287612915039062,20.74925994873047,18.587017059326172,28.578838348388672,2.2413506507873535,41.66333770751953,-12.205582618713379,-15.403639793395996,-21.838695526123047,74.0024185180664,22.3095703125,-48.77288055419922,-13.610735893249512,16.723718643188477,-11.170991897583008,-6.0797624588012695,12.386295318603516,5.1195597648620605,-4.399348258972168,-44.39414596557617,-31.92193031311035,-23.64109992980957,48.75495147705078,13.493502616882324,5.695388317108154,20.192415237426758,-34.13857650756836,-17.259607315063477,-47.89913558959961,7.529268264770508,0.20015650987625122,-17.020771026611328,10.23746109008789,-20.952211380004883,-13.11561107635498,-60.223472595214844,51.88054656982422,-18.850841522216797,23.695959091186523,51.58911895751953,-9.960922241210938,-8.216689109802246,-20.33538055419922,-10.241928100585938,8.333415031433105,-15.140401840209961,-1.4957971572875977,-23.422122955322266,0.28200680017471313,11.675293922424316,12.798806190490723,31.775941848754883,-37.941978454589844,0.9130328297615051,47.03947067260742,-34.58154296875,0.5407785177230835,48.81456756591797,22.6989688873291,48.93727111816406,17.750314712524414,-21.516712188720703,-47.320064544677734,77.16287994384766,-68.43276977539062,36.08039474487305,10.807150840759277,-44.85043716430664,-30.75166130065918,11.635024070739746,39.877220153808594,-17.48159408569336,18.161088943481445,16.16562843322754,-43.58468246459961,-12.152131080627441,17.00505828857422,-9.977718353271484,18.449369430541992,14.911293983459473,-75.15887451171875,15.85900592803955,-14.17174243927002,17.120803833007812,22.3121280670166,-9.46534252166748,25.94185447692871,24.944255828857422,-15.295544624328613,-6.421232223510742,3.3264334201812744,-12.553505897521973,46.954715728759766,52.046085357666016,-37.184871673583984,24.926809310913086,2.860011339187622,20.081716537475586,11.564095497131348,-18.281343460083008,-6.125550746917725,-50.17611312866211,15.495952606201172,26.938325881958008,-11.646562576293945,28.84027862548828,-64.74189758300781,27.35215950012207,7.643584728240967,-67.96173858642578,19.76649284362793,73.09332275390625,-46.664222717285156,-18.294870376586914,6.079448223114014,-3.938129425048828,26.005765914916992,-9.69413948059082,52.341644287109375,-5.331191062927246,21.994543075561523,9.296562194824219,-6.734414100646973,-9.651769638061523,25.521696090698242,-62.59810256958008,4.978400230407715,4.132344722747803,-3.7012360095977783,-63.554466247558594,4.088909149169922,-23.842782974243164,-60.20821762084961,-75.15777587890625,51.89697265625,-46.096153259277344,-39.14989471435547,77.14827728271484,-5.554561614990234,-11.506731033325195,1.4959207773208618,-3.2481276988983154,-16.152761459350586,32.56007766723633,-5.233726978302002,-12.49609088897705,-2.6436634063720703,10.412424087524414,-12.347768783569336,25.97967529296875,16.755512237548828,-74.56282043457031,73.96504211425781,22.31214714050293,51.47249984741211,-10.346909523010254,13.008984565734863,48.34959411621094,-21.418046951293945,-50.01717758178711,8.653789520263672,-12.1525297164917,1.3915574550628662,48.960750579833984,4.015812873840332,6.545345306396484,13.42530345916748,-69.72284698486328,-34.848846435546875,-8.678670883178711,-47.698638916015625,-1.5279021263122559,73.17279815673828,18.95986557006836,25.180517196655273,20.365726470947266,10.628576278686523,15.428592681884766,28.693294525146484,9.274136543273926,-9.130860328674316,17.580604553222656,18.950153350830078,28.71005630493164,-68.2603988647461,14.184776306152344,47.13398742675781,19.023881912231445,51.74215316772461,28.887523651123047,28.501220703125,21.994123458862305,28.079702377319336,21.13994026184082,15.686711311340332,-66.37751007080078,25.815107345581055,-44.57302474975586,-5.937021732330322,47.58918762207031,15.386503219604492,1.2546199560165405,13.473490715026855,16.85859489440918,27.423490524291992,5.224300384521484,-74.79505920410156,52.11141586303711,16.813907623291016,2.5264437198638916,9.906941413879395,15.432835578918457,20.780048370361328,-43.01361846923828,-17.486515045166016,17.265382766723633,-3.831049680709839,-59.78971481323242,-33.16661071777344,78.18543243408203,-59.3315544128418,-3.747117280960083,21.57012939453125,15.058147430419922,-24.64641761779785,17.284664154052734,17.335813522338867,18.81779670715332,-0.7921979427337646,-29.282880783081055,-46.27656173706055,-1.6624926328659058,9.598405838012695,-62.64976119995117,23.0338077545166,11.792411804199219,-17.28944969177246,-13.537044525146484,-60.21535110473633,-74.3306884765625,-6.068598747253418,-3.642946243286133,17.827173233032227,-4.492410659790039,-14.547775268554688,-10.017692565917969,14.51771354675293,16.49970817565918,-23.275253295898438,30.845417022705078,19.412471771240234,4.357438564300537,-1.5489394664764404,-40.75544738769531,-48.91962814331055,-16.956714630126953,0.39153844118118286,-32.58547592163086,-11.193158149719238,-58.23251724243164,50.009254455566406,21.84882926940918,-74.14340209960938,-15.412769317626953,-9.629129409790039,-67.86155700683594,15.718544006347656,19.710262298583984,-22.513460159301758,-3.0036604404449463,47.587257385253906,-16.66031837463379,-9.31597900390625,12.574810028076172,-11.903164863586426,21.75054931640625,-0.43245187401771545,9.314337730407715,18.78171157836914,51.10662841796875,20.428096771240234,50.55799865722656,-34.689579010009766,1.4783400297164917,-48.29619216918945,-5.728613376617432,21.767559051513672,0.18612858653068542,6.301329612731934,-18.08361053466797,15.305022239685059,-37.28641128540039,-7.6426920890808105,-68.42204284667969,50.59685516357422,-9.80447006225586,-12.760223388671875,-22.28713607788086,5.120943546295166,-55.3691291809082,0.18682506680488586,-66.93389129638672,-14.165502548217773,16.496923446655273,18.292348861694336,-64.60699462890625,-8.388015747070312,25.979257583618164,21.788105010986328,-16.489782333374023,2.8638930320739746,23.41040802001953,18.746723175048828,-45.78758239746094,1.7395788431167603,5.040506362915039,16.093576431274414,-15.758461952209473,-46.10335922241211,73.94152069091797,-42.346336364746094,-39.01490783691406,21.944934844970703,-5.417981147766113,-21.8782958984375,73.25102996826172,31.681989669799805,16.26078987121582,47.021484375,-15.463335037231445,-39.541900634765625,51.61405944824219,10.90211009979248,-24.598186492919922,-56.98471450805664,-1.1909538507461548,23.6957950592041,-14.479063987731934,7.69992733001709,-21.64461898803711,-10.212020874023438,-42.81243133544922,-5.872167110443115,14.817626953125,-11.57557487487793,-41.114234924316406,-64.5459976196289,-11.984966278076172,-12.916884422302246,6.770078182220459,17.59141731262207,43.692344665527344,11.997509956359863,43.17151641845703,11.065979957580566,-6.7786126136779785,3.962136745452881,2.7122371196746826,-10.524651527404785,15.659006118774414,-13.980762481689453,-1.2266849279403687,-18.63458824157715,-11.12147331237793,-14.28573226928711,-59.80077362060547,76.42454528808594,51.97114944458008,-29.84699821472168,-65.58333587646484,3.778468608856201,-17.261579513549805,7.741988182067871,46.43922805786133,-34.22380447387695,-34.67189025878906,-29.061887741088867,-5.345676422119141,21.29060935974121,6.202582359313965,28.26244354248047,-55.53411865234375,-38.98870849609375,-40.52214813232422,-12.034127235412598,2.2805044651031494,-42.53095245361328,-5.440580368041992,-50.292579650878906,-14.148210525512695,4.849475383758545,-15.996050834655762,-44.228641510009766,3.072441577911377,-7.1255717277526855,-15.903375625610352,-34.086219787597656,14.492864608764648,46.1268424987793,73.23993682861328,26.833513259887695,30.915225982666016,28.295373916625977,21.616737365722656,13.21976089477539,-3.144528865814209,-31.36306381225586,12.024127960205078,8.557031631469727,-33.83625793457031,17.37922477722168,19.609161376953125,-3.1021740436553955,-13.336688041687012,16.268699645996094,-75.12655639648438,-13.212267875671387,21.364299774169922,-60.344608306884766,-45.955482482910156,41.78817367553711,13.838440895080566,-9.778002738952637,28.209388732910156,21.67392921447754,-37.38298416137695,0.020563002675771713,15.053227424621582,9.113425254821777,-14.99478816986084,-3.2588300704956055,0.6564937829971313,-5.065245151519775,77.80300903320312,38.72914505004883,-11.828511238098145,-29.727222442626953,14.12116527557373,49.94865036010742,72.94579315185547,75.52498626708984,-17.36470603942871,27.671173095703125,-58.10317611694336,-4.550568103790283,52.186336517333984,18.947879791259766,12.397435188293457,28.016965866088867,28.067935943603516,-14.499133110046387,-9.579680442810059,19.4003849029541,-2.121154546737671,-73.7647476196289,11.895317077636719,78.01408386230469,-65.5798568725586,-19.494518280029297,20.737079620361328,5.493580341339111,36.57243728637695,-38.00365447998047,14.503496170043945,-20.8985538482666,-31.85382843017578,-12.9351224899292,4.008294582366943,-14.355609893798828,73.6911849975586,-38.50370788574219,-68.78948211669922,-10.658397674560547,46.84733581542969,-19.600444793701172,9.853226661682129,-37.16659164428711,-10.906901359558105,18.018980026245117,16.560802459716797,47.64204788208008,-67.8392333984375,-18.299907684326172,-1.11947500705719,-26.89095687866211,17.772478103637695,-3.247528076171875,-1.7415943145751953,4.859944820404053,-5.8106489181518555,-16.236495971679688,46.82582092285156,-1.8553310632705688,-11.585877418518066,-15.626660346984863,2.022073745727539,2.273372173309326,-16.346412658691406,9.991276741027832,5.186297416687012,8.674124717712402,-6.292604923248291,26.18229866027832,77.15306854248047,-37.19939041137695,16.795923233032227,-14.439119338989258,18.29902458190918,13.716049194335938,6.731956958770752,17.703100204467773,-4.696770668029785,12.22689437866211,23.25774574279785,-33.66263198852539,-12.280895233154297,28.014263153076172,-46.04877853393555,46.80916976928711,19.843997955322266,12.24224853515625,-9.550252914428711,74.7796859741211,-16.779390335083008,-1.7033146619796753,25.50332260131836,28.830032348632812,20.131568908691406,34.70418167114258,-0.23483148217201233,17.235130310058594,18.218544006347656,-3.9002437591552734,20.55386734008789,5.223099231719971,28.776874542236328,1.6796461343765259,46.96963882446289,-35.0959587097168,-45.67631149291992,30.8720760345459,22.7230281829834,13.703640937805176,-40.46486282348633,-66.86893463134766,-20.385957717895508,-8.714577674865723,47.012672424316406,-74.97278594970703,26.599679946899414,-73.59809875488281,27.566904067993164,-1.5360491275787354,27.77386474609375,-10.773594856262207,15.790074348449707,51.20045852661133,-12.221470832824707,-45.102108001708984,-0.54425048828125,34.41518783569336,7.549082279205322,-45.85749053955078,-11.312470436096191,30.300626754760742,11.358165740966797,-9.500814437866211,-15.05166244506836,16.475860595703125,11.606046676635742,17.935121536254883,-20.29469108581543,-0.5233465433120728,-48.26761245727539,15.339506149291992,-13.858573913574219,38.69651412963867,-12.601405143737793,10.62895393371582,8.986442565917969,27.848873138427734,50.435302734375,25.85329818725586,-14.737820625305176,-34.80358123779297,28.34539794921875,-68.50133514404297,-36.755393981933594,3.8456547260284424,-17.61577033996582,10.322126388549805,-15.016237258911133,-56.82456970214844,-7.8879594802856445,29.861576080322266,-37.51719665527344,7.076162338256836,15.051217079162598,-64.40621948242188,14.486181259155273,77.62421417236328,-37.44966125488281,-74.55293273925781,-60.377723693847656,-67.9913558959961,20.190692901611328,-14.746356010437012,-10.879875183105469,0.5332075953483582,-54.59073257446289,-36.71104049682617,29.866409301757812,-68.69641876220703,17.10422134399414,-67.00645446777344,-14.142476081848145,22.82773208618164,3.124074697494507,15.237719535827637,46.56558609008789,74.1571273803711,-2.830580711364746,-21.261720657348633,-22.232011795043945,52.16606140136719,4.437868118286133,47.98942565917969,-50.080718994140625,-9.051695823669434,-34.831539154052734,23.766468048095703,-20.371187210083008,-5.4573187828063965,14.792420387268066,-32.40764617919922,-40.406795501708984,72.79681396484375,47.165565490722656,-8.90045166015625,-17.152462005615234,28.441078186035156,-9.255247116088867,27.193092346191406,8.962167739868164,-16.299617767333984,24.653779983520508,47.45025634765625,76.33938598632812,12.424874305725098,12.318316459655762,-63.49712371826172,23.160991668701172,-13.496098518371582,-15.355483055114746,-9.963902473449707,-12.447320938110352,-20.196935653686523,-1.946692943572998,28.4027042388916,73.68292999267578,27.822195053100586,-17.285730361938477,2.2652149200439453,-11.121350288391113,-5.2024946212768555,13.065667152404785,51.496456146240234,9.283312797546387,-35.987159729003906,-65.4704360961914,15.5870943069458,-3.3179373741149902,47.58648681640625,-39.7629280090332,47.379791259765625,-5.717330455780029,-50.89035415649414,13.638609886169434,-14.014619827270508,-23.139019012451172,24.32061195373535,-7.843808650970459,23.86818504333496,12.436668395996094,8.633378028869629,-74.78866577148438,-32.015872955322266,-15.224550247192383,7.924096584320068,-44.439517974853516,-11.911876678466797,-22.041797637939453,-1.3188854455947876,-7.186478137969971,-11.877198219299316,-64.78570556640625,16.55417823791504,9.758171081542969,-40.4429931640625,-5.86263370513916,-18.648807525634766,-8.346800804138184,-30.69171714782715,-45.0710334777832,19.401491165161133,8.319904327392578,21.78351593017578,-6.132040500640869,5.176722049713135,23.089017868041992,-57.10736846923828,-12.722201347351074,12.753933906555176,28.369712829589844,23.44955062866211,-9.249255180358887,19.672000885009766,10.55717945098877,12.810632705688477,-66.78482055664062,-10.855030059814453,-42.867332458496094,27.76474380493164,-20.58591079711914,-73.76010131835938,4.303897857666016,14.350177764892578,-44.3570556640625,-19.62602424621582,21.43132209777832,-64.56500244140625,-56.956546783447266,27.7561092376709,1.2393691539764404,4.329544544219971,46.8741455078125,13.402047157287598,75.14195251464844,-12.69682788848877,7.082551002502441,15.00662612915039,-30.772897720336914,7.351922988891602,-25.253681182861328,25.049598693847656,-58.31398391723633,-12.626385688781738,18.57981300354004,10.243855476379395,11.791141510009766,-74.98352813720703,-45.357643127441406,10.648638725280762,-22.515625,-13.888599395751953,51.935325622558594,-44.20616149902344,39.909236907958984,27.95377540588379,29.382957458496094,8.261872291564941,51.20433807373047,-4.95780611038208,4.482407093048096,-47.33787155151367,20.08901023864746,73.69535827636719,49.177581787109375,-11.070222854614258,-16.238422393798828,0.47404244542121887,-64.8011245727539,-11.30444622039795,-69.49366760253906,16.81292724609375,25.454200744628906,18.789777755737305,-13.959206581115723,18.031293869018555,18.053964614868164,-40.589107513427734,6.559610843658447,17.073392868041992,-19.391643524169922,47.12891387939453,-18.803871154785156,-54.58967971801758,-2.7534666061401367,22.907629013061523,-43.05059051513672,-14.593934059143066,-44.853511810302734,27.543642044067383,22.732328414916992,30.579872131347656,10.52765941619873,-64.82402038574219,-19.56058692932129,4.330913543701172,25.23979377746582,23.594520568847656,-12.147968292236328,-7.8885064125061035,48.61769104003906,13.398970603942871,-67.09965515136719,-17.33327865600586,23.203834533691406,-46.15287780761719,-10.697892189025879,-15.290426254272461,9.275999069213867,-4.027153968811035,-55.30894470214844,75.52670288085938,-74.07837677001953,-6.824842929840088,5.113186359405518,21.270360946655273,19.69129753112793,32.560218811035156,-31.062335968017578,51.121158599853516,-58.231876373291016,8.761232376098633,28.771303176879883,47.041770935058594,12.694236755371094,31.8837947845459,0.8490932583808899,28.067157745361328,-38.215110778808594,13.887298583984375,0.5677266716957092,18.339460372924805,7.071740627288818,-21.155452728271484,51.031009674072266,51.933135986328125,-9.29761791229248,-14.802144050598145,-1.4187231063842773,78.08860778808594,13.714945793151855,-0.8102981448173523,22.03238868713379,-4.290368556976318,-57.937191009521484,-14.272504806518555,-56.629276275634766,3.2847483158111572,23.430200576782227,-1.0318235158920288,35.336402893066406,77.45537567138672,-45.581016540527344,-0.6717687845230103,-5.306593894958496,16.36884117126465,10.281063079833984,14.120504379272461,-22.79874038696289,-27.888906478881836,17.55227279663086,-14.214461326599121,-48.08982849121094,39.56148910522461,13.302119255065918,17.712614059448242,17.499197006225586,41.04533004760742,-14.387721061706543,-43.62752914428711,29.51898765563965,-49.44232940673828,-3.9389562606811523,27.30007553100586,-22.932634353637695,-11.569384574890137,15.813339233398438,-18.774518966674805,-11.199101448059082,21.662593841552734,46.571590423583984,-64.44689178466797,-12.339189529418945,1.4291497468948364,-36.66328811645508,-33.31779861450195,-46.121402740478516,78.00244140625,29.531021118164062,-3.1401453018188477,4.864992618560791,-14.162940979003906,0.7919213175773621,4.188145160675049,3.9066452980041504,-45.715030670166016,2.0320611000061035,-14.71951961517334,-42.233360290527344,8.925251007080078,-12.684683799743652,10.224712371826172,41.409244537353516,16.7534236907959,-12.204170227050781,21.331439971923828,-14.988800048828125,-15.888527870178223,-10.654398918151855,-10.354082107543945,-40.71681213378906,-73.97188568115234,-21.606603622436523,-9.244621276855469,-13.724724769592285,-18.769216537475586,3.218662738800049,21.697818756103516,11.060669898986816,3.0940961837768555,17.790119171142578,-47.947818756103516,-43.687843322753906,1.637738823890686,-12.133915901184082,28.924280166625977,-49.14730453491211,2.9906530380249023,-38.400455474853516,-19.73084259033203,-16.677059173583984,36.5696907043457,11.00297737121582,-39.948272705078125,48.3101921081543,-16.65166664123535,46.79905319213867,-45.78666305541992,-45.32346725463867,-5.994406700134277,-43.74944305419922,38.756004333496094,-17.763601303100586,29.088634490966797,-23.658367156982422,11.877908706665039,-23.342382431030273,-6.685512542724609,20.9638729095459,22.924238204956055,-9.44334602355957,11.77480411529541,-5.583406925201416,-56.62991714477539,3.097815990447998,4.328667640686035,0.2694433629512787,11.630518913269043,-39.72999954223633,11.872193336486816,24.461042404174805,-45.680572509765625,-12.286678314208984,-6.772365093231201,-10.365694999694824,-2.8590729236602783,-8.389123916625977,45.521278381347656,19.114763259887695,-5.616919040679932,-57.29228210449219,-58.10862350463867,27.370668411254883,-13.865979194641113,-7.902048587799072,-73.68060302734375,12.281765937805176,-10.663020133972168,26.49201202392578,46.80917739868164,43.97160339355469,-57.603851318359375,-6.824616432189941,13.879034042358398,-0.6042323112487793,-42.53852081298828,46.80917739868164,-20.510295867919922,-11.05000114440918,49.728233337402344,-34.277618408203125,15.262016296386719,30.301441192626953,12.344291687011719,8.815518379211426,19.59949493408203,-73.68360137939453,29.250429153442383,43.63375473022461,-5.193544387817383,17.96082305908203,30.983402252197266,43.980411529541016,-30.1374454498291,-21.526439666748047,-38.830623626708984,-73.57523345947266,29.872879028320312,-39.749053955078125,77.4888687133789,28.764245986938477,-44.384788513183594,-63.500118255615234,-7.450521469116211,-41.773372650146484,22.07795524597168,-44.401737213134766,51.47111511230469,-1.7998367547988892,73.51616668701172,-47.67786407470703,-15.511615753173828,-5.481064319610596,6.651281356811523,41.049888610839844,-56.82218933105469,18.330093383789062,10.670544624328613,9.584578514099121,5.849318504333496,6.039736270904541,12.264406204223633,26.881973266601562,18.662757873535156,16.430246353149414,-42.997520446777344,28.31639862060547,14.6368408203125,29.70467758178711,13.606433868408203,-16.212194442749023,-14.930123329162598,-41.327964782714844,10.806977272033691,15.221323013305664,13.834973335266113,-65.50390625,-19.685516357421875,-43.93084716796875,-5.133559703826904,-57.833126068115234,15.09787368774414,50.34925079345703,27.128374099731445,-73.0788803100586,26.0463924407959,-54.067893981933594,13.667016983032227,15.61603832244873,-3.5227038860321045,13.974992752075195,-11.14340591430664,-24.68387794494629,-16.896224975585938,1.4336010217666626,-2.939063310623169,11.633722305297852,-74.28803253173828,-12.004998207092285,49.293052673339844,23.775962829589844,77.4791030883789,72.95452117919922,-45.35319137573242,11.208844184875488,14.474068641662598,24.398378372192383,-12.659553527832031,-14.765482902526855,8.925272941589355,-21.793506622314453,9.29603385925293,1.983111023902893,-33.85968017578125,-42.92683410644531,-0.9968019127845764,73.5226821899414,23.1474666595459,27.979997634887695,-8.0875244140625,-11.684677124023438,51.100345611572266,-63.504737854003906,25.55950164794922,-40.43394470214844,16.760927200317383,19.292251586914062,-37.98661804199219,51.21528625488281,6.523917198181152,22.948230743408203,-42.13349914550781,-17.344411849975586,7.698864936828613,22.972312927246094,45.19917678833008,73.66496276855469,36.436485290527344,11.006742477416992,8.001479148864746,15.156420707702637,7.287109851837158,-42.90829849243164,14.814160346984863,21.53159523010254,-37.81255340576172,-21.662837982177734,16.834625244140625,12.810575485229492,-45.43970489501953,-23.76674461364746,-42.86089324951172,-70.01410675048828,30.349000930786133,-74.17790985107422,-58.18364715576172,48.5783576965332,-74.8824462890625,21.157079696655273,-19.975162506103516,16.787883758544922,-55.360076904296875,28.835607528686523,35.761287689208984,-68.91172790527344,50.7751579284668,-15.869250297546387,-50.53529357910156,-15.645509719848633,29.155683517456055,-45.720645904541016,19.755569458007812,14.674893379211426,28.8433895111084,-45.57529830932617,27.32051658630371,-73.64481353759766,5.249143600463867,12.614433288574219,-13.83594036102295,73.17838287353516,11.1583890914917,-32.10078430175781,-48.82399368286133,9.296172142028809,-7.958995819091797,-19.902830123901367,-12.277442932128906,-12.622900009155273,31.27541160583496,48.77387237548828,-54.63683319091797,-44.87064743041992,-63.594966888427734,16.050249099731445,19.177370071411133,16.383508682250977,-13.72114372253418,-12.190901756286621,8.319792747497559,-42.16859817504883,-18.269451141357422,47.52812576293945,-57.29294967651367,-14.164369583129883,-3.469038248062134,-73.89339447021484,24.78538703918457,20.719961166381836,-0.7392000555992126,-73.69242858886719,-38.880367279052734,51.120887756347656,-5.843151569366455,11.472308158874512,-8.179749488830566,16.10276222229004,-9.581697463989258,29.188880920410156,6.384890556335449,12.375454902648926,-44.23583221435547,-13.468897819519043,47.127845764160156,30.432605743408203,-19.173107147216797,-23.469552993774414,-56.634979248046875,28.77031707763672,-0.82926344871521,-14.439112663269043,-75.07941436767578,-50.602294921875,7.837069988250732,21.966690063476562,-5.006698131561279,-39.88628005981445,36.971900939941406,30.965200424194336,-3.1640963554382324,9.353002548217773,-4.919952392578125,-17.23196792602539,26.388641357421875,-74.76355743408203,14.111827850341797,-1.7916814088821411,4.678700923919678,13.395984649658203,7.3900146484375,-5.835184574127197,21.53856086730957,-22.930564880371094,-56.85421371459961,35.10607147216797,-10.203409194946289,-42.0196533203125,51.607608795166016,-41.504058837890625,-46.01004409790039,-42.18075180053711,-6.405529975891113,-13.495018005371094,-66.96376037597656,5.696409225463867,51.35009765625,-10.05063247680664,21.141918182373047,6.017768859863281,-44.62085723876953,14.93518352508545,-13.696789741516113,-9.491097450256348,26.682308197021484,21.364402770996094,47.81280517578125,-3.605520248413086,-0.10051781684160233,47.94796371459961,46.79324722290039,-20.95494842529297,-42.246864318847656,23.1463565826416,-65.40269470214844,-55.32670974731445,75.10670471191406,31.818096160888672,52.03874588012695,19.43899917602539,-8.975879669189453,12.009244918823242,9.373552322387695,44.00053405761719,41.39942169189453,47.70558166503906,18.549930572509766,-11.385355949401855,11.714507102966309,16.66938591003418,-10.508360862731934,73.25507354736328,51.648162841796875,-2.6598012447357178,52.23000717163086,22.472198486328125,-14.391345977783203,-34.31215286254883,10.115912437438965,-66.89981842041016,4.684682846069336,26.223024368286133,49.19477844238281,73.69760131835938,28.070728302001953,15.417486190795898,-12.120298385620117,20.2313289642334,-59.34511947631836,47.93813705444336,2.2337558269500732,0.5523306727409363,0.6729663610458374,21.53636360168457,28.534509658813477,25.279508590698242,-69.40870666503906,13.078349113464355,17.976043701171875,-15.672922134399414,-14.912919044494629,31.26237678527832,-15.003055572509766,7.96158504486084,14.444713592529297,-10.648394584655762,-5.686091899871826,-37.28599166870117,-3.6531896591186523,8.86813735961914,-46.96445083618164,-16.915233612060547,-15.395106315612793,43.1785888671875,1.0647138357162476,16.228431701660156,17.01382827758789,48.775978088378906,30.30313491821289,-8.370475769042969,-66.89066314697266,3.564859390258789,0.8926582336425781,30.085874557495117,13.860454559326172,-9.387804985046387,-12.310274124145508,-19.527570724487305,47.366722106933594,20.15289878845215,-41.800045013427734,-31.393840789794922,22.87600326538086,13.386907577514648,35.33484649658203,20.038244247436523,17.322580337524414,-21.683013916015625,-66.40777587890625,-3.6575045585632324,-74.37523651123047,27.42377281188965,-12.690044403076172,-31.797449111938477,46.799007415771484,15.080028533935547,-18.41701889038086],\"yaxis\":\"y\",\"type\":\"scattergl\"}],                        {\"template\":{\"data\":{\"histogram2dcontour\":[{\"type\":\"histogram2dcontour\",\"colorbar\":{\"outlinewidth\":0,\"ticks\":\"\"},\"colorscale\":[[0.0,\"#0d0887\"],[0.1111111111111111,\"#46039f\"],[0.2222222222222222,\"#7201a8\"],[0.3333333333333333,\"#9c179e\"],[0.4444444444444444,\"#bd3786\"],[0.5555555555555556,\"#d8576b\"],[0.6666666666666666,\"#ed7953\"],[0.7777777777777778,\"#fb9f3a\"],[0.8888888888888888,\"#fdca26\"],[1.0,\"#f0f921\"]]}],\"choropleth\":[{\"type\":\"choropleth\",\"colorbar\":{\"outlinewidth\":0,\"ticks\":\"\"}}],\"histogram2d\":[{\"type\":\"histogram2d\",\"colorbar\":{\"outlinewidth\":0,\"ticks\":\"\"},\"colorscale\":[[0.0,\"#0d0887\"],[0.1111111111111111,\"#46039f\"],[0.2222222222222222,\"#7201a8\"],[0.3333333333333333,\"#9c179e\"],[0.4444444444444444,\"#bd3786\"],[0.5555555555555556,\"#d8576b\"],[0.6666666666666666,\"#ed7953\"],[0.7777777777777778,\"#fb9f3a\"],[0.8888888888888888,\"#fdca26\"],[1.0,\"#f0f921\"]]}],\"heatmap\":[{\"type\":\"heatmap\",\"colorbar\":{\"outlinewidth\":0,\"ticks\":\"\"},\"colorscale\":[[0.0,\"#0d0887\"],[0.1111111111111111,\"#46039f\"],[0.2222222222222222,\"#7201a8\"],[0.3333333333333333,\"#9c179e\"],[0.4444444444444444,\"#bd3786\"],[0.5555555555555556,\"#d8576b\"],[0.6666666666666666,\"#ed7953\"],[0.7777777777777778,\"#fb9f3a\"],[0.8888888888888888,\"#fdca26\"],[1.0,\"#f0f921\"]]}],\"heatmapgl\":[{\"type\":\"heatmapgl\",\"colorbar\":{\"outlinewidth\":0,\"ticks\":\"\"},\"colorscale\":[[0.0,\"#0d0887\"],[0.1111111111111111,\"#46039f\"],[0.2222222222222222,\"#7201a8\"],[0.3333333333333333,\"#9c179e\"],[0.4444444444444444,\"#bd3786\"],[0.5555555555555556,\"#d8576b\"],[0.6666666666666666,\"#ed7953\"],[0.7777777777777778,\"#fb9f3a\"],[0.8888888888888888,\"#fdca26\"],[1.0,\"#f0f921\"]]}],\"contourcarpet\":[{\"type\":\"contourcarpet\",\"colorbar\":{\"outlinewidth\":0,\"ticks\":\"\"}}],\"contour\":[{\"type\":\"contour\",\"colorbar\":{\"outlinewidth\":0,\"ticks\":\"\"},\"colorscale\":[[0.0,\"#0d0887\"],[0.1111111111111111,\"#46039f\"],[0.2222222222222222,\"#7201a8\"],[0.3333333333333333,\"#9c179e\"],[0.4444444444444444,\"#bd3786\"],[0.5555555555555556,\"#d8576b\"],[0.6666666666666666,\"#ed7953\"],[0.7777777777777778,\"#fb9f3a\"],[0.8888888888888888,\"#fdca26\"],[1.0,\"#f0f921\"]]}],\"surface\":[{\"type\":\"surface\",\"colorbar\":{\"outlinewidth\":0,\"ticks\":\"\"},\"colorscale\":[[0.0,\"#0d0887\"],[0.1111111111111111,\"#46039f\"],[0.2222222222222222,\"#7201a8\"],[0.3333333333333333,\"#9c179e\"],[0.4444444444444444,\"#bd3786\"],[0.5555555555555556,\"#d8576b\"],[0.6666666666666666,\"#ed7953\"],[0.7777777777777778,\"#fb9f3a\"],[0.8888888888888888,\"#fdca26\"],[1.0,\"#f0f921\"]]}],\"mesh3d\":[{\"type\":\"mesh3d\",\"colorbar\":{\"outlinewidth\":0,\"ticks\":\"\"}}],\"scatter\":[{\"fillpattern\":{\"fillmode\":\"overlay\",\"size\":10,\"solidity\":0.2},\"type\":\"scatter\"}],\"parcoords\":[{\"type\":\"parcoords\",\"line\":{\"colorbar\":{\"outlinewidth\":0,\"ticks\":\"\"}}}],\"scatterpolargl\":[{\"type\":\"scatterpolargl\",\"marker\":{\"colorbar\":{\"outlinewidth\":0,\"ticks\":\"\"}}}],\"bar\":[{\"error_x\":{\"color\":\"#2a3f5f\"},\"error_y\":{\"color\":\"#2a3f5f\"},\"marker\":{\"line\":{\"color\":\"#E5ECF6\",\"width\":0.5},\"pattern\":{\"fillmode\":\"overlay\",\"size\":10,\"solidity\":0.2}},\"type\":\"bar\"}],\"scattergeo\":[{\"type\":\"scattergeo\",\"marker\":{\"colorbar\":{\"outlinewidth\":0,\"ticks\":\"\"}}}],\"scatterpolar\":[{\"type\":\"scatterpolar\",\"marker\":{\"colorbar\":{\"outlinewidth\":0,\"ticks\":\"\"}}}],\"histogram\":[{\"marker\":{\"pattern\":{\"fillmode\":\"overlay\",\"size\":10,\"solidity\":0.2}},\"type\":\"histogram\"}],\"scattergl\":[{\"type\":\"scattergl\",\"marker\":{\"colorbar\":{\"outlinewidth\":0,\"ticks\":\"\"}}}],\"scatter3d\":[{\"type\":\"scatter3d\",\"line\":{\"colorbar\":{\"outlinewidth\":0,\"ticks\":\"\"}},\"marker\":{\"colorbar\":{\"outlinewidth\":0,\"ticks\":\"\"}}}],\"scattermapbox\":[{\"type\":\"scattermapbox\",\"marker\":{\"colorbar\":{\"outlinewidth\":0,\"ticks\":\"\"}}}],\"scatterternary\":[{\"type\":\"scatterternary\",\"marker\":{\"colorbar\":{\"outlinewidth\":0,\"ticks\":\"\"}}}],\"scattercarpet\":[{\"type\":\"scattercarpet\",\"marker\":{\"colorbar\":{\"outlinewidth\":0,\"ticks\":\"\"}}}],\"carpet\":[{\"aaxis\":{\"endlinecolor\":\"#2a3f5f\",\"gridcolor\":\"white\",\"linecolor\":\"white\",\"minorgridcolor\":\"white\",\"startlinecolor\":\"#2a3f5f\"},\"baxis\":{\"endlinecolor\":\"#2a3f5f\",\"gridcolor\":\"white\",\"linecolor\":\"white\",\"minorgridcolor\":\"white\",\"startlinecolor\":\"#2a3f5f\"},\"type\":\"carpet\"}],\"table\":[{\"cells\":{\"fill\":{\"color\":\"#EBF0F8\"},\"line\":{\"color\":\"white\"}},\"header\":{\"fill\":{\"color\":\"#C8D4E3\"},\"line\":{\"color\":\"white\"}},\"type\":\"table\"}],\"barpolar\":[{\"marker\":{\"line\":{\"color\":\"#E5ECF6\",\"width\":0.5},\"pattern\":{\"fillmode\":\"overlay\",\"size\":10,\"solidity\":0.2}},\"type\":\"barpolar\"}],\"pie\":[{\"automargin\":true,\"type\":\"pie\"}]},\"layout\":{\"autotypenumbers\":\"strict\",\"colorway\":[\"#636efa\",\"#EF553B\",\"#00cc96\",\"#ab63fa\",\"#FFA15A\",\"#19d3f3\",\"#FF6692\",\"#B6E880\",\"#FF97FF\",\"#FECB52\"],\"font\":{\"color\":\"#2a3f5f\"},\"hovermode\":\"closest\",\"hoverlabel\":{\"align\":\"left\"},\"paper_bgcolor\":\"white\",\"plot_bgcolor\":\"#E5ECF6\",\"polar\":{\"bgcolor\":\"#E5ECF6\",\"angularaxis\":{\"gridcolor\":\"white\",\"linecolor\":\"white\",\"ticks\":\"\"},\"radialaxis\":{\"gridcolor\":\"white\",\"linecolor\":\"white\",\"ticks\":\"\"}},\"ternary\":{\"bgcolor\":\"#E5ECF6\",\"aaxis\":{\"gridcolor\":\"white\",\"linecolor\":\"white\",\"ticks\":\"\"},\"baxis\":{\"gridcolor\":\"white\",\"linecolor\":\"white\",\"ticks\":\"\"},\"caxis\":{\"gridcolor\":\"white\",\"linecolor\":\"white\",\"ticks\":\"\"}},\"coloraxis\":{\"colorbar\":{\"outlinewidth\":0,\"ticks\":\"\"}},\"colorscale\":{\"sequential\":[[0.0,\"#0d0887\"],[0.1111111111111111,\"#46039f\"],[0.2222222222222222,\"#7201a8\"],[0.3333333333333333,\"#9c179e\"],[0.4444444444444444,\"#bd3786\"],[0.5555555555555556,\"#d8576b\"],[0.6666666666666666,\"#ed7953\"],[0.7777777777777778,\"#fb9f3a\"],[0.8888888888888888,\"#fdca26\"],[1.0,\"#f0f921\"]],\"sequentialminus\":[[0.0,\"#0d0887\"],[0.1111111111111111,\"#46039f\"],[0.2222222222222222,\"#7201a8\"],[0.3333333333333333,\"#9c179e\"],[0.4444444444444444,\"#bd3786\"],[0.5555555555555556,\"#d8576b\"],[0.6666666666666666,\"#ed7953\"],[0.7777777777777778,\"#fb9f3a\"],[0.8888888888888888,\"#fdca26\"],[1.0,\"#f0f921\"]],\"diverging\":[[0,\"#8e0152\"],[0.1,\"#c51b7d\"],[0.2,\"#de77ae\"],[0.3,\"#f1b6da\"],[0.4,\"#fde0ef\"],[0.5,\"#f7f7f7\"],[0.6,\"#e6f5d0\"],[0.7,\"#b8e186\"],[0.8,\"#7fbc41\"],[0.9,\"#4d9221\"],[1,\"#276419\"]]},\"xaxis\":{\"gridcolor\":\"white\",\"linecolor\":\"white\",\"ticks\":\"\",\"title\":{\"standoff\":15},\"zerolinecolor\":\"white\",\"automargin\":true,\"zerolinewidth\":2},\"yaxis\":{\"gridcolor\":\"white\",\"linecolor\":\"white\",\"ticks\":\"\",\"title\":{\"standoff\":15},\"zerolinecolor\":\"white\",\"automargin\":true,\"zerolinewidth\":2},\"scene\":{\"xaxis\":{\"backgroundcolor\":\"#E5ECF6\",\"gridcolor\":\"white\",\"linecolor\":\"white\",\"showbackground\":true,\"ticks\":\"\",\"zerolinecolor\":\"white\",\"gridwidth\":2},\"yaxis\":{\"backgroundcolor\":\"#E5ECF6\",\"gridcolor\":\"white\",\"linecolor\":\"white\",\"showbackground\":true,\"ticks\":\"\",\"zerolinecolor\":\"white\",\"gridwidth\":2},\"zaxis\":{\"backgroundcolor\":\"#E5ECF6\",\"gridcolor\":\"white\",\"linecolor\":\"white\",\"showbackground\":true,\"ticks\":\"\",\"zerolinecolor\":\"white\",\"gridwidth\":2}},\"shapedefaults\":{\"line\":{\"color\":\"#2a3f5f\"}},\"annotationdefaults\":{\"arrowcolor\":\"#2a3f5f\",\"arrowhead\":0,\"arrowwidth\":1},\"geo\":{\"bgcolor\":\"white\",\"landcolor\":\"#E5ECF6\",\"subunitcolor\":\"white\",\"showland\":true,\"showlakes\":true,\"lakecolor\":\"white\"},\"title\":{\"x\":0.05},\"mapbox\":{\"style\":\"light\"}}},\"xaxis\":{\"anchor\":\"y\",\"domain\":[0.0,1.0],\"title\":{\"text\":\"COMP0\"}},\"yaxis\":{\"anchor\":\"x\",\"domain\":[0.0,1.0],\"title\":{\"text\":\"COMP1\"}},\"coloraxis\":{\"colorbar\":{\"title\":{\"text\":\"color\"}},\"colorscale\":[[0.0,\"#0d0887\"],[0.1111111111111111,\"#46039f\"],[0.2222222222222222,\"#7201a8\"],[0.3333333333333333,\"#9c179e\"],[0.4444444444444444,\"#bd3786\"],[0.5555555555555556,\"#d8576b\"],[0.6666666666666666,\"#ed7953\"],[0.7777777777777778,\"#fb9f3a\"],[0.8888888888888888,\"#fdca26\"],[1.0,\"#f0f921\"]]},\"legend\":{\"tracegroupgap\":0},\"title\":{\"text\":\"Proyecci\\u00f3n componente 1 vs componente 0\"}},                        {\"responsive\": true}                    ).then(function(){\n",
              "                            \n",
              "var gd = document.getElementById('76847773-f1bc-4287-8cb0-b738ceac5cb1');\n",
              "var x = new MutationObserver(function (mutations, observer) {{\n",
              "        var display = window.getComputedStyle(gd).display;\n",
              "        if (!display || display === 'none') {{\n",
              "            console.log([gd, 'removed!']);\n",
              "            Plotly.purge(gd);\n",
              "            observer.disconnect();\n",
              "        }}\n",
              "}});\n",
              "\n",
              "// Listen for the removal of the full notebook cells\n",
              "var notebookContainer = gd.closest('#notebook-container');\n",
              "if (notebookContainer) {{\n",
              "    x.observe(notebookContainer, {childList: true});\n",
              "}}\n",
              "\n",
              "// Listen for the clearing of the current output cell\n",
              "var outputEl = gd.closest('.output');\n",
              "if (outputEl) {{\n",
              "    x.observe(outputEl, {childList: true});\n",
              "}}\n",
              "\n",
              "                        })                };                            </script>        </div>\n",
              "</body>\n",
              "</html>"
            ]
          },
          "metadata": {}
        }
      ],
      "source": [
        "fig = px.scatter(df_salida, x=\"COMP0\",y=\"COMP1\",color=kmeans.labels_,\n",
        "                 title=\"Proyección componente 1 vs componente 0\")\n",
        "fig"
      ]
    },
    {
      "cell_type": "markdown",
      "source": [
        "Se logran observar como claramente los 4 clusters estan separados en los respectivos perfiles descritos, estando más cerca los clusers 1 y 2 (naranjo y violeta) como se describio arriba. Y, a su vez, los clusters 3 y 0 (amarillo y azul) estan uno al lado del otro representando de igual forma sus similitudes. "
      ],
      "metadata": {
        "id": "N0zE0pK-levX"
      }
    },
    {
      "cell_type": "markdown",
      "metadata": {
        "cell_id": "94721075d5ff44bd83601c871797ae2a",
        "deepnote_cell_height": 514.4666748046875,
        "deepnote_cell_type": "markdown",
        "id": "Rg4ZMq8ezAH6"
      },
      "source": [
        "# Conclusión\n",
        "Eso ha sido todo para el lab de hoy, recuerden que el laboratorio tiene un plazo de entrega de una semana. Cualquier duda del laboratorio, no duden en contactarnos por correo, Discord o U-cursos.\n",
        "\n",
        "![Gracias Totales!](https://i.pinimg.com/originals/65/ae/27/65ae270df87c3c4adcea997e48f60852.gif \"bruno\")\n"
      ]
    },
    {
      "cell_type": "markdown",
      "metadata": {
        "cell_id": "7e31a91f8cb744cabd0ed0287ac5257e",
        "deepnote_cell_height": 171.28334045410156,
        "deepnote_cell_type": "markdown",
        "id": "wCL1lACBzAH7"
      },
      "source": [
        "<br>\n",
        "<center>\n",
        "<img src=\"https://i.kym-cdn.com/photos/images/original/001/194/195/b18.png\" width=100 height=50 />\n",
        "</center>\n",
        "<br>"
      ]
    },
    {
      "cell_type": "markdown",
      "metadata": {
        "created_in_deepnote_cell": true,
        "deepnote_cell_type": "markdown",
        "id": "6wKoavR1Hhgd"
      },
      "source": [
        "<a style='text-decoration:none;line-height:16px;display:flex;color:#5B5B62;padding:10px;justify-content:end;' href='https://deepnote.com?utm_source=created-in-deepnote-cell&projectId=87110296-876e-426f-b91d-aaf681223468' target=\"_blank\">\n",
        "<img alt='Created in deepnote.com' style='display:inline;max-height:16px;margin:0px;margin-right:7.5px;' src='data:image/svg+xml;base64,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' > </img>\n",
        "Created in <span style='font-weight:600;margin-left:4px;'>Deepnote</span></a>"
      ]
    }
  ],
  "metadata": {
    "colab": {
      "provenance": []
    },
    "deepnote": {},
    "deepnote_execution_queue": [],
    "deepnote_notebook_id": "33c253a4f84d40a091bd5023e95abb64",
    "kernelspec": {
      "display_name": "Python 3",
      "language": "python",
      "name": "python3"
    },
    "language_info": {
      "codemirror_mode": {
        "name": "ipython",
        "version": 3
      },
      "file_extension": ".py",
      "mimetype": "text/x-python",
      "name": "python",
      "nbconvert_exporter": "python",
      "pygments_lexer": "ipython3",
      "version": "3.9.7"
    },
    "toc": {
      "base_numbering": 1,
      "nav_menu": {},
      "number_sections": true,
      "sideBar": true,
      "skip_h1_title": true,
      "title_cell": "Tabla de Contenidos",
      "title_sidebar": "Contenidos",
      "toc_cell": false,
      "toc_position": {
        "height": "calc(100% - 180px)",
        "left": "10px",
        "top": "150px",
        "width": "241.867px"
      },
      "toc_section_display": true,
      "toc_window_display": true
    },
    "varInspector": {
      "cols": {
        "lenName": 16,
        "lenType": 16,
        "lenVar": 40
      },
      "kernels_config": {
        "python": {
          "delete_cmd_postfix": "",
          "delete_cmd_prefix": "del ",
          "library": "var_list.py",
          "varRefreshCmd": "print(var_dic_list())"
        },
        "r": {
          "delete_cmd_postfix": ") ",
          "delete_cmd_prefix": "rm(",
          "library": "var_list.r",
          "varRefreshCmd": "cat(var_dic_list()) "
        }
      },
      "types_to_exclude": [
        "module",
        "function",
        "builtin_function_or_method",
        "instance",
        "_Feature"
      ],
      "window_display": false
    }
  },
  "nbformat": 4,
  "nbformat_minor": 0
}
